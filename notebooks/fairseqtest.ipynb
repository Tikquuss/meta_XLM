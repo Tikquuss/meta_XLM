{
 "cells": [
  {
   "cell_type": "code",
   "execution_count": null,
   "metadata": {},
   "outputs": [],
   "source": [
    "# ! pip install fastBPE sacremoses"
   ]
  },
  {
   "cell_type": "code",
   "execution_count": 1,
   "metadata": {},
   "outputs": [],
   "source": [
    "import torch\n",
    "import os\n",
    "import matplotlib.pyplot as plt\n",
    "\n",
    "def load_lm(lang):\n",
    "    assert lang in [\"en\", \"de\", \"ru\"]\n",
    "    # Load an lang LM trained on WMT'19 News Crawl data\n",
    "    return torch.hub.load('pytorch/fairseq', 'transformer_lm.wmt19.'+lang, tokenizer='moses', bpe='fastbpe')\n",
    "\n",
    "def eval_lm(lm, lang, filepath, src_lang, n_samples):\n",
    "\n",
    "    assert lang in [\"en\", \"de\", \"ru\"]\n",
    "    assert lang != src_lang\n",
    "    assert os.path.isfile(filepath)\n",
    "    assert 0 < n_samples\n",
    "    \n",
    "    lm.eval()  # disable dropout\n",
    "    if torch.cuda.is_available() :\n",
    "        # Move model to GPU\n",
    "        try : \n",
    "            lm.cuda()\n",
    "        except RuntimeError : # CUDA out of memory\n",
    "            print(\"CUDA out of memory\")\n",
    "    #else :\n",
    "    #    lm.cpu()\n",
    "  \n",
    "    scores_per_lenght = {}\n",
    "    positional_scores = []\n",
    "    raw_scores        = []\n",
    "    scores            = []\n",
    "\n",
    "    with open(filepath, 'r', encoding=\"utf-8\") as datasetfile :\n",
    "        for line in datasetfile.readlines()[:n_samples]:\n",
    "            # todo\n",
    "            line = line[:512]\n",
    "            \n",
    "            \"\"\"\n",
    "            if len(lm.score(line)[\"tokens\"]) > 10 :\n",
    "                while len(lm.score(line)[\"tokens\"]) % 10 != 0 :\n",
    "                    line = line[:len(line)-1]\n",
    "            \"\"\"\n",
    "            \n",
    "            scores_tmp = lm.score(line)\n",
    "\n",
    "            pos_scores = scores_tmp['positional_scores']\n",
    "            positional_scores.append(pos_scores)\n",
    "            raw_scores.append(scores_tmp[\"score\"]) # scores_tmp[\"score\"] is equal to scores_tmp['positional_scores'].mean()\n",
    "\n",
    "            pos_score = pos_scores.mean().neg().exp()\n",
    "            scores.append(pos_score)\n",
    "\n",
    "            lenght = len(scores_tmp[\"tokens\"])\n",
    "            try :\n",
    "                scores_per_lenght[lenght].append(pos_score)\n",
    "            except KeyError:\n",
    "                scores_per_lenght[lenght] = []\n",
    "                scores_per_lenght[lenght].append(pos_score)\n",
    "    scores_per_lenght = {lenght : torch.tensor(pos_score).mean() for lenght, pos_score in scores_per_lenght.items()}\n",
    "    return scores_per_lenght, positional_scores, raw_scores, scores"
   ]
  },
  {
   "cell_type": "code",
   "execution_count": 5,
   "metadata": {},
   "outputs": [],
   "source": [
    "def main(src_lang, n_samples, main_path) :\n",
    "    scores_per_lenght, positional_scores, raw_scores, scores = eval_lm(\n",
    "                              lm = en_lm, \n",
    "                              lang = \"en\", \n",
    "                              filepath = main_path + src_lang + \".txt\", \n",
    "                              src_lang = src_lang,\n",
    "                              n_samples = n_samples\n",
    "                              )\n",
    "\n",
    "    #print(scores_per_lenght)\n",
    "    #print(positional_scores)\n",
    "    #print(raw_scores)\n",
    "    print(scores[:10])\n",
    "\n",
    "    print(\"========================= \", src_lang)\n",
    "    print(torch.tensor(scores).mean())\n",
    "    print(\"=========================\")\n",
    "\n",
    "    x = sorted([i for i in scores_per_lenght.keys() \n",
    "              #if i%10 == 0\n",
    "              ])\n",
    "    print(x)\n",
    "\n",
    "    height = [float(torch.tensor(scores_per_lenght[key]).mean())  for key in x]\n",
    "    print(height)\n",
    "\n",
    "\n",
    "    f, ax = plt.subplots(figsize=(10,3))\n",
    "\n",
    "    plt.bar(x = x, height = height, width = 8, label = \"ppl\")\n",
    "\n",
    "    ax_ = [min(x), max(x), min(height), max(height)]\n",
    "    print(ax_)\n",
    "\n",
    "    plt.axis(ax_)      \n",
    "\n",
    "    plt.xticks(x)    \n",
    "\n",
    "    plt.xlabel(\"sentences lenghts\")\n",
    "    plt.ylabel(\"perplexity\")\n",
    "    plt.title(\"perplexity per sentences lenght\")\n",
    "\n",
    "    ax.legend(fontsize = 14)\n",
    "\n",
    "    return scores_per_lenght"
   ]
  },
  {
   "cell_type": "code",
   "execution_count": 3,
   "metadata": {},
   "outputs": [
    {
     "name": "stderr",
     "output_type": "stream",
     "text": [
      "Using cache found in /home/jupyter/.cache/torch/hub/pytorch_fairseq_master\n"
     ]
    }
   ],
   "source": [
    "#en_lm = load_lm(lang = \"en\")"
   ]
  },
  {
   "cell_type": "code",
   "execution_count": null,
   "metadata": {},
   "outputs": [],
   "source": [
    "scores_per_lenght = {}\n",
    "langs = [\"de\", \"fr\",\"ru\",\"zh\"]\n",
    "for lang in langs :\n",
    "    scores_per_lenght[lang] = main(src_lang = lang, n_samples = 10, main_path = \"/home/jupyter/data/fairseq/test/\")"
   ]
  },
  {
   "cell_type": "code",
   "execution_count": null,
   "metadata": {},
   "outputs": [],
   "source": [
    "import itertools\n",
    "a = sorted(\n",
    "    set(\n",
    "        itertools.chain.from_iterable(\n",
    "            [scores_per_lenght[lg].keys() for lg in langs]\n",
    "            )\n",
    "        )\n",
    "    )"
   ]
  },
  {
   "cell_type": "code",
   "execution_count": null,
   "metadata": {},
   "outputs": [],
   "source": [
    " #r = {lenght : ppl for lenght, ppl  }\n",
    "\n",
    "for key in a :\n",
    "    if all([key in scores_per_lenght[lg].keys() for lg in langs]) :\n",
    "    max = 0\n",
    "    lang = None\n",
    "    for lg in langs :\n",
    "        if scores_per_lenght[lg][key] > max :\n",
    "            max = scores_per_lenght[lg][key]\n",
    "            lang = lg\n",
    "    print(lang)"
   ]
  },
  {
   "cell_type": "code",
   "execution_count": null,
   "metadata": {},
   "outputs": [],
   "source": []
  },
  {
   "cell_type": "code",
   "execution_count": 7,
   "metadata": {},
   "outputs": [
    {
     "name": "stdout",
     "output_type": "stream",
     "text": [
      "[tensor(856.5319, device='cuda:0'), tensor(245.5427, device='cuda:0'), tensor(218640.0938, device='cuda:0'), tensor(87894.5469, device='cuda:0'), tensor(87894.5469, device='cuda:0'), tensor(44792.0273, device='cuda:0'), tensor(216054.3281, device='cuda:0'), tensor(221152.3750, device='cuda:0'), tensor(276990.7188, device='cuda:0'), tensor(45094.3672, device='cuda:0')]\n",
      "=========================  de-en.de\n",
      "tensor(247553.7656)\n",
      "=========================\n",
      "[2, 3, 4, 5, 6, 7, 8, 9, 10, 11, 12]\n",
      "[936005.6875, 1147368.625, 428684.125, 183855.71875, 82853.0546875, 52791.5, 29785.443359375, 24038.712890625, 19548.337890625, 10561.4443359375, 9250.525390625]\n",
      "[2, 12, 9250.525390625, 1147368.625]\n"
     ]
    },
    {
     "name": "stderr",
     "output_type": "stream",
     "text": [
      "/opt/conda/lib/python3.7/site-packages/ipykernel_launcher.py:24: UserWarning: To copy construct from a tensor, it is recommended to use sourceTensor.clone().detach() or sourceTensor.clone().detach().requires_grad_(True), rather than torch.tensor(sourceTensor).\n"
     ]
    },
    {
     "name": "stdout",
     "output_type": "stream",
     "text": [
      "[tensor(909.1143, device='cuda:0'), tensor(1545.2225, device='cuda:0'), tensor(1334.4656, device='cuda:0'), tensor(1786.5179, device='cuda:0'), tensor(20356.6816, device='cuda:0'), tensor(748.2426, device='cuda:0'), tensor(275.1959, device='cuda:0'), tensor(219.8682, device='cuda:0'), tensor(564.6613, device='cuda:0'), tensor(1065.0947, device='cuda:0')]\n",
      "=========================  en-fr.fr\n",
      "tensor(584.7590)\n",
      "=========================\n",
      "[2, 3, 4, 5, 6, 7, 8, 9, 10, 11, 12, 13, 14, 15, 16, 17, 18, 19, 20, 21, 23]\n",
      "[15961.2099609375, 18014.798828125, 5039.15869140625, 1500.6827392578125, 657.41943359375, 309.2972106933594, 172.30909729003906, 127.79772186279297, 90.20410919189453, 61.14369201660156, 58.97563934326172, 50.1823844909668, 37.403587341308594, 22.594894409179688, 17.04989242553711, 21.259004592895508, 10.166120529174805, 42.51683044433594, 7.498345375061035, 27.02109146118164, 21.201393127441406]\n",
      "[2, 23, 7.498345375061035, 18014.798828125]\n"
     ]
    },
    {
     "data": {
      "image/png": "[encoded data removed]",
      "text/plain": [
       "<Figure size 720x216 with 1 Axes>"
      ]
     },
     "metadata": {
      "needs_background": "light"
     },
     "output_type": "display_data"
    },
    {
     "data": {
      "image/png": "[encoded data removed]",
      "text/plain": [
       "<Figure size 720x216 with 1 Axes>"
      ]
     },
     "metadata": {
      "needs_background": "light"
     },
     "output_type": "display_data"
    }
   ],
   "source": [
    "scores_per_lenghtp = {}\n",
    "langsp = [\"de-en.de\", \"en-fr.fr\"]\n",
    "# 174 482\n",
    "for lang in langsp :\n",
    "    scores_per_lenghtp[lang] = main(src_lang = lang, n_samples = 10000,  main_path = \"/home/jupyter/data/fairseq/anki/\")"
   ]
  },
  {
   "cell_type": "code",
   "execution_count": 9,
   "metadata": {},
   "outputs": [
    {
     "name": "stdout",
     "output_type": "stream",
     "text": [
      "[tensor(6840972.5000, device='cuda:0'), tensor(810109.8750, device='cuda:0'), tensor(608569.1250, device='cuda:0'), tensor(1078343.7500, device='cuda:0'), tensor(27060056., device='cuda:0'), tensor(525198.5625, device='cuda:0'), tensor(83570520., device='cuda:0'), tensor(18090638., device='cuda:0'), tensor(7.0035e+08, device='cuda:0'), tensor(3058816., device='cuda:0')]\n",
      "=========================  en-jp.jp\n",
      "tensor(5056182.)\n",
      "=========================\n",
      "[2, 3, 4, 5, 6, 7, 8, 9, 10, 11, 12, 13, 14, 15, 16, 17, 18, 19, 20, 21, 22, 24, 25, 26, 30]\n",
      "[827519552.0, 131542256.0, 50456440.0, 18388384.0, 9648748.0, 5279843.0, 3327585.75, 2351752.0, 1936155.25, 1481669.25, 1139877.125, 855671.6875, 731725.0625, 664480.1875, 626408.375, 494950.0, 583104.6875, 568286.3125, 867759.1875, 340438.5, 208639.90625, 154416.1875, 417483.125, 182981.234375, 187645.375]\n",
      "[2, 30, 154416.1875, 827519552.0]\n"
     ]
    },
    {
     "name": "stderr",
     "output_type": "stream",
     "text": [
      "/opt/conda/lib/python3.7/site-packages/ipykernel_launcher.py:24: UserWarning: To copy construct from a tensor, it is recommended to use sourceTensor.clone().detach() or sourceTensor.clone().detach().requires_grad_(True), rather than torch.tensor(sourceTensor).\n"
     ]
    },
    {
     "ename": "AssertionError",
     "evalue": "",
     "output_type": "error",
     "traceback": [
      "\u001b[0;31m---------------------------------------------------------------------------\u001b[0m",
      "\u001b[0;31mAssertionError\u001b[0m                            Traceback (most recent call last)",
      "\u001b[0;32m<ipython-input-9-932c638e55db>\u001b[0m in \u001b[0;36m<module>\u001b[0;34m\u001b[0m\n\u001b[1;32m      3\u001b[0m \u001b[0;31m# 174 482\u001b[0m\u001b[0;34m\u001b[0m\u001b[0;34m\u001b[0m\u001b[0;34m\u001b[0m\u001b[0m\n\u001b[1;32m      4\u001b[0m \u001b[0;32mfor\u001b[0m \u001b[0mlang\u001b[0m \u001b[0;32min\u001b[0m \u001b[0mlangspp\u001b[0m \u001b[0;34m:\u001b[0m\u001b[0;34m\u001b[0m\u001b[0;34m\u001b[0m\u001b[0m\n\u001b[0;32m----> 5\u001b[0;31m     \u001b[0mscores_per_lenghtpp\u001b[0m\u001b[0;34m[\u001b[0m\u001b[0mlang\u001b[0m\u001b[0;34m]\u001b[0m \u001b[0;34m=\u001b[0m \u001b[0mmain\u001b[0m\u001b[0;34m(\u001b[0m\u001b[0msrc_lang\u001b[0m \u001b[0;34m=\u001b[0m \u001b[0mlang\u001b[0m\u001b[0;34m,\u001b[0m \u001b[0mn_samples\u001b[0m \u001b[0;34m=\u001b[0m \u001b[0;36m10000\u001b[0m\u001b[0;34m,\u001b[0m  \u001b[0mmain_path\u001b[0m \u001b[0;34m=\u001b[0m \u001b[0;34m\"/home/jupyter/data/fairseq/anki/\"\u001b[0m\u001b[0;34m)\u001b[0m\u001b[0;34m\u001b[0m\u001b[0;34m\u001b[0m\u001b[0m\n\u001b[0m",
      "\u001b[0;32m<ipython-input-5-9917a3984d97>\u001b[0m in \u001b[0;36mmain\u001b[0;34m(src_lang, n_samples, main_path)\u001b[0m\n\u001b[1;32m      5\u001b[0m                               \u001b[0mfilepath\u001b[0m \u001b[0;34m=\u001b[0m \u001b[0mmain_path\u001b[0m \u001b[0;34m+\u001b[0m \u001b[0msrc_lang\u001b[0m \u001b[0;34m+\u001b[0m \u001b[0;34m\".txt\"\u001b[0m\u001b[0;34m,\u001b[0m\u001b[0;34m\u001b[0m\u001b[0;34m\u001b[0m\u001b[0m\n\u001b[1;32m      6\u001b[0m                               \u001b[0msrc_lang\u001b[0m \u001b[0;34m=\u001b[0m \u001b[0msrc_lang\u001b[0m\u001b[0;34m,\u001b[0m\u001b[0;34m\u001b[0m\u001b[0;34m\u001b[0m\u001b[0m\n\u001b[0;32m----> 7\u001b[0;31m                               \u001b[0mn_samples\u001b[0m \u001b[0;34m=\u001b[0m \u001b[0mn_samples\u001b[0m\u001b[0;34m\u001b[0m\u001b[0;34m\u001b[0m\u001b[0m\n\u001b[0m\u001b[1;32m      8\u001b[0m                               )\n\u001b[1;32m      9\u001b[0m \u001b[0;34m\u001b[0m\u001b[0m\n",
      "\u001b[0;32m<ipython-input-1-0a7939df6be8>\u001b[0m in \u001b[0;36meval_lm\u001b[0;34m(lm, lang, filepath, src_lang, n_samples)\u001b[0m\n\u001b[1;32m     12\u001b[0m     \u001b[0;32massert\u001b[0m \u001b[0mlang\u001b[0m \u001b[0;32min\u001b[0m \u001b[0;34m[\u001b[0m\u001b[0;34m\"en\"\u001b[0m\u001b[0;34m,\u001b[0m \u001b[0;34m\"de\"\u001b[0m\u001b[0;34m,\u001b[0m \u001b[0;34m\"ru\"\u001b[0m\u001b[0;34m]\u001b[0m\u001b[0;34m\u001b[0m\u001b[0;34m\u001b[0m\u001b[0m\n\u001b[1;32m     13\u001b[0m     \u001b[0;32massert\u001b[0m \u001b[0mlang\u001b[0m \u001b[0;34m!=\u001b[0m \u001b[0msrc_lang\u001b[0m\u001b[0;34m\u001b[0m\u001b[0;34m\u001b[0m\u001b[0m\n\u001b[0;32m---> 14\u001b[0;31m     \u001b[0;32massert\u001b[0m \u001b[0mos\u001b[0m\u001b[0;34m.\u001b[0m\u001b[0mpath\u001b[0m\u001b[0;34m.\u001b[0m\u001b[0misfile\u001b[0m\u001b[0;34m(\u001b[0m\u001b[0mfilepath\u001b[0m\u001b[0;34m)\u001b[0m\u001b[0;34m\u001b[0m\u001b[0;34m\u001b[0m\u001b[0m\n\u001b[0m\u001b[1;32m     15\u001b[0m     \u001b[0;32massert\u001b[0m \u001b[0;36m0\u001b[0m \u001b[0;34m<\u001b[0m \u001b[0mn_samples\u001b[0m\u001b[0;34m\u001b[0m\u001b[0;34m\u001b[0m\u001b[0m\n\u001b[1;32m     16\u001b[0m \u001b[0;34m\u001b[0m\u001b[0m\n",
      "\u001b[0;31mAssertionError\u001b[0m: "
     ]
    },
    {
     "data": {
      "image/png": "[encoded data removed]",
      "text/plain": [
       "<Figure size 720x216 with 1 Axes>"
      ]
     },
     "metadata": {
      "needs_background": "light"
     },
     "output_type": "display_data"
    }
   ],
   "source": [
    "scores_per_lenghtpp = {}\n",
    "langspp = [\"en-jp.jp\", \"en-es.es, en-ro.ro\"]\n",
    "# 174 482\n",
    "for lang in langspp :\n",
    "    scores_per_lenghtpp[lang] = main(src_lang = lang, n_samples = 10000,  main_path = \"/home/jupyter/data/fairseq/anki/\")"
   ]
  },
  {
   "cell_type": "code",
   "execution_count": 11,
   "metadata": {},
   "outputs": [
    {
     "name": "stdout",
     "output_type": "stream",
     "text": [
      "[tensor(1871.7344, device='cuda:0'), tensor(610812.9375, device='cuda:0'), tensor(1686.8308, device='cuda:0'), tensor(867.1570, device='cuda:0'), tensor(2454.9824, device='cuda:0'), tensor(26420.6680, device='cuda:0'), tensor(4841.1387, device='cuda:0'), tensor(4475.9849, device='cuda:0'), tensor(5098.6436, device='cuda:0'), tensor(9857.6582, device='cuda:0')]\n",
      "=========================  en-ro.ro\n",
      "tensor(11512.5684)\n",
      "=========================\n",
      "[3, 4, 5, 6, 7, 8, 9, 10, 11, 12, 13, 14, 15, 16, 17, 18, 19, 20, 21, 22, 23, 24, 25, 26, 28]\n",
      "[153955.484375, 1871.734375, 8125.89208984375, 25708.9765625, 27807.14453125, 20497.1328125, 12522.677734375, 10049.728515625, 12640.8251953125, 9078.509765625, 12802.9599609375, 8670.642578125, 7966.2373046875, 6982.39794921875, 7442.24755859375, 11790.02734375, 5586.33837890625, 3792.625, 4998.10693359375, 2511.121826171875, 6340.09619140625, 2647.177978515625, 12974.46875, 2538.40380859375, 1165.2010498046875]\n",
      "[3, 28, 1165.2010498046875, 153955.484375]\n"
     ]
    },
    {
     "name": "stderr",
     "output_type": "stream",
     "text": [
      "/opt/conda/lib/python3.7/site-packages/ipykernel_launcher.py:24: UserWarning: To copy construct from a tensor, it is recommended to use sourceTensor.clone().detach() or sourceTensor.clone().detach().requires_grad_(True), rather than torch.tensor(sourceTensor).\n"
     ]
    },
    {
     "data": {
      "image/png": "[encoded data removed]",
      "text/plain": [
       "<Figure size 720x216 with 1 Axes>"
      ]
     },
     "metadata": {
      "needs_background": "light"
     },
     "output_type": "display_data"
    }
   ],
   "source": [
    "scores_per_lenghtpp = {}\n",
    "langspp = [\"en-ro.ro\"]\n",
    "# 174 482\n",
    "for lang in langspp :\n",
    "    scores_per_lenghtpp[lang] = main(src_lang = lang, n_samples = 10000,  main_path = \"/home/jupyter/data/fairseq/anki/\")"
   ]
  },
  {
   "cell_type": "code",
   "execution_count": 12,
   "metadata": {},
   "outputs": [
    {
     "name": "stdout",
     "output_type": "stream",
     "text": [
      "[tensor(658.3329, device='cuda:0'), tensor(3571.4365, device='cuda:0'), tensor(3128.6982, device='cuda:0'), tensor(9410.9541, device='cuda:0'), tensor(1235.9657, device='cuda:0'), tensor(1282.2512, device='cuda:0'), tensor(7344.8193, device='cuda:0'), tensor(2845.7156, device='cuda:0'), tensor(2257.4531, device='cuda:0'), tensor(2995.6919, device='cuda:0')]\n",
      "=========================  en-es.es\n",
      "tensor(4007.8872)\n",
      "=========================\n",
      "[3, 4, 5, 6, 7, 8, 9, 10, 11, 12, 13, 14, 15, 16, 17]\n",
      "[76550.6640625, 18014.732421875, 7968.78466796875, 3784.873046875, 2291.420166015625, 1449.2296142578125, 1044.2271728515625, 717.5789794921875, 621.7681274414062, 465.8775329589844, 317.9937438964844, 223.11874389648438, 201.86016845703125, 106.56097412109375, 190.1224365234375]\n",
      "[3, 17, 106.56097412109375, 76550.6640625]\n"
     ]
    },
    {
     "name": "stderr",
     "output_type": "stream",
     "text": [
      "/opt/conda/lib/python3.7/site-packages/ipykernel_launcher.py:24: UserWarning: To copy construct from a tensor, it is recommended to use sourceTensor.clone().detach() or sourceTensor.clone().detach().requires_grad_(True), rather than torch.tensor(sourceTensor).\n"
     ]
    },
    {
     "data": {
      "image/png": "[encoded data removed]",
      "text/plain": [
       "<Figure size 720x216 with 1 Axes>"
      ]
     },
     "metadata": {
      "needs_background": "light"
     },
     "output_type": "display_data"
    }
   ],
   "source": [
    "scores_per_lenghtpp = {}\n",
    "langspp = [\"en-es.es\"]\n",
    "# 174 482\n",
    "for lang in langspp :\n",
    "    scores_per_lenghtpp[lang] = main(src_lang = lang, n_samples = 10000,  main_path = \"/home/jupyter/data/fairseq/anki/\")"
   ]
  },
  {
   "cell_type": "code",
   "execution_count": 27,
   "metadata": {},
   "outputs": [
    {
     "name": "stdout",
     "output_type": "stream",
     "text": [
      "/home/jupyter/fairseq\n"
     ]
    }
   ],
   "source": [
    "%cd /home/jupyter/fairseq"
   ]
  },
  {
   "cell_type": "markdown",
   "metadata": {},
   "source": [
    "# model"
   ]
  },
  {
   "cell_type": "code",
   "execution_count": 26,
   "metadata": {},
   "outputs": [
    {
     "name": "stdout",
     "output_type": "stream",
     "text": [
      "wmt19.en/\n",
      "wmt19.en/model.pt\n",
      "wmt19.en/dict.txt\n",
      "wmt19.en/bpecodes\n"
     ]
    }
   ],
   "source": [
    "# download and extract the model\n",
    "! wget -c https://dl.fbaipublicfiles.com/fairseq/models/lm/wmt19.en.tar.gz -P /home/jupyter/test\n",
    "! tar -xvzf /home/jupyter/test/wmt19.en.tar.gz -C /home/jupyter/test"
   ]
  },
  {
   "cell_type": "markdown",
   "metadata": {},
   "source": [
    "# data"
   ]
  },
  {
   "cell_type": "code",
   "execution_count": 29,
   "metadata": {},
   "outputs": [
    {
     "name": "stdout",
     "output_type": "stream",
     "text": [
      "/home/jupyter/fairseq/examples/language_model\n",
      "--2020-05-31 10:46:43--  https://s3.amazonaws.com/research.metamind.io/wikitext/wikitext-103-v1.zip\n",
      "Resolving s3.amazonaws.com (s3.amazonaws.com)... 52.217.42.174\n",
      "Connecting to s3.amazonaws.com (s3.amazonaws.com)|52.217.42.174|:443... connected.\n",
      "HTTP request sent, awaiting response... 200 OK\n",
      "Length: 190229076 (181M) [application/zip]\n",
      "Saving to: ‘wikitext-103-v1.zip’\n",
      "\n",
      "wikitext-103-v1.zip 100%[===================>] 181.42M  86.6MB/s    in 2.1s    \n",
      "\n",
      "2020-05-31 10:46:45 (86.6 MB/s) - ‘wikitext-103-v1.zip’ saved [190229076/190229076]\n",
      "\n",
      "https://s3.amazonaws.com/research.metamind.io/wikitext/wikitext-103-v1.zip successfully downloaded.\n",
      "Archive:  wikitext-103-v1.zip\n",
      "   creating: wikitext-103/\n",
      "  inflating: wikitext-103/wiki.test.tokens  \n",
      "  inflating: wikitext-103/wiki.valid.tokens  \n",
      "  inflating: wikitext-103/wiki.train.tokens  \n",
      "/home/jupyter/fairseq\n"
     ]
    }
   ],
   "source": [
    "%cd examples/language_model/\n",
    "! bash prepare-wikitext-103.sh\n",
    "%cd ../.."
   ]
  },
  {
   "cell_type": "code",
   "execution_count": 37,
   "metadata": {},
   "outputs": [
    {
     "name": "stdout",
     "output_type": "stream",
     "text": [
      "Obtaining file:///home/jupyter/fairseq\n",
      "  Installing build dependencies ... \u001b[?25ldone\n",
      "\u001b[?25h  Getting requirements to build wheel ... \u001b[?25ldone\n",
      "\u001b[?25h  Installing backend dependencies ... \u001b[?25ldone\n",
      "\u001b[?25h    Preparing wheel metadata ... \u001b[?25ldone\n",
      "\u001b[?25hRequirement already satisfied: cython in /opt/conda/lib/python3.7/site-packages (from fairseq==0.9.0) (0.29.16)\n",
      "Requirement already satisfied: torch in /opt/conda/lib/python3.7/site-packages (from fairseq==0.9.0) (1.4.0)\n",
      "Requirement already satisfied: numpy in /opt/conda/lib/python3.7/site-packages (from fairseq==0.9.0) (1.18.1)\n",
      "Requirement already satisfied: tqdm in /opt/conda/lib/python3.7/site-packages (from fairseq==0.9.0) (4.45.0)\n",
      "Requirement already satisfied: regex in /opt/conda/lib/python3.7/site-packages (from fairseq==0.9.0) (2019.8.19)\n",
      "Collecting sacrebleu\n",
      "  Downloading sacrebleu-1.4.10-py3-none-any.whl (60 kB)\n",
      "\u001b[K     |████████████████████████████████| 60 kB 2.5 MB/s eta 0:00:011\n",
      "\u001b[?25hRequirement already satisfied: cffi in /opt/conda/lib/python3.7/site-packages (from fairseq==0.9.0) (1.14.0)\n",
      "Collecting portalocker\n",
      "  Downloading portalocker-1.7.0-py2.py3-none-any.whl (14 kB)\n",
      "Requirement already satisfied: pycparser in /opt/conda/lib/python3.7/site-packages (from cffi->fairseq==0.9.0) (2.20)\n",
      "Installing collected packages: portalocker, sacrebleu, fairseq\n",
      "  Running setup.py develop for fairseq\n",
      "Successfully installed fairseq portalocker-1.7.0 sacrebleu-1.4.10\n"
     ]
    }
   ],
   "source": [
    "! pip install --editable ."
   ]
  },
  {
   "cell_type": "code",
   "execution_count": 51,
   "metadata": {},
   "outputs": [
    {
     "name": "stdout",
     "output_type": "stream",
     "text": [
      "env: modelpath=/home/jupyter/test/wmt19.en\n",
      "env: destdir=data-bin/wikitext-103\n"
     ]
    }
   ],
   "source": [
    "%env modelpath=/home/jupyter/test/wmt19.en\n",
    "%env destdir=data-bin/wikitext-103"
   ]
  },
  {
   "cell_type": "code",
   "execution_count": 52,
   "metadata": {},
   "outputs": [
    {
     "name": "stdout",
     "output_type": "stream",
     "text": [
      "env: TEXT=examples/language_model/wikitext-103\n",
      "2020-05-31 11:45:02 | INFO | fairseq_cli.preprocess | Namespace(align_suffix=None, alignfile=None, all_gather_list_size=16384, bf16=False, bpe=None, checkpoint_suffix='', cpu=False, criterion='cross_entropy', dataset_impl='mmap', destdir='data-bin/wikitext-103', empty_cache_freq=0, fp16=False, fp16_init_scale=128, fp16_no_flatten_grads=False, fp16_scale_tolerance=0.0, fp16_scale_window=None, joined_dictionary=True, log_format=None, log_interval=100, lr_scheduler='fixed', memory_efficient_bf16=False, memory_efficient_fp16=False, min_loss_scale=0.0001, model_parallel_size=1, no_progress_bar=False, nwordssrc=-1, nwordstgt=-1, only_source=True, optimizer='nag', padding_factor=8, quantization_config_path=None, seed=1, source_lang=None, srcdict='/home/jupyter/test/wmt19.en/dict.txt', target_lang=None, task='translation', tensorboard_logdir='', testpref='examples/language_model/wikitext-103/wiki.test.tokens', tgtdict=None, threshold_loss_scale=None, thresholdsrc=0, thresholdtgt=0, tokenizer=None, tpu=False, trainpref='examples/language_model/wikitext-103/wiki.train.tokens', user_dir=None, validpref='examples/language_model/wikitext-103/wiki.valid.tokens', workers=20)\n",
      "2020-05-31 11:45:02 | INFO | fairseq_cli.preprocess | [None] Dictionary: 42021 types\n",
      "2020-05-31 11:48:33 | INFO | fairseq_cli.preprocess | [None] examples/language_model/wikitext-103/wiki.train.tokens: 1801350 sents, 103227021 tokens, 17.6% replaced by <unk>\n",
      "2020-05-31 11:48:33 | INFO | fairseq_cli.preprocess | [None] Dictionary: 42021 types\n",
      "2020-05-31 11:48:34 | INFO | fairseq_cli.preprocess | [None] examples/language_model/wikitext-103/wiki.valid.tokens: 3760 sents, 217646 tokens, 17.2% replaced by <unk>\n",
      "2020-05-31 11:48:34 | INFO | fairseq_cli.preprocess | [None] Dictionary: 42021 types\n",
      "2020-05-31 11:48:35 | INFO | fairseq_cli.preprocess | [None] examples/language_model/wikitext-103/wiki.test.tokens: 4358 sents, 245569 tokens, 17.6% replaced by <unk>\n",
      "2020-05-31 11:48:35 | INFO | fairseq_cli.preprocess | Wrote preprocessed data to data-bin/wikitext-103\n"
     ]
    }
   ],
   "source": [
    "%env TEXT=examples/language_model/wikitext-103\n",
    "! fairseq-preprocess --only-source --trainpref $TEXT/wiki.train.tokens --validpref $TEXT/wiki.valid.tokens --testpref $TEXT/wiki.test.tokens --destdir $destdir --workers 20 --joined-dictionary --srcdict $modelpath/dict.txt"
   ]
  },
  {
   "cell_type": "code",
   "execution_count": 53,
   "metadata": {},
   "outputs": [
    {
     "name": "stdout",
     "output_type": "stream",
     "text": [
      "dict.txt\ttest.bin  train.bin  valid.bin\n",
      "preprocess.log\ttest.idx  train.idx  valid.idx\n"
     ]
    }
   ],
   "source": [
    "! ls $destdir"
   ]
  },
  {
   "cell_type": "code",
   "execution_count": 54,
   "metadata": {},
   "outputs": [
    {
     "name": "stdout",
     "output_type": "stream",
     "text": [
      "2020-05-31 11:49:37 | INFO | fairseq_cli.eval_lm | Namespace(add_bos_token=False, all_gather_list_size=16384, bf16=False, bpe=None, broadcast_buffers=False, bucket_cap_mb=25, checkpoint_suffix='', context_window=400, cpu=False, criterion='cross_entropy', data='data-bin/wikitext-103', data_buffer_size=10, dataset_impl=None, ddp_backend='c10d', device_id=0, distributed_backend='nccl', distributed_init_method=None, distributed_no_spawn=False, distributed_port=-1, distributed_rank=0, distributed_world_size=1, distributed_wrapper='DDP', empty_cache_freq=0, fast_stat_sync=False, find_unused_parameters=False, fix_batches_to_gpus=False, force_anneal=None, fp16=False, fp16_init_scale=128, fp16_no_flatten_grads=False, fp16_scale_tolerance=0.0, fp16_scale_window=None, future_target=False, gen_subset='test', localsgd_frequency=3, log_format=None, log_interval=100, lr_scheduler='fixed', lr_shrink=0.1, max_sentences=2, max_target_positions=None, max_tokens=None, memory_efficient_bf16=False, memory_efficient_fp16=False, min_loss_scale=0.0001, model_overrides='{}', model_parallel_size=1, momentum=0.99, no_progress_bar=False, nprocs_per_node=1, num_shards=1, num_workers=1, optimizer='nag', output_dictionary_size=-1, output_word_probs=False, output_word_stats=False, past_target=False, path='/home/jupyter/test/wmt19.en/model.pt', quantization_config_path=None, quiet=False, remove_bpe=None, required_batch_size_multiple=8, results_path=None, sample_break_mode='none', seed=1, self_target=False, shard_id=0, skip_invalid_size_inputs_valid_test=False, slowmo_algorithm='LocalSGD', slowmo_momentum=None, softmax_batch=9223372036854775807, task='language_modeling', tensorboard_logdir='', threshold_loss_scale=None, tokenizer=None, tokens_per_sample=512, tpu=False, truncate_sequence=False, user_dir=None, warmup_updates=0, weight_decay=0.0)\n",
      "2020-05-31 11:49:37 | INFO | fairseq.tasks.language_modeling | dictionary: 42022 types\n",
      "2020-05-31 11:49:37 | INFO | fairseq_cli.eval_lm | loading model(s) from /home/jupyter/test/wmt19.en/model.pt\n",
      "2020-05-31 11:49:46 | INFO | fairseq.tasks.language_modeling | dictionary: 42022 types\n",
      "2020-05-31 11:49:46 | INFO | fairseq.data.data_utils | loaded 4358 examples from: data-bin/wikitext-103/test\n",
      "2020-05-31 11:49:46 | INFO | fairseq_cli.eval_lm | data-bin/wikitext-103 test 2193 examples\n",
      "2020-05-31 11:49:50 | INFO | fairseq_cli.eval_lm | num. model params: 655837184\n",
      "100%|██████████████████████████████| 1097/1097 [07:05<00:00,  2.95it/s, wps=577]2020-05-31 11:56:55 | INFO | fairseq.data.iterators | Data loading buffer is empty or nearly empty. This may indicate a data loading bottleneck, and increasing the number of workers (--num-workers) may help.\n",
      "2020-05-31 11:56:55 | INFO | fairseq_cli.eval_lm | Evaluated 245569 tokens in 424.4s (578.60 tokens/s)\n",
      "2020-05-31 11:56:55 | INFO | fairseq_cli.eval_lm | Loss (base 2): 10.2030, Perplexity: 1178.68\n"
     ]
    }
   ],
   "source": [
    "! fairseq-eval-lm data-bin/wikitext-103 --path $modelpath/model.pt --max-sentences 2 --tokens-per-sample 512 --context-window 400"
   ]
  },
  {
   "cell_type": "code",
   "execution_count": null,
   "metadata": {},
   "outputs": [],
   "source": []
  }
 ],
 "metadata": {
  "environment": {
   "name": "pytorch-gpu.1-4.m46",
   "type": "gcloud",
   "uri": "gcr.io/deeplearning-platform-release/pytorch-gpu.1-4:m46"
  },
  "kernelspec": {
   "display_name": "Python 3",
   "language": "python",
   "name": "python3"
  },
  "language_info": {
   "codemirror_mode": {
    "name": "ipython",
    "version": 3
   },
   "file_extension": ".py",
   "mimetype": "text/x-python",
   "name": "python",
   "nbconvert_exporter": "python",
   "pygments_lexer": "ipython3",
   "version": "3.7.6"
  }
 },
 "nbformat": 4,
 "nbformat_minor": 4
}
