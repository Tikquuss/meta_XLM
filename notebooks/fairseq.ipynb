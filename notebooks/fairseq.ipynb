{
 "cells": [
  {
   "cell_type": "code",
   "execution_count": null,
   "metadata": {},
   "outputs": [],
   "source": [
    "# ! pip install fastBPE sacremoses"
   ]
  },
  {
   "cell_type": "code",
   "execution_count": 16,
   "metadata": {},
   "outputs": [],
   "source": [
    "import torch\n",
    "import os\n",
    "import matplotlib.pyplot as plt\n",
    "\n",
    "def load_lm(lang):\n",
    "    assert lang in [\"en\", \"de\", \"ru\"]\n",
    "    # Load an lang LM trained on WMT'19 News Crawl data\n",
    "    return torch.hub.load('pytorch/fairseq', 'transformer_lm.wmt19.'+lang, tokenizer='moses', bpe='fastbpe')\n",
    "\n",
    "def eval_lm(lm, lang, filepath, src_lang, n_samples):\n",
    "\n",
    "    assert lang in [\"en\", \"de\", \"ru\"]\n",
    "    assert lang != src_lang\n",
    "    assert os.path.isfile(filepath)\n",
    "    assert 0 < n_samples\n",
    "    \n",
    "    lm.eval()  # disable dropout\n",
    "    if torch.cuda.is_available() :\n",
    "        # Move model to GPU\n",
    "        try : \n",
    "            lm.cuda()\n",
    "        except RuntimeError : # CUDA out of memory\n",
    "            print(\"CUDA out of memory\")\n",
    "    #else :\n",
    "    #    lm.cpu()\n",
    "  \n",
    "    scores_per_lenght = {}\n",
    "    positional_scores = []\n",
    "    raw_scores        = []\n",
    "    scores            = []\n",
    "\n",
    "    with open(filepath, 'r', encoding=\"utf-8\") as datasetfile :\n",
    "        for line in datasetfile.readlines()[:n_samples]:\n",
    "            # todo\n",
    "            line = line[:512]\n",
    "            \n",
    "            \"\"\"\n",
    "            if len(lm.score(line)[\"tokens\"]) > 10 :\n",
    "                while len(lm.score(line)[\"tokens\"]) % 10 != 0 :\n",
    "                    line = line[:len(line)-1]\n",
    "            \"\"\"\n",
    "            \n",
    "            scores_tmp = lm.score(line)\n",
    "\n",
    "            pos_scores = scores_tmp['positional_scores']\n",
    "            positional_scores.append(pos_scores)\n",
    "            raw_scores.append(scores_tmp[\"score\"]) # scores_tmp[\"score\"] is equal to scores_tmp['positional_scores'].mean()\n",
    "\n",
    "            pos_score = pos_scores.mean().neg().exp()\n",
    "            scores.append(pos_score)\n",
    "\n",
    "            lenght = len(scores_tmp[\"tokens\"])\n",
    "            try :\n",
    "                scores_per_lenght[lenght].append(pos_score)\n",
    "            except KeyError:\n",
    "                scores_per_lenght[lenght] = []\n",
    "                scores_per_lenght[lenght].append(pos_score)\n",
    "    scores_per_lenght = {lenght : torch.tensor(pos_score).mean() for lenght, pos_score in scores_per_lenght.items()}\n",
    "    return scores_per_lenght, positional_scores, raw_scores, scores"
   ]
  },
  {
   "cell_type": "code",
   "execution_count": 17,
   "metadata": {},
   "outputs": [],
   "source": [
    "def main(src_lang, n_samples, main_path) :\n",
    "    scores_per_lenght, positional_scores, raw_scores, scores = eval_lm(\n",
    "                              lm = en_lm, \n",
    "                              lang = \"en\", \n",
    "                              filepath = main_path + src_lang + \".txt\", \n",
    "                              src_lang = src_lang,\n",
    "                              n_samples = n_samples\n",
    "                              )\n",
    "\n",
    "    #print(scores_per_lenght)\n",
    "    #print(positional_scores)\n",
    "    #print(raw_scores)\n",
    "    print(scores[:10])\n",
    "\n",
    "    print(\"========================= \", src_lang)\n",
    "    print(torch.tensor(scores).mean())\n",
    "    print(\"=========================\")\n",
    "\n",
    "    x = sorted([i for i in scores_per_lenght.keys() \n",
    "              if i%10 == 0\n",
    "              ])\n",
    "    print(x)\n",
    "\n",
    "    height = [float(torch.tensor(scores_per_lenght[key]).mean())  for key in x]\n",
    "    print(height)\n",
    "\n",
    "\n",
    "    f, ax = plt.subplots(figsize=(10,3))\n",
    "\n",
    "    plt.bar(x = x, height = height, width = 8, label = \"ppl\")\n",
    "\n",
    "    ax_ = [min(x), max(x), min(height), max(height)]\n",
    "    print(ax_)\n",
    "\n",
    "    plt.axis(ax_)      \n",
    "\n",
    "    plt.xticks(x)    \n",
    "\n",
    "    plt.xlabel(\"sentences lenghts\")\n",
    "    plt.ylabel(\"perplexity\")\n",
    "    plt.title(\"perplexity per sentences lenght\")\n",
    "\n",
    "    ax.legend(fontsize = 14)\n",
    "\n",
    "    return scores_per_lenght"
   ]
  },
  {
   "cell_type": "code",
   "execution_count": 3,
   "metadata": {},
   "outputs": [
    {
     "name": "stderr",
     "output_type": "stream",
     "text": [
      "Using cache found in /home/jupyter/.cache/torch/hub/pytorch_fairseq_master\n"
     ]
    }
   ],
   "source": [
    "#en_lm = load_lm(lang = \"en\")"
   ]
  },
  {
   "cell_type": "code",
   "execution_count": 10,
   "metadata": {},
   "outputs": [
    {
     "name": "stdout",
     "output_type": "stream",
     "text": [
      "[tensor(5666.4375, device='cuda:0'), tensor(2867.6670, device='cuda:0'), tensor(23230.5957, device='cuda:0'), tensor(60627868., device='cuda:0'), tensor(3207.2363, device='cuda:0'), tensor(13477.5225, device='cuda:0'), tensor(1260.0389, device='cuda:0'), tensor(3598.2876, device='cuda:0'), tensor(3260.4316, device='cuda:0'), tensor(1682.7225, device='cuda:0')]\n",
      "=========================\n",
      "tensor(6068612.)\n",
      "=========================\n",
      "[10, 30, 40, 60, 80]\n",
      "[13305.1181640625, 3598.28759765625, 4463.4345703125, 2275.19482421875, 1260.0389404296875]\n",
      "[10, 80, 1260.0389404296875, 13305.1181640625]\n"
     ]
    },
    {
     "name": "stderr",
     "output_type": "stream",
     "text": [
      "/opt/conda/lib/python3.7/site-packages/ipykernel_launcher.py:24: UserWarning: To copy construct from a tensor, it is recommended to use sourceTensor.clone().detach() or sourceTensor.clone().detach().requires_grad_(True), rather than torch.tensor(sourceTensor).\n"
     ]
    },
    {
     "name": "stdout",
     "output_type": "stream",
     "text": [
      "[tensor(89.0129, device='cuda:0'), tensor(162.4275, device='cuda:0'), tensor(1554.1726, device='cuda:0'), tensor(794.1428, device='cuda:0'), tensor(293.7960, device='cuda:0'), tensor(124.3377, device='cuda:0'), tensor(50.6096, device='cuda:0'), tensor(299.8370, device='cuda:0'), tensor(278.7428, device='cuda:0'), tensor(37.8166, device='cuda:0')]\n",
      "=========================\n",
      "tensor(368.4896)\n",
      "=========================\n",
      "[20, 40, 50, 70, 90, 100, 130]\n",
      "[657.4354858398438, 299.83697509765625, 278.7428283691406, 89.01290893554688, 162.42752075195312, 37.81658172607422, 50.6096305847168]\n",
      "[20, 130, 37.81658172607422, 657.4354858398438]\n",
      "[tensor(15.2604, device='cuda:0'), tensor(14.4851, device='cuda:0'), tensor(15.0473, device='cuda:0'), tensor(60.0423, device='cuda:0'), tensor(16.4272, device='cuda:0'), tensor(21.4380, device='cuda:0'), tensor(13.8370, device='cuda:0'), tensor(24.1483, device='cuda:0'), tensor(14.8592, device='cuda:0'), tensor(12.7428, device='cuda:0')]\n",
      "=========================\n",
      "tensor(20.8288)\n",
      "=========================\n",
      "[10, 50, 70, 90, 170, 210, 240, 270, 330]\n",
      "[60.04230499267578, 21.437969207763672, 15.04733943939209, 20.287757873535156, 14.859156608581543, 15.260429382324219, 12.742818832397461, 14.485092163085938, 13.837018013000488]\n",
      "[10, 330, 12.742818832397461, 60.04230499267578]\n",
      "[tensor(1112064.8750, device='cuda:0'), tensor(1205303.7500, device='cuda:0'), tensor(5504073., device='cuda:0'), tensor(13794430., device='cuda:0'), tensor(495011.9375, device='cuda:0'), tensor(91068.0234, device='cuda:0'), tensor(590592.8750, device='cuda:0'), tensor(1634445.6250, device='cuda:0'), tensor(804990.7500, device='cuda:0'), tensor(2089443.3750, device='cuda:0')]\n",
      "=========================\n",
      "tensor(2732142.5000)\n",
      "=========================\n",
      "[10, 20, 30, 40, 60, 70, 80, 90]\n",
      "[2797570.5, 495011.9375, 1634445.625, 804990.75, 1112064.875, 2089443.375, 1205303.75, 590592.875]\n",
      "[10, 90, 495011.9375, 2797570.5]\n"
     ]
    },
    {
     "data": {
      "image/png": "[encoded data removed]",
      "text/plain": [
       "<Figure size 720x216 with 1 Axes>"
      ]
     },
     "metadata": {
      "needs_background": "light"
     },
     "output_type": "display_data"
    },
    {
     "data": {
      "image/png": "[encoded data removed]",
      "text/plain": [
       "<Figure size 720x216 with 1 Axes>"
      ]
     },
     "metadata": {
      "needs_background": "light"
     },
     "output_type": "display_data"
    },
    {
     "data": {
      "image/png": "[encoded data removed]",
      "text/plain": [
       "<Figure size 720x216 with 1 Axes>"
      ]
     },
     "metadata": {
      "needs_background": "light"
     },
     "output_type": "display_data"
    },
    {
     "data": {
      "image/png": "[encoded data removed]",
      "text/plain": [
       "<Figure size 720x216 with 1 Axes>"
      ]
     },
     "metadata": {
      "needs_background": "light"
     },
     "output_type": "display_data"
    }
   ],
   "source": [
    "scores_per_lenght = {}\n",
    "langs = [\"de\", \"fr\",\"ru\",\"zh\"]\n",
    "for lang in langs :\n",
    "    scores_per_lenght[lang] = main(src_lang = lang, n_samples = 10, main_path = \"/home/jupyter/data/fairseq/test/\")"
   ]
  },
  {
   "cell_type": "code",
   "execution_count": null,
   "metadata": {},
   "outputs": [],
   "source": []
  },
  {
   "cell_type": "code",
   "execution_count": null,
   "metadata": {},
   "outputs": [],
   "source": [
    "import itertools\n",
    "a = sorted(\n",
    "    set(\n",
    "        itertools.chain.from_iterable(\n",
    "            [scores_per_lenght[lg].keys() for lg in langs]\n",
    "            )\n",
    "        )\n",
    "    )"
   ]
  },
  {
   "cell_type": "code",
   "execution_count": null,
   "metadata": {},
   "outputs": [],
   "source": [
    " #r = {lenght : ppl for lenght, ppl  }\n",
    "\n",
    "for key in a :\n",
    "    if all([key in scores_per_lenght[lg].keys() for lg in langs]) :\n",
    "    max = 0\n",
    "    lang = None\n",
    "    for lg in langs :\n",
    "        if scores_per_lenght[lg][key] > max :\n",
    "            max = scores_per_lenght[lg][key]\n",
    "            lang = lg\n",
    "    print(lang)"
   ]
  },
  {
   "cell_type": "code",
   "execution_count": null,
   "metadata": {},
   "outputs": [],
   "source": []
  },
  {
   "cell_type": "code",
   "execution_count": 18,
   "metadata": {},
   "outputs": [
    {
     "name": "stdout",
     "output_type": "stream",
     "text": [
      "[tensor(856.5319, device='cuda:0'), tensor(245.5427, device='cuda:0'), tensor(218640.0938, device='cuda:0'), tensor(87894.5469, device='cuda:0'), tensor(87894.5469, device='cuda:0'), tensor(44792.0273, device='cuda:0'), tensor(216054.3281, device='cuda:0'), tensor(221152.3750, device='cuda:0'), tensor(276990.7188, device='cuda:0'), tensor(45094.3672, device='cuda:0')]\n",
      "=========================  de-en.de\n",
      "tensor(303131.4375)\n",
      "=========================\n",
      "[]\n",
      "[]\n"
     ]
    },
    {
     "ename": "ValueError",
     "evalue": "min() arg is an empty sequence",
     "output_type": "error",
     "traceback": [
      "\u001b[0;31m---------------------------------------------------------------------------\u001b[0m",
      "\u001b[0;31mValueError\u001b[0m                                Traceback (most recent call last)",
      "\u001b[0;32m<ipython-input-18-f5d9991b0a38>\u001b[0m in \u001b[0;36m<module>\u001b[0;34m\u001b[0m\n\u001b[1;32m      2\u001b[0m \u001b[0mlangsp\u001b[0m \u001b[0;34m=\u001b[0m \u001b[0;34m[\u001b[0m\u001b[0;34m\"de-en.de\"\u001b[0m\u001b[0;34m,\u001b[0m \u001b[0;34m\"en-fr.fr\"\u001b[0m\u001b[0;34m]\u001b[0m\u001b[0;34m\u001b[0m\u001b[0;34m\u001b[0m\u001b[0m\n\u001b[1;32m      3\u001b[0m \u001b[0;32mfor\u001b[0m \u001b[0mlang\u001b[0m \u001b[0;32min\u001b[0m \u001b[0mlangsp\u001b[0m \u001b[0;34m:\u001b[0m\u001b[0;34m\u001b[0m\u001b[0;34m\u001b[0m\u001b[0m\n\u001b[0;32m----> 4\u001b[0;31m     \u001b[0mscores_per_lenghtp\u001b[0m\u001b[0;34m[\u001b[0m\u001b[0mlang\u001b[0m\u001b[0;34m]\u001b[0m \u001b[0;34m=\u001b[0m \u001b[0mmain\u001b[0m\u001b[0;34m(\u001b[0m\u001b[0msrc_lang\u001b[0m \u001b[0;34m=\u001b[0m \u001b[0mlang\u001b[0m\u001b[0;34m,\u001b[0m \u001b[0mn_samples\u001b[0m \u001b[0;34m=\u001b[0m \u001b[0;36m100\u001b[0m\u001b[0;34m,\u001b[0m  \u001b[0mmain_path\u001b[0m \u001b[0;34m=\u001b[0m \u001b[0;34m\"/home/jupyter/data/fairseq/anki/\"\u001b[0m\u001b[0;34m)\u001b[0m\u001b[0;34m\u001b[0m\u001b[0;34m\u001b[0m\u001b[0m\n\u001b[0m",
      "\u001b[0;32m<ipython-input-17-16632a772566>\u001b[0m in \u001b[0;36mmain\u001b[0;34m(src_lang, n_samples, main_path)\u001b[0m\n\u001b[1;32m     30\u001b[0m     \u001b[0mplt\u001b[0m\u001b[0;34m.\u001b[0m\u001b[0mbar\u001b[0m\u001b[0;34m(\u001b[0m\u001b[0mx\u001b[0m \u001b[0;34m=\u001b[0m \u001b[0mx\u001b[0m\u001b[0;34m,\u001b[0m \u001b[0mheight\u001b[0m \u001b[0;34m=\u001b[0m \u001b[0mheight\u001b[0m\u001b[0;34m,\u001b[0m \u001b[0mwidth\u001b[0m \u001b[0;34m=\u001b[0m \u001b[0;36m8\u001b[0m\u001b[0;34m,\u001b[0m \u001b[0mlabel\u001b[0m \u001b[0;34m=\u001b[0m \u001b[0;34m\"ppl\"\u001b[0m\u001b[0;34m)\u001b[0m\u001b[0;34m\u001b[0m\u001b[0;34m\u001b[0m\u001b[0m\n\u001b[1;32m     31\u001b[0m \u001b[0;34m\u001b[0m\u001b[0m\n\u001b[0;32m---> 32\u001b[0;31m     \u001b[0max_\u001b[0m \u001b[0;34m=\u001b[0m \u001b[0;34m[\u001b[0m\u001b[0mmin\u001b[0m\u001b[0;34m(\u001b[0m\u001b[0mx\u001b[0m\u001b[0;34m)\u001b[0m\u001b[0;34m,\u001b[0m \u001b[0mmax\u001b[0m\u001b[0;34m(\u001b[0m\u001b[0mx\u001b[0m\u001b[0;34m)\u001b[0m\u001b[0;34m,\u001b[0m \u001b[0mmin\u001b[0m\u001b[0;34m(\u001b[0m\u001b[0mheight\u001b[0m\u001b[0;34m)\u001b[0m\u001b[0;34m,\u001b[0m \u001b[0mmax\u001b[0m\u001b[0;34m(\u001b[0m\u001b[0mheight\u001b[0m\u001b[0;34m)\u001b[0m\u001b[0;34m]\u001b[0m\u001b[0;34m\u001b[0m\u001b[0;34m\u001b[0m\u001b[0m\n\u001b[0m\u001b[1;32m     33\u001b[0m     \u001b[0mprint\u001b[0m\u001b[0;34m(\u001b[0m\u001b[0max_\u001b[0m\u001b[0;34m)\u001b[0m\u001b[0;34m\u001b[0m\u001b[0;34m\u001b[0m\u001b[0m\n\u001b[1;32m     34\u001b[0m \u001b[0;34m\u001b[0m\u001b[0m\n",
      "\u001b[0;31mValueError\u001b[0m: min() arg is an empty sequence"
     ]
    },
    {
     "data": {
      "image/png": "[encoded data removed]",
      "text/plain": [
       "<Figure size 720x216 with 1 Axes>"
      ]
     },
     "metadata": {
      "needs_background": "light"
     },
     "output_type": "display_data"
    }
   ],
   "source": [
    "scores_per_lenghtp = {}\n",
    "langsp = [\"de-en.de\", \"en-fr.fr\"]\n",
    "for lang in langsp :\n",
    "    scores_per_lenghtp[lang] = main(src_lang = lang, n_samples = 100,  main_path = \"/home/jupyter/data/fairseq/anki/\")"
   ]
  },
  {
   "cell_type": "code",
   "execution_count": null,
   "metadata": {},
   "outputs": [],
   "source": []
  }
 ],
 "metadata": {
  "environment": {
   "name": "pytorch-gpu.1-4.m46",
   "type": "gcloud",
   "uri": "gcr.io/deeplearning-platform-release/pytorch-gpu.1-4:m46"
  },
  "kernelspec": {
   "display_name": "Python 3",
   "language": "python",
   "name": "python3"
  },
  "language_info": {
   "codemirror_mode": {
    "name": "ipython",
    "version": 3
   },
   "file_extension": ".py",
   "mimetype": "text/x-python",
   "name": "python",
   "nbconvert_exporter": "python",
   "pygments_lexer": "ipython3",
   "version": "3.7.6"
  }
 },
 "nbformat": 4,
 "nbformat_minor": 4
}
