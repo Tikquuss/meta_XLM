{
 "cells": [
  {
   "cell_type": "code",
   "execution_count": 5,
   "metadata": {},
   "outputs": [
    {
     "name": "stdout",
     "output_type": "stream",
     "text": [
      "/home/jupyter/meta_XLM\n"
     ]
    }
   ],
   "source": [
    "%cd /home/jupyter/meta_XLM"
   ]
  },
  {
   "cell_type": "code",
   "execution_count": 9,
   "metadata": {},
   "outputs": [
    {
     "name": "stdout",
     "output_type": "stream",
     "text": [
      "env: outpath=/home/jupyter/data/fairseq/anki\n"
     ]
    }
   ],
   "source": [
    "%env outpath=/home/jupyter/data/fairseq/anki"
   ]
  },
  {
   "cell_type": "code",
   "execution_count": 10,
   "metadata": {},
   "outputs": [
    {
     "name": "stdout",
     "output_type": "stream",
     "text": [
      "--2020-05-30 00:39:40--  http://www.manythings.org/anki/deu-eng.zip\n",
      "Resolving www.manythings.org (www.manythings.org)... 104.24.108.196, 172.67.173.198, 104.24.109.196, ...\n",
      "Connecting to www.manythings.org (www.manythings.org)|104.24.108.196|:80... connected.\n",
      "HTTP request sent, awaiting response... 200 OK\n",
      "Length: 7876575 (7.5M) [application/zip]\n",
      "Saving to: ‘/home/jupyter/data/fairseq/anki/deu-eng.zip’\n",
      "\n",
      "deu-eng.zip         100%[===================>]   7.51M  15.9MB/s    in 0.5s    \n",
      "\n",
      "2020-05-30 00:39:40 (15.9 MB/s) - ‘/home/jupyter/data/fairseq/anki/deu-eng.zip’ saved [7876575/7876575]\n",
      "\n",
      "Archive:  /home/jupyter/data/fairseq/anki/deu-eng.zip\n",
      "  inflating: /home/jupyter/data/fairseq/anki/deu.txt  \n",
      "  inflating: /home/jupyter/data/fairseq/anki/_about.txt  \n",
      "--2020-05-30 00:39:43--  http://www.manythings.org/anki/fra-eng.zip\n",
      "Resolving www.manythings.org (www.manythings.org)... 172.67.173.198, 104.24.109.196, 104.24.108.196, ...\n",
      "Connecting to www.manythings.org (www.manythings.org)|172.67.173.198|:80... connected.\n",
      "HTTP request sent, awaiting response... 200 OK\n",
      "Length: 5982778 (5.7M) [application/zip]\n",
      "Saving to: ‘/home/jupyter/data/fairseq/anki/fra-eng.zip’\n",
      "\n",
      "fra-eng.zip         100%[===================>]   5.71M  13.6MB/s    in 0.4s    \n",
      "\n",
      "2020-05-30 00:39:44 (13.6 MB/s) - ‘/home/jupyter/data/fairseq/anki/fra-eng.zip’ saved [5982778/5982778]\n",
      "\n",
      "Archive:  /home/jupyter/data/fairseq/anki/fra-eng.zip\n",
      "  inflating: /home/jupyter/data/fairseq/anki/_about.txt  \n",
      "  inflating: /home/jupyter/data/fairseq/anki/fra.txt  \n"
     ]
    }
   ],
   "source": [
    "! chmod +x anki.sh\n",
    "! ./anki.sh de,en deu-eng $outpath anki.py\n",
    "! ./anki.sh en,fr fra-eng $outpath anki.py"
   ]
  },
  {
   "cell_type": "code",
   "execution_count": 11,
   "metadata": {},
   "outputs": [
    {
     "name": "stdout",
     "output_type": "stream",
     "text": [
      "/home/jupyter\n"
     ]
    }
   ],
   "source": [
    "%cd /home/jupyter"
   ]
  },
  {
   "cell_type": "code",
   "execution_count": 12,
   "metadata": {},
   "outputs": [
    {
     "name": "stdout",
     "output_type": "stream",
     "text": [
      "Cloning into 'fairseq'...\n",
      "remote: Enumerating objects: 61, done.\u001b[K\n",
      "remote: Counting objects: 100% (61/61), done.\u001b[K\n",
      "remote: Compressing objects: 100% (49/49), done.\u001b[K\n",
      "remote: Total 16321 (delta 26), reused 25 (delta 11), pack-reused 16260\u001b[K\n",
      "Receiving objects: 100% (16321/16321), 7.61 MiB | 0 bytes/s, done.\n",
      "Resolving deltas: 100% (11965/11965), done.\n"
     ]
    }
   ],
   "source": [
    "! git clone https://github.com/pytorch/fairseq"
   ]
  },
  {
   "cell_type": "code",
   "execution_count": null,
   "metadata": {},
   "outputs": [],
   "source": [
    "! wget "
   ]
  },
  {
   "cell_type": "code",
   "execution_count": 15,
   "metadata": {},
   "outputs": [
    {
     "ename": "SyntaxError",
     "evalue": "invalid syntax (<ipython-input-15-c3c79257f496>, line 1)",
     "output_type": "error",
     "traceback": [
      "\u001b[0;36m  File \u001b[0;32m\"<ipython-input-15-c3c79257f496>\"\u001b[0;36m, line \u001b[0;32m1\u001b[0m\n\u001b[0;31m    wget -c https://download.pytorch.org/models/transformer_lm.wmt19.en -P fairseg\u001b[0m\n\u001b[0m                ^\u001b[0m\n\u001b[0;31mSyntaxError\u001b[0m\u001b[0;31m:\u001b[0m invalid syntax\n"
     ]
    }
   ],
   "source": [
    "wget -c https://download.pytorch.org/models/transformer_lm.wmt19.en -P fairseg "
   ]
  },
  {
   "cell_type": "code",
   "execution_count": null,
   "metadata": {},
   "outputs": [],
   "source": []
  }
 ],
 "metadata": {
  "environment": {
   "name": "pytorch-gpu.1-4.m46",
   "type": "gcloud",
   "uri": "gcr.io/deeplearning-platform-release/pytorch-gpu.1-4:m46"
  },
  "kernelspec": {
   "display_name": "Python 3",
   "language": "python",
   "name": "python3"
  },
  "language_info": {
   "codemirror_mode": {
    "name": "ipython",
    "version": 3
   },
   "file_extension": ".py",
   "mimetype": "text/x-python",
   "name": "python",
   "nbconvert_exporter": "python",
   "pygments_lexer": "ipython3",
   "version": "3.7.6"
  }
 },
 "nbformat": 4,
 "nbformat_minor": 4
}
