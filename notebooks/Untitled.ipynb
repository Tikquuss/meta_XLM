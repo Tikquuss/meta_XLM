{
 "cells": [
  {
   "cell_type": "code",
   "execution_count": 1,
   "metadata": {},
   "outputs": [
    {
     "name": "stdout",
     "output_type": "stream",
     "text": [
      "/home/jupyter/meta_XLM\n"
     ]
    }
   ],
   "source": [
    "%cd /home/jupyter/meta_XLM"
   ]
  },
  {
   "cell_type": "code",
   "execution_count": null,
   "metadata": {},
   "outputs": [],
   "source": []
  },
  {
   "cell_type": "code",
   "execution_count": 2,
   "metadata": {},
   "outputs": [
    {
     "name": "stdout",
     "output_type": "stream",
     "text": [
      "env: outpath=/home/jupyter/data/fairseq/anki\n"
     ]
    }
   ],
   "source": [
    "%env outpath=/home/jupyter/data/fairseq/anki"
   ]
  },
  {
   "cell_type": "code",
   "execution_count": 10,
   "metadata": {},
   "outputs": [
    {
     "name": "stdout",
     "output_type": "stream",
     "text": [
      "--2020-05-30 00:39:40--  http://www.manythings.org/anki/deu-eng.zip\n",
      "Resolving www.manythings.org (www.manythings.org)... 104.24.108.196, 172.67.173.198, 104.24.109.196, ...\n",
      "Connecting to www.manythings.org (www.manythings.org)|104.24.108.196|:80... connected.\n",
      "HTTP request sent, awaiting response... 200 OK\n",
      "Length: 7876575 (7.5M) [application/zip]\n",
      "Saving to: ‘/home/jupyter/data/fairseq/anki/deu-eng.zip’\n",
      "\n",
      "deu-eng.zip         100%[===================>]   7.51M  15.9MB/s    in 0.5s    \n",
      "\n",
      "2020-05-30 00:39:40 (15.9 MB/s) - ‘/home/jupyter/data/fairseq/anki/deu-eng.zip’ saved [7876575/7876575]\n",
      "\n",
      "Archive:  /home/jupyter/data/fairseq/anki/deu-eng.zip\n",
      "  inflating: /home/jupyter/data/fairseq/anki/deu.txt  \n",
      "  inflating: /home/jupyter/data/fairseq/anki/_about.txt  \n",
      "--2020-05-30 00:39:43--  http://www.manythings.org/anki/fra-eng.zip\n",
      "Resolving www.manythings.org (www.manythings.org)... 172.67.173.198, 104.24.109.196, 104.24.108.196, ...\n",
      "Connecting to www.manythings.org (www.manythings.org)|172.67.173.198|:80... connected.\n",
      "HTTP request sent, awaiting response... 200 OK\n",
      "Length: 5982778 (5.7M) [application/zip]\n",
      "Saving to: ‘/home/jupyter/data/fairseq/anki/fra-eng.zip’\n",
      "\n",
      "fra-eng.zip         100%[===================>]   5.71M  13.6MB/s    in 0.4s    \n",
      "\n",
      "2020-05-30 00:39:44 (13.6 MB/s) - ‘/home/jupyter/data/fairseq/anki/fra-eng.zip’ saved [5982778/5982778]\n",
      "\n",
      "Archive:  /home/jupyter/data/fairseq/anki/fra-eng.zip\n",
      "  inflating: /home/jupyter/data/fairseq/anki/_about.txt  \n",
      "  inflating: /home/jupyter/data/fairseq/anki/fra.txt  \n"
     ]
    }
   ],
   "source": [
    "! chmod +x anki.sh\n",
    "! ./anki.sh de,en deu-eng $outpath anki.py\n",
    "! ./anki.sh en,fr fra-eng $outpath anki.py"
   ]
  },
  {
   "cell_type": "code",
   "execution_count": 3,
   "metadata": {},
   "outputs": [
    {
     "name": "stdout",
     "output_type": "stream",
     "text": [
      "--2020-05-31 09:47:22--  http://www.manythings.org/anki/jpn-eng.zip\n",
      "Resolving www.manythings.org (www.manythings.org)... 172.67.173.198, 104.24.109.196, 104.24.108.196, ...\n",
      "Connecting to www.manythings.org (www.manythings.org)|172.67.173.198|:80... connected.\n",
      "HTTP request sent, awaiting response... 200 OK\n",
      "Length: 2127866 (2.0M) [application/zip]\n",
      "Saving to: ‘/home/jupyter/data/fairseq/anki/jpn-eng.zip’\n",
      "\n",
      "jpn-eng.zip         100%[===================>]   2.03M  6.17MB/s    in 0.3s    \n",
      "\n",
      "2020-05-31 09:47:23 (6.17 MB/s) - ‘/home/jupyter/data/fairseq/anki/jpn-eng.zip’ saved [2127866/2127866]\n",
      "\n",
      "Archive:  /home/jupyter/data/fairseq/anki/jpn-eng.zip\n",
      "  inflating: /home/jupyter/data/fairseq/anki/jpn.txt  \n",
      "  inflating: /home/jupyter/data/fairseq/anki/_about.txt  \n",
      "--2020-05-31 09:47:23--  http://www.manythings.org/anki/spa-eng.zip\n",
      "Resolving www.manythings.org (www.manythings.org)... 104.24.109.196, 104.24.108.196, 172.67.173.198, ...\n",
      "Connecting to www.manythings.org (www.manythings.org)|104.24.109.196|:80... connected.\n",
      "HTTP request sent, awaiting response... 200 OK\n",
      "Length: 4781548 (4.6M) [application/zip]\n",
      "Saving to: ‘/home/jupyter/data/fairseq/anki/spa-eng.zip’\n",
      "\n",
      "spa-eng.zip         100%[===================>]   4.56M  11.9MB/s    in 0.4s    \n",
      "\n",
      "2020-05-31 09:47:24 (11.9 MB/s) - ‘/home/jupyter/data/fairseq/anki/spa-eng.zip’ saved [4781548/4781548]\n",
      "\n",
      "Archive:  /home/jupyter/data/fairseq/anki/spa-eng.zip\n",
      "  inflating: /home/jupyter/data/fairseq/anki/_about.txt  \n",
      "  inflating: /home/jupyter/data/fairseq/anki/spa.txt  \n",
      "--2020-05-31 09:47:25--  http://www.manythings.org/anki/rom-eng.zip\n",
      "Resolving www.manythings.org (www.manythings.org)... 104.24.108.196, 104.24.109.196, 172.67.173.198, ...\n",
      "Connecting to www.manythings.org (www.manythings.org)|104.24.108.196|:80... connected.\n",
      "HTTP request sent, awaiting response... 200 OK\n",
      "Length: 15865 (15K) [application/zip]\n",
      "Saving to: ‘/home/jupyter/data/fairseq/anki/rom-eng.zip’\n",
      "\n",
      "rom-eng.zip         100%[===================>]  15.49K  --.-KB/s    in 0.05s   \n",
      "\n",
      "2020-05-31 09:47:26 (337 KB/s) - ‘/home/jupyter/data/fairseq/anki/rom-eng.zip’ saved [15865/15865]\n",
      "\n",
      "Archive:  /home/jupyter/data/fairseq/anki/rom-eng.zip\n",
      "  inflating: /home/jupyter/data/fairseq/anki/rom.txt  \n",
      "  inflating: /home/jupyter/data/fairseq/anki/_about.txt  \n"
     ]
    }
   ],
   "source": [
    "! chmod +x anki.sh\n",
    "\n",
    "! ./anki.sh en,jp jpn-eng $outpath anki.py\n",
    "! ./anki.sh en,es spa-eng $outpath anki.py\n",
    "! ./anki.sh en,ro rom-eng $outpath anki.py"
   ]
  },
  {
   "cell_type": "code",
   "execution_count": 11,
   "metadata": {},
   "outputs": [
    {
     "name": "stdout",
     "output_type": "stream",
     "text": [
      "/home/jupyter\n"
     ]
    }
   ],
   "source": [
    "%cd /home/jupyter"
   ]
  },
  {
   "cell_type": "code",
   "execution_count": 12,
   "metadata": {},
   "outputs": [
    {
     "name": "stdout",
     "output_type": "stream",
     "text": [
      "Cloning into 'fairseq'...\n",
      "remote: Enumerating objects: 61, done.\u001b[K\n",
      "remote: Counting objects: 100% (61/61), done.\u001b[K\n",
      "remote: Compressing objects: 100% (49/49), done.\u001b[K\n",
      "remote: Total 16321 (delta 26), reused 25 (delta 11), pack-reused 16260\u001b[K\n",
      "Receiving objects: 100% (16321/16321), 7.61 MiB | 0 bytes/s, done.\n",
      "Resolving deltas: 100% (11965/11965), done.\n"
     ]
    }
   ],
   "source": [
    "! git clone https://github.com/pytorch/fairseq"
   ]
  },
  {
   "cell_type": "code",
   "execution_count": null,
   "metadata": {},
   "outputs": [],
   "source": [
    "! wget "
   ]
  },
  {
   "cell_type": "code",
   "execution_count": 15,
   "metadata": {},
   "outputs": [
    {
     "ename": "SyntaxError",
     "evalue": "invalid syntax (<ipython-input-15-c3c79257f496>, line 1)",
     "output_type": "error",
     "traceback": [
      "\u001b[0;36m  File \u001b[0;32m\"<ipython-input-15-c3c79257f496>\"\u001b[0;36m, line \u001b[0;32m1\u001b[0m\n\u001b[0;31m    wget -c https://download.pytorch.org/models/transformer_lm.wmt19.en -P fairseg\u001b[0m\n\u001b[0m                ^\u001b[0m\n\u001b[0;31mSyntaxError\u001b[0m\u001b[0;31m:\u001b[0m invalid syntax\n"
     ]
    }
   ],
   "source": [
    "wget -c https://download.pytorch.org/models/transformer_lm.wmt19.en -P fairseq"
   ]
  },
  {
   "cell_type": "code",
   "execution_count": null,
   "metadata": {},
   "outputs": [],
   "source": []
  },
  {
   "cell_type": "code",
   "execution_count": null,
   "metadata": {},
   "outputs": [],
   "source": []
  },
  {
   "cell_type": "code",
   "execution_count": 4,
   "metadata": {},
   "outputs": [
    {
     "name": "stdout",
     "output_type": "stream",
     "text": [
      "/home/jupyter/fairseq\n"
     ]
    }
   ],
   "source": [
    "%cd /home/jupyter/fairseq"
   ]
  },
  {
   "cell_type": "code",
   "execution_count": 5,
   "metadata": {},
   "outputs": [
    {
     "name": "stdout",
     "output_type": "stream",
     "text": [
      "env: modelpath=/home/jupyter/test/wmt19.en\n",
      "env: destdir=/home/jupyter/fairseq/good\n"
     ]
    }
   ],
   "source": [
    "%env modelpath=/home/jupyter/test/wmt19.en\n",
    "%env destdir=/home/jupyter/fairseq/good"
   ]
  },
  {
   "cell_type": "code",
   "execution_count": 8,
   "metadata": {},
   "outputs": [
    {
     "name": "stdout",
     "output_type": "stream",
     "text": [
      "env: data=/home/jupyter/data/fairseq/anki/de-en.de.txt\n"
     ]
    }
   ],
   "source": [
    "%env data=/home/jupyter/data/fairseq/anki/de-en.de.txt"
   ]
  },
  {
   "cell_type": "code",
   "execution_count": 9,
   "metadata": {},
   "outputs": [
    {
     "name": "stdout",
     "output_type": "stream",
     "text": [
      "env: TEXT=examples/language_model/wikitext-103\n",
      "2020-05-31 11:59:35 | INFO | fairseq_cli.preprocess | Namespace(align_suffix=None, alignfile=None, all_gather_list_size=16384, bf16=False, bpe=None, checkpoint_suffix='', cpu=False, criterion='cross_entropy', dataset_impl='mmap', destdir='/home/jupyter/fairseq/good', empty_cache_freq=0, fp16=False, fp16_init_scale=128, fp16_no_flatten_grads=False, fp16_scale_tolerance=0.0, fp16_scale_window=None, joined_dictionary=True, log_format=None, log_interval=100, lr_scheduler='fixed', memory_efficient_bf16=False, memory_efficient_fp16=False, min_loss_scale=0.0001, model_parallel_size=1, no_progress_bar=False, nwordssrc=-1, nwordstgt=-1, only_source=True, optimizer='nag', padding_factor=8, quantization_config_path=None, seed=1, source_lang=None, srcdict='/home/jupyter/test/wmt19.en/dict.txt', target_lang=None, task='translation', tensorboard_logdir='', testpref='/home/jupyter/data/fairseq/anki/de-en.de.txt', tgtdict=None, threshold_loss_scale=None, thresholdsrc=0, thresholdtgt=0, tokenizer=None, tpu=False, trainpref='/home/jupyter/data/fairseq/anki/de-en.de.txt', user_dir=None, validpref='/home/jupyter/data/fairseq/anki/de-en.de.txt', workers=20)\n",
      "2020-05-31 11:59:35 | INFO | fairseq_cli.preprocess | [None] Dictionary: 42021 types\n",
      "2020-05-31 11:59:40 | INFO | fairseq_cli.preprocess | [None] /home/jupyter/data/fairseq/anki/de-en.de.txt: 208486 sents, 1543148 tokens, 24.9% replaced by <unk>\n",
      "2020-05-31 11:59:40 | INFO | fairseq_cli.preprocess | [None] Dictionary: 42021 types\n",
      "2020-05-31 11:59:46 | INFO | fairseq_cli.preprocess | [None] /home/jupyter/data/fairseq/anki/de-en.de.txt: 208486 sents, 1543148 tokens, 24.9% replaced by <unk>\n",
      "2020-05-31 11:59:46 | INFO | fairseq_cli.preprocess | [None] Dictionary: 42021 types\n",
      "2020-05-31 11:59:52 | INFO | fairseq_cli.preprocess | [None] /home/jupyter/data/fairseq/anki/de-en.de.txt: 208486 sents, 1543148 tokens, 24.9% replaced by <unk>\n",
      "2020-05-31 11:59:52 | INFO | fairseq_cli.preprocess | Wrote preprocessed data to /home/jupyter/fairseq/good\n"
     ]
    }
   ],
   "source": [
    "%env TEXT=examples/language_model/wikitext-103\n",
    "! fairseq-preprocess --only-source --trainpref $data --validpref $data --testpref $data --destdir $destdir --workers 20 --joined-dictionary --srcdict $modelpath/dict.txt"
   ]
  },
  {
   "cell_type": "code",
   "execution_count": 10,
   "metadata": {},
   "outputs": [
    {
     "name": "stdout",
     "output_type": "stream",
     "text": [
      "2020-05-31 12:00:50 | INFO | fairseq_cli.eval_lm | Namespace(add_bos_token=False, all_gather_list_size=16384, bf16=False, bpe=None, broadcast_buffers=False, bucket_cap_mb=25, checkpoint_suffix='', context_window=400, cpu=False, criterion='cross_entropy', data='/home/jupyter/fairseq/good', data_buffer_size=10, dataset_impl=None, ddp_backend='c10d', device_id=0, distributed_backend='nccl', distributed_init_method=None, distributed_no_spawn=False, distributed_port=-1, distributed_rank=0, distributed_world_size=1, distributed_wrapper='DDP', empty_cache_freq=0, fast_stat_sync=False, find_unused_parameters=False, fix_batches_to_gpus=False, force_anneal=None, fp16=False, fp16_init_scale=128, fp16_no_flatten_grads=False, fp16_scale_tolerance=0.0, fp16_scale_window=None, future_target=False, gen_subset='test', localsgd_frequency=3, log_format=None, log_interval=100, lr_scheduler='fixed', lr_shrink=0.1, max_sentences=2, max_target_positions=None, max_tokens=None, memory_efficient_bf16=False, memory_efficient_fp16=False, min_loss_scale=0.0001, model_overrides='{}', model_parallel_size=1, momentum=0.99, no_progress_bar=False, nprocs_per_node=1, num_shards=1, num_workers=1, optimizer='nag', output_dictionary_size=-1, output_word_probs=False, output_word_stats=False, past_target=False, path='/home/jupyter/test/wmt19.en/model.pt', quantization_config_path=None, quiet=False, remove_bpe=None, required_batch_size_multiple=8, results_path=None, sample_break_mode='none', seed=1, self_target=False, shard_id=0, skip_invalid_size_inputs_valid_test=False, slowmo_algorithm='LocalSGD', slowmo_momentum=None, softmax_batch=9223372036854775807, task='language_modeling', tensorboard_logdir='', threshold_loss_scale=None, tokenizer=None, tokens_per_sample=512, tpu=False, truncate_sequence=False, user_dir=None, warmup_updates=0, weight_decay=0.0)\n",
      "2020-05-31 12:00:50 | INFO | fairseq.tasks.language_modeling | dictionary: 42022 types\n",
      "2020-05-31 12:00:50 | INFO | fairseq_cli.eval_lm | loading model(s) from /home/jupyter/test/wmt19.en/model.pt\n",
      "2020-05-31 12:00:59 | INFO | fairseq.tasks.language_modeling | dictionary: 42022 types\n",
      "2020-05-31 12:00:59 | INFO | fairseq.data.data_utils | loaded 208486 examples from: /home/jupyter/fairseq/good/test\n",
      "2020-05-31 12:00:59 | INFO | fairseq_cli.eval_lm | /home/jupyter/fairseq/good test 13779 examples\n",
      "2020-05-31 12:01:03 | INFO | fairseq_cli.eval_lm | num. model params: 655837184\n",
      "100%|██████████████████████████████| 6890/6890 [44:59<00:00,  3.00it/s, wps=572]2020-05-31 12:46:02 | INFO | fairseq.data.iterators | Data loading buffer is empty or nearly empty. This may indicate a data loading bottleneck, and increasing the number of workers (--num-workers) may help.\n",
      "2020-05-31 12:46:02 | INFO | fairseq_cli.eval_lm | Evaluated 1543148 tokens in 2692.0s (573.23 tokens/s)\n",
      "2020-05-31 12:46:02 | INFO | fairseq_cli.eval_lm | Loss (base 2): 10.4078, Perplexity: 1358.47\n"
     ]
    }
   ],
   "source": [
    "! fairseq-eval-lm $destdir --path $modelpath/model.pt --max-sentences 2 --tokens-per-sample 512 --context-window 400"
   ]
  },
  {
   "cell_type": "code",
   "execution_count": null,
   "metadata": {},
   "outputs": [],
   "source": []
  },
  {
   "cell_type": "code",
   "execution_count": 11,
   "metadata": {},
   "outputs": [
    {
     "name": "stdout",
     "output_type": "stream",
     "text": [
      "env: TEXT=examples/language_model/wikitext-103\n",
      "2020-05-31 12:47:13 | INFO | fairseq_cli.preprocess | Namespace(align_suffix=None, alignfile=None, all_gather_list_size=16384, bf16=False, bpe=None, checkpoint_suffix='', cpu=False, criterion='cross_entropy', dataset_impl='mmap', destdir='/home/jupyter/fairseq/good', empty_cache_freq=0, fp16=False, fp16_init_scale=128, fp16_no_flatten_grads=False, fp16_scale_tolerance=0.0, fp16_scale_window=None, joined_dictionary=True, log_format=None, log_interval=100, lr_scheduler='fixed', memory_efficient_bf16=False, memory_efficient_fp16=False, min_loss_scale=0.0001, model_parallel_size=1, no_progress_bar=False, nwordssrc=-1, nwordstgt=-1, only_source=True, optimizer='nag', padding_factor=8, quantization_config_path=None, seed=1, source_lang=None, srcdict='/home/jupyter/test/wmt19.en/dict.txt', target_lang=None, task='translation', tensorboard_logdir='', testpref='/home/jupyter/data/fairseq/anki/de-en.de.txt', tgtdict=None, threshold_loss_scale=None, thresholdsrc=0, thresholdtgt=0, tokenizer=None, tpu=False, trainpref=None, user_dir=None, validpref=None, workers=20)\n",
      "2020-05-31 12:47:14 | INFO | fairseq_cli.preprocess | [None] Dictionary: 42021 types\n",
      "2020-05-31 12:47:19 | INFO | fairseq_cli.preprocess | [None] /home/jupyter/data/fairseq/anki/de-en.de.txt: 208486 sents, 1543148 tokens, 24.9% replaced by <unk>\n",
      "2020-05-31 12:47:19 | INFO | fairseq_cli.preprocess | Wrote preprocessed data to /home/jupyter/fairseq/good\n"
     ]
    }
   ],
   "source": [
    "%env TEXT=examples/language_model/wikitext-103\n",
    "! fairseq-preprocess --only-source --testpref $data --destdir $destdir --workers 20 --joined-dictionary --srcdict $modelpath/dict.txt"
   ]
  },
  {
   "cell_type": "code",
   "execution_count": 14,
   "metadata": {},
   "outputs": [
    {
     "name": "stdout",
     "output_type": "stream",
     "text": [
      "2020-05-31 12:54:58 | INFO | fairseq_cli.eval_lm | Namespace(add_bos_token=False, all_gather_list_size=16384, bf16=False, bpe=None, broadcast_buffers=False, bucket_cap_mb=25, checkpoint_suffix='', context_window=400, cpu=False, criterion='cross_entropy', data='/home/jupyter/fairseq/good', data_buffer_size=10, dataset_impl=None, ddp_backend='c10d', device_id=0, distributed_backend='nccl', distributed_init_method=None, distributed_no_spawn=False, distributed_port=-1, distributed_rank=0, distributed_world_size=1, distributed_wrapper='DDP', empty_cache_freq=0, fast_stat_sync=False, find_unused_parameters=False, fix_batches_to_gpus=False, force_anneal=None, fp16=False, fp16_init_scale=128, fp16_no_flatten_grads=False, fp16_scale_tolerance=0.0, fp16_scale_window=None, future_target=False, gen_subset='test', localsgd_frequency=3, log_format=None, log_interval=100, lr_scheduler='fixed', lr_shrink=0.1, max_sentences=2, max_target_positions=None, max_tokens=None, memory_efficient_bf16=False, memory_efficient_fp16=False, min_loss_scale=0.0001, model_overrides='{}', model_parallel_size=1, momentum=0.99, no_progress_bar=False, nprocs_per_node=1, num_shards=1, num_workers=1, optimizer='nag', output_dictionary_size=-1, output_word_probs=False, output_word_stats=False, past_target=False, path='/home/jupyter/test/wmt19.en/model.pt', quantization_config_path=None, quiet=False, remove_bpe=None, required_batch_size_multiple=8, results_path=None, sample_break_mode='none', seed=1, self_target=False, shard_id=0, skip_invalid_size_inputs_valid_test=False, slowmo_algorithm='LocalSGD', slowmo_momentum=None, softmax_batch=9223372036854775807, task='language_modeling', tensorboard_logdir='', threshold_loss_scale=None, tokenizer=None, tokens_per_sample=512, tpu=False, truncate_sequence=False, user_dir=None, warmup_updates=0, weight_decay=0.0)\n",
      "2020-05-31 12:54:58 | INFO | fairseq.tasks.language_modeling | dictionary: 42022 types\n",
      "2020-05-31 12:54:58 | INFO | fairseq_cli.eval_lm | loading model(s) from /home/jupyter/test/wmt19.en/model.pt\n",
      "2020-05-31 12:55:06 | INFO | fairseq.tasks.language_modeling | dictionary: 42022 types\n",
      "2020-05-31 12:55:06 | INFO | fairseq.data.data_utils | loaded 208486 examples from: /home/jupyter/fairseq/good/test\n",
      "2020-05-31 12:55:06 | INFO | fairseq_cli.eval_lm | /home/jupyter/fairseq/good test 13779 examples\n",
      "2020-05-31 12:55:10 | INFO | fairseq_cli.eval_lm | num. model params: 655837184\n",
      "  0%|                                 | 8/6890 [00:03<45:12,  2.54it/s, wps=542]^C\n"
     ]
    }
   ],
   "source": [
    "! fairseq-eval-lm $destdir --path $modelpath/model.pt --max-sentences 2 --tokens-per-sample 512 --context-window 400"
   ]
  },
  {
   "cell_type": "code",
   "execution_count": null,
   "metadata": {},
   "outputs": [],
   "source": []
  }
 ],
 "metadata": {
  "environment": {
   "name": "pytorch-gpu.1-4.m46",
   "type": "gcloud",
   "uri": "gcr.io/deeplearning-platform-release/pytorch-gpu.1-4:m46"
  },
  "kernelspec": {
   "display_name": "Python 3",
   "language": "python",
   "name": "python3"
  },
  "language_info": {
   "codemirror_mode": {
    "name": "ipython",
    "version": 3
   },
   "file_extension": ".py",
   "mimetype": "text/x-python",
   "name": "python",
   "nbconvert_exporter": "python",
   "pygments_lexer": "ipython3",
   "version": "3.7.6"
  }
 },
 "nbformat": 4,
 "nbformat_minor": 4
}
