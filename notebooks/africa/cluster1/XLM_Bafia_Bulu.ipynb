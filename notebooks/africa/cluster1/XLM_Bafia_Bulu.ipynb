{
 "cells": [
  {
   "cell_type": "markdown",
   "metadata": {
    "colab_type": "text",
    "id": "CbnXTTGkf90V"
   },
   "source": []
  },
  {
   "cell_type": "code",
   "execution_count": 1,
   "metadata": {},
   "outputs": [
    {
     "name": "stdout",
     "output_type": "stream",
     "text": [
      "(bookmark:HOME) -> /home/jupyter/meta_XLM/XLM\n",
      "/home/jupyter/meta_XLM/XLM\n"
     ]
    }
   ],
   "source": [
    "%bookmark HOME \"/home/jupyter/meta_XLM/XLM\" \n",
    "%cd -b HOME"
   ]
  },
  {
   "cell_type": "code",
   "execution_count": 12,
   "metadata": {
    "colab": {
     "base_uri": "https://localhost:8080/",
     "height": 221
    },
    "colab_type": "code",
    "executionInfo": {
     "elapsed": 6584,
     "status": "ok",
     "timestamp": 1589794300789,
     "user": {
      "displayName": "Pascal Tikeng",
      "photoUrl": "",
      "userId": "15074930698580545771"
     },
     "user_tz": -120
    },
    "id": "qnaDtJ76f8zt",
    "outputId": "e3026f4d-ef37-4808-80d3-d92916228114"
   },
   "outputs": [
    {
     "name": "stdout",
     "output_type": "stream",
     "text": [
      "env: csv_path=/home/jupyter\n",
      "env: output_dir=/home/jupyter/data\n",
      "env: data_type=para\n",
      "env: languages=Bafia,Bulu\n",
      "Bafia - Bulu\n",
      "======= Read 7950 totals samples\n",
      "======= Delete 4 samples\n",
      "======= Save 7946 samples\n",
      "Bulu\n",
      "======= Read 31297 totals samples\n",
      "======= Delete 2402 samples\n",
      "======= Save 28895 samples\n"
     ]
    }
   ],
   "source": [
    "%env csv_path=/home/jupyter\n",
    "%env output_dir=/home/jupyter/data\n",
    "%env data_type=para\n",
    "%env languages=Bafia,Bulu\n",
    "! python ../bible.py --csv_path $csv_path --output_dir $output_dir --data_type $data_type --languages $languages"
   ]
  },
  {
   "cell_type": "code",
   "execution_count": 20,
   "metadata": {
    "colab": {
     "base_uri": "https://localhost:8080/",
     "height": 289
    },
    "colab_type": "code",
    "executionInfo": {
     "elapsed": 10391,
     "status": "ok",
     "timestamp": 1589794429482,
     "user": {
      "displayName": "Pascal Tikeng",
      "photoUrl": "",
      "userId": "15074930698580545771"
     },
     "user_tz": -120
    },
    "id": "M0IN3i6npWRn",
    "outputId": "48dd5e9a-6697-4904-b327-f4e470c78dc7"
   },
   "outputs": [
    {
     "name": "stdout",
     "output_type": "stream",
     "text": [
      "env: PARA=True\n",
      "env: MONO=True\n",
      "env: PARA_PATH=/home/jupyter/data/Bafia-Bulu\n",
      "env: MONO_PATH=\"\"\n",
      "env: SAME_VOCAB=True\n",
      "env: nCodes=10000\n",
      "env: shuf_n_samples=1000000\n",
      "env: threads_for_tokenizer=16\n",
      "env: test_size=10\n",
      "env: val_size=10\n",
      "env: TOKENIZE=tools/tokenizer_our.sh\n",
      "env: LOWER_REMOVE_ACCENT=tools/lowercase_and_remove_accent.py\n",
      "env: FASTBPE=tools/fastBPE/fast\n",
      "env: OUTPATH=/home/jupyter/models/africa/cluster1/data/Bafia_Bulu/processed\n",
      "env: n_samples=-1\n",
      "env: sub_task=Bafia-Bulu:-1\n"
     ]
    }
   ],
   "source": [
    "%env PARA=True          \n",
    "%env MONO=True       \n",
    "                   \n",
    "%env PARA_PATH=/home/jupyter/data/Bafia-Bulu        \n",
    "%env MONO_PATH=\"\"  \n",
    "%env SAME_VOCAB=True    \n",
    "%env nCodes=10000             \n",
    "%env shuf_n_samples=1000000   \n",
    "%env threads_for_tokenizer=16 \n",
    "%env test_size=10             \n",
    "%env val_size=10              \n",
    "\n",
    "# tools paths\n",
    "%env TOKENIZE=tools/tokenizer_our.sh\n",
    "%env LOWER_REMOVE_ACCENT=tools/lowercase_and_remove_accent.py\n",
    "%env FASTBPE=tools/fastBPE/fast\n",
    "\n",
    "\n",
    "%env OUTPATH=/home/jupyter/models/africa/cluster1/data/Bafia_Bulu/processed\n",
    "# create output path\n",
    "! mkdir -p $OUTPATH\n",
    "\n",
    "! chmod +x $FASTBPE\n",
    "! chmod +x ../build_meta_data_monoxlm.sh\n",
    "! chmod +x tools/mosesdecoder/scripts/tokenizer/*.perl\n",
    "\n",
    "%env n_samples=-1\n",
    "\n",
    "%env sub_task=Bafia-Bulu:-1"
   ]
  },
  {
   "cell_type": "code",
   "execution_count": 16,
   "metadata": {
    "colab": {
     "base_uri": "https://localhost:8080/",
     "height": 1000
    },
    "colab_type": "code",
    "executionInfo": {
     "elapsed": 88374,
     "status": "ok",
     "timestamp": 1589794557337,
     "user": {
      "displayName": "Pascal Tikeng",
      "photoUrl": "",
      "userId": "15074930698580545771"
     },
     "user_tz": -120
    },
    "id": "1iLoHBXQvwna",
    "outputId": "bf45512c-8058-42c8-9f2e-ccd6ec38d11e"
   },
   "outputs": [
    {
     "name": "stdout",
     "output_type": "stream",
     "text": [
      "env: add_para_data_to_mono_data=False\n",
      "dir /home/jupyter/models/africa/cluster1/data/Bafi/processed/fine_tune already exists\n",
      "params ok !\n",
      "*** Cleaning and tokenizing Bafia-Bulu data ... ***\n",
      "Tokenizer Version 1.1\n",
      "Language: Bafia\n",
      "Number of threads: 8\n",
      "WARNING: No known abbreviations for language 'Bafia', attempting fall-back to English version...\n",
      "*** Tokenized (+ lowercase + accent-removal) Bafia-Bulu.Bafia data to /home/jupyter/data/Bafia-Bulu/? ***\n",
      "Tokenizer Version 1.1\n",
      "Language: Bulu\n",
      "Number of threads: 8\n",
      "WARNING: No known abbreviations for language 'Bulu', attempting fall-back to English version...\n",
      "*** Tokenized (+ lowercase + accent-removal) Bafia-Bulu.Bulu data to /home/jupyter/data/Bafia-Bulu/? ***\n",
      "\n",
      "\n",
      "*** split into train / valid / test ***\n",
      "shuf: write error: Broken pipe\n",
      "shuf: write error\n",
      "shuf: write error: Broken pipe\n",
      "shuf: write error\n",
      "shuf: write error: Broken pipe\n",
      "shuf: write error\n",
      "shuf: write error: Broken pipe\n",
      "shuf: write error\n",
      "\n",
      "\n",
      "\n",
      "***build the training set for BPE tokenization (10000 codes)***\n",
      "\n",
      "\n",
      "***shuf ... Generating 1000000 random permutations of training data and store result in /home/jupyter/models/africa/cluster1/data/Bafi/processed/Bafia-Bulu/bpe.train***\n",
      "\n",
      "\n",
      "***Learn the BPE vocabulary on the training set : /home/jupyter/models/africa/cluster1/data/Bafi/processed/bpe.train ...***\n",
      "Loading vocabulary from /home/jupyter/models/africa/cluster1/data/Bafi/processed/bpe.train ...\n",
      "Read 71300809 words (9347 unique) from text file.\n",
      "***Learn 10000 BPE code on the bpe.train file***\n",
      "\n",
      "\n",
      "***Get the post-BPE vocab***\n",
      "Loading codes from /home/jupyter/models/africa/cluster1/data/Bafi/processed/codes ...\n",
      "Read 10000 codes from the codes file.\n",
      "Loading vocabulary from /home/jupyter/models/africa/cluster1/data/Bafi/processed/bpe.train ...\n",
      "Read 71300809 words (9347 unique) from text file.\n",
      "Applying BPE to /home/jupyter/models/africa/cluster1/data/Bafi/processed/bpe.train ...\n",
      "Modified 71300809 words from text file.\n",
      "Read 71560940 words (8669 unique) from text file.\n",
      "\n",
      "\n",
      "***Apply BPE tokenization on the corpora.***\n",
      "Loading codes from /home/jupyter/models/africa/cluster1/data/Bafi/processed/codes ...\n",
      "Read 10000 codes from the codes file.\n",
      "Loading vocabulary from /home/jupyter/data/Bafia-Bulu/Bafia-Bulu.Bafia.train ...\n",
      "Read 273575 words (4738 unique) from text file.\n",
      "Applying BPE to /home/jupyter/data/Bafia-Bulu/Bafia-Bulu.Bafia.train ...\n",
      "Modified 273575 words from text file.\n",
      "Loading codes from /home/jupyter/models/africa/cluster1/data/Bafi/processed/codes ...\n",
      "Read 10000 codes from the codes file.\n",
      "Loading vocabulary from /home/jupyter/data/Bafia-Bulu/Bafia-Bulu.Bafia.valid ...\n",
      "Read 34193 words (1929 unique) from text file.\n",
      "Applying BPE to /home/jupyter/data/Bafia-Bulu/Bafia-Bulu.Bafia.valid ...\n",
      "Modified 34193 words from text file.\n",
      "Loading codes from /home/jupyter/models/africa/cluster1/data/Bafi/processed/codes ...\n",
      "Read 10000 codes from the codes file.\n",
      "Loading vocabulary from /home/jupyter/data/Bafia-Bulu/Bafia-Bulu.Bafia.test ...\n",
      "Read 34625 words (1959 unique) from text file.\n",
      "Applying BPE to /home/jupyter/data/Bafia-Bulu/Bafia-Bulu.Bafia.test ...\n",
      "Modified 34625 words from text file.\n",
      "Loading codes from /home/jupyter/models/africa/cluster1/data/Bafi/processed/codes ...\n",
      "Read 10000 codes from the codes file.\n",
      "Loading vocabulary from /home/jupyter/data/Bafia-Bulu/Bafia-Bulu.Bulu.train ...\n",
      "Read 179829 words (4871 unique) from text file.\n",
      "Applying BPE to /home/jupyter/data/Bafia-Bulu/Bafia-Bulu.Bulu.train ...\n",
      "Modified 179829 words from text file.\n",
      "Loading codes from /home/jupyter/models/africa/cluster1/data/Bafi/processed/codes ...\n",
      "Read 10000 codes from the codes file.\n",
      "Loading vocabulary from /home/jupyter/data/Bafia-Bulu/Bafia-Bulu.Bulu.valid ...\n",
      "Read 22654 words (2052 unique) from text file.\n",
      "Applying BPE to /home/jupyter/data/Bafia-Bulu/Bafia-Bulu.Bulu.valid ...\n",
      "Modified 22654 words from text file.\n",
      "Loading codes from /home/jupyter/models/africa/cluster1/data/Bafi/processed/codes ...\n",
      "Read 10000 codes from the codes file.\n",
      "Loading vocabulary from /home/jupyter/data/Bafia-Bulu/Bafia-Bulu.Bulu.test ...\n",
      "Read 22753 words (2107 unique) from text file.\n",
      "Applying BPE to /home/jupyter/data/Bafia-Bulu/Bafia-Bulu.Bulu.test ...\n",
      "Modified 22753 words from text file.\n",
      "\n",
      "\n",
      "***Build fine_tune data***\n",
      "\n",
      "\n",
      "***Binarize everything using preprocess.py.***\n",
      "INFO - 05/23/20 06:11:33 - 0:00:00 - Read 8683 words from the vocabulary file.\n",
      "\n",
      "Saving the data to /home/jupyter/models/africa/cluster1/data/Bafi/processed/Bafia-Bulu.Bafia.train.pth ...\n",
      "INFO - 05/23/20 06:11:34 - 0:00:00 - 274456 words (8683 unique) in 6359 sentences.\n",
      "INFO - 05/23/20 06:11:34 - 0:00:00 - Read 8683 words from the vocabulary file.\n",
      "\n",
      "Saving the data to /home/jupyter/models/africa/cluster1/data/Bafi/processed/Bafia-Bulu.Bafia.valid.pth ...\n",
      "INFO - 05/23/20 06:11:34 - 0:00:00 - 34569 words (8683 unique) in 794 sentences.\n",
      "INFO - 05/23/20 06:11:34 - 0:00:00 - 46 unknown words (38 unique), covering 0.13% of the data.\n",
      "INFO - 05/23/20 06:11:35 - 0:00:00 - Read 8683 words from the vocabulary file.\n",
      "\n",
      "Saving the data to /home/jupyter/models/africa/cluster1/data/Bafi/processed/Bafia-Bulu.Bafia.test.pth ...\n",
      "INFO - 05/23/20 06:11:35 - 0:00:00 - 35025 words (8683 unique) in 794 sentences.\n",
      "INFO - 05/23/20 06:11:35 - 0:00:00 - 52 unknown words (42 unique), covering 0.15% of the data.\n",
      "INFO - 05/23/20 06:11:36 - 0:00:00 - Read 8683 words from the vocabulary file.\n",
      "\n",
      "Saving the data to /home/jupyter/models/africa/cluster1/data/Bafi/processed/Bafia-Bulu.Bulu.train.pth ...\n",
      "INFO - 05/23/20 06:11:36 - 0:00:00 - 180730 words (8683 unique) in 6359 sentences.\n",
      "INFO - 05/23/20 06:11:37 - 0:00:00 - Read 8683 words from the vocabulary file.\n",
      "\n",
      "Saving the data to /home/jupyter/models/africa/cluster1/data/Bafi/processed/Bafia-Bulu.Bulu.valid.pth ...\n",
      "INFO - 05/23/20 06:11:37 - 0:00:00 - 23036 words (8683 unique) in 794 sentences.\n",
      "INFO - 05/23/20 06:11:37 - 0:00:00 - 61 unknown words (52 unique), covering 0.26% of the data.\n",
      "INFO - 05/23/20 06:11:37 - 0:00:00 - Read 8683 words from the vocabulary file.\n",
      "\n",
      "Saving the data to /home/jupyter/models/africa/cluster1/data/Bafi/processed/Bafia-Bulu.Bulu.test.pth ...\n",
      "INFO - 05/23/20 06:11:37 - 0:00:00 - 23180 words (8683 unique) in 794 sentences.\n",
      "INFO - 05/23/20 06:11:37 - 0:00:00 - 59 unknown words (54 unique), covering 0.25% of the data.\n",
      "\n",
      "\n",
      "***Using parallel data to construct monolingual data***\n",
      "\n",
      "\n",
      "***Creat the file to train the XLM model with MLM+TLM objective***\n",
      "\n",
      "\n",
      "*** build data with succes : dir /home/jupyter/models/africa/cluster1/data/Bafi/processed ***\n"
     ]
    }
   ],
   "source": [
    "%env add_para_data_to_mono_data=False\n",
    "! ../build_meta_data_monoxlm.sh $sub_task $n_samples $add_para_data_to_mono_data"
   ]
  },
  {
   "cell_type": "code",
   "execution_count": 2,
   "metadata": {
    "colab": {
     "base_uri": "https://localhost:8080/",
     "height": 102
    },
    "colab_type": "code",
    "executionInfo": {
     "elapsed": 912,
     "status": "ok",
     "timestamp": 1589794594190,
     "user": {
      "displayName": "Pascal Tikeng",
      "photoUrl": "",
      "userId": "15074930698580545771"
     },
     "user_tz": -120
    },
    "id": "Oqvj2wmXxVYv",
    "outputId": "8122a69c-06a5-4201-f446-accb89496e4e"
   },
   "outputs": [
    {
     "name": "stdout",
     "output_type": "stream",
     "text": [
      "env: OUTPATH=/home/jupyter/models/africa/cluster1/data/Bafia_Bulu/processed\n",
      "env: exp_id=maml\n",
      "env: remove_long_sentences_train=True\n",
      "env: remove_long_sentences_valid=True\n",
      "env: remove_long_sentences_test=True\n"
     ]
    }
   ],
   "source": [
    "%env OUTPATH=/home/jupyter/models/africa/cluster1/data/Bafia_Bulu/processed\n",
    "%env exp_id=maml\n",
    "# If you don't have enough RAM or swap memory, leave these three parameters to True, otherwise you may get an error like this when evaluating \n",
    "# RuntimeError: copy_if failed to synchronize: cudaErrorAssert: device-side assert triggered\n",
    "%env remove_long_sentences_train=True\n",
    "%env remove_long_sentences_valid=True\n",
    "%env remove_long_sentences_test=True\n",
    "#--remove_long_sentences_train $remove_long_sentences_train --remove_long_sentences_valid $remove_long_sentences_valid --remove_long_sentences_test $remove_long_sentences_test"
   ]
  },
  {
   "cell_type": "code",
   "execution_count": 3,
   "metadata": {
    "colab": {},
    "colab_type": "code",
    "id": "wh7JBy9Vxl-r"
   },
   "outputs": [],
   "source": [
    "# le plus grand fichier à tensor_len phrases, on cherche le multiple de \"batch_size\" le plus proche de ce \n",
    "# nombre par valeur supérieur : epoch_size doit etre un multiple non nul de ce nombre (pour ne pas gaspiller) \n",
    "\n",
    "def getEpochSize(tensor_len, batch_size):\n",
    "    i = tensor_len\n",
    "    while True :\n",
    "        if i%batch_size == 0 :\n",
    "            return i//batch_size\n",
    "        i = i + 1\n",
    "\n",
    "import io\n",
    "\n",
    "def n_lines(file_path):\n",
    "    return len(io.open(file_path, encoding='UTF-8').read().split('\\n'))"
   ]
  },
  {
   "cell_type": "code",
   "execution_count": 22,
   "metadata": {
    "colab": {
     "base_uri": "https://localhost:8080/",
     "height": 34
    },
    "colab_type": "code",
    "executionInfo": {
     "elapsed": 948,
     "status": "ok",
     "timestamp": 1589794609688,
     "user": {
      "displayName": "Pascal Tikeng",
      "photoUrl": "",
      "userId": "15074930698580545771"
     },
     "user_tz": -120
    },
    "id": "AihBQi8Jx9gP",
    "outputId": "5acc86b6-eb57-445e-d42e-4396aab5eb61"
   },
   "outputs": [
    {
     "name": "stdout",
     "output_type": "stream",
     "text": [
      "tensor_len = 6360\n"
     ]
    }
   ],
   "source": [
    "tensor_len = n_lines(file_path = \"/home/jupyter/models/africa/cluster1/data/Bafia_Bulu/processed/Bafia-Bulu.Bafia.train\")\n",
    "print(\"tensor_len = \" + str(tensor_len))"
   ]
  },
  {
   "cell_type": "code",
   "execution_count": 10,
   "metadata": {
    "colab": {
     "base_uri": "https://localhost:8080/",
     "height": 136
    },
    "colab_type": "code",
    "executionInfo": {
     "elapsed": 1662,
     "status": "ok",
     "timestamp": 1589794617247,
     "user": {
      "displayName": "Pascal Tikeng",
      "photoUrl": "",
      "userId": "15074930698580545771"
     },
     "user_tz": -120
    },
    "id": "xBxqdlfwyQ_l",
    "outputId": "18c8167c-2f7d-46d2-a501-16ace7fe1a0d"
   },
   "outputs": [
    {
     "name": "stdout",
     "output_type": "stream",
     "text": [
      "env: epoch_size=6360\n",
      "env: lgs=Bafia-Bulu\n",
      "env: train_n_samples=-1\n",
      "env: valid_n_samples=-1\n",
      "env: test_n_samples=-1\n",
      "env: stopping_criterion=_valid_mlm_ppl,10\n",
      "env: eval_bleu=false\n"
     ]
    }
   ],
   "source": [
    "%env epoch_size=6360\n",
    "\n",
    "%env lgs=Bafia-Bulu\n",
    "\n",
    "# limit the number of examples (-1 by default for non limitation)\n",
    "%env train_n_samples=-1\n",
    "%env valid_n_samples=-1\n",
    "%env test_n_samples=-1\n",
    "#--train_n_samples $train_n_samples --valid_n_samples $valid_n_samples --test_n_samples $test_n_samples\n",
    "\n",
    "# stopping criterion (if criterion does not improve 10 times)\n",
    "%env stopping_criterion=_valid_mlm_ppl,10\n",
    "%env eval_bleu false"
   ]
  },
  {
   "cell_type": "code",
   "execution_count": null,
   "metadata": {
    "colab": {
     "base_uri": "https://localhost:8080/",
     "height": 1000
    },
    "colab_type": "code",
    "executionInfo": {
     "elapsed": 3453921,
     "status": "ok",
     "timestamp": 1589810942252,
     "user": {
      "displayName": "Pascal Tikeng",
      "photoUrl": "",
      "userId": "15074930698580545771"
     },
     "user_tz": -120
    },
    "id": "YK7oveg7ykkM",
    "outputId": "6819c44f-056b-44ce-f609-6e37d970e8fb"
   },
   "outputs": [
    {
     "name": "stdout",
     "output_type": "stream",
     "text": [
      "env: mlm_steps=Bafia,Bulu,Bafia-Bulu\n",
      "env: batch_size=32\n",
      "env: max_epoch=100\n",
      "env: dump_path=/home/jupyter/models/africa/cluster1\n",
      "FAISS library was not found.\n",
      "FAISS not available. Switching to standard nearest neighbors search implementation.\n",
      "SLURM job: False\n",
      "0 - Number of nodes: 1\n",
      "0 - Node ID        : 0\n",
      "0 - Local rank     : 0\n",
      "0 - Global rank    : 0\n",
      "0 - World size     : 1\n",
      "0 - GPUs per node  : 1\n",
      "0 - Master         : True\n",
      "0 - Multi-node     : False\n",
      "0 - Multi-GPU      : False\n",
      "0 - Hostname       : african-translator-vm-bis-vm\n",
      "INFO - 05/24/20 04:19:58 - 0:00:00 - ============ Initialized logger ============\n",
      "INFO - 05/24/20 04:19:58 - 0:00:00 - accumulate_gradients: 1\n",
      "                                     ae_steps: []\n",
      "                                     amp: -1\n",
      "                                     asm: False\n",
      "                                     attention_dropout: 0.1\n",
      "                                     batch_size: 32\n",
      "                                     beam_size: 1\n",
      "                                     bptt: 256\n",
      "                                     bt_src_langs: []\n",
      "                                     bt_steps: []\n",
      "                                     clip_grad_norm: 5\n",
      "                                     clm_steps: []\n",
      "                                     command: python train.py --exp_name mlm_tlm_BafiaBulu --exp_id maml --dump_path '/home/jupyter/models/africa/cluster1' --data_path '/home/jupyter/models/africa/cluster1/data/Bafia_Bulu/processed' --lgs 'Bafia-Bulu' --clm_steps '' --mlm_steps 'Bafia,Bulu,Bafia-Bulu' --emb_dim 1024 --n_layers 6 --n_heads 8 --dropout '0.1' --attention_dropout '0.1' --gelu_activation true --batch_size 32 --bptt 256 --optimizer 'adam,lr=0.0001' --epoch_size 6360 --max_epoch 100 --validation_metrics _valid_mlm_ppl --stopping_criterion '_valid_mlm_ppl,10' --eval_bleu false --remove_long_sentences_train True --remove_long_sentences_valid True --remove_long_sentences_test True --train_n_samples '-1' --valid_n_samples '-1' --test_n_samples '-1' --exp_id \"maml\"\n",
      "                                     context_size: 0\n",
      "                                     data_path: /home/jupyter/models/africa/cluster1/data/Bafia_Bulu/processed\n",
      "                                     debug: False\n",
      "                                     debug_slurm: False\n",
      "                                     debug_train: False\n",
      "                                     dropout: 0.1\n",
      "                                     dump_path: /home/jupyter/models/africa/cluster1/mlm_tlm_BafiaBulu/maml\n",
      "                                     early_stopping: False\n",
      "                                     emb_dim: 1024\n",
      "                                     encoder_only: True\n",
      "                                     epoch_size: 6360\n",
      "                                     eval_bleu: False\n",
      "                                     eval_only: False\n",
      "                                     exp_id: maml\n",
      "                                     exp_name: mlm_tlm_BafiaBulu\n",
      "                                     fp16: False\n",
      "                                     gelu_activation: True\n",
      "                                     global_rank: 0\n",
      "                                     group_by_size: True\n",
      "                                     id2lang: {0: 'Bafia', 1: 'Bulu'}\n",
      "                                     is_master: True\n",
      "                                     is_slurm_job: False\n",
      "                                     lambda_ae: 1\n",
      "                                     lambda_bt: 1\n",
      "                                     lambda_clm: 1\n",
      "                                     lambda_mlm: 1\n",
      "                                     lambda_mt: 1\n",
      "                                     lambda_pc: 1\n",
      "                                     lang2id: {'Bafia': 0, 'Bulu': 1}\n",
      "                                     langs: ['Bafia', 'Bulu']\n",
      "                                     length_penalty: 1\n",
      "                                     lg_sampling_factor: -1\n",
      "                                     lgs: ['Bafia-Bulu']\n",
      "                                     local_rank: 0\n",
      "                                     master_port: -1\n",
      "                                     max_batch_size: 0\n",
      "                                     max_epoch: 100\n",
      "                                     max_len: 100\n",
      "                                     max_vocab: -1\n",
      "                                     meta_learning: False\n",
      "                                     meta_params: ...\n",
      "                                     min_count: 0\n",
      "                                     mlm_steps: [('Bafia', None), ('Bulu', None), ('Bafia', 'Bulu')]\n",
      "                                     mono_dataset: {'Bafia': {'train': '/home/jupyter/models/africa/cluster1/data/Bafia_Bulu/processed/train.Bafia.pth', 'valid': '/home/jupyter/models/africa/cluster1/data/Bafia_Bulu/processed/valid.Bafia.pth', 'test': '/home/jupyter/models/africa/cluster1/data/Bafia_Bulu/processed/test.Bafia.pth'}, 'Bulu': {'train': '/home/jupyter/models/africa/cluster1/data/Bafia_Bulu/processed/train.Bulu.pth', 'valid': '/home/jupyter/models/africa/cluster1/data/Bafia_Bulu/processed/valid.Bulu.pth', 'test': '/home/jupyter/models/africa/cluster1/data/Bafia_Bulu/processed/test.Bulu.pth'}}\n",
      "                                     mt_steps: []\n",
      "                                     multi_gpu: False\n",
      "                                     multi_node: False\n",
      "                                     n_gpu_per_node: 1\n",
      "                                     n_heads: 8\n",
      "                                     n_langs: 2\n",
      "                                     n_layers: 6\n",
      "                                     n_nodes: 1\n",
      "                                     n_samples: {'train': -1, 'valid': -1, 'test': -1}\n",
      "                                     n_task: 1\n",
      "                                     node_id: 0\n",
      "                                     optimizer: adam,lr=0.0001\n",
      "                                     para_dataset: {('Bafia', 'Bulu'): {'train': ('/home/jupyter/models/africa/cluster1/data/Bafia_Bulu/processed/train.Bafia-Bulu.Bafia.pth', '/home/jupyter/models/africa/cluster1/data/Bafia_Bulu/processed/train.Bafia-Bulu.Bulu.pth'), 'valid': ('/home/jupyter/models/africa/cluster1/data/Bafia_Bulu/processed/valid.Bafia-Bulu.Bafia.pth', '/home/jupyter/models/africa/cluster1/data/Bafia_Bulu/processed/valid.Bafia-Bulu.Bulu.pth'), 'test': ('/home/jupyter/models/africa/cluster1/data/Bafia_Bulu/processed/test.Bafia-Bulu.Bafia.pth', '/home/jupyter/models/africa/cluster1/data/Bafia_Bulu/processed/test.Bafia-Bulu.Bulu.pth')}}\n",
      "                                     pc_steps: []\n",
      "                                     reload_checkpoint: \n",
      "                                     reload_emb: \n",
      "                                     reload_model: \n",
      "                                     remove_long_sentences: {'train': True, 'valid': True, 'test': True}\n",
      "                                     remove_long_sentences_test: True\n",
      "                                     remove_long_sentences_train: True\n",
      "                                     remove_long_sentences_valid: True\n",
      "                                     sample_alpha: 0\n",
      "                                     save_periodic: 0\n",
      "                                     share_inout_emb: True\n",
      "                                     sinusoidal_embeddings: False\n",
      "                                     split_data: False\n",
      "                                     stopping_criterion: _valid_mlm_ppl,10\n",
      "                                     test_n_samples: -1\n",
      "                                     tokens_per_batch: -1\n",
      "                                     train_n_samples: -1\n",
      "                                     use_lang_emb: True\n",
      "                                     use_memory: False\n",
      "                                     valid_n_samples: -1\n",
      "                                     validation_metrics: _valid_mlm_ppl\n",
      "                                     word_blank: 0\n",
      "                                     word_dropout: 0\n",
      "                                     word_keep: 0.1\n",
      "                                     word_mask: 0.8\n",
      "                                     word_mask_keep_rand: 0.8,0.1,0.1\n",
      "                                     word_pred: 0.15\n",
      "                                     word_rand: 0.1\n",
      "                                     word_shuffle: 0\n",
      "                                     world_size: 1\n",
      "INFO - 05/24/20 04:19:58 - 0:00:00 - The experiment will be stored in /home/jupyter/models/africa/cluster1/mlm_tlm_BafiaBulu/maml\n",
      "                                     \n",
      "INFO - 05/24/20 04:19:58 - 0:00:00 - Running command: python train.py --exp_name mlm_tlm_BafiaBulu --exp_id maml --dump_path '/home/jupyter/models/africa/cluster1' --data_path '/home/jupyter/models/africa/cluster1/data/Bafia_Bulu/processed' --lgs 'Bafia-Bulu' --clm_steps '' --mlm_steps 'Bafia,Bulu,Bafia-Bulu' --emb_dim 1024 --n_layers 6 --n_heads 8 --dropout '0.1' --attention_dropout '0.1' --gelu_activation true --batch_size 32 --bptt 256 --optimizer 'adam,lr=0.0001' --epoch_size 6360 --max_epoch 100 --validation_metrics _valid_mlm_ppl --stopping_criterion '_valid_mlm_ppl,10' --eval_bleu false --remove_long_sentences_train True --remove_long_sentences_valid True --remove_long_sentences_test True --train_n_samples '-1' --valid_n_samples '-1' --test_n_samples '-1'\n",
      "\n",
      "WARNING - 05/24/20 04:19:58 - 0:00:00 - Signal handler installed.\n",
      "INFO - 05/24/20 04:19:58 - 0:00:00 - ============ langs: Bafia, Bulu\n",
      "INFO - 05/24/20 04:19:58 - 0:00:00 - ============ Monolingual data (Bafia)\n",
      "INFO - 05/24/20 04:19:58 - 0:00:00 - Loading data from /home/jupyter/models/africa/cluster1/data/Bafia_Bulu/processed/train.Bafia.pth ...\n",
      "INFO - 05/24/20 04:19:58 - 0:00:00 - 274456 words (8683 unique) in 6359 sentences. 0 unknown words (0 unique) covering 0.00% of the data.\n",
      "INFO - 05/24/20 04:19:58 - 0:00:00 - ========================== debug : 1\n",
      "\n",
      "INFO - 05/24/20 04:19:58 - 0:00:00 - Loading data from /home/jupyter/models/africa/cluster1/data/Bafia_Bulu/processed/valid.Bafia.pth ...\n"
     ]
    },
    {
     "name": "stdout",
     "output_type": "stream",
     "text": [
      "INFO - 05/24/20 04:19:58 - 0:00:00 - 34569 words (8683 unique) in 794 sentences. 46 unknown words (38 unique) covering 0.13% of the data.\n",
      "INFO - 05/24/20 04:19:58 - 0:00:00 - ========================== debug : 2\n",
      "\n",
      "INFO - 05/24/20 04:19:58 - 0:00:00 - Loading data from /home/jupyter/models/africa/cluster1/data/Bafia_Bulu/processed/test.Bafia.pth ...\n",
      "INFO - 05/24/20 04:19:58 - 0:00:00 - 35025 words (8683 unique) in 794 sentences. 52 unknown words (42 unique) covering 0.15% of the data.\n",
      "INFO - 05/24/20 04:19:58 - 0:00:00 - ========================== debug : 3\n",
      "\n",
      "INFO - 05/24/20 04:19:58 - 0:00:00 - ============ Monolingual data (Bulu)\n",
      "INFO - 05/24/20 04:19:58 - 0:00:00 - Loading data from /home/jupyter/models/africa/cluster1/data/Bafia_Bulu/processed/train.Bulu.pth ...\n",
      "INFO - 05/24/20 04:19:58 - 0:00:00 - 180730 words (8683 unique) in 6359 sentences. 0 unknown words (0 unique) covering 0.00% of the data.\n",
      "INFO - 05/24/20 04:19:58 - 0:00:00 - ========================== debug : 4\n",
      "\n",
      "INFO - 05/24/20 04:19:58 - 0:00:00 - Loading data from /home/jupyter/models/africa/cluster1/data/Bafia_Bulu/processed/valid.Bulu.pth ...\n",
      "INFO - 05/24/20 04:19:58 - 0:00:00 - 23036 words (8683 unique) in 794 sentences. 61 unknown words (52 unique) covering 0.26% of the data.\n",
      "INFO - 05/24/20 04:19:58 - 0:00:00 - ========================== debug : 5\n",
      "\n",
      "INFO - 05/24/20 04:19:58 - 0:00:00 - Loading data from /home/jupyter/models/africa/cluster1/data/Bafia_Bulu/processed/test.Bulu.pth ...\n",
      "INFO - 05/24/20 04:19:58 - 0:00:00 - 23180 words (8683 unique) in 794 sentences. 59 unknown words (54 unique) covering 0.25% of the data.\n",
      "INFO - 05/24/20 04:19:58 - 0:00:00 - ========================== debug : 6\n",
      "\n",
      "\n",
      "INFO - 05/24/20 04:19:58 - 0:00:00 - ============ Parallel data (Bafia-Bulu)\n",
      "INFO - 05/24/20 04:19:58 - 0:00:00 - Loading data from /home/jupyter/models/africa/cluster1/data/Bafia_Bulu/processed/train.Bafia-Bulu.Bafia.pth ...\n",
      "INFO - 05/24/20 04:19:58 - 0:00:00 - 274456 words (8683 unique) in 6359 sentences. 0 unknown words (0 unique) covering 0.00% of the data.\n",
      "INFO - 05/24/20 04:19:58 - 0:00:00 - Loading data from /home/jupyter/models/africa/cluster1/data/Bafia_Bulu/processed/train.Bafia-Bulu.Bulu.pth ...\n",
      "INFO - 05/24/20 04:19:58 - 0:00:00 - 180730 words (8683 unique) in 6359 sentences. 0 unknown words (0 unique) covering 0.00% of the data.\n",
      "INFO - 05/24/20 04:19:58 - 0:00:00 - ========================== debug : 7\n",
      "INFO - 05/24/20 04:19:58 - 0:00:00 - Removed 0 empty sentences.\n",
      "INFO - 05/24/20 04:19:58 - 0:00:00 - Removed 0 empty sentences.\n",
      "INFO - 05/24/20 04:19:58 - 0:00:00 - Removed 36 too long sentences.\n",
      "\n",
      "INFO - 05/24/20 04:19:58 - 0:00:00 - Loading data from /home/jupyter/models/africa/cluster1/data/Bafia_Bulu/processed/valid.Bafia-Bulu.Bafia.pth ...\n",
      "INFO - 05/24/20 04:19:58 - 0:00:00 - 34569 words (8683 unique) in 794 sentences. 46 unknown words (38 unique) covering 0.13% of the data.\n",
      "INFO - 05/24/20 04:19:58 - 0:00:00 - Loading data from /home/jupyter/models/africa/cluster1/data/Bafia_Bulu/processed/valid.Bafia-Bulu.Bulu.pth ...\n",
      "INFO - 05/24/20 04:19:58 - 0:00:00 - 23036 words (8683 unique) in 794 sentences. 61 unknown words (52 unique) covering 0.26% of the data.\n",
      "INFO - 05/24/20 04:19:58 - 0:00:00 - ========================== debug : 8\n",
      "INFO - 05/24/20 04:19:58 - 0:00:00 - Removed 0 empty sentences.\n",
      "INFO - 05/24/20 04:19:58 - 0:00:00 - Removed 3 too long sentences.\n",
      "\n",
      "INFO - 05/24/20 04:19:58 - 0:00:00 - Loading data from /home/jupyter/models/africa/cluster1/data/Bafia_Bulu/processed/test.Bafia-Bulu.Bafia.pth ...\n",
      "INFO - 05/24/20 04:19:58 - 0:00:00 - 35025 words (8683 unique) in 794 sentences. 52 unknown words (42 unique) covering 0.15% of the data.\n",
      "INFO - 05/24/20 04:19:58 - 0:00:00 - Loading data from /home/jupyter/models/africa/cluster1/data/Bafia_Bulu/processed/test.Bafia-Bulu.Bulu.pth ...\n",
      "INFO - 05/24/20 04:19:58 - 0:00:00 - 23180 words (8683 unique) in 794 sentences. 59 unknown words (54 unique) covering 0.25% of the data.\n",
      "INFO - 05/24/20 04:19:58 - 0:00:00 - ========================== debug : 9\n",
      "INFO - 05/24/20 04:19:58 - 0:00:00 - Removed 0 empty sentences.\n",
      "INFO - 05/24/20 04:19:58 - 0:00:00 - Removed 3 too long sentences.\n",
      "\n",
      "\n",
      "INFO - 05/24/20 04:19:58 - 0:00:00 - ============ Data summary\n",
      "INFO - 05/24/20 04:19:58 - 0:00:00 - Monolingual data   - train -        Bafia:      6359\n",
      "INFO - 05/24/20 04:19:58 - 0:00:00 - Monolingual data   - valid -        Bafia:       794\n",
      "INFO - 05/24/20 04:19:58 - 0:00:00 - Monolingual data   -  test -        Bafia:       794\n",
      "INFO - 05/24/20 04:19:58 - 0:00:00 - Monolingual data   - train -         Bulu:      6359\n",
      "INFO - 05/24/20 04:19:58 - 0:00:00 - Monolingual data   - valid -         Bulu:       794\n",
      "INFO - 05/24/20 04:19:58 - 0:00:00 - Monolingual data   -  test -         Bulu:       794\n",
      "INFO - 05/24/20 04:19:58 - 0:00:00 - Parallel data      - train -   Bafia-Bulu:      6323\n",
      "INFO - 05/24/20 04:19:58 - 0:00:00 - Parallel data      - valid -   Bafia-Bulu:       791\n",
      "INFO - 05/24/20 04:19:58 - 0:00:00 - Parallel data      -  test -   Bafia-Bulu:       791\n",
      "\n",
      "INFO - 05/24/20 04:19:59 - 0:00:01 - Model: TransformerModel(\n",
      "                                       (position_embeddings): Embedding(512, 1024)\n",
      "                                       (lang_embeddings): Embedding(2, 1024)\n",
      "                                       (embeddings): Embedding(8683, 1024, padding_idx=2)\n",
      "                                       (layer_norm_emb): LayerNorm((1024,), eps=1e-12, elementwise_affine=True)\n",
      "                                       (attentions): ModuleList(\n",
      "                                         (0): MultiHeadAttention(\n",
      "                                           (q_lin): Linear(in_features=1024, out_features=1024, bias=True)\n",
      "                                           (k_lin): Linear(in_features=1024, out_features=1024, bias=True)\n",
      "                                           (v_lin): Linear(in_features=1024, out_features=1024, bias=True)\n",
      "                                           (out_lin): Linear(in_features=1024, out_features=1024, bias=True)\n",
      "                                         )\n",
      "                                         (1): MultiHeadAttention(\n",
      "                                           (q_lin): Linear(in_features=1024, out_features=1024, bias=True)\n",
      "                                           (k_lin): Linear(in_features=1024, out_features=1024, bias=True)\n",
      "                                           (v_lin): Linear(in_features=1024, out_features=1024, bias=True)\n",
      "                                           (out_lin): Linear(in_features=1024, out_features=1024, bias=True)\n",
      "                                         )\n",
      "                                         (2): MultiHeadAttention(\n",
      "                                           (q_lin): Linear(in_features=1024, out_features=1024, bias=True)\n",
      "                                           (k_lin): Linear(in_features=1024, out_features=1024, bias=True)\n",
      "                                           (v_lin): Linear(in_features=1024, out_features=1024, bias=True)\n",
      "                                           (out_lin): Linear(in_features=1024, out_features=1024, bias=True)\n",
      "                                         )\n",
      "                                         (3): MultiHeadAttention(\n",
      "                                           (q_lin): Linear(in_features=1024, out_features=1024, bias=True)\n",
      "                                           (k_lin): Linear(in_features=1024, out_features=1024, bias=True)\n",
      "                                           (v_lin): Linear(in_features=1024, out_features=1024, bias=True)\n",
      "                                           (out_lin): Linear(in_features=1024, out_features=1024, bias=True)\n",
      "                                         )\n",
      "                                         (4): MultiHeadAttention(\n",
      "                                           (q_lin): Linear(in_features=1024, out_features=1024, bias=True)\n",
      "                                           (k_lin): Linear(in_features=1024, out_features=1024, bias=True)\n",
      "                                           (v_lin): Linear(in_features=1024, out_features=1024, bias=True)\n",
      "                                           (out_lin): Linear(in_features=1024, out_features=1024, bias=True)\n",
      "                                         )\n",
      "                                         (5): MultiHeadAttention(\n",
      "                                           (q_lin): Linear(in_features=1024, out_features=1024, bias=True)\n",
      "                                           (k_lin): Linear(in_features=1024, out_features=1024, bias=True)\n",
      "                                           (v_lin): Linear(in_features=1024, out_features=1024, bias=True)\n",
      "                                           (out_lin): Linear(in_features=1024, out_features=1024, bias=True)\n",
      "                                         )\n",
      "                                       )\n",
      "                                       (layer_norm1): ModuleList(\n",
      "                                         (0): LayerNorm((1024,), eps=1e-12, elementwise_affine=True)\n",
      "                                         (1): LayerNorm((1024,), eps=1e-12, elementwise_affine=True)\n",
      "                                         (2): LayerNorm((1024,), eps=1e-12, elementwise_affine=True)\n",
      "                                         (3): LayerNorm((1024,), eps=1e-12, elementwise_affine=True)\n",
      "                                         (4): LayerNorm((1024,), eps=1e-12, elementwise_affine=True)\n",
      "                                         (5): LayerNorm((1024,), eps=1e-12, elementwise_affine=True)\n",
      "                                       )\n",
      "                                       (ffns): ModuleList(\n",
      "                                         (0): TransformerFFN(\n",
      "                                           (lin1): Linear(in_features=1024, out_features=4096, bias=True)\n",
      "                                           (lin2): Linear(in_features=4096, out_features=1024, bias=True)\n",
      "                                         )\n",
      "                                         (1): TransformerFFN(\n",
      "                                           (lin1): Linear(in_features=1024, out_features=4096, bias=True)\n",
      "                                           (lin2): Linear(in_features=4096, out_features=1024, bias=True)\n",
      "                                         )\n",
      "                                         (2): TransformerFFN(\n",
      "                                           (lin1): Linear(in_features=1024, out_features=4096, bias=True)\n",
      "                                           (lin2): Linear(in_features=4096, out_features=1024, bias=True)\n",
      "                                         )\n",
      "                                         (3): TransformerFFN(\n",
      "                                           (lin1): Linear(in_features=1024, out_features=4096, bias=True)\n",
      "                                           (lin2): Linear(in_features=4096, out_features=1024, bias=True)\n",
      "                                         )\n",
      "                                         (4): TransformerFFN(\n",
      "                                           (lin1): Linear(in_features=1024, out_features=4096, bias=True)\n",
      "                                           (lin2): Linear(in_features=4096, out_features=1024, bias=True)\n",
      "                                         )\n",
      "                                         (5): TransformerFFN(\n",
      "                                           (lin1): Linear(in_features=1024, out_features=4096, bias=True)\n",
      "                                           (lin2): Linear(in_features=4096, out_features=1024, bias=True)\n",
      "                                         )\n",
      "                                       )\n",
      "                                       (layer_norm2): ModuleList(\n",
      "                                         (0): LayerNorm((1024,), eps=1e-12, elementwise_affine=True)\n",
      "                                         (1): LayerNorm((1024,), eps=1e-12, elementwise_affine=True)\n",
      "                                         (2): LayerNorm((1024,), eps=1e-12, elementwise_affine=True)\n",
      "                                         (3): LayerNorm((1024,), eps=1e-12, elementwise_affine=True)\n",
      "                                         (4): LayerNorm((1024,), eps=1e-12, elementwise_affine=True)\n",
      "                                         (5): LayerNorm((1024,), eps=1e-12, elementwise_affine=True)\n",
      "                                       )\n",
      "                                       (memories): ModuleDict()\n",
      "                                       (pred_layer): PredLayer(\n",
      "                                         (proj): Linear(in_features=1024, out_features=8683, bias=True)\n",
      "                                       )\n",
      "                                     )\n",
      "INFO - 05/24/20 04:19:59 - 0:00:01 - Number of parameters (model): 85005803\n"
     ]
    },
    {
     "name": "stdout",
     "output_type": "stream",
     "text": [
      "INFO - 05/24/20 04:20:02 - 0:00:04 - Found 0 memories.\n",
      "INFO - 05/24/20 04:20:02 - 0:00:04 - Found 6 FFN.\n",
      "INFO - 05/24/20 04:20:02 - 0:00:04 - Found 102 parameters in model.\n",
      "INFO - 05/24/20 04:20:02 - 0:00:04 - Optimizers: model\n",
      "INFO - 05/24/20 04:20:02 - 0:00:05 - ============ Starting epoch 0 ... ============\n",
      "INFO - 05/24/20 04:20:02 - 0:00:05 - Creating new training data iterator (pred,Bulu) ...\n",
      "INFO - 05/24/20 04:20:05 - 0:00:07 - Creating new training data iterator (pred,Bafia,Bulu) ...\n",
      "INFO - 05/24/20 04:20:07 - 0:00:09 - Creating new training data iterator (pred,Bafia) ...\n",
      "INFO - 05/24/20 04:20:16 - 0:00:18 -       5 -   33.67 sent/s -   977.99 words/s - MLM-Bafia:  6.7095 || MLM-Bulu:  8.8718 || MLM-Bafia-Bulu:  6.9666 -  - model LR: 1.0000e-04\n",
      "INFO - 05/24/20 04:20:30 - 0:00:32 -      10 -   35.81 sent/s -  2084.28 words/s - MLM-Bafia:  5.6604 || MLM-Bulu:  6.3187 || MLM-Bafia-Bulu:  5.7192 -  - model LR: 1.0000e-04\n",
      "INFO - 05/24/20 04:20:43 - 0:00:45 -      15 -   34.89 sent/s -  3046.00 words/s - MLM-Bafia:  5.3257 || MLM-Bulu:  5.4257 || MLM-Bafia-Bulu:  5.3523 -  - model LR: 1.0000e-04\n",
      "INFO - 05/24/20 04:20:55 - 0:00:57 - Creating new training data iterator (pred,Bulu) ...\n",
      "INFO - 05/24/20 04:20:58 - 0:01:00 -      20 -   33.45 sent/s -  3907.38 words/s - MLM-Bafia:  5.0820 || MLM-Bulu:  5.3087 || MLM-Bafia-Bulu:  5.1611 -  - model LR: 1.0000e-04\n",
      "INFO - 05/24/20 04:21:12 - 0:01:14 -      25 -   33.47 sent/s -  4855.09 words/s - MLM-Bafia:  5.0838 || MLM-Bulu:  5.4760 || MLM-Bafia-Bulu:  5.1649 -  - model LR: 1.0000e-04\n",
      "INFO - 05/24/20 04:21:26 - 0:01:29 -      30 -   33.15 sent/s -  5762.08 words/s - MLM-Bafia:  4.9490 || MLM-Bulu:  5.2001 || MLM-Bafia-Bulu:  5.0211 -  - model LR: 1.0000e-04\n",
      "INFO - 05/24/20 04:21:41 - 0:01:44 -      35 -   32.11 sent/s -  6533.31 words/s - MLM-Bafia:  5.0490 || MLM-Bulu:  5.2033 || MLM-Bafia-Bulu:  5.0981 -  - model LR: 1.0000e-04\n",
      "INFO - 05/24/20 04:21:53 - 0:01:55 - Creating new training data iterator (pred,Bafia) ...\n",
      "INFO - 05/24/20 04:21:56 - 0:01:58 -      40 -   33.38 sent/s -  7703.57 words/s - MLM-Bafia:  4.8831 || MLM-Bulu:  5.0664 || MLM-Bafia-Bulu:  4.8705 -  - model LR: 1.0000e-04\n",
      "INFO - 05/24/20 04:22:05 - 0:02:07 - Creating new training data iterator (pred,Bulu) ...\n",
      "INFO - 05/24/20 04:22:11 - 0:02:13 -      45 -   31.57 sent/s -  8228.14 words/s - MLM-Bafia:  4.8910 || MLM-Bulu:  5.0748 || MLM-Bafia-Bulu:  4.8679 -  - model LR: 1.0000e-04\n",
      "INFO - 05/24/20 04:22:26 - 0:02:28 -      50 -   31.63 sent/s -  9198.83 words/s - MLM-Bafia:  4.8779 || MLM-Bulu:  5.0999 || MLM-Bafia-Bulu:  4.9359 -  - model LR: 1.0000e-04\n",
      "INFO - 05/24/20 04:22:41 - 0:02:43 -      55 -   31.93 sent/s - 10234.60 words/s - MLM-Bafia:  4.8610 || MLM-Bulu:  5.1900 || MLM-Bafia-Bulu:  4.9713 -  - model LR: 1.0000e-04\n",
      "INFO - 05/24/20 04:22:56 - 0:02:58 -      60 -   32.62 sent/s - 11375.18 words/s - MLM-Bafia:  4.7475 || MLM-Bulu:  5.1387 || MLM-Bafia-Bulu:  4.7768 -  - model LR: 1.0000e-04\n",
      "INFO - 05/24/20 04:23:11 - 0:03:13 -      65 -   32.63 sent/s - 12335.06 words/s - MLM-Bafia:  4.8614 || MLM-Bulu:  5.1476 || MLM-Bafia-Bulu:  4.8882 -  - model LR: 1.0000e-04\n",
      "INFO - 05/24/20 04:23:13 - 0:03:16 - Creating new training data iterator (pred,Bulu) ...\n",
      "INFO - 05/24/20 04:23:16 - 0:03:19 - ============ End of epoch 0 ============\n",
      "INFO - 05/24/20 04:23:19 - 0:03:21 - epoch -> 0.000000\n",
      "INFO - 05/24/20 04:23:19 - 0:03:21 - valid_Bafia_mlm_ppl -> 172.783231\n",
      "INFO - 05/24/20 04:23:19 - 0:03:21 - valid_Bafia_mlm_acc -> 13.989637\n",
      "INFO - 05/24/20 04:23:19 - 0:03:21 - valid_Bulu_mlm_ppl -> 140.217208\n",
      "INFO - 05/24/20 04:23:19 - 0:03:21 - valid_Bulu_mlm_acc -> 16.580311\n",
      "INFO - 05/24/20 04:23:19 - 0:03:21 - valid_Bafia_Bulu_mlm_ppl -> 229.484463\n",
      "INFO - 05/24/20 04:23:19 - 0:03:21 - valid_Bafia_Bulu_mlm_acc -> 8.192771\n",
      "INFO - 05/24/20 04:23:19 - 0:03:21 - valid_mlm_ppl -> 156.500220\n",
      "INFO - 05/24/20 04:23:19 - 0:03:21 - valid_mlm_acc -> 15.284974\n",
      "INFO - 05/24/20 04:23:19 - 0:03:21 - test_Bafia_mlm_ppl -> 177.749302\n",
      "INFO - 05/24/20 04:23:19 - 0:03:21 - test_Bafia_mlm_acc -> 5.958549\n",
      "INFO - 05/24/20 04:23:19 - 0:03:21 - test_Bulu_mlm_ppl -> 341.503092\n",
      "INFO - 05/24/20 04:23:19 - 0:03:21 - test_Bulu_mlm_acc -> 5.440415\n",
      "INFO - 05/24/20 04:23:19 - 0:03:21 - test_Bafia_Bulu_mlm_ppl -> 201.699194\n",
      "INFO - 05/24/20 04:23:19 - 0:03:21 - test_Bafia_Bulu_mlm_acc -> 9.325562\n",
      "INFO - 05/24/20 04:23:19 - 0:03:21 - test_mlm_ppl -> 259.626197\n",
      "INFO - 05/24/20 04:23:19 - 0:03:21 - test_mlm_acc -> 5.699482\n",
      "INFO - 05/24/20 04:23:19 - 0:03:21 - __log__:{\"epoch\": 0, \"valid_Bafia_mlm_ppl\": 172.78323125658216, \"valid_Bafia_mlm_acc\": 13.989637305699482, \"valid_Bulu_mlm_ppl\": 140.21720820039877, \"valid_Bulu_mlm_acc\": 16.580310880829014, \"valid_Bafia_Bulu_mlm_ppl\": 229.48446337579864, \"valid_Bafia_Bulu_mlm_acc\": 8.19277108433735, \"valid_mlm_ppl\": 156.50021972849046, \"valid_mlm_acc\": 15.284974093264248, \"test_Bafia_mlm_ppl\": 177.74930199817922, \"test_Bafia_mlm_acc\": 5.958549222797927, \"test_Bulu_mlm_ppl\": 341.5030917913107, \"test_Bulu_mlm_acc\": 5.4404145077720205, \"test_Bafia_Bulu_mlm_ppl\": 201.6991939114565, \"test_Bafia_Bulu_mlm_acc\": 9.325562031640299, \"test_mlm_ppl\": 259.62619689474496, \"test_mlm_acc\": 5.699481865284974}\n",
      "INFO - 05/24/20 04:23:19 - 0:03:21 - New best score for valid_mlm_ppl: 156.500220\n",
      "INFO - 05/24/20 04:23:19 - 0:03:21 - Saving best-valid_mlm_ppl to /home/jupyter/models/africa/cluster1/mlm_tlm_BafiaBulu/maml/best-valid_mlm_ppl.pth ...\n",
      "WARNING - 05/24/20 04:23:19 - 0:03:21 - Saving model parameters ...\n",
      "INFO - 05/24/20 04:23:19 - 0:03:22 - New best validation score: 156.500220\n",
      "INFO - 05/24/20 04:23:19 - 0:03:22 - Saving checkpoint to /home/jupyter/models/africa/cluster1/mlm_tlm_BafiaBulu/maml/checkpoint.pth ...\n",
      "WARNING - 05/24/20 04:23:19 - 0:03:22 - Saving model parameters ...\n",
      "WARNING - 05/24/20 04:23:19 - 0:03:22 - Saving model optimizer ...\n",
      "INFO - 05/24/20 04:23:20 - 0:03:23 - ============ garbage collector collecting 0 ...\n",
      "INFO - 05/24/20 04:23:20 - 0:03:23 - ============ Starting epoch 1 ... ============\n",
      "INFO - 05/24/20 04:23:29 - 0:03:31 -      70 -   25.66 sent/s - 10471.05 words/s - MLM-Bafia:  4.7024 || MLM-Bulu:  5.0230 || MLM-Bafia-Bulu:  4.8207 -  - model LR: 1.0000e-04\n"
     ]
    }
   ],
   "source": [
    "%env mlm_steps=Bafia,Bulu,Bafia-Bulu\n",
    "%env batch_size=32\n",
    "%env max_epoch=100\n",
    "%env dump_path=/home/jupyter/models/africa/cluster1\n",
    "! python train.py --exp_name mlm_tlm_BafiaBulu --exp_id $exp_id --dump_path $dump_path --data_path $OUTPATH --lgs $lgs --clm_steps '' --mlm_steps $mlm_steps --emb_dim 1024 --n_layers 6 --n_heads 8 --dropout 0.1 --attention_dropout 0.1 --gelu_activation true --batch_size $batch_size --bptt 256 --optimizer adam,lr=0.0001 --epoch_size $epoch_size --max_epoch $max_epoch --validation_metrics _valid_mlm_ppl --stopping_criterion $stopping_criterion --eval_bleu $eval_bleu --remove_long_sentences_train $remove_long_sentences_train --remove_long_sentences_valid $remove_long_sentences_valid --remove_long_sentences_test $remove_long_sentences_test --train_n_samples $train_n_samples --valid_n_samples $valid_n_samples --test_n_samples $test_n_samples"
   ]
  },
  {
   "cell_type": "markdown",
   "metadata": {
    "colab_type": "text",
    "id": "aH0YCR7PAESk"
   },
   "source": [
    "**Train a (unsupervised/supervised) MT from a pretrained meta-model**"
   ]
  },
  {
   "cell_type": "code",
   "execution_count": 5,
   "metadata": {
    "colab": {
     "base_uri": "https://localhost:8080/",
     "height": 51
    },
    "colab_type": "code",
    "executionInfo": {
     "elapsed": 892,
     "status": "ok",
     "timestamp": 1589811056244,
     "user": {
      "displayName": "Pascal Tikeng",
      "photoUrl": "",
      "userId": "15074930698580545771"
     },
     "user_tz": -120
    },
    "id": "KHicypbkAopS",
    "outputId": "e05a7a2a-faa9-4c44-a111-27b5dea619b0"
   },
   "outputs": [
    {
     "name": "stdout",
     "output_type": "stream",
     "text": [
      "env: OUTPATH=/home/jupyter/models/africa/cluster1/data/Bafia_Bulu/processed\n",
      "env: exp_id=maml\n",
      "env: epoch_size=6360\n",
      "env: lgs=Bafia-Bulu\n"
     ]
    }
   ],
   "source": [
    "%env OUTPATH=/home/jupyter/models/africa/cluster1/data/Bafia_Bulu/processed\n",
    "%env exp_id=maml\n",
    "%env epoch_size=6360\n",
    "%env lgs=Bafia-Bulu"
   ]
  },
  {
   "cell_type": "code",
   "execution_count": 7,
   "metadata": {
    "colab": {
     "base_uri": "https://localhost:8080/",
     "height": 85
    },
    "colab_type": "code",
    "executionInfo": {
     "elapsed": 5698,
     "status": "ok",
     "timestamp": 1589811063934,
     "user": {
      "displayName": "Pascal Tikeng",
      "photoUrl": "",
      "userId": "15074930698580545771"
     },
     "user_tz": -120
    },
    "id": "2ms98EL7Ak6y",
    "outputId": "15cffce9-2bbc-44b0-e47e-2501ec99f983"
   },
   "outputs": [
    {
     "name": "stdout",
     "output_type": "stream",
     "text": [
      "env: train_n_samples=-1\n",
      "env: valid_n_samples=-1\n",
      "env: test_n_samples=-1\n",
      "env: eval_bleu=true\n"
     ]
    }
   ],
   "source": [
    "# limit the number of examples (-1 by default for non limitation)\n",
    "%env train_n_samples=-1\n",
    "%env valid_n_samples=-1\n",
    "%env test_n_samples=-1\n",
    "#--train_n_samples $train_n_samples --valid_n_samples $valid_n_samples --test_n_samples $test_n_samples\n",
    "\n",
    "%env eval_bleu=true\n",
    "! chmod +x src/evaluation/multi-bleu.perl"
   ]
  },
  {
   "cell_type": "code",
   "execution_count": 8,
   "metadata": {
    "colab": {
     "base_uri": "https://localhost:8080/",
     "height": 122
    },
    "colab_type": "code",
    "executionInfo": {
     "elapsed": 1179,
     "status": "ok",
     "timestamp": 1589811188557,
     "user": {
      "displayName": "Pascal Tikeng",
      "photoUrl": "",
      "userId": "15074930698580545771"
     },
     "user_tz": -120
    },
    "id": "YfA23sjzAj7U",
    "outputId": "4828f016-e6f1-4b71-e437-fe13f189c50c"
   },
   "outputs": [
    {
     "name": "stdout",
     "output_type": "stream",
     "text": [
      "env: stopping_criterion=valid_mt_bleu,10\n",
      "env: validation_metrics=valid_mt_bleu\n",
      "env: reload_model=/home/jupyter/models/africa/cluster1/mlm_tlm_BafiaBulu/maml/best-valid_mlm_ppl.pth,/home/jupyter/models/africa/cluster1/mlm_tlm_BafiaBulu/maml/best-valid_mlm_ppl.pth\n",
      "env: ae_steps=Bafia,Bulu\n",
      "env: bt_steps=Bafia-Bulu-Bafia,Bulu-Bafia-Bulu\n"
     ]
    }
   ],
   "source": [
    "%env stopping_criterion=valid_mt_bleu,10\n",
    "%env validation_metrics=valid_mt_bleu\n",
    "#%env reload_model=dumped/mlm_tlm_BafiaBulu/maml/best-valid_mlm_ppl.pth,dumped/mlm_tlm_BafiaBulu/maml/best-valid_mlm_ppl.pth\n",
    "%env reload_model=/home/jupyter/models/africa/cluster1/mlm_tlm_BafiaBulu/maml/best-valid_mlm_ppl.pth,/home/jupyter/models/africa/cluster1/mlm_tlm_BafiaBulu/maml/best-valid_mlm_ppl.pth\n",
    "\n",
    "%env ae_steps=Bafia,Bulu\n",
    "%env bt_steps=Bafia-Bulu-Bafia,Bulu-Bafia-Bulu"
   ]
  },
  {
   "cell_type": "code",
   "execution_count": 4,
   "metadata": {
    "colab": {
     "base_uri": "https://localhost:8080/",
     "height": 1000
    },
    "colab_type": "code",
    "executionInfo": {
     "elapsed": 107151,
     "status": "ok",
     "timestamp": 1589811607269,
     "user": {
      "displayName": "Pascal Tikeng",
      "photoUrl": "",
      "userId": "15074930698580545771"
     },
     "user_tz": -120
    },
    "id": "-c3YwZb7ADsK",
    "outputId": "adef51d4-1ba4-4a8e-b1ea-d385fac7ca43"
   },
   "outputs": [
    {
     "name": "stdout",
     "output_type": "stream",
     "text": [
      "env: train_n_samples=-1\n",
      "env: valid_n_samples=-1\n",
      "env: test_n_samples=-1\n",
      "env: max_epoch=100\n"
     ]
    }
   ],
   "source": [
    "%env train_n_samples=-1\n",
    "%env valid_n_samples=-1\n",
    "%env test_n_samples=-1\n",
    "\n",
    "%env max_epoch=100\n",
    "\n",
    "# unsupervised MT\n",
    "#! python train.py --exp_name UnSupMT_BafiaBulu --exp_id $exp_id --dump_path ./dumped/ --reload_model $reload_model --data_path $OUTPATH --lgs $lgs --ae_steps $ae_steps --bt_steps $bt_steps --word_shuffle 3 --word_dropout 0.1 --word_blank 0.1 --lambda_ae '0:1,100000:0.1,300000:0' --encoder_only false --emb_dim 1024 --n_layers 6 --n_heads 8 --dropout 0.1 --attention_dropout 0.1 --gelu_activation true --tokens_per_batch 2000 --batch_size $batch_size --bptt 256 --optimizer adam_inverse_sqrt,beta1=0.9,beta2=0.98,lr=0.0001 --epoch_size $epoch_size --max_epoch $max_epoch --eval_bleu $eval_bleu --stopping_criterion $stopping_criterion --validation_metrics $validation_metrics --train_n_samples $train_n_samples --valid_n_samples $valid_n_samples --test_n_samples $test_n_samples --remove_long_sentences_train $remove_long_sentences_train --remove_long_sentences_valid $remove_long_sentences_valid --remove_long_sentences_test $remove_long_sentences_test    "
   ]
  },
  {
   "cell_type": "code",
   "execution_count": null,
   "metadata": {
    "colab": {},
    "colab_type": "code",
    "id": "qL4MlHgsIo4R"
   },
   "outputs": [],
   "source": [
    "#! rsync -av --progress /content/meta_XLM/XLM/dumped/mlm_tlm_BafiaBulu  /content/drive/\"My Drive\"/African_Translator/models/africa/cluster1"
   ]
  },
  {
   "cell_type": "code",
   "execution_count": 9,
   "metadata": {
    "colab": {
     "base_uri": "https://localhost:8080/",
     "height": 1000
    },
    "colab_type": "code",
    "executionInfo": {
     "elapsed": 111566,
     "status": "ok",
     "timestamp": 1589812174807,
     "user": {
      "displayName": "Pascal Tikeng",
      "photoUrl": "",
      "userId": "15074930698580545771"
     },
     "user_tz": -120
    },
    "id": "v7szyv9cH9Tx",
    "outputId": "9c34576e-08cc-4339-c4bd-7152003ea5c5"
   },
   "outputs": [
    {
     "name": "stdout",
     "output_type": "stream",
     "text": [
      "env: train_n_samples=-1\n",
      "env: valid_n_samples=-1\n",
      "env: test_n_samples=-1\n",
      "env: max_epoch=100\n",
      "env: batch_size=32\n",
      "env: dump_path=/home/jupyter/models/africa/cluster1\n",
      "env: mt_steps=Bafia-Bulu,Bulu-Bafia\n",
      "FAISS library was not found.\n",
      "FAISS not available. Switching to standard nearest neighbors search implementation.\n",
      "SLURM job: False\n",
      "0 - Number of nodes: 1\n",
      "0 - Node ID        : 0\n",
      "0 - Local rank     : 0\n",
      "0 - Global rank    : 0\n",
      "0 - World size     : 1\n",
      "0 - GPUs per node  : 1\n",
      "0 - Master         : True\n",
      "0 - Multi-node     : False\n",
      "0 - Multi-GPU      : False\n",
      "0 - Hostname       : african-translator-vm-bis-vm\n",
      "INFO - 05/24/20 04:04:31 - 0:00:00 - ============ Initialized logger ============\n",
      "INFO - 05/24/20 04:04:31 - 0:00:00 - accumulate_gradients: 1\n",
      "                                     ae_steps: ['Bafia', 'Bulu']\n",
      "                                     amp: -1\n",
      "                                     asm: False\n",
      "                                     attention_dropout: 0.1\n",
      "                                     batch_size: 32\n",
      "                                     beam_size: 1\n",
      "                                     bptt: 256\n",
      "                                     bt_src_langs: ['Bafia', 'Bulu']\n",
      "                                     bt_steps: [('Bafia', 'Bulu', 'Bafia'), ('Bulu', 'Bafia', 'Bulu')]\n",
      "                                     clip_grad_norm: 5\n",
      "                                     clm_steps: []\n",
      "                                     command: python train.py --exp_name SupMT_BafiaBulu --exp_id maml --dump_path '/home/jupyter/models/africa/cluster1' --reload_model '/home/jupyter/models/africa/cluster1/mlm_tlm_BafiaBulu/maml/best-valid_mlm_ppl.pth,/home/jupyter/models/africa/cluster1/mlm_tlm_BafiaBulu/maml/best-valid_mlm_ppl.pth' --data_path '/home/jupyter/models/africa/cluster1/data/Bafia_Bulu/processed' --lgs 'Bafia-Bulu' --ae_steps 'Bafia,Bulu' --mt_steps 'Bafia-Bulu,Bulu-Bafia' --bt_steps 'Bafia-Bulu-Bafia,Bulu-Bafia-Bulu' --word_shuffle 3 --word_dropout '0.1' --word_blank '0.1' --lambda_ae '0:1,100000:0.1,300000:0' --encoder_only false --emb_dim 1024 --n_layers 6 --n_heads 8 --dropout '0.1' --attention_dropout '0.1' --gelu_activation true --tokens_per_batch 2000 --batch_size 32 --bptt 256 --optimizer 'adam_inverse_sqrt,beta1=0.9,beta2=0.98,lr=0.0001' --epoch_size 6360 --max_epoch 100 --eval_bleu true --stopping_criterion 'valid_mt_bleu,10' --validation_metrics valid_mt_bleu --train_n_samples '-1' --valid_n_samples '-1' --test_n_samples '-1' --remove_long_sentences_train True --remove_long_sentences_valid True --remove_long_sentences_test True --exp_id \"maml\"\n",
      "                                     context_size: 0\n",
      "                                     data_path: /home/jupyter/models/africa/cluster1/data/Bafia_Bulu/processed\n",
      "                                     debug: False\n",
      "                                     debug_slurm: False\n",
      "                                     debug_train: False\n",
      "                                     dropout: 0.1\n",
      "                                     dump_path: /home/jupyter/models/africa/cluster1/SupMT_BafiaBulu/maml\n",
      "                                     early_stopping: False\n",
      "                                     emb_dim: 1024\n",
      "                                     encoder_only: False\n",
      "                                     epoch_size: 6360\n",
      "                                     eval_bleu: True\n",
      "                                     eval_only: False\n",
      "                                     exp_id: maml\n",
      "                                     exp_name: SupMT_BafiaBulu\n",
      "                                     fp16: False\n",
      "                                     gelu_activation: True\n",
      "                                     global_rank: 0\n",
      "                                     group_by_size: True\n",
      "                                     id2lang: {0: 'Bafia', 1: 'Bulu'}\n",
      "                                     is_master: True\n",
      "                                     is_slurm_job: False\n",
      "                                     lambda_ae: 0:1,100000:0.1,300000:0\n",
      "                                     lambda_bt: 1\n",
      "                                     lambda_clm: 1\n",
      "                                     lambda_mlm: 1\n",
      "                                     lambda_mt: 1\n",
      "                                     lambda_pc: 1\n",
      "                                     lang2id: {'Bafia': 0, 'Bulu': 1}\n",
      "                                     langs: ['Bafia', 'Bulu']\n",
      "                                     length_penalty: 1\n",
      "                                     lg_sampling_factor: -1\n",
      "                                     lgs: ['Bafia-Bulu']\n",
      "                                     local_rank: 0\n",
      "                                     master_port: -1\n",
      "                                     max_batch_size: 0\n",
      "                                     max_epoch: 100\n",
      "                                     max_len: 100\n",
      "                                     max_vocab: -1\n",
      "                                     meta_learning: False\n",
      "                                     meta_params: ...\n",
      "                                     min_count: 0\n",
      "                                     mlm_steps: []\n",
      "                                     mono_dataset: {'Bafia': {'train': '/home/jupyter/models/africa/cluster1/data/Bafia_Bulu/processed/train.Bafia.pth', 'valid': '/home/jupyter/models/africa/cluster1/data/Bafia_Bulu/processed/valid.Bafia.pth', 'test': '/home/jupyter/models/africa/cluster1/data/Bafia_Bulu/processed/test.Bafia.pth'}, 'Bulu': {'train': '/home/jupyter/models/africa/cluster1/data/Bafia_Bulu/processed/train.Bulu.pth', 'valid': '/home/jupyter/models/africa/cluster1/data/Bafia_Bulu/processed/valid.Bulu.pth', 'test': '/home/jupyter/models/africa/cluster1/data/Bafia_Bulu/processed/test.Bulu.pth'}}\n",
      "                                     mt_steps: [('Bafia', 'Bulu'), ('Bulu', 'Bafia')]\n",
      "                                     multi_gpu: False\n",
      "                                     multi_node: False\n",
      "                                     n_gpu_per_node: 1\n",
      "                                     n_heads: 8\n",
      "                                     n_langs: 2\n",
      "                                     n_layers: 6\n",
      "                                     n_nodes: 1\n",
      "                                     n_samples: {'train': -1, 'valid': -1, 'test': -1}\n",
      "                                     n_task: 1\n",
      "                                     node_id: 0\n",
      "                                     optimizer: adam_inverse_sqrt,beta1=0.9,beta2=0.98,lr=0.0001\n",
      "                                     para_dataset: {('Bafia', 'Bulu'): {'train': ('/home/jupyter/models/africa/cluster1/data/Bafia_Bulu/processed/train.Bafia-Bulu.Bafia.pth', '/home/jupyter/models/africa/cluster1/data/Bafia_Bulu/processed/train.Bafia-Bulu.Bulu.pth'), 'valid': ('/home/jupyter/models/africa/cluster1/data/Bafia_Bulu/processed/valid.Bafia-Bulu.Bafia.pth', '/home/jupyter/models/africa/cluster1/data/Bafia_Bulu/processed/valid.Bafia-Bulu.Bulu.pth'), 'test': ('/home/jupyter/models/africa/cluster1/data/Bafia_Bulu/processed/test.Bafia-Bulu.Bafia.pth', '/home/jupyter/models/africa/cluster1/data/Bafia_Bulu/processed/test.Bafia-Bulu.Bulu.pth')}}\n",
      "                                     pc_steps: []\n",
      "                                     reload_checkpoint: \n",
      "                                     reload_emb: \n",
      "                                     reload_model: /home/jupyter/models/africa/cluster1/mlm_tlm_BafiaBulu/maml/best-valid_mlm_ppl.pth,/home/jupyter/models/africa/cluster1/mlm_tlm_BafiaBulu/maml/best-valid_mlm_ppl.pth\n",
      "                                     remove_long_sentences: {'train': True, 'valid': True, 'test': True}\n",
      "                                     remove_long_sentences_test: True\n",
      "                                     remove_long_sentences_train: True\n",
      "                                     remove_long_sentences_valid: True\n",
      "                                     sample_alpha: 0\n",
      "                                     save_periodic: 0\n",
      "                                     share_inout_emb: True\n",
      "                                     sinusoidal_embeddings: False\n",
      "                                     split_data: False\n",
      "                                     stopping_criterion: valid_mt_bleu,10\n",
      "                                     test_n_samples: -1\n",
      "                                     tokens_per_batch: 2000\n",
      "                                     train_n_samples: -1\n",
      "                                     use_lang_emb: True\n",
      "                                     use_memory: False\n",
      "                                     valid_n_samples: -1\n",
      "                                     validation_metrics: valid_mt_bleu\n",
      "                                     word_blank: 0.1\n",
      "                                     word_dropout: 0.1\n",
      "                                     word_keep: 0.1\n",
      "                                     word_mask: 0.8\n",
      "                                     word_mask_keep_rand: 0.8,0.1,0.1\n",
      "                                     word_pred: 0.15\n",
      "                                     word_rand: 0.1\n",
      "                                     word_shuffle: 3.0\n",
      "                                     world_size: 1\n",
      "INFO - 05/24/20 04:04:31 - 0:00:00 - The experiment will be stored in /home/jupyter/models/africa/cluster1/SupMT_BafiaBulu/maml\n",
      "                                     \n",
      "INFO - 05/24/20 04:04:31 - 0:00:00 - Running command: python train.py --exp_name SupMT_BafiaBulu --exp_id maml --dump_path '/home/jupyter/models/africa/cluster1' --reload_model '/home/jupyter/models/africa/cluster1/mlm_tlm_BafiaBulu/maml/best-valid_mlm_ppl.pth,/home/jupyter/models/africa/cluster1/mlm_tlm_BafiaBulu/maml/best-valid_mlm_ppl.pth' --data_path '/home/jupyter/models/africa/cluster1/data/Bafia_Bulu/processed' --lgs 'Bafia-Bulu' --ae_steps 'Bafia,Bulu' --mt_steps 'Bafia-Bulu,Bulu-Bafia' --bt_steps 'Bafia-Bulu-Bafia,Bulu-Bafia-Bulu' --word_shuffle 3 --word_dropout '0.1' --word_blank '0.1' --lambda_ae '0:1,100000:0.1,300000:0' --encoder_only false --emb_dim 1024 --n_layers 6 --n_heads 8 --dropout '0.1' --attention_dropout '0.1' --gelu_activation true --tokens_per_batch 2000 --batch_size 32 --bptt 256 --optimizer 'adam_inverse_sqrt,beta1=0.9,beta2=0.98,lr=0.0001' --epoch_size 6360 --max_epoch 100 --eval_bleu true --stopping_criterion 'valid_mt_bleu,10' --validation_metrics valid_mt_bleu --train_n_samples '-1' --valid_n_samples '-1' --test_n_samples '-1' --remove_long_sentences_train True --remove_long_sentences_valid True --remove_long_sentences_test True\n",
      "\n",
      "WARNING - 05/24/20 04:04:31 - 0:00:00 - Signal handler installed.\n",
      "INFO - 05/24/20 04:04:31 - 0:00:00 - ============ langs: Bafia, Bulu\n",
      "INFO - 05/24/20 04:04:31 - 0:00:00 - ============ Monolingual data (Bafia)\n",
      "INFO - 05/24/20 04:04:31 - 0:00:00 - Loading data from /home/jupyter/models/africa/cluster1/data/Bafia_Bulu/processed/train.Bafia.pth ...\n"
     ]
    },
    {
     "name": "stdout",
     "output_type": "stream",
     "text": [
      "INFO - 05/24/20 04:04:31 - 0:00:00 - 274456 words (8683 unique) in 6359 sentences. 0 unknown words (0 unique) covering 0.00% of the data.\n",
      "INFO - 05/24/20 04:04:31 - 0:00:00 - ========================== debug : 1\n",
      "INFO - 05/24/20 04:04:31 - 0:00:00 - ========================== debug : 2\n",
      "INFO - 05/24/20 04:04:31 - 0:00:00 - Removed 0 empty sentences.\n",
      "INFO - 05/24/20 04:04:31 - 0:00:00 - Removed 36 too long sentences.\n",
      "\n",
      "INFO - 05/24/20 04:04:31 - 0:00:00 - Loading data from /home/jupyter/models/africa/cluster1/data/Bafia_Bulu/processed/valid.Bafia.pth ...\n",
      "INFO - 05/24/20 04:04:31 - 0:00:00 - 34569 words (8683 unique) in 794 sentences. 46 unknown words (38 unique) covering 0.13% of the data.\n",
      "INFO - 05/24/20 04:04:31 - 0:00:00 - ========================== debug : 3\n",
      "INFO - 05/24/20 04:04:31 - 0:00:00 - ========================== debug : 4\n",
      "INFO - 05/24/20 04:04:31 - 0:00:00 - Removed 3 too long sentences.\n",
      "\n",
      "INFO - 05/24/20 04:04:31 - 0:00:00 - Loading data from /home/jupyter/models/africa/cluster1/data/Bafia_Bulu/processed/test.Bafia.pth ...\n",
      "INFO - 05/24/20 04:04:31 - 0:00:00 - 35025 words (8683 unique) in 794 sentences. 52 unknown words (42 unique) covering 0.15% of the data.\n",
      "INFO - 05/24/20 04:04:31 - 0:00:00 - ========================== debug : 5\n",
      "INFO - 05/24/20 04:04:31 - 0:00:00 - ========================== debug : 6\n",
      "INFO - 05/24/20 04:04:31 - 0:00:00 - Removed 3 too long sentences.\n",
      "\n",
      "INFO - 05/24/20 04:04:31 - 0:00:00 - ============ Monolingual data (Bulu)\n",
      "INFO - 05/24/20 04:04:31 - 0:00:00 - Loading data from /home/jupyter/models/africa/cluster1/data/Bafia_Bulu/processed/train.Bulu.pth ...\n",
      "INFO - 05/24/20 04:04:31 - 0:00:00 - 180730 words (8683 unique) in 6359 sentences. 0 unknown words (0 unique) covering 0.00% of the data.\n",
      "INFO - 05/24/20 04:04:31 - 0:00:00 - ========================== debug : 7\n",
      "INFO - 05/24/20 04:04:31 - 0:00:00 - ========================== debug : 8\n",
      "INFO - 05/24/20 04:04:31 - 0:00:00 - Removed 0 empty sentences.\n",
      "INFO - 05/24/20 04:04:31 - 0:00:00 - Removed 0 too long sentences.\n",
      "\n",
      "INFO - 05/24/20 04:04:31 - 0:00:00 - Loading data from /home/jupyter/models/africa/cluster1/data/Bafia_Bulu/processed/valid.Bulu.pth ...\n",
      "INFO - 05/24/20 04:04:31 - 0:00:00 - 23036 words (8683 unique) in 794 sentences. 61 unknown words (52 unique) covering 0.26% of the data.\n",
      "INFO - 05/24/20 04:04:31 - 0:00:00 - ========================== debug : 9\n",
      "INFO - 05/24/20 04:04:31 - 0:00:00 - ========================== debug : 10\n",
      "INFO - 05/24/20 04:04:31 - 0:00:00 - Removed 0 too long sentences.\n",
      "\n",
      "INFO - 05/24/20 04:04:31 - 0:00:00 - Loading data from /home/jupyter/models/africa/cluster1/data/Bafia_Bulu/processed/test.Bulu.pth ...\n",
      "INFO - 05/24/20 04:04:31 - 0:00:00 - 23180 words (8683 unique) in 794 sentences. 59 unknown words (54 unique) covering 0.25% of the data.\n",
      "INFO - 05/24/20 04:04:31 - 0:00:00 - ========================== debug : 11\n",
      "INFO - 05/24/20 04:04:31 - 0:00:00 - ========================== debug : 12\n",
      "INFO - 05/24/20 04:04:31 - 0:00:00 - Removed 0 too long sentences.\n",
      "\n",
      "\n",
      "INFO - 05/24/20 04:04:31 - 0:00:00 - ============ Parallel data (Bafia-Bulu)\n",
      "INFO - 05/24/20 04:04:31 - 0:00:00 - Loading data from /home/jupyter/models/africa/cluster1/data/Bafia_Bulu/processed/train.Bafia-Bulu.Bafia.pth ...\n",
      "INFO - 05/24/20 04:04:31 - 0:00:00 - 274456 words (8683 unique) in 6359 sentences. 0 unknown words (0 unique) covering 0.00% of the data.\n",
      "INFO - 05/24/20 04:04:31 - 0:00:00 - Loading data from /home/jupyter/models/africa/cluster1/data/Bafia_Bulu/processed/train.Bafia-Bulu.Bulu.pth ...\n",
      "INFO - 05/24/20 04:04:31 - 0:00:00 - 180730 words (8683 unique) in 6359 sentences. 0 unknown words (0 unique) covering 0.00% of the data.\n",
      "INFO - 05/24/20 04:04:31 - 0:00:00 - ========================== debug : 13\n",
      "INFO - 05/24/20 04:04:31 - 0:00:00 - Removed 0 empty sentences.\n",
      "INFO - 05/24/20 04:04:31 - 0:00:00 - Removed 0 empty sentences.\n",
      "INFO - 05/24/20 04:04:31 - 0:00:00 - Removed 36 too long sentences.\n",
      "\n",
      "INFO - 05/24/20 04:04:31 - 0:00:00 - Loading data from /home/jupyter/models/africa/cluster1/data/Bafia_Bulu/processed/valid.Bafia-Bulu.Bafia.pth ...\n",
      "INFO - 05/24/20 04:04:31 - 0:00:00 - 34569 words (8683 unique) in 794 sentences. 46 unknown words (38 unique) covering 0.13% of the data.\n",
      "INFO - 05/24/20 04:04:31 - 0:00:00 - Loading data from /home/jupyter/models/africa/cluster1/data/Bafia_Bulu/processed/valid.Bafia-Bulu.Bulu.pth ...\n",
      "INFO - 05/24/20 04:04:31 - 0:00:00 - 23036 words (8683 unique) in 794 sentences. 61 unknown words (52 unique) covering 0.26% of the data.\n",
      "INFO - 05/24/20 04:04:31 - 0:00:00 - ========================== debug : 14\n",
      "INFO - 05/24/20 04:04:31 - 0:00:00 - Removed 0 empty sentences.\n",
      "INFO - 05/24/20 04:04:31 - 0:00:00 - Removed 3 too long sentences.\n",
      "\n",
      "INFO - 05/24/20 04:04:31 - 0:00:00 - Loading data from /home/jupyter/models/africa/cluster1/data/Bafia_Bulu/processed/test.Bafia-Bulu.Bafia.pth ...\n",
      "INFO - 05/24/20 04:04:31 - 0:00:00 - 35025 words (8683 unique) in 794 sentences. 52 unknown words (42 unique) covering 0.15% of the data.\n",
      "INFO - 05/24/20 04:04:31 - 0:00:00 - Loading data from /home/jupyter/models/africa/cluster1/data/Bafia_Bulu/processed/test.Bafia-Bulu.Bulu.pth ...\n",
      "INFO - 05/24/20 04:04:31 - 0:00:00 - 23180 words (8683 unique) in 794 sentences. 59 unknown words (54 unique) covering 0.25% of the data.\n",
      "INFO - 05/24/20 04:04:31 - 0:00:00 - ========================== debug : 15\n",
      "INFO - 05/24/20 04:04:31 - 0:00:00 - Removed 0 empty sentences.\n",
      "INFO - 05/24/20 04:04:31 - 0:00:00 - Removed 3 too long sentences.\n",
      "\n",
      "\n",
      "INFO - 05/24/20 04:04:31 - 0:00:00 - ============ Data summary\n",
      "INFO - 05/24/20 04:04:31 - 0:00:00 - Monolingual data   - train -        Bafia:      6359\n",
      "INFO - 05/24/20 04:04:31 - 0:00:00 - Monolingual data   - valid -        Bafia:       794\n",
      "INFO - 05/24/20 04:04:31 - 0:00:00 - Monolingual data   -  test -        Bafia:       794\n",
      "INFO - 05/24/20 04:04:31 - 0:00:00 - Monolingual data   - train -         Bulu:      6359\n",
      "INFO - 05/24/20 04:04:31 - 0:00:00 - Monolingual data   - valid -         Bulu:       794\n",
      "INFO - 05/24/20 04:04:31 - 0:00:00 - Monolingual data   -  test -         Bulu:       794\n",
      "INFO - 05/24/20 04:04:31 - 0:00:00 - Parallel data      - train -   Bafia-Bulu:      6323\n",
      "INFO - 05/24/20 04:04:31 - 0:00:00 - Parallel data      - valid -   Bafia-Bulu:       791\n",
      "INFO - 05/24/20 04:04:31 - 0:00:00 - Parallel data      -  test -   Bafia-Bulu:       791\n",
      "\n",
      "INFO - 05/24/20 04:04:33 - 0:00:02 - Reloading encoder from /home/jupyter/models/africa/cluster1/mlm_tlm_BafiaBulu/maml/best-valid_mlm_ppl.pth ...\n",
      "Traceback (most recent call last):\n",
      "  File \"train.py\", line 619, in <module>\n",
      "    main(params)\n",
      "  File \"train.py\", line 265, in main\n",
      "    encoder, decoder = build_model(params = p, dico = data['dico'])\n",
      "  File \"/home/jupyter/meta_XLM/XLM/src/model/__init__.py\", line 164, in build_model\n",
      "    encoder.load_state_dict(enc_reload)\n",
      "  File \"/opt/conda/lib/python3.7/site-packages/torch/nn/modules/module.py\", line 830, in load_state_dict\n",
      "    self.__class__.__name__, \"\\n\\t\".join(error_msgs)))\n",
      "RuntimeError: Error(s) in loading state_dict for TransformerModel:\n",
      "\tsize mismatch for embeddings.weight: copying a param with shape torch.Size([9450, 1024]) from checkpoint, the shape in current model is torch.Size([8683, 1024]).\n",
      "\tsize mismatch for pred_layer.proj.weight: copying a param with shape torch.Size([9450, 1024]) from checkpoint, the shape in current model is torch.Size([8683, 1024]).\n",
      "\tsize mismatch for pred_layer.proj.bias: copying a param with shape torch.Size([9450]) from checkpoint, the shape in current model is torch.Size([8683]).\n"
     ]
    }
   ],
   "source": [
    "%env train_n_samples=-1\n",
    "%env valid_n_samples=-1\n",
    "%env test_n_samples=-1\n",
    "\n",
    "%env max_epoch=100\n",
    "%env batch_size=32\n",
    "%env dump_path=/home/jupyter/models/africa/cluster1\n",
    "# supervised MT\n",
    "%env mt_steps=Bafia-Bulu,Bulu-Bafia          \n",
    "! python train.py --exp_name SupMT_BafiaBulu --exp_id $exp_id  --dump_path $dump_path --reload_model $reload_model --data_path $OUTPATH --lgs $lgs --ae_steps $ae_steps --mt_steps $mt_steps --bt_steps $bt_steps --word_shuffle 3 --word_dropout 0.1 --word_blank 0.1 --lambda_ae '0:1,100000:0.1,300000:0' --encoder_only false --emb_dim 1024 --n_layers 6 --n_heads 8 --dropout 0.1 --attention_dropout 0.1 --gelu_activation true --tokens_per_batch 2000 --batch_size $batch_size --bptt 256 --optimizer adam_inverse_sqrt,beta1=0.9,beta2=0.98,lr=0.0001 --epoch_size $epoch_size --max_epoch $max_epoch --eval_bleu $eval_bleu --stopping_criterion $stopping_criterion --validation_metrics $validation_metrics --train_n_samples $train_n_samples --valid_n_samples $valid_n_samples --test_n_samples $test_n_samples --remove_long_sentences_train $remove_long_sentences_train --remove_long_sentences_valid $remove_long_sentences_valid --remove_long_sentences_test $remove_long_sentences_test    "
   ]
  },
  {
   "cell_type": "code",
   "execution_count": null,
   "metadata": {
    "colab": {},
    "colab_type": "code",
    "id": "v0KOUuN4Irt4"
   },
   "outputs": [],
   "source": [
    "#! rsync -av --progress /content/meta_XLM/XLM/dumped/mlm_tlm_BafiaBulu  /content/drive/\"My Drive\"/African_Translator/models/africa/cluster1"
   ]
  },
  {
   "cell_type": "code",
   "execution_count": null,
   "metadata": {
    "colab": {},
    "colab_type": "code",
    "id": "oWVXFKOuMNw6"
   },
   "outputs": [],
   "source": [
    "d=[]\n",
    "while(1):\n",
    "  d.append(d)"
   ]
  }
 ],
 "metadata": {
  "accelerator": "GPU",
  "colab": {
   "authorship_tag": "ABX9TyMtOrPD/+LoOAI+NDcKA4Iw",
   "collapsed_sections": [],
   "name": "XLM_Bafia_Bulu.ipynb",
   "provenance": []
  },
  "environment": {
   "name": "pytorch-gpu.1-4.m46",
   "type": "gcloud",
   "uri": "gcr.io/deeplearning-platform-release/pytorch-gpu.1-4:m46"
  },
  "kernelspec": {
   "display_name": "Python 3",
   "language": "python",
   "name": "python3"
  },
  "language_info": {
   "codemirror_mode": {
    "name": "ipython",
    "version": 3
   },
   "file_extension": ".py",
   "mimetype": "text/x-python",
   "name": "python",
   "nbconvert_exporter": "python",
   "pygments_lexer": "ipython3",
   "version": "3.7.6"
  }
 },
 "nbformat": 4,
 "nbformat_minor": 4
}
