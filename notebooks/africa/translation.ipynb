{
 "cells": [
  {
   "cell_type": "code",
   "execution_count": null,
   "metadata": {},
   "outputs": [],
   "source": []
  },
  {
   "cell_type": "code",
   "execution_count": 61,
   "metadata": {},
   "outputs": [
    {
     "name": "stdout",
     "output_type": "stream",
     "text": [
      "(bookmark:HOME) -> /home/jupyter/meta_XLM/XLM\n",
      "/home/jupyter/meta_XLM/XLM\n"
     ]
    }
   ],
   "source": [
    "%bookmark HOME \"/home/jupyter/meta_XLM/XLM\" \n",
    "%cd -b HOME"
   ]
  },
  {
   "cell_type": "markdown",
   "metadata": {},
   "source": [
    "# English  "
   ]
  },
  {
   "cell_type": "code",
   "execution_count": 66,
   "metadata": {},
   "outputs": [
    {
     "name": "stdout",
     "output_type": "stream",
     "text": [
      "env: tgt_lang=en\n",
      "env: model_path=/home/jupyter/models/africa/cluster1/SupMT_cluster1en/maml/best-valid_en-Bulu_mt_bleu.pth\n"
     ]
    }
   ],
   "source": [
    "%env tgt_lang=en\n",
    "%env model_path=/home/jupyter/models/africa/cluster1/SupMT_cluster1en/maml/best-valid_en-Bulu_mt_bleu.pth"
   ]
  },
  {
   "cell_type": "markdown",
   "metadata": {},
   "source": [
    "### Bafia-English\n",
    "ɓɛ yila g ɓɛ ɗimzɛ nga ri teɗ ɗi bi rɛs , lɔŋ bi rɛs bog yɛ ɛnɛ ɓɛ ɓagha ri yɔ ɓi ki kɔm .\n",
    "[SEP]\n",
    "com ki mɛ ɛ nkɔ ngi lɛ nkpaa mi ni ɓi kaa ta wɛ m ki nɗi lɛ , ɓi ghɛ ɛ sɛɛ ɓi kira rɛɛ ri ŋwaa nɛ a ri lɛ , a ree ghre ŋɗɛ n lɛ ki ristɛ n ki ɓan kifog a ki ki ti sɔ mɔ g , a fa nɗem ri i kum , a ki ki ɓi nu n , a keesi ɓɔlɛ , nyi ki nɔɔ -mɛ rɔ g nsoo lɛ wiiwi i ; ɓi ghɛ ɛ sɛɛ ɓi gi ki ɗisɛɛ ri ri kuu ɗi mum ɗi n .\n",
    "\n",
    "[TO]\n",
    "\n",
    "now the disciples had forgotten to take bread , neither had they in the ship with them more than one loaf .\n",
    "[SEP]\n",
    "but now i have written unto you not to keep company , if any man that is called a brother be a fornicator , or covetous , or an idolater , or a railer , or a drunkard , or an extortioner ; with such an one no not to eat .\n",
    "\n",
    "[MODEL]\n",
    "\n",
    "and they were forgotten to take bread , and one bread , and one for a few .\n",
    "[SEP]\n",
    "but i would not have you to speak as i te ɗ : lest , when any man have bound and committed fornication , he shall wowog away that which is weak , and shall drink the wine of the wrath of the weak , and be ye cannot drink that which is weak .\n",
    "\n",
    "[not good]"
   ]
  },
  {
   "cell_type": "code",
   "execution_count": 70,
   "metadata": {},
   "outputs": [
    {
     "name": "stdout",
     "output_type": "stream",
     "text": [
      "env: src_lang=Bafia\n",
      "env: text=\"ɓɛ yila g ɓɛ ɗimzɛ nga ri teɗ ɗi bi rɛs , lɔŋ bi rɛs bog yɛ ɛnɛ ɓɛ ɓagha ri yɔ ɓi ki kɔm .[SEP]com ki mɛ ɛ nkɔ ngi lɛ nkpaa mi ni ɓi kaa ta wɛ m ki nɗi lɛ , ɓi ghɛ ɛ sɛɛ ɓi kira rɛɛ ri ŋwaa nɛ a ri lɛ , a ree ghre ŋɗɛ n lɛ ki ristɛ n ki ɓan kifog a ki ki ti sɔ mɔ g , a fa nɗem ri i kum , a ki ki ɓi nu n , a keesi ɓɔlɛ , nyi ki nɔɔ \\-mɛ rɔ g nsoo lɛ wiiwi i ; ɓi ghɛ ɛ sɛɛ ɓi gi ki ɗisɛɛ ri ri kuu ɗi mum ɗi n .\"\n",
      "FAISS library was not found.\n",
      "FAISS not available. Switching to standard nearest neighbors search implementation.\n",
      "INFO - 06/15/20 18:37:10 - 0:00:00 - ============ Initialized logger ============\n",
      "INFO - 06/15/20 18:37:10 - 0:00:00 - batch_size: 32\n",
      "                                     command: python translate_our.py --exp_name translate --exp_id test --src_lang Bafia --tgt_lang en --model_path '/home/jupyter/models/africa/cluster1/SupMT_cluster1en/maml/best-valid_en-Bulu_mt_bleu.pth' --text '\"ɓɛ' yila g 'ɓɛ' 'ɗimzɛ' nga ri 'teɗ' 'ɗi' bi 'rɛs' ',' 'lɔŋ' bi 'rɛs' bog 'yɛ' 'ɛnɛ' 'ɓɛ' 'ɓagha' ri 'yɔ' 'ɓi' ki 'kɔm' '.[SEP]com' ki 'mɛ' 'ɛ' 'nkɔ' ngi 'lɛ' nkpaa mi ni 'ɓi' kaa ta 'wɛ' m ki 'nɗi' 'lɛ' ',' 'ɓi' 'ghɛ' 'ɛ' 'sɛɛ' 'ɓi' kira 'rɛɛ' ri 'ŋwaa' 'nɛ' a ri 'lɛ' ',' a ree ghre 'ŋɗɛ' n 'lɛ' ki 'ristɛ' n ki 'ɓan' kifog a ki ki ti 'sɔ' 'mɔ' g ',' a fa 'nɗem' ri i kum ',' a ki ki 'ɓi' nu n ',' a keesi 'ɓɔlɛ' ',' nyi ki 'nɔɔ' '\\-mɛ' 'rɔ' g nsoo 'lɛ' wiiwi i ';' 'ɓi' 'ghɛ' 'ɛ' 'sɛɛ' 'ɓi' gi ki 'ɗisɛɛ' ri ri kuu 'ɗi' mum 'ɗi' n '.\"' --exp_id \"test\"\n",
      "                                     dump_path: ./dumped/translate/test\n",
      "                                     exp_id: test\n",
      "                                     exp_name: translate\n",
      "                                     model_path: /home/jupyter/models/africa/cluster1/SupMT_cluster1en/maml/best-valid_en-Bulu_mt_bleu.pth\n",
      "                                     output_path: \n",
      "                                     src_lang: Bafia\n",
      "                                     text: ɓɛ yila g ɓɛ ɗimzɛ nga ri teɗ ɗi bi rɛs , lɔŋ bi rɛs bog yɛ ɛnɛ ɓɛ ɓagha ri yɔ ɓi ki kɔm .[SEP]com ki mɛ ɛ nkɔ ngi lɛ nkpaa mi ni ɓi kaa ta wɛ m ki nɗi lɛ , ɓi ghɛ ɛ sɛɛ ɓi kira rɛɛ ri ŋwaa nɛ a ri lɛ , a ree ghre ŋɗɛ n lɛ ki ristɛ n ki ɓan kifog a ki ki ti sɔ mɔ g , a fa nɗem ri i kum , a ki ki ɓi nu n , a keesi ɓɔlɛ , nyi ki nɔɔ \\-mɛ rɔ g nsoo lɛ wiiwi i ; ɓi ghɛ ɛ sɛɛ ɓi gi ki ɗisɛɛ ri ri kuu ɗi mum ɗi n .\n",
      "                                     tgt_lang: en\n",
      "INFO - 06/15/20 18:37:10 - 0:00:00 - The experiment will be stored in ./dumped/translate/test\n",
      "                                     \n",
      "INFO - 06/15/20 18:37:10 - 0:00:00 - Running command: python translate_our.py --exp_name translate --exp_id test --src_lang Bafia --tgt_lang en --model_path '/home/jupyter/models/africa/cluster1/SupMT_cluster1en/maml/best-valid_en-Bulu_mt_bleu.pth' --text '\"ɓɛ' yila g 'ɓɛ' 'ɗimzɛ' nga ri 'teɗ' 'ɗi' bi 'rɛs' ',' 'lɔŋ' bi 'rɛs' bog 'yɛ' 'ɛnɛ' 'ɓɛ' 'ɓagha' ri 'yɔ' 'ɓi' ki 'kɔm' '.[SEP]com' ki 'mɛ' 'ɛ' 'nkɔ' ngi 'lɛ' nkpaa mi ni 'ɓi' kaa ta 'wɛ' m ki 'nɗi' 'lɛ' ',' 'ɓi' 'ghɛ' 'ɛ' 'sɛɛ' 'ɓi' kira 'rɛɛ' ri 'ŋwaa' 'nɛ' a ri 'lɛ' ',' a ree ghre 'ŋɗɛ' n 'lɛ' ki 'ristɛ' n ki 'ɓan' kifog a ki ki ti 'sɔ' 'mɔ' g ',' a fa 'nɗem' ri i kum ',' a ki ki 'ɓi' nu n ',' a keesi 'ɓɔlɛ' ',' nyi ki 'nɔɔ' '\\-mɛ' 'rɔ' g nsoo 'lɛ' wiiwi i ';' 'ɓi' 'ghɛ' 'ɛ' 'sɛɛ' 'ɓi' gi ki 'ɗisɛɛ' ri ri kuu 'ɗi' mum 'ɗi' n '.\"'\n",
      "\n",
      "INFO - 06/15/20 18:37:10 - 0:00:00 - ============ Initialized logger ============\n",
      "INFO - 06/15/20 18:37:10 - 0:00:00 - batch_size: 32\n",
      "                                     command: python translate_our.py --exp_name translate --exp_id test --src_lang Bafia --tgt_lang en --model_path '/home/jupyter/models/africa/cluster1/SupMT_cluster1en/maml/best-valid_en-Bulu_mt_bleu.pth' --text '\"ɓɛ' yila g 'ɓɛ' 'ɗimzɛ' nga ri 'teɗ' 'ɗi' bi 'rɛs' ',' 'lɔŋ' bi 'rɛs' bog 'yɛ' 'ɛnɛ' 'ɓɛ' 'ɓagha' ri 'yɔ' 'ɓi' ki 'kɔm' '.[SEP]com' ki 'mɛ' 'ɛ' 'nkɔ' ngi 'lɛ' nkpaa mi ni 'ɓi' kaa ta 'wɛ' m ki 'nɗi' 'lɛ' ',' 'ɓi' 'ghɛ' 'ɛ' 'sɛɛ' 'ɓi' kira 'rɛɛ' ri 'ŋwaa' 'nɛ' a ri 'lɛ' ',' a ree ghre 'ŋɗɛ' n 'lɛ' ki 'ristɛ' n ki 'ɓan' kifog a ki ki ti 'sɔ' 'mɔ' g ',' a fa 'nɗem' ri i kum ',' a ki ki 'ɓi' nu n ',' a keesi 'ɓɔlɛ' ',' nyi ki 'nɔɔ' '\\-mɛ' 'rɔ' g nsoo 'lɛ' wiiwi i ';' 'ɓi' 'ghɛ' 'ɛ' 'sɛɛ' 'ɓi' gi ki 'ɗisɛɛ' ri ri kuu 'ɗi' mum 'ɗi' n '.\"' --exp_id \"test\"\n",
      "                                     dump_path: ./dumped/translate/test/translate/test\n",
      "                                     exp_id: test\n",
      "                                     exp_name: translate\n",
      "                                     model_path: /home/jupyter/models/africa/cluster1/SupMT_cluster1en/maml/best-valid_en-Bulu_mt_bleu.pth\n",
      "                                     src_lang: Bafia\n",
      "                                     text: ['\"ɓɛ', 'yila', 'g', 'ɓɛ', 'ɗimzɛ', 'nga', 'ri', 'teɗ', 'ɗi', 'bi', 'rɛs', ',', 'lɔŋ', 'bi', 'rɛs', 'bog', 'yɛ', 'ɛnɛ', 'ɓɛ', 'ɓagha', 'ri', 'yɔ', 'ɓi', 'ki', 'kɔm', '.[SEP]com', 'ki', 'mɛ', 'ɛ', 'nkɔ', 'ngi', 'lɛ', 'nkpaa', 'mi', 'ni', 'ɓi', 'kaa', 'ta', 'wɛ', 'm', 'ki', 'nɗi', 'lɛ', ',', 'ɓi', 'ghɛ', 'ɛ', 'sɛɛ', 'ɓi', 'kira', 'rɛɛ', 'ri', 'ŋwaa', 'nɛ', 'a', 'ri', 'lɛ', ',', 'a', 'ree', 'ghre', 'ŋɗɛ', 'n', 'lɛ', 'ki', 'ristɛ', 'n', 'ki', 'ɓan', 'kifog', 'a', 'ki', 'ki', 'ti', 'sɔ', 'mɔ', 'g', ',', 'a', 'fa', 'nɗem', 'ri', 'i', 'kum', ',', 'a', 'ki', 'ki', 'ɓi', 'nu', 'n', ',', 'a', 'keesi', 'ɓɔlɛ', ',', 'nyi', 'ki', 'nɔɔ', '\\\\-mɛ', 'rɔ', 'g', 'nsoo', 'lɛ', 'wiiwi', 'i', ';', 'ɓi', 'ghɛ', 'ɛ', 'sɛɛ', 'ɓi', 'gi', 'ki', 'ɗisɛɛ', 'ri', 'ri', 'kuu', 'ɗi', 'mum', 'ɗi', 'n', '.\"']\n",
      "                                     tgt_lang: en\n",
      "INFO - 06/15/20 18:37:10 - 0:00:00 - The experiment will be stored in ./dumped/translate/test/translate/test\n",
      "                                     \n",
      "INFO - 06/15/20 18:37:10 - 0:00:00 - Running command: python translate_our.py --exp_name translate --exp_id test --src_lang Bafia --tgt_lang en --model_path '/home/jupyter/models/africa/cluster1/SupMT_cluster1en/maml/best-valid_en-Bulu_mt_bleu.pth' --text '\"ɓɛ' yila g 'ɓɛ' 'ɗimzɛ' nga ri 'teɗ' 'ɗi' bi 'rɛs' ',' 'lɔŋ' bi 'rɛs' bog 'yɛ' 'ɛnɛ' 'ɓɛ' 'ɓagha' ri 'yɔ' 'ɓi' ki 'kɔm' '.[SEP]com' ki 'mɛ' 'ɛ' 'nkɔ' ngi 'lɛ' nkpaa mi ni 'ɓi' kaa ta 'wɛ' m ki 'nɗi' 'lɛ' ',' 'ɓi' 'ghɛ' 'ɛ' 'sɛɛ' 'ɓi' kira 'rɛɛ' ri 'ŋwaa' 'nɛ' a ri 'lɛ' ',' a ree ghre 'ŋɗɛ' n 'lɛ' ki 'ristɛ' n ki 'ɓan' kifog a ki ki ti 'sɔ' 'mɔ' g ',' a fa 'nɗem' ri i kum ',' a ki ki 'ɓi' nu n ',' a keesi 'ɓɔlɛ' ',' nyi ki 'nɔɔ' '\\-mɛ' 'rɔ' g nsoo 'lɛ' wiiwi i ';' 'ɓi' 'ghɛ' 'ɛ' 'sɛɛ' 'ɓi' gi ki 'ɗisɛɛ' ri ri kuu 'ɗi' mum 'ɗi' n '.\"'\n",
      "\n",
      "INFO - 06/15/20 18:37:10 - 0:00:01 - Supported languages: Bafia, Bulu, MKPAMAN_AMVOE_Ewondo, en, fr\n",
      "0 / 2: ɓɛ yila g ɓɛ ɗimzɛ nga ri teɗ ɗi bi rɛs , lɔŋ bi rɛs bog yɛ ɛnɛ ɓɛ ɓagha ri yɔ ɓi ki kɔm . -> and they were forgotten to take bread , and one bread , and one for a few .\n",
      "1 / 2: com ki mɛ ɛ nkɔ ngi lɛ nkpaa mi ni ɓi kaa ta wɛ m ki nɗi lɛ , ɓi ghɛ ɛ sɛɛ ɓi kira rɛɛ ri ŋwaa nɛ a ri lɛ , a ree ghre ŋɗɛ n lɛ ki ristɛ n ki ɓan kifog a ki ki ti sɔ mɔ g , a fa nɗem ri i kum , a ki ki ɓi nu n , a keesi ɓɔlɛ , nyi ki nɔɔ \\-mɛ rɔ g nsoo lɛ wiiwi i ; ɓi ghɛ ɛ sɛɛ ɓi gi ki ɗisɛɛ ri ri kuu ɗi mum ɗi n . -> but i would not have you to speak as i te ɗ : lest , when any man have bound and committed fornication , he shall wowog away that which is weak , and shall drink the wine of the wrath of the weak , and be ye cannot drink that which is weak .\n",
      "['and they were forgotten to take bread , and one bread , and one for a few .', 'but i would not have you to speak as i te ɗ : lest , when any man have bound and committed fornication , he shall wowog away that which is weak , and shall drink the wine of the wrath of the weak , and be ye cannot drink that which is weak .']\n"
     ]
    }
   ],
   "source": [
    "# Note : change '-mɛ' to '\\-mɛ'\n",
    "%env src_lang=Bafia\n",
    "%env text \"ɓɛ yila g ɓɛ ɗimzɛ nga ri teɗ ɗi bi rɛs , lɔŋ bi rɛs bog yɛ ɛnɛ ɓɛ ɓagha ri yɔ ɓi ki kɔm .[SEP]com ki mɛ ɛ nkɔ ngi lɛ nkpaa mi ni ɓi kaa ta wɛ m ki nɗi lɛ , ɓi ghɛ ɛ sɛɛ ɓi kira rɛɛ ri ŋwaa nɛ a ri lɛ , a ree ghre ŋɗɛ n lɛ ki ristɛ n ki ɓan kifog a ki ki ti sɔ mɔ g , a fa nɗem ri i kum , a ki ki ɓi nu n , a keesi ɓɔlɛ , nyi ki nɔɔ \\-mɛ rɔ g nsoo lɛ wiiwi i ; ɓi ghɛ ɛ sɛɛ ɓi gi ki ɗisɛɛ ri ri kuu ɗi mum ɗi n .\"\n",
    "! python translate_our.py --exp_name translate --exp_id test --src_lang $src_lang --tgt_lang $tgt_lang --model_path $model_path --text ${text} "
   ]
  },
  {
   "cell_type": "markdown",
   "metadata": {},
   "source": [
    "### Bulu-English\n",
    "si e mbe ndaman e mise me zambe , si e mbe njalane njet .\n",
    "[SEP]\n",
    "israel ase , bemvende be , betebʼosu ya mewosane be a betyiʼi mejo be , be mbe be tele mekuʼu mese ya ewolo elat , beyen a bebialebiale , asu bone be levi be ne betuni , mbe be mbe be beʼe ewolo elate nti , ngabe jia e tele nkole garizim , nyo fok nkol ebal , aval abende moze , mbo esae nti e mbe na : be tate botan ayon israel .\n",
    "\n",
    "[TO]\n",
    "\n",
    "the earth also was corrupt before god , and the earth was filled with violence .\n",
    "[SEP]\n",
    "and all israel , and their elders , and officers , and their judges , stood on this side the ark and on that side before the priests the levites , which bare the ark of the covenant of the lord , as well the stranger , as he that was born among them ; half of them over against mount gerizim , and half of them over against mount ebal ; as moses the servant of the lord had commanded before , that they should bless the people of israel .\n",
    "\n",
    "[MODEL]\n",
    "\n",
    "and the earth was without form , and void ; and darkness was upon the face of the deep . \n",
    "[SEP]\n",
    "and all israel , and their elders , and officers , and their judges , stood on every side the ark and on the side of the ark of the covenant of the lord , which bare the ark of the covenant of the lord , as moses the servant of the lord commanded , and so as it was written , as the lord commanded , so let them go ."
   ]
  },
  {
   "cell_type": "code",
   "execution_count": 68,
   "metadata": {},
   "outputs": [
    {
     "name": "stdout",
     "output_type": "stream",
     "text": [
      "env: src_lang=Bulu\n",
      "env: text=\"si e mbe ndaman e mise me zambe , si e mbe njalane njet .[SEP]israel ase , bemvende be , betebʼosu ya mewosane be a betyiʼi mejo be , be mbe be tele mekuʼu mese ya ewolo elat , beyen a bebialebiale , asu bone be levi be ne betuni , mbe be mbe be beʼe ewolo elate nti , ngabe jia e tele nkole garizim , nyo fok nkol ebal , aval abende moze , mbo esae nti e mbe na : be tate botan ayon israel .\"\n",
      "FAISS library was not found.\n",
      "FAISS not available. Switching to standard nearest neighbors search implementation.\n",
      "INFO - 06/15/20 18:33:41 - 0:00:00 - ============ Initialized logger ============\n",
      "INFO - 06/15/20 18:33:41 - 0:00:00 - batch_size: 32\n",
      "                                     command: python translate_our.py --exp_name translate --exp_id test --src_lang Bulu --tgt_lang en --model_path '/home/jupyter/models/africa/cluster1/SupMT_cluster1en/maml/best-valid_en-Bulu_mt_bleu.pth' --text '\"si' e mbe ndaman e mise me zambe ',' si e mbe njalane njet '.[SEP]israel' ase ',' bemvende be ',' 'betebʼosu' ya mewosane be a 'betyiʼi' mejo be ',' be mbe be tele 'mekuʼu' mese ya ewolo elat ',' beyen a bebialebiale ',' asu bone be levi be ne betuni ',' mbe be mbe be 'beʼe' ewolo elate nti ',' ngabe jia e tele nkole garizim ',' nyo fok nkol ebal ',' aval abende moze ',' mbo esae nti e mbe na ':' be tate botan ayon israel '.\"' --exp_id \"test\"\n",
      "                                     dump_path: ./dumped/translate/test\n",
      "                                     exp_id: test\n",
      "                                     exp_name: translate\n",
      "                                     model_path: /home/jupyter/models/africa/cluster1/SupMT_cluster1en/maml/best-valid_en-Bulu_mt_bleu.pth\n",
      "                                     output_path: \n",
      "                                     src_lang: Bulu\n",
      "                                     text: si e mbe ndaman e mise me zambe , si e mbe njalane njet .[SEP]israel ase , bemvende be , betebʼosu ya mewosane be a betyiʼi mejo be , be mbe be tele mekuʼu mese ya ewolo elat , beyen a bebialebiale , asu bone be levi be ne betuni , mbe be mbe be beʼe ewolo elate nti , ngabe jia e tele nkole garizim , nyo fok nkol ebal , aval abende moze , mbo esae nti e mbe na : be tate botan ayon israel .\n",
      "                                     tgt_lang: en\n",
      "INFO - 06/15/20 18:33:41 - 0:00:00 - The experiment will be stored in ./dumped/translate/test\n",
      "                                     \n",
      "INFO - 06/15/20 18:33:41 - 0:00:00 - Running command: python translate_our.py --exp_name translate --exp_id test --src_lang Bulu --tgt_lang en --model_path '/home/jupyter/models/africa/cluster1/SupMT_cluster1en/maml/best-valid_en-Bulu_mt_bleu.pth' --text '\"si' e mbe ndaman e mise me zambe ',' si e mbe njalane njet '.[SEP]israel' ase ',' bemvende be ',' 'betebʼosu' ya mewosane be a 'betyiʼi' mejo be ',' be mbe be tele 'mekuʼu' mese ya ewolo elat ',' beyen a bebialebiale ',' asu bone be levi be ne betuni ',' mbe be mbe be 'beʼe' ewolo elate nti ',' ngabe jia e tele nkole garizim ',' nyo fok nkol ebal ',' aval abende moze ',' mbo esae nti e mbe na ':' be tate botan ayon israel '.\"'\n",
      "\n",
      "INFO - 06/15/20 18:33:41 - 0:00:00 - ============ Initialized logger ============\n",
      "INFO - 06/15/20 18:33:41 - 0:00:00 - batch_size: 32\n",
      "                                     command: python translate_our.py --exp_name translate --exp_id test --src_lang Bulu --tgt_lang en --model_path '/home/jupyter/models/africa/cluster1/SupMT_cluster1en/maml/best-valid_en-Bulu_mt_bleu.pth' --text '\"si' e mbe ndaman e mise me zambe ',' si e mbe njalane njet '.[SEP]israel' ase ',' bemvende be ',' 'betebʼosu' ya mewosane be a 'betyiʼi' mejo be ',' be mbe be tele 'mekuʼu' mese ya ewolo elat ',' beyen a bebialebiale ',' asu bone be levi be ne betuni ',' mbe be mbe be 'beʼe' ewolo elate nti ',' ngabe jia e tele nkole garizim ',' nyo fok nkol ebal ',' aval abende moze ',' mbo esae nti e mbe na ':' be tate botan ayon israel '.\"' --exp_id \"test\"\n",
      "                                     dump_path: ./dumped/translate/test/translate/test\n",
      "                                     exp_id: test\n",
      "                                     exp_name: translate\n",
      "                                     model_path: /home/jupyter/models/africa/cluster1/SupMT_cluster1en/maml/best-valid_en-Bulu_mt_bleu.pth\n",
      "                                     src_lang: Bulu\n",
      "                                     text: ['\"si', 'e', 'mbe', 'ndaman', 'e', 'mise', 'me', 'zambe', ',', 'si', 'e', 'mbe', 'njalane', 'njet', '.[SEP]israel', 'ase', ',', 'bemvende', 'be', ',', 'betebʼosu', 'ya', 'mewosane', 'be', 'a', 'betyiʼi', 'mejo', 'be', ',', 'be', 'mbe', 'be', 'tele', 'mekuʼu', 'mese', 'ya', 'ewolo', 'elat', ',', 'beyen', 'a', 'bebialebiale', ',', 'asu', 'bone', 'be', 'levi', 'be', 'ne', 'betuni', ',', 'mbe', 'be', 'mbe', 'be', 'beʼe', 'ewolo', 'elate', 'nti', ',', 'ngabe', 'jia', 'e', 'tele', 'nkole', 'garizim', ',', 'nyo', 'fok', 'nkol', 'ebal', ',', 'aval', 'abende', 'moze', ',', 'mbo', 'esae', 'nti', 'e', 'mbe', 'na', ':', 'be', 'tate', 'botan', 'ayon', 'israel', '.\"']\n",
      "                                     tgt_lang: en\n",
      "INFO - 06/15/20 18:33:41 - 0:00:00 - The experiment will be stored in ./dumped/translate/test/translate/test\n",
      "                                     \n",
      "INFO - 06/15/20 18:33:41 - 0:00:00 - Running command: python translate_our.py --exp_name translate --exp_id test --src_lang Bulu --tgt_lang en --model_path '/home/jupyter/models/africa/cluster1/SupMT_cluster1en/maml/best-valid_en-Bulu_mt_bleu.pth' --text '\"si' e mbe ndaman e mise me zambe ',' si e mbe njalane njet '.[SEP]israel' ase ',' bemvende be ',' 'betebʼosu' ya mewosane be a 'betyiʼi' mejo be ',' be mbe be tele 'mekuʼu' mese ya ewolo elat ',' beyen a bebialebiale ',' asu bone be levi be ne betuni ',' mbe be mbe be 'beʼe' ewolo elate nti ',' ngabe jia e tele nkole garizim ',' nyo fok nkol ebal ',' aval abende moze ',' mbo esae nti e mbe na ':' be tate botan ayon israel '.\"'\n",
      "\n",
      "INFO - 06/15/20 18:33:41 - 0:00:01 - Supported languages: Bafia, Bulu, MKPAMAN_AMVOE_Ewondo, en, fr\n",
      "0 / 2: si e mbe ndaman e mise me zambe , si e mbe njalane njet . -> and the earth was without form , and void ; and darkness was upon the face of the deep .\n",
      "1 / 2: israel ase , bemvende be , betebʼosu ya mewosane be a betyiʼi mejo be , be mbe be tele mekuʼu mese ya ewolo elat , beyen a bebialebiale , asu bone be levi be ne betuni , mbe be mbe be beʼe ewolo elate nti , ngabe jia e tele nkole garizim , nyo fok nkol ebal , aval abende moze , mbo esae nti e mbe na : be tate botan ayon israel . -> and all israel , and their elders , and officers , and their judges , stood on every side the ark and on the side of the ark of the covenant of the lord , which bare the ark of the covenant of the lord , as moses the servant of the lord commanded , and so as it was written , as the lord commanded , so let them go .\n",
      "['and the earth was without form , and void ; and darkness was upon the face of the deep .', 'and all israel , and their elders , and officers , and their judges , stood on every side the ark and on the side of the ark of the covenant of the lord , which bare the ark of the covenant of the lord , as moses the servant of the lord commanded , and so as it was written , as the lord commanded , so let them go .']\n"
     ]
    }
   ],
   "source": [
    "%env src_lang=Bulu\n",
    "%env text \"si e mbe ndaman e mise me zambe , si e mbe njalane njet .[SEP]israel ase , bemvende be , betebʼosu ya mewosane be a betyiʼi mejo be , be mbe be tele mekuʼu mese ya ewolo elat , beyen a bebialebiale , asu bone be levi be ne betuni , mbe be mbe be beʼe ewolo elate nti , ngabe jia e tele nkole garizim , nyo fok nkol ebal , aval abende moze , mbo esae nti e mbe na : be tate botan ayon israel .\"\n",
    "! python translate_our.py --exp_name translate --exp_id test --src_lang $src_lang --tgt_lang $tgt_lang --model_path $model_path --text ${text} "
   ]
  },
  {
   "cell_type": "markdown",
   "metadata": {},
   "source": [
    "### MKPAMAN_AMVOE_Ewondo-English\n",
    "te miadzee hm azombo daan , amu ane mimfan mi maan .\n",
    "[SEP]\n",
    "ndo akad nye eyon lala na : a simun man yohannes , ye wadin ma ? petrus antoa fo a melunga na asili nye eyon lala na : ye wadin ma ? nye ai nye na : a nti , wayem mese , wayem na madin wa . yesus nye ai nye na : noneni benyia mintomba bama .\n",
    "\n",
    "[TO]\n",
    "\n",
    "cast not away therefore your confidence , which hath great recompence of reward .\n",
    "[SEP]\n",
    "he saith unto him the third time , simon , son of jonas , lovest thou me ? peter was grieved because he said unto him the third time , lovest thou me ? and he said unto him , lord , thou knowest all things ; thou knowest that i love thee . jesus saith unto him , feed my sheep .\n",
    "\n",
    "[MODEL]\n",
    "\n",
    "and be not ye therefore partakers of your souls ; for they are your enemies .\n",
    "[SEP]\n",
    "and he said unto him the third time , simon , son of jonas , lovest thou me ? peter was grieved because he said unto him the third time , dost thou believe me ? and he said unto him , lord , thou knowest all things that i love thee . jesus saith unto him , feed my sheep ."
   ]
  },
  {
   "cell_type": "code",
   "execution_count": 67,
   "metadata": {},
   "outputs": [
    {
     "name": "stdout",
     "output_type": "stream",
     "text": [
      "env: src_lang=MKPAMAN_AMVOE_Ewondo\n",
      "env: text=\"te miadzee hm azombo daan , amu ane mimfan mi maan .[SEP]ndo akad nye eyon lala na : a simun man yohannes , ye wadin ma ? petrus antoa fo a melunga na asili nye eyon lala na : ye wadin ma ? nye ai nye na : a nti , wayem mese , wayem na madin wa . yesus nye ai nye na : noneni benyia mintomba bama .\"\n",
      "FAISS library was not found.\n",
      "FAISS not available. Switching to standard nearest neighbors search implementation.\n",
      "INFO - 06/15/20 18:32:41 - 0:00:00 - ============ Initialized logger ============\n",
      "INFO - 06/15/20 18:32:41 - 0:00:00 - batch_size: 32\n",
      "                                     command: python translate_our.py --exp_name translate --exp_id test --src_lang MKPAMAN_AMVOE_Ewondo --tgt_lang en --model_path '/home/jupyter/models/africa/cluster1/SupMT_cluster1en/maml/best-valid_en-Bulu_mt_bleu.pth' --text '\"te' miadzee hm azombo daan ',' amu ane mimfan mi maan '.[SEP]ndo' akad nye eyon lala na ':' a simun man yohannes ',' ye wadin ma '?' petrus antoa fo a melunga na asili nye eyon lala na ':' ye wadin ma '?' nye ai nye na ':' a nti ',' wayem mese ',' wayem na madin wa '.' yesus nye ai nye na ':' noneni benyia mintomba bama '.\"' --exp_id \"test\"\n",
      "                                     dump_path: ./dumped/translate/test\n",
      "                                     exp_id: test\n",
      "                                     exp_name: translate\n",
      "                                     model_path: /home/jupyter/models/africa/cluster1/SupMT_cluster1en/maml/best-valid_en-Bulu_mt_bleu.pth\n",
      "                                     output_path: \n",
      "                                     src_lang: MKPAMAN_AMVOE_Ewondo\n",
      "                                     text: te miadzee hm azombo daan , amu ane mimfan mi maan .[SEP]ndo akad nye eyon lala na : a simun man yohannes , ye wadin ma ? petrus antoa fo a melunga na asili nye eyon lala na : ye wadin ma ? nye ai nye na : a nti , wayem mese , wayem na madin wa . yesus nye ai nye na : noneni benyia mintomba bama .\n",
      "                                     tgt_lang: en\n",
      "INFO - 06/15/20 18:32:41 - 0:00:00 - The experiment will be stored in ./dumped/translate/test\n",
      "                                     \n",
      "INFO - 06/15/20 18:32:41 - 0:00:00 - Running command: python translate_our.py --exp_name translate --exp_id test --src_lang MKPAMAN_AMVOE_Ewondo --tgt_lang en --model_path '/home/jupyter/models/africa/cluster1/SupMT_cluster1en/maml/best-valid_en-Bulu_mt_bleu.pth' --text '\"te' miadzee hm azombo daan ',' amu ane mimfan mi maan '.[SEP]ndo' akad nye eyon lala na ':' a simun man yohannes ',' ye wadin ma '?' petrus antoa fo a melunga na asili nye eyon lala na ':' ye wadin ma '?' nye ai nye na ':' a nti ',' wayem mese ',' wayem na madin wa '.' yesus nye ai nye na ':' noneni benyia mintomba bama '.\"'\n",
      "\n",
      "INFO - 06/15/20 18:32:41 - 0:00:00 - ============ Initialized logger ============\n",
      "INFO - 06/15/20 18:32:41 - 0:00:00 - batch_size: 32\n",
      "                                     command: python translate_our.py --exp_name translate --exp_id test --src_lang MKPAMAN_AMVOE_Ewondo --tgt_lang en --model_path '/home/jupyter/models/africa/cluster1/SupMT_cluster1en/maml/best-valid_en-Bulu_mt_bleu.pth' --text '\"te' miadzee hm azombo daan ',' amu ane mimfan mi maan '.[SEP]ndo' akad nye eyon lala na ':' a simun man yohannes ',' ye wadin ma '?' petrus antoa fo a melunga na asili nye eyon lala na ':' ye wadin ma '?' nye ai nye na ':' a nti ',' wayem mese ',' wayem na madin wa '.' yesus nye ai nye na ':' noneni benyia mintomba bama '.\"' --exp_id \"test\"\n",
      "                                     dump_path: ./dumped/translate/test/translate/test\n",
      "                                     exp_id: test\n",
      "                                     exp_name: translate\n",
      "                                     model_path: /home/jupyter/models/africa/cluster1/SupMT_cluster1en/maml/best-valid_en-Bulu_mt_bleu.pth\n",
      "                                     src_lang: MKPAMAN_AMVOE_Ewondo\n",
      "                                     text: ['\"te', 'miadzee', 'hm', 'azombo', 'daan', ',', 'amu', 'ane', 'mimfan', 'mi', 'maan', '.[SEP]ndo', 'akad', 'nye', 'eyon', 'lala', 'na', ':', 'a', 'simun', 'man', 'yohannes', ',', 'ye', 'wadin', 'ma', '?', 'petrus', 'antoa', 'fo', 'a', 'melunga', 'na', 'asili', 'nye', 'eyon', 'lala', 'na', ':', 'ye', 'wadin', 'ma', '?', 'nye', 'ai', 'nye', 'na', ':', 'a', 'nti', ',', 'wayem', 'mese', ',', 'wayem', 'na', 'madin', 'wa', '.', 'yesus', 'nye', 'ai', 'nye', 'na', ':', 'noneni', 'benyia', 'mintomba', 'bama', '.\"']\n",
      "                                     tgt_lang: en\n",
      "INFO - 06/15/20 18:32:41 - 0:00:00 - The experiment will be stored in ./dumped/translate/test/translate/test\n",
      "                                     \n",
      "INFO - 06/15/20 18:32:41 - 0:00:00 - Running command: python translate_our.py --exp_name translate --exp_id test --src_lang MKPAMAN_AMVOE_Ewondo --tgt_lang en --model_path '/home/jupyter/models/africa/cluster1/SupMT_cluster1en/maml/best-valid_en-Bulu_mt_bleu.pth' --text '\"te' miadzee hm azombo daan ',' amu ane mimfan mi maan '.[SEP]ndo' akad nye eyon lala na ':' a simun man yohannes ',' ye wadin ma '?' petrus antoa fo a melunga na asili nye eyon lala na ':' ye wadin ma '?' nye ai nye na ':' a nti ',' wayem mese ',' wayem na madin wa '.' yesus nye ai nye na ':' noneni benyia mintomba bama '.\"'\n",
      "\n",
      "INFO - 06/15/20 18:32:42 - 0:00:01 - Supported languages: Bafia, Bulu, MKPAMAN_AMVOE_Ewondo, en, fr\n",
      "0 / 2: te miadzee hm azombo daan , amu ane mimfan mi maan . -> and be not ye therefore partakers of your souls ; for they are your enemies .\n",
      "1 / 2: ndo akad nye eyon lala na : a simun man yohannes , ye wadin ma ? petrus antoa fo a melunga na asili nye eyon lala na : ye wadin ma ? nye ai nye na : a nti , wayem mese , wayem na madin wa . yesus nye ai nye na : noneni benyia mintomba bama . -> and he said unto him the third time , simon , son of jonas , lovest thou me ? peter was grieved because he said unto him the third time , dost thou believe me ? and he said unto him , lord , thou knowest all things that i love thee . jesus saith unto him , feed my sheep .\n",
      "['and be not ye therefore partakers of your souls ; for they are your enemies .', 'and he said unto him the third time , simon , son of jonas , lovest thou me ? peter was grieved because he said unto him the third time , dost thou believe me ? and he said unto him , lord , thou knowest all things that i love thee . jesus saith unto him , feed my sheep .']\n"
     ]
    }
   ],
   "source": [
    "%env src_lang=MKPAMAN_AMVOE_Ewondo\n",
    "%env text \"te miadzee hm azombo daan , amu ane mimfan mi maan .[SEP]ndo akad nye eyon lala na : a simun man yohannes , ye wadin ma ? petrus antoa fo a melunga na asili nye eyon lala na : ye wadin ma ? nye ai nye na : a nti , wayem mese , wayem na madin wa . yesus nye ai nye na : noneni benyia mintomba bama .\"\n",
    "! python translate_our.py --exp_name translate --exp_id test --src_lang $src_lang --tgt_lang $tgt_lang --model_path $model_path --text ${text} "
   ]
  },
  {
   "cell_type": "markdown",
   "metadata": {},
   "source": [
    "# French"
   ]
  },
  {
   "cell_type": "code",
   "execution_count": 71,
   "metadata": {},
   "outputs": [
    {
     "name": "stdout",
     "output_type": "stream",
     "text": [
      "env: tgt_lang=fr\n",
      "env: model_path=/home/jupyter/models/africa/cluster1/SupMT_cluster1fr/maml/best-valid_fr-Bulu_mt_bleu.pth\n"
     ]
    }
   ],
   "source": [
    "%env tgt_lang=fr\n",
    "%env model_path=/home/jupyter/models/africa/cluster1/SupMT_cluster1fr/maml/best-valid_fr-Bulu_mt_bleu.pth"
   ]
  },
  {
   "cell_type": "markdown",
   "metadata": {},
   "source": [
    "### Bafia-French\n",
    "nni n ghali be na bena win ɓigomi nɛ lɛ nkpaakpaa mini saaɗ wa ?\n",
    "[SEP]\n",
    "ki ɓan kin kɛɛ ki ti fafa bɛ ll ɓi to gsɛ n ca a mɛ n ki ce m lɛ , yɛ ɛ bi gha ɓka jɛ ɛ yi i i nɛ ti wogsi gha mi ni , ɓi gha ɓka ɓi yɔ yɛ ɛ jɛ ɛ i mum ; ɓi gha ɓka lɔŋ yɔ yɛ ɛ i ri a ta a kaa , lɛ i ri jɛ ɛ i bɛ ll i nɛ yɛ ɛ ki ki kisay ɓi mi ni ɓɛ ɓi ri ɓɛ gherɛ n .\n",
    "\n",
    "[TO]\n",
    "\n",
    "je serais donc devenu votre ennemi , parce que je vous ai dit la verite ?\n",
    "[SEP]\n",
    "c' est pourquoi nous aussi , nous ne cessons de rendre graces a dieu , de ce qu' ayant recu la divine parole que nous avons fait entendre , vous l' avez recue , non comme parole des hommes , mais , ainsi qu' elle l' est veritablement , comme une parole de dieu . c' est elle qui deploie sa puissance en vous qui croyez .\n",
    "\n",
    "[MODEL]\n",
    "\n",
    "mais je ghali a vos ennemis , parce que je vous ai dit la verite ?\n",
    "[SEP]\n",
    "c' est pourquoi nous devons nous attacher avec plus de soin aux choses que nous avons entendues de peur que nous ne venions a etre voix , que vous ne soyez prets , comme si vous le efunga , et que c' est par la parole de dieu que nous avons entendue ."
   ]
  },
  {
   "cell_type": "code",
   "execution_count": 65,
   "metadata": {},
   "outputs": [
    {
     "name": "stdout",
     "output_type": "stream",
     "text": [
      "env: src_lang=Bafia\n",
      "env: text=\"nni n ghali be na bena win ɓigomi nɛ lɛ nkpaakpaa mini saaɗ wa ?[SEP]ki ɓan kin kɛɛ ki ti fafa bɛ ll ɓi to gsɛ n ca a mɛ n ki ce m lɛ , yɛ ɛ bi gha ɓka jɛ ɛ yi i i nɛ ti wogsi gha mi ni , ɓi gha ɓka ɓi yɔ yɛ ɛ jɛ ɛ i mum ; ɓi gha ɓka lɔŋ yɔ yɛ ɛ i ri a ta a kaa , lɛ i ri jɛ ɛ i bɛ ll i nɛ yɛ ɛ ki ki kisay ɓi mi ni ɓɛ ɓi ri ɓɛ gherɛ n .\"\n",
      "FAISS library was not found.\n",
      "FAISS not available. Switching to standard nearest neighbors search implementation.\n",
      "INFO - 06/15/20 18:31:02 - 0:00:00 - ============ Initialized logger ============\n",
      "INFO - 06/15/20 18:31:02 - 0:00:00 - batch_size: 32\n",
      "                                     command: python translate_our.py --exp_name translate --exp_id test --src_lang Bafia --tgt_lang fr --model_path '/home/jupyter/models/africa/cluster1/SupMT_cluster1fr/maml/best-valid_fr-Bulu_mt_bleu.pth' --text '\"nni' n ghali be na bena win 'ɓigomi' 'nɛ' 'lɛ' nkpaakpaa mini 'saaɗ' wa '?[SEP]ki' 'ɓan' kin 'kɛɛ' ki ti fafa 'bɛ' ll 'ɓi' to 'gsɛ' n ca a 'mɛ' n ki ce m 'lɛ' ',' 'yɛ' 'ɛ' bi gha 'ɓka' 'jɛ' 'ɛ' yi i i 'nɛ' ti wogsi gha mi ni ',' 'ɓi' gha 'ɓka' 'ɓi' 'yɔ' 'yɛ' 'ɛ' 'jɛ' 'ɛ' i mum ';' 'ɓi' gha 'ɓka' 'lɔŋ' 'yɔ' 'yɛ' 'ɛ' i ri a ta a kaa ',' 'lɛ' i ri 'jɛ' 'ɛ' i 'bɛ' ll i 'nɛ' 'yɛ' 'ɛ' ki ki kisay 'ɓi' mi ni 'ɓɛ' 'ɓi' ri 'ɓɛ' 'gherɛ' n '.\"' --exp_id \"test\"\n",
      "                                     dump_path: ./dumped/translate/test\n",
      "                                     exp_id: test\n",
      "                                     exp_name: translate\n",
      "                                     model_path: /home/jupyter/models/africa/cluster1/SupMT_cluster1fr/maml/best-valid_fr-Bulu_mt_bleu.pth\n",
      "                                     output_path: \n",
      "                                     src_lang: Bafia\n",
      "                                     text: nni n ghali be na bena win ɓigomi nɛ lɛ nkpaakpaa mini saaɗ wa ?[SEP]ki ɓan kin kɛɛ ki ti fafa bɛ ll ɓi to gsɛ n ca a mɛ n ki ce m lɛ , yɛ ɛ bi gha ɓka jɛ ɛ yi i i nɛ ti wogsi gha mi ni , ɓi gha ɓka ɓi yɔ yɛ ɛ jɛ ɛ i mum ; ɓi gha ɓka lɔŋ yɔ yɛ ɛ i ri a ta a kaa , lɛ i ri jɛ ɛ i bɛ ll i nɛ yɛ ɛ ki ki kisay ɓi mi ni ɓɛ ɓi ri ɓɛ gherɛ n .\n",
      "                                     tgt_lang: fr\n",
      "INFO - 06/15/20 18:31:02 - 0:00:00 - The experiment will be stored in ./dumped/translate/test\n",
      "                                     \n",
      "INFO - 06/15/20 18:31:02 - 0:00:00 - Running command: python translate_our.py --exp_name translate --exp_id test --src_lang Bafia --tgt_lang fr --model_path '/home/jupyter/models/africa/cluster1/SupMT_cluster1fr/maml/best-valid_fr-Bulu_mt_bleu.pth' --text '\"nni' n ghali be na bena win 'ɓigomi' 'nɛ' 'lɛ' nkpaakpaa mini 'saaɗ' wa '?[SEP]ki' 'ɓan' kin 'kɛɛ' ki ti fafa 'bɛ' ll 'ɓi' to 'gsɛ' n ca a 'mɛ' n ki ce m 'lɛ' ',' 'yɛ' 'ɛ' bi gha 'ɓka' 'jɛ' 'ɛ' yi i i 'nɛ' ti wogsi gha mi ni ',' 'ɓi' gha 'ɓka' 'ɓi' 'yɔ' 'yɛ' 'ɛ' 'jɛ' 'ɛ' i mum ';' 'ɓi' gha 'ɓka' 'lɔŋ' 'yɔ' 'yɛ' 'ɛ' i ri a ta a kaa ',' 'lɛ' i ri 'jɛ' 'ɛ' i 'bɛ' ll i 'nɛ' 'yɛ' 'ɛ' ki ki kisay 'ɓi' mi ni 'ɓɛ' 'ɓi' ri 'ɓɛ' 'gherɛ' n '.\"'\n",
      "\n",
      "INFO - 06/15/20 18:31:02 - 0:00:00 - ============ Initialized logger ============\n",
      "INFO - 06/15/20 18:31:02 - 0:00:00 - batch_size: 32\n",
      "                                     command: python translate_our.py --exp_name translate --exp_id test --src_lang Bafia --tgt_lang fr --model_path '/home/jupyter/models/africa/cluster1/SupMT_cluster1fr/maml/best-valid_fr-Bulu_mt_bleu.pth' --text '\"nni' n ghali be na bena win 'ɓigomi' 'nɛ' 'lɛ' nkpaakpaa mini 'saaɗ' wa '?[SEP]ki' 'ɓan' kin 'kɛɛ' ki ti fafa 'bɛ' ll 'ɓi' to 'gsɛ' n ca a 'mɛ' n ki ce m 'lɛ' ',' 'yɛ' 'ɛ' bi gha 'ɓka' 'jɛ' 'ɛ' yi i i 'nɛ' ti wogsi gha mi ni ',' 'ɓi' gha 'ɓka' 'ɓi' 'yɔ' 'yɛ' 'ɛ' 'jɛ' 'ɛ' i mum ';' 'ɓi' gha 'ɓka' 'lɔŋ' 'yɔ' 'yɛ' 'ɛ' i ri a ta a kaa ',' 'lɛ' i ri 'jɛ' 'ɛ' i 'bɛ' ll i 'nɛ' 'yɛ' 'ɛ' ki ki kisay 'ɓi' mi ni 'ɓɛ' 'ɓi' ri 'ɓɛ' 'gherɛ' n '.\"' --exp_id \"test\"\n",
      "                                     dump_path: ./dumped/translate/test/translate/test\n",
      "                                     exp_id: test\n",
      "                                     exp_name: translate\n",
      "                                     model_path: /home/jupyter/models/africa/cluster1/SupMT_cluster1fr/maml/best-valid_fr-Bulu_mt_bleu.pth\n",
      "                                     src_lang: Bafia\n",
      "                                     text: ['\"nni', 'n', 'ghali', 'be', 'na', 'bena', 'win', 'ɓigomi', 'nɛ', 'lɛ', 'nkpaakpaa', 'mini', 'saaɗ', 'wa', '?[SEP]ki', 'ɓan', 'kin', 'kɛɛ', 'ki', 'ti', 'fafa', 'bɛ', 'll', 'ɓi', 'to', 'gsɛ', 'n', 'ca', 'a', 'mɛ', 'n', 'ki', 'ce', 'm', 'lɛ', ',', 'yɛ', 'ɛ', 'bi', 'gha', 'ɓka', 'jɛ', 'ɛ', 'yi', 'i', 'i', 'nɛ', 'ti', 'wogsi', 'gha', 'mi', 'ni', ',', 'ɓi', 'gha', 'ɓka', 'ɓi', 'yɔ', 'yɛ', 'ɛ', 'jɛ', 'ɛ', 'i', 'mum', ';', 'ɓi', 'gha', 'ɓka', 'lɔŋ', 'yɔ', 'yɛ', 'ɛ', 'i', 'ri', 'a', 'ta', 'a', 'kaa', ',', 'lɛ', 'i', 'ri', 'jɛ', 'ɛ', 'i', 'bɛ', 'll', 'i', 'nɛ', 'yɛ', 'ɛ', 'ki', 'ki', 'kisay', 'ɓi', 'mi', 'ni', 'ɓɛ', 'ɓi', 'ri', 'ɓɛ', 'gherɛ', 'n', '.\"']\n",
      "                                     tgt_lang: fr\n",
      "INFO - 06/15/20 18:31:02 - 0:00:00 - The experiment will be stored in ./dumped/translate/test/translate/test\n",
      "                                     \n",
      "INFO - 06/15/20 18:31:02 - 0:00:00 - Running command: python translate_our.py --exp_name translate --exp_id test --src_lang Bafia --tgt_lang fr --model_path '/home/jupyter/models/africa/cluster1/SupMT_cluster1fr/maml/best-valid_fr-Bulu_mt_bleu.pth' --text '\"nni' n ghali be na bena win 'ɓigomi' 'nɛ' 'lɛ' nkpaakpaa mini 'saaɗ' wa '?[SEP]ki' 'ɓan' kin 'kɛɛ' ki ti fafa 'bɛ' ll 'ɓi' to 'gsɛ' n ca a 'mɛ' n ki ce m 'lɛ' ',' 'yɛ' 'ɛ' bi gha 'ɓka' 'jɛ' 'ɛ' yi i i 'nɛ' ti wogsi gha mi ni ',' 'ɓi' gha 'ɓka' 'ɓi' 'yɔ' 'yɛ' 'ɛ' 'jɛ' 'ɛ' i mum ';' 'ɓi' gha 'ɓka' 'lɔŋ' 'yɔ' 'yɛ' 'ɛ' i ri a ta a kaa ',' 'lɛ' i ri 'jɛ' 'ɛ' i 'bɛ' ll i 'nɛ' 'yɛ' 'ɛ' ki ki kisay 'ɓi' mi ni 'ɓɛ' 'ɓi' ri 'ɓɛ' 'gherɛ' n '.\"'\n",
      "\n",
      "INFO - 06/15/20 18:31:02 - 0:00:01 - Supported languages: Bafia, Bulu, MKPAMAN_AMVOE_Ewondo, en, fr\n",
      "0 / 2: nni n ghali be na bena win ɓigomi nɛ lɛ nkpaakpaa mini saaɗ wa ? -> mais je ghali a vos ennemis , parce que je vous ai dit la verite ?\n",
      "1 / 2: ki ɓan kin kɛɛ ki ti fafa bɛ ll ɓi to gsɛ n ca a mɛ n ki ce m lɛ , yɛ ɛ bi gha ɓka jɛ ɛ yi i i nɛ ti wogsi gha mi ni , ɓi gha ɓka ɓi yɔ yɛ ɛ jɛ ɛ i mum ; ɓi gha ɓka lɔŋ yɔ yɛ ɛ i ri a ta a kaa , lɛ i ri jɛ ɛ i bɛ ll i nɛ yɛ ɛ ki ki kisay ɓi mi ni ɓɛ ɓi ri ɓɛ gherɛ n . -> c' est pourquoi nous devons nous attacher avec plus de soin aux choses que nous avons entendues de peur que nous ne venions a etre voix , que vous ne soyez prets , comme si vous le efunga , et que c' est par la parole de dieu que nous avons entendue .\n",
      "['mais je ghali a vos ennemis , parce que je vous ai dit la verite ?', \"c' est pourquoi nous devons nous attacher avec plus de soin aux choses que nous avons entendues de peur que nous ne venions a etre voix , que vous ne soyez prets , comme si vous le efunga , et que c' est par la parole de dieu que nous avons entendue .\"]\n"
     ]
    }
   ],
   "source": [
    "%env src_lang=Bafia\n",
    "%env text \"nni n ghali be na bena win ɓigomi nɛ lɛ nkpaakpaa mini saaɗ wa ?[SEP]ki ɓan kin kɛɛ ki ti fafa bɛ ll ɓi to gsɛ n ca a mɛ n ki ce m lɛ , yɛ ɛ bi gha ɓka jɛ ɛ yi i i nɛ ti wogsi gha mi ni , ɓi gha ɓka ɓi yɔ yɛ ɛ jɛ ɛ i mum ; ɓi gha ɓka lɔŋ yɔ yɛ ɛ i ri a ta a kaa , lɛ i ri jɛ ɛ i bɛ ll i nɛ yɛ ɛ ki ki kisay ɓi mi ni ɓɛ ɓi ri ɓɛ gherɛ n .\"\n",
    "! python translate_our.py --exp_name translate --exp_id test --src_lang $src_lang --tgt_lang $tgt_lang --model_path $model_path --text ${text} "
   ]
  },
  {
   "cell_type": "markdown",
   "metadata": {},
   "source": [
    "### Bulu-French\n",
    "a nti o yeneya ane ba fite ma ; tame tyiʼi ajo ya zosoo wom .\n",
    "[SEP]\n",
    "uram-abi , e mone minga ya bengone be dan , esaa a too mone tirien . a yem esae or , argent , mvot a etye , akok a bile , bindele bi ne nduban evele a blum , bindele bi bisus a karmin . a yem esae nkpwelane biom a mboone biom bise ba ye ve nye na a bo , ba be mintyetyen mi bote boe a mintyetyen mi bot esaa wom david , esoo .\n",
    "\n",
    "[TO]\n",
    "\n",
    "tu as vu , yahweh , la violence qu' ils me font ; fais-moi justice !\n",
    "[SEP]\n",
    "fils d' une femme d' entre les filles de dan et d' un pere tyrien , habile a travailler l' or et l' argent , l' airain et le fer , les pierres et les bois , la pourpre rouge , la pourpre violette , le cramoisi , le lin fin , a faire toute espece de gravures , et a elaborer tout plan qui lui sera propose , de concert avec tes hommes habiles et avec les hommes habiles de mon seigneur david , ton pere .\n",
    "\n",
    "[MODEL]\n",
    "\n",
    "yahweh , tu as vu comment ils m' ont abandonne ; tu as juge ceux qui me font la guerre . \n",
    "[SEP]\n",
    "fils de la femme d' entre les filles de dan , pere d' un fils ; car il sait faire un travail , un argent d' or , un homme de pourpre , de pourpre violette , de pourpre ecarlate , des cramoisi et du fin lin , des peaux de lin et des vases de laine , et sur les tresors de mon pere et de ma mere .\n",
    "\n",
    "[not_good]"
   ]
  },
  {
   "cell_type": "code",
   "execution_count": 64,
   "metadata": {},
   "outputs": [
    {
     "name": "stdout",
     "output_type": "stream",
     "text": [
      "env: src_lang=Bulu\n",
      "env: text=\"a nti o yeneya ane ba fite ma ; tame tyiʼi ajo ya zosoo wom .[SEP]uram-abi , e mone minga ya bengone be dan , esaa a too mone tirien . a yem esae or , argent , mvot a etye , akok a bile , bindele bi ne nduban evele a blum , bindele bi bisus a karmin . a yem esae nkpwelane biom a mboone biom bise ba ye ve nye na a bo , ba be mintyetyen mi bote boe a mintyetyen mi bot esaa wom david , esoo .\"\n",
      "FAISS library was not found.\n",
      "FAISS not available. Switching to standard nearest neighbors search implementation.\n",
      "INFO - 06/15/20 18:29:42 - 0:00:00 - ============ Initialized logger ============\n",
      "INFO - 06/15/20 18:29:42 - 0:00:00 - batch_size: 32\n",
      "                                     command: python translate_our.py --exp_name translate --exp_id test --src_lang Bulu --tgt_lang fr --model_path '/home/jupyter/models/africa/cluster1/SupMT_cluster1fr/maml/best-valid_fr-Bulu_mt_bleu.pth' --text '\"a' nti o yeneya ane ba fite ma ';' tame 'tyiʼi' ajo ya zosoo wom '.[SEP]uram-abi' ',' e mone minga ya bengone be dan ',' esaa a too mone tirien '.' a yem esae or ',' argent ',' mvot a etye ',' akok a bile ',' bindele bi ne nduban evele a blum ',' bindele bi bisus a karmin '.' a yem esae nkpwelane biom a mboone biom bise ba ye ve nye na a bo ',' ba be mintyetyen mi bote boe a mintyetyen mi bot esaa wom david ',' esoo '.\"' --exp_id \"test\"\n",
      "                                     dump_path: ./dumped/translate/test\n",
      "                                     exp_id: test\n",
      "                                     exp_name: translate\n",
      "                                     model_path: /home/jupyter/models/africa/cluster1/SupMT_cluster1fr/maml/best-valid_fr-Bulu_mt_bleu.pth\n",
      "                                     output_path: \n",
      "                                     src_lang: Bulu\n",
      "                                     text: a nti o yeneya ane ba fite ma ; tame tyiʼi ajo ya zosoo wom .[SEP]uram-abi , e mone minga ya bengone be dan , esaa a too mone tirien . a yem esae or , argent , mvot a etye , akok a bile , bindele bi ne nduban evele a blum , bindele bi bisus a karmin . a yem esae nkpwelane biom a mboone biom bise ba ye ve nye na a bo , ba be mintyetyen mi bote boe a mintyetyen mi bot esaa wom david , esoo .\n",
      "                                     tgt_lang: fr\n",
      "INFO - 06/15/20 18:29:42 - 0:00:00 - The experiment will be stored in ./dumped/translate/test\n",
      "                                     \n",
      "INFO - 06/15/20 18:29:42 - 0:00:00 - Running command: python translate_our.py --exp_name translate --exp_id test --src_lang Bulu --tgt_lang fr --model_path '/home/jupyter/models/africa/cluster1/SupMT_cluster1fr/maml/best-valid_fr-Bulu_mt_bleu.pth' --text '\"a' nti o yeneya ane ba fite ma ';' tame 'tyiʼi' ajo ya zosoo wom '.[SEP]uram-abi' ',' e mone minga ya bengone be dan ',' esaa a too mone tirien '.' a yem esae or ',' argent ',' mvot a etye ',' akok a bile ',' bindele bi ne nduban evele a blum ',' bindele bi bisus a karmin '.' a yem esae nkpwelane biom a mboone biom bise ba ye ve nye na a bo ',' ba be mintyetyen mi bote boe a mintyetyen mi bot esaa wom david ',' esoo '.\"'\n",
      "\n",
      "INFO - 06/15/20 18:29:42 - 0:00:00 - ============ Initialized logger ============\n",
      "INFO - 06/15/20 18:29:42 - 0:00:00 - batch_size: 32\n",
      "                                     command: python translate_our.py --exp_name translate --exp_id test --src_lang Bulu --tgt_lang fr --model_path '/home/jupyter/models/africa/cluster1/SupMT_cluster1fr/maml/best-valid_fr-Bulu_mt_bleu.pth' --text '\"a' nti o yeneya ane ba fite ma ';' tame 'tyiʼi' ajo ya zosoo wom '.[SEP]uram-abi' ',' e mone minga ya bengone be dan ',' esaa a too mone tirien '.' a yem esae or ',' argent ',' mvot a etye ',' akok a bile ',' bindele bi ne nduban evele a blum ',' bindele bi bisus a karmin '.' a yem esae nkpwelane biom a mboone biom bise ba ye ve nye na a bo ',' ba be mintyetyen mi bote boe a mintyetyen mi bot esaa wom david ',' esoo '.\"' --exp_id \"test\"\n",
      "                                     dump_path: ./dumped/translate/test/translate/test\n",
      "                                     exp_id: test\n",
      "                                     exp_name: translate\n",
      "                                     model_path: /home/jupyter/models/africa/cluster1/SupMT_cluster1fr/maml/best-valid_fr-Bulu_mt_bleu.pth\n",
      "                                     src_lang: Bulu\n",
      "                                     text: ['\"a', 'nti', 'o', 'yeneya', 'ane', 'ba', 'fite', 'ma', ';', 'tame', 'tyiʼi', 'ajo', 'ya', 'zosoo', 'wom', '.[SEP]uram-abi', ',', 'e', 'mone', 'minga', 'ya', 'bengone', 'be', 'dan', ',', 'esaa', 'a', 'too', 'mone', 'tirien', '.', 'a', 'yem', 'esae', 'or', ',', 'argent', ',', 'mvot', 'a', 'etye', ',', 'akok', 'a', 'bile', ',', 'bindele', 'bi', 'ne', 'nduban', 'evele', 'a', 'blum', ',', 'bindele', 'bi', 'bisus', 'a', 'karmin', '.', 'a', 'yem', 'esae', 'nkpwelane', 'biom', 'a', 'mboone', 'biom', 'bise', 'ba', 'ye', 've', 'nye', 'na', 'a', 'bo', ',', 'ba', 'be', 'mintyetyen', 'mi', 'bote', 'boe', 'a', 'mintyetyen', 'mi', 'bot', 'esaa', 'wom', 'david', ',', 'esoo', '.\"']\n",
      "                                     tgt_lang: fr\n",
      "INFO - 06/15/20 18:29:42 - 0:00:00 - The experiment will be stored in ./dumped/translate/test/translate/test\n",
      "                                     \n",
      "INFO - 06/15/20 18:29:42 - 0:00:00 - Running command: python translate_our.py --exp_name translate --exp_id test --src_lang Bulu --tgt_lang fr --model_path '/home/jupyter/models/africa/cluster1/SupMT_cluster1fr/maml/best-valid_fr-Bulu_mt_bleu.pth' --text '\"a' nti o yeneya ane ba fite ma ';' tame 'tyiʼi' ajo ya zosoo wom '.[SEP]uram-abi' ',' e mone minga ya bengone be dan ',' esaa a too mone tirien '.' a yem esae or ',' argent ',' mvot a etye ',' akok a bile ',' bindele bi ne nduban evele a blum ',' bindele bi bisus a karmin '.' a yem esae nkpwelane biom a mboone biom bise ba ye ve nye na a bo ',' ba be mintyetyen mi bote boe a mintyetyen mi bot esaa wom david ',' esoo '.\"'\n",
      "\n",
      "INFO - 06/15/20 18:29:43 - 0:00:01 - Supported languages: Bafia, Bulu, MKPAMAN_AMVOE_Ewondo, en, fr\n",
      "0 / 2: a nti o yeneya ane ba fite ma ; tame tyiʼi ajo ya zosoo wom . -> yahweh , tu as vu comment ils m' ont abandonne ; tu as juge ceux qui me font la guerre .\n",
      "1 / 2: uram-abi , e mone minga ya bengone be dan , esaa a too mone tirien . a yem esae or , argent , mvot a etye , akok a bile , bindele bi ne nduban evele a blum , bindele bi bisus a karmin . a yem esae nkpwelane biom a mboone biom bise ba ye ve nye na a bo , ba be mintyetyen mi bote boe a mintyetyen mi bot esaa wom david , esoo . -> fils de la femme d' entre les filles de dan , pere d' un fils ; car il sait faire un travail , un argent d' or , un homme de pourpre , de pourpre violette , de pourpre ecarlate , des cramoisi et du fin lin , des peaux de lin et des vases de laine , et sur les tresors de mon pere et de ma mere .\n",
      "[\"yahweh , tu as vu comment ils m' ont abandonne ; tu as juge ceux qui me font la guerre .\", \"fils de la femme d' entre les filles de dan , pere d' un fils ; car il sait faire un travail , un argent d' or , un homme de pourpre , de pourpre violette , de pourpre ecarlate , des cramoisi et du fin lin , des peaux de lin et des vases de laine , et sur les tresors de mon pere et de ma mere .\"]\n"
     ]
    }
   ],
   "source": [
    "%env src_lang=Bulu\n",
    "%env text \"a nti o yeneya ane ba fite ma ; tame tyiʼi ajo ya zosoo wom .[SEP]uram-abi , e mone minga ya bengone be dan , esaa a too mone tirien . a yem esae or , argent , mvot a etye , akok a bile , bindele bi ne nduban evele a blum , bindele bi bisus a karmin . a yem esae nkpwelane biom a mboone biom bise ba ye ve nye na a bo , ba be mintyetyen mi bote boe a mintyetyen mi bot esaa wom david , esoo .\"\n",
    "! python translate_our.py --exp_name translate --exp_id test --src_lang $src_lang --tgt_lang $tgt_lang --model_path $model_path --text ${text} "
   ]
  },
  {
   "cell_type": "markdown",
   "metadata": {},
   "source": [
    "### MKPAMAN_AMVOE_Ewondo-French\n",
    "besombog mvom , e ba bene evovoe , amu si-ndon yayi bo ngab-elig dzaban .\n",
    "[SEP]\n",
    "awola te , ndo angafon ai ngul zamba , nye na : makan wa , a tara , a nti yob ai si , amu ongasoli mimfefeg ai beyeme e mam ma , okulan mo ban bongo . owe , a tara , amu nala ngo wamen ongafuu nnem .\n",
    "\n",
    "[TO]\n",
    "\n",
    "heureux ceux qui pleurent , car ils seront consoles !\n",
    "[SEP]\n",
    "au meme moment , il tressaillit de joie sous l' action de l' esprit-saint , et il dit : \" je vous benis , o pere , seigneur du ciel et de la terre , de ce que vous avez cache ces choses aux sages et aux prudents , et les avez revelees aux petits enfants . oui , je vous benis , o pere , de ce qu' il vous a plu ainsi .\n",
    "\n",
    "[MODEL]\n",
    "\n",
    "heureux les misericordieux , car le monde monde tient pour l' heritage qu' il possede , et c' est lui qui les a aussi donne la gloire .'\n",
    "[SEP]\n",
    "a cette meme heure , il dit : \" je te demande , seigneur , pere , la terre et la terre , parce que tu sont sages a mes conseils et que tu as nous-memes entendu de moi des les temps anciens . oui , c\\' est toi qui mbaʼale . \n",
    "[not good]"
   ]
  },
  {
   "cell_type": "code",
   "execution_count": 63,
   "metadata": {},
   "outputs": [
    {
     "name": "stdout",
     "output_type": "stream",
     "text": [
      "env: src_lang=MKPAMAN_AMVOE_Ewondo\n",
      "env: text=\"besombog mvom , e ba bene evovoe , amu si-ndon yayi bo ngab-elig dzaban .[SEP]awola te , ndo angafon ai ngul zamba , nye na : makan wa , a tara , a nti yob ai si , amu ongasoli mimfefeg ai beyeme e mam ma , okulan mo ban bongo . owe , a tara , amu nala ngo wamen ongafuu nnem .\"\n",
      "FAISS library was not found.\n",
      "FAISS not available. Switching to standard nearest neighbors search implementation.\n",
      "INFO - 06/15/20 18:28:04 - 0:00:00 - ============ Initialized logger ============\n",
      "INFO - 06/15/20 18:28:04 - 0:00:00 - batch_size: 32\n",
      "                                     command: python translate_our.py --exp_name translate --exp_id test --src_lang MKPAMAN_AMVOE_Ewondo --tgt_lang fr --model_path '/home/jupyter/models/africa/cluster1/SupMT_cluster1fr/maml/best-valid_fr-Bulu_mt_bleu.pth' --text '\"besombog' mvom ',' e ba bene evovoe ',' amu 'si-ndon' yayi bo 'ngab-elig' dzaban '.[SEP]awola' te ',' ndo angafon ai ngul zamba ',' nye na ':' makan wa ',' a tara ',' a nti yob ai si ',' amu ongasoli mimfefeg ai beyeme e mam ma ',' okulan mo ban bongo '.' owe ',' a tara ',' amu nala ngo wamen ongafuu nnem '.\"' --exp_id \"test\"\n",
      "                                     dump_path: ./dumped/translate/test\n",
      "                                     exp_id: test\n",
      "                                     exp_name: translate\n",
      "                                     model_path: /home/jupyter/models/africa/cluster1/SupMT_cluster1fr/maml/best-valid_fr-Bulu_mt_bleu.pth\n",
      "                                     output_path: \n",
      "                                     src_lang: MKPAMAN_AMVOE_Ewondo\n",
      "                                     text: besombog mvom , e ba bene evovoe , amu si-ndon yayi bo ngab-elig dzaban .[SEP]awola te , ndo angafon ai ngul zamba , nye na : makan wa , a tara , a nti yob ai si , amu ongasoli mimfefeg ai beyeme e mam ma , okulan mo ban bongo . owe , a tara , amu nala ngo wamen ongafuu nnem .\n",
      "                                     tgt_lang: fr\n",
      "INFO - 06/15/20 18:28:04 - 0:00:00 - The experiment will be stored in ./dumped/translate/test\n",
      "                                     \n",
      "INFO - 06/15/20 18:28:04 - 0:00:00 - Running command: python translate_our.py --exp_name translate --exp_id test --src_lang MKPAMAN_AMVOE_Ewondo --tgt_lang fr --model_path '/home/jupyter/models/africa/cluster1/SupMT_cluster1fr/maml/best-valid_fr-Bulu_mt_bleu.pth' --text '\"besombog' mvom ',' e ba bene evovoe ',' amu 'si-ndon' yayi bo 'ngab-elig' dzaban '.[SEP]awola' te ',' ndo angafon ai ngul zamba ',' nye na ':' makan wa ',' a tara ',' a nti yob ai si ',' amu ongasoli mimfefeg ai beyeme e mam ma ',' okulan mo ban bongo '.' owe ',' a tara ',' amu nala ngo wamen ongafuu nnem '.\"'\n",
      "\n",
      "INFO - 06/15/20 18:28:04 - 0:00:00 - ============ Initialized logger ============\n",
      "INFO - 06/15/20 18:28:04 - 0:00:00 - batch_size: 32\n",
      "                                     command: python translate_our.py --exp_name translate --exp_id test --src_lang MKPAMAN_AMVOE_Ewondo --tgt_lang fr --model_path '/home/jupyter/models/africa/cluster1/SupMT_cluster1fr/maml/best-valid_fr-Bulu_mt_bleu.pth' --text '\"besombog' mvom ',' e ba bene evovoe ',' amu 'si-ndon' yayi bo 'ngab-elig' dzaban '.[SEP]awola' te ',' ndo angafon ai ngul zamba ',' nye na ':' makan wa ',' a tara ',' a nti yob ai si ',' amu ongasoli mimfefeg ai beyeme e mam ma ',' okulan mo ban bongo '.' owe ',' a tara ',' amu nala ngo wamen ongafuu nnem '.\"' --exp_id \"test\"\n",
      "                                     dump_path: ./dumped/translate/test/translate/test\n",
      "                                     exp_id: test\n",
      "                                     exp_name: translate\n",
      "                                     model_path: /home/jupyter/models/africa/cluster1/SupMT_cluster1fr/maml/best-valid_fr-Bulu_mt_bleu.pth\n",
      "                                     src_lang: MKPAMAN_AMVOE_Ewondo\n",
      "                                     text: ['\"besombog', 'mvom', ',', 'e', 'ba', 'bene', 'evovoe', ',', 'amu', 'si-ndon', 'yayi', 'bo', 'ngab-elig', 'dzaban', '.[SEP]awola', 'te', ',', 'ndo', 'angafon', 'ai', 'ngul', 'zamba', ',', 'nye', 'na', ':', 'makan', 'wa', ',', 'a', 'tara', ',', 'a', 'nti', 'yob', 'ai', 'si', ',', 'amu', 'ongasoli', 'mimfefeg', 'ai', 'beyeme', 'e', 'mam', 'ma', ',', 'okulan', 'mo', 'ban', 'bongo', '.', 'owe', ',', 'a', 'tara', ',', 'amu', 'nala', 'ngo', 'wamen', 'ongafuu', 'nnem', '.\"']\n",
      "                                     tgt_lang: fr\n",
      "INFO - 06/15/20 18:28:04 - 0:00:00 - The experiment will be stored in ./dumped/translate/test/translate/test\n",
      "                                     \n",
      "INFO - 06/15/20 18:28:04 - 0:00:00 - Running command: python translate_our.py --exp_name translate --exp_id test --src_lang MKPAMAN_AMVOE_Ewondo --tgt_lang fr --model_path '/home/jupyter/models/africa/cluster1/SupMT_cluster1fr/maml/best-valid_fr-Bulu_mt_bleu.pth' --text '\"besombog' mvom ',' e ba bene evovoe ',' amu 'si-ndon' yayi bo 'ngab-elig' dzaban '.[SEP]awola' te ',' ndo angafon ai ngul zamba ',' nye na ':' makan wa ',' a tara ',' a nti yob ai si ',' amu ongasoli mimfefeg ai beyeme e mam ma ',' okulan mo ban bongo '.' owe ',' a tara ',' amu nala ngo wamen ongafuu nnem '.\"'\n",
      "\n",
      "INFO - 06/15/20 18:28:05 - 0:00:01 - Supported languages: Bafia, Bulu, MKPAMAN_AMVOE_Ewondo, en, fr\n",
      "0 / 2: besombog mvom , e ba bene evovoe , amu si-ndon yayi bo ngab-elig dzaban . -> heureux les misericordieux , car le monde monde tient pour l' heritage qu' il possede , et c' est lui qui les a aussi donne la gloire .\n",
      "1 / 2: awola te , ndo angafon ai ngul zamba , nye na : makan wa , a tara , a nti yob ai si , amu ongasoli mimfefeg ai beyeme e mam ma , okulan mo ban bongo . owe , a tara , amu nala ngo wamen ongafuu nnem . -> a cette meme heure , il dit : \" je te demande , seigneur , pere , la terre et la terre , parce que tu sont sages a mes conseils et que tu as nous-memes entendu de moi des les temps anciens . oui , c' est toi qui mbaʼale . \"\n",
      "[\"heureux les misericordieux , car le monde monde tient pour l' heritage qu' il possede , et c' est lui qui les a aussi donne la gloire .\", 'a cette meme heure , il dit : \" je te demande , seigneur , pere , la terre et la terre , parce que tu sont sages a mes conseils et que tu as nous-memes entendu de moi des les temps anciens . oui , c\\' est toi qui mbaʼale . \"']\n"
     ]
    }
   ],
   "source": [
    "%env src_lang=MKPAMAN_AMVOE_Ewondo\n",
    "%env text \"besombog mvom , e ba bene evovoe , amu si-ndon yayi bo ngab-elig dzaban .[SEP]awola te , ndo angafon ai ngul zamba , nye na : makan wa , a tara , a nti yob ai si , amu ongasoli mimfefeg ai beyeme e mam ma , okulan mo ban bongo . owe , a tara , amu nala ngo wamen ongafuu nnem .\"\n",
    "! python translate_our.py --exp_name translate --exp_id test --src_lang $src_lang --tgt_lang $tgt_lang --model_path $model_path --text ${text} "
   ]
  },
  {
   "cell_type": "code",
   "execution_count": null,
   "metadata": {},
   "outputs": [],
   "source": []
  }
 ],
 "metadata": {
  "environment": {
   "name": "pytorch-gpu.1-4.m46",
   "type": "gcloud",
   "uri": "gcr.io/deeplearning-platform-release/pytorch-gpu.1-4:m46"
  },
  "kernelspec": {
   "display_name": "Python 3",
   "language": "python",
   "name": "python3"
  },
  "language_info": {
   "codemirror_mode": {
    "name": "ipython",
    "version": 3
   },
   "file_extension": ".py",
   "mimetype": "text/x-python",
   "name": "python",
   "nbconvert_exporter": "python",
   "pygments_lexer": "ipython3",
   "version": "3.7.6"
  }
 },
 "nbformat": 4,
 "nbformat_minor": 4
}
