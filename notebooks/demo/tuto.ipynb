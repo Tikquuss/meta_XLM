{
  "nbformat": 4,
  "nbformat_minor": 0,
  "metadata": {
    "colab": {
      "name": "tuto.ipynb",
      "provenance": [],
      "collapsed_sections": [],
      "authorship_tag": "ABX9TyNRGw1FtoKH5rqBC3/MmlwL",
      "include_colab_link": true
    },
    "kernelspec": {
      "name": "python3",
      "display_name": "Python 3"
    },
    "accelerator": "GPU"
  },
  "cells": [
    {
      "cell_type": "markdown",
      "metadata": {
        "id": "view-in-github",
        "colab_type": "text"
      },
      "source": [
        "<a href=\"https://colab.research.google.com/github/Tikquuss/meta_XLM/blob/master/notebooks/demo/tuto.ipynb\" target=\"_parent\"><img src=\"https://colab.research.google.com/assets/colab-badge.svg\" alt=\"Open In Colab\"/></a>"
      ]
    },
    {
      "cell_type": "markdown",
      "metadata": {
        "id": "oeVfqltaoHUK",
        "colab_type": "text"
      },
      "source": [
        "**Author : Pascal Tikeng (https://github.com/Tikquuss)**"
      ]
    },
    {
      "cell_type": "markdown",
      "metadata": {
        "id": "dd_lmq_XoXg_",
        "colab_type": "text"
      },
      "source": [
        "https://github.com/Tikquuss/meta_XLM"
      ]
    },
    {
      "cell_type": "markdown",
      "metadata": {
        "id": "hKpACf4xHaBh",
        "colab_type": "text"
      },
      "source": [
        "**Make sure you have enabled the GPU.**"
      ]
    },
    {
      "cell_type": "code",
      "metadata": {
        "id": "Q3Jf-jOroHqA",
        "colab_type": "code",
        "colab": {
          "base_uri": "https://localhost:8080/",
          "height": 136
        },
        "outputId": "3f68ed72-5eee-42b4-8f02-eccb5ebe90d4"
      },
      "source": [
        "! git clone https://github.com/Tikquuss/meta_XLM"
      ],
      "execution_count": 1,
      "outputs": [
        {
          "output_type": "stream",
          "text": [
            "Cloning into 'meta_XLM'...\n",
            "remote: Enumerating objects: 182, done.\u001b[K\n",
            "remote: Counting objects: 100% (182/182), done.\u001b[K\n",
            "remote: Compressing objects: 100% (125/125), done.\u001b[K\n",
            "remote: Total 905 (delta 111), reused 103 (delta 53), pack-reused 723\u001b[K\n",
            "Receiving objects: 100% (905/905), 33.11 MiB | 16.14 MiB/s, done.\n",
            "Resolving deltas: 100% (505/505), done.\n"
          ],
          "name": "stdout"
        }
      ]
    },
    {
      "cell_type": "code",
      "metadata": {
        "id": "LP3TWnJEoVG5",
        "colab_type": "code",
        "colab": {
          "base_uri": "https://localhost:8080/",
          "height": 34
        },
        "outputId": "e40b4381-2b9a-4a1a-bd9a-25562e208b51"
      },
      "source": [
        "%cd meta_XLM"
      ],
      "execution_count": 2,
      "outputs": [
        {
          "output_type": "stream",
          "text": [
            "/content/meta_XLM\n"
          ],
          "name": "stdout"
        }
      ]
    },
    {
      "cell_type": "markdown",
      "metadata": {
        "id": "xP333KbnrH0A",
        "colab_type": "text"
      },
      "source": [
        "# **1.Download Text data**"
      ]
    },
    {
      "cell_type": "markdown",
      "metadata": {
        "id": "_sW-ODqKtUXa",
        "colab_type": "text"
      },
      "source": [
        "## **1.1) From opus (de-fr)**  "
      ]
    },
    {
      "cell_type": "markdown",
      "metadata": {
        "id": "GX04_8ACyIg-",
        "colab_type": "text"
      },
      "source": [
        "In my case I changed ```PARA_PATH=/content/data/para``` to ```PARA_PATH=$PARA_PATH``` in ```opus.sh``` to be able to modify this parameter from the outside."
      ]
    },
    {
      "cell_type": "code",
      "metadata": {
        "id": "X4NBXI-Jyk5j",
        "colab_type": "code",
        "colab": {}
      },
      "source": [
        "! mkdir /content/data"
      ],
      "execution_count": 3,
      "outputs": []
    },
    {
      "cell_type": "code",
      "metadata": {
        "id": "OwZbVH5Hw6FD",
        "colab_type": "code",
        "colab": {
          "base_uri": "https://localhost:8080/",
          "height": 34
        },
        "outputId": "c5572073-3ee5-43b5-ec21-ee1a788ae5cd"
      },
      "source": [
        "%env PARA_PATH=/content/data/para"
      ],
      "execution_count": 4,
      "outputs": [
        {
          "output_type": "stream",
          "text": [
            "env: PARA_PATH=/content/data/para\n"
          ],
          "name": "stdout"
        }
      ]
    },
    {
      "cell_type": "code",
      "metadata": {
        "id": "duizqOBtta9c",
        "colab_type": "code",
        "colab": {}
      },
      "source": [
        "! chmod +x ./scripts/opus.sh"
      ],
      "execution_count": 5,
      "outputs": []
    },
    {
      "cell_type": "code",
      "metadata": {
        "id": "yPdJp9Pttdlp",
        "colab_type": "code",
        "colab": {
          "base_uri": "https://localhost:8080/",
          "height": 819
        },
        "outputId": "476b6392-6ef6-430e-9f74-d60c8f8e3ee3"
      },
      "source": [
        "! ./scripts/opus.sh de-fr"
      ],
      "execution_count": 6,
      "outputs": [
        {
          "output_type": "stream",
          "text": [
            "\n",
            "\n",
            "***Download data and unzip it in /content/data/para/de-fr ***\n",
            "--2020-08-30 17:20:18--  http://opus.nlpl.eu/download.php?f=OpenSubtitles2018%2Fde-fr.txt.zip\n",
            "Resolving opus.nlpl.eu (opus.nlpl.eu)... 193.166.25.9\n",
            "Connecting to opus.nlpl.eu (opus.nlpl.eu)|193.166.25.9|:80... connected.\n",
            "HTTP request sent, awaiting response... 302 Found\n",
            "Location: https://object.pouta.csc.fi/OPUS-OpenSubtitles/v2018/moses/de-fr.txt.zip [following]\n",
            "--2020-08-30 17:20:18--  https://object.pouta.csc.fi/OPUS-OpenSubtitles/v2018/moses/de-fr.txt.zip\n",
            "Resolving object.pouta.csc.fi (object.pouta.csc.fi)... 86.50.254.18\n",
            "Connecting to object.pouta.csc.fi (object.pouta.csc.fi)|86.50.254.18|:443... connected.\n",
            "HTTP request sent, awaiting response... 200 OK\n",
            "Length: 524297655 (500M) [application/zip]\n",
            "Saving to: ‘/content/data/para/de-fr/download.php?f=OpenSubtitles2018%2Fde-fr.txt.zip’\n",
            "\n",
            "download.php?f=Open 100%[===================>] 500.01M  84.0MB/s    in 6.2s    \n",
            "\n",
            "2020-08-30 17:20:25 (81.1 MB/s) - ‘/content/data/para/de-fr/download.php?f=OpenSubtitles2018%2Fde-fr.txt.zip’ saved [524297655/524297655]\n",
            "\n",
            "Archive:  /content/data/para/de-fr/download.php?f=OpenSubtitles2018%2Fde-fr.txt.zip\n",
            "  inflating: /content/data/para/de-fr/OpenSubtitles.de-fr.de  \n",
            "  inflating: /content/data/para/de-fr/OpenSubtitles.de-fr.fr  \n",
            "  inflating: /content/data/para/de-fr/OpenSubtitles.de-fr.ids  \n",
            "  inflating: /content/data/para/de-fr/README  \n",
            "--2020-08-30 17:20:58--  http://opus.nlpl.eu/download.php?f=MultiUN%2Fde-fr.txt.zip\n",
            "Resolving opus.nlpl.eu (opus.nlpl.eu)... 193.166.25.9\n",
            "Connecting to opus.nlpl.eu (opus.nlpl.eu)|193.166.25.9|:80... connected.\n",
            "HTTP request sent, awaiting response... 302 Found\n",
            "Location: https://object.pouta.csc.fi/OPUS-MultiUN/v1/moses/de-fr.txt.zip [following]\n",
            "--2020-08-30 17:20:58--  https://object.pouta.csc.fi/OPUS-MultiUN/v1/moses/de-fr.txt.zip\n",
            "Resolving object.pouta.csc.fi (object.pouta.csc.fi)... 86.50.254.18\n",
            "Connecting to object.pouta.csc.fi (object.pouta.csc.fi)|86.50.254.18|:443... connected.\n",
            "HTTP request sent, awaiting response... 200 OK\n",
            "Length: 20692837 (20M) [application/zip]\n",
            "Saving to: ‘/content/data/para/de-fr/download.php?f=MultiUN%2Fde-fr.txt.zip’\n",
            "\n",
            "download.php?f=Mult 100%[===================>]  19.73M  47.7MB/s    in 0.4s    \n",
            "\n",
            "2020-08-30 17:20:59 (47.7 MB/s) - ‘/content/data/para/de-fr/download.php?f=MultiUN%2Fde-fr.txt.zip’ saved [20692837/20692837]\n",
            "\n",
            "Archive:  /content/data/para/de-fr/download.php?f=MultiUN%2Fde-fr.txt.zip\n",
            "  inflating: /content/data/para/de-fr/MultiUN.de-fr.de  \n",
            "  inflating: /content/data/para/de-fr/MultiUN.de-fr.fr  \n",
            "\n",
            "\n",
            "*** Convert to txt***\n"
          ],
          "name": "stdout"
        }
      ]
    },
    {
      "cell_type": "markdown",
      "metadata": {
        "id": "9LKolbfqzb_z",
        "colab_type": "text"
      },
      "source": [
        "![0.png](data:image/png;base64,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)"
      ]
    },
    {
      "cell_type": "markdown",
      "metadata": {
        "id": "Wljz975irNPh",
        "colab_type": "text"
      },
      "source": [
        "## **1.2) From anki (de-en and en-fr)**"
      ]
    },
    {
      "cell_type": "code",
      "metadata": {
        "id": "-ZgqllM0obJ2",
        "colab_type": "code",
        "colab": {
          "base_uri": "https://localhost:8080/",
          "height": 34
        },
        "outputId": "83d89272-52e3-41e6-e7ae-54999d0ecb9a"
      },
      "source": [
        "%env output_path=/content/data/para"
      ],
      "execution_count": 7,
      "outputs": [
        {
          "output_type": "stream",
          "text": [
            "env: output_path=/content/data/para\n"
          ],
          "name": "stdout"
        }
      ]
    },
    {
      "cell_type": "code",
      "metadata": {
        "id": "23Nhb9wholKu",
        "colab_type": "code",
        "colab": {
          "base_uri": "https://localhost:8080/",
          "height": 34
        },
        "outputId": "25903688-d61b-494d-a363-68d76eb66021"
      },
      "source": [
        "! mkdir $output_path"
      ],
      "execution_count": 8,
      "outputs": [
        {
          "output_type": "stream",
          "text": [
            "mkdir: cannot create directory ‘/content/data/para’: File exists\n"
          ],
          "name": "stdout"
        }
      ]
    },
    {
      "cell_type": "code",
      "metadata": {
        "id": "j5O6dXVoo08m",
        "colab_type": "code",
        "colab": {}
      },
      "source": [
        "! chmod +x ./scripts/anki.sh"
      ],
      "execution_count": 9,
      "outputs": []
    },
    {
      "cell_type": "code",
      "metadata": {
        "id": "a7IV6WaPohuJ",
        "colab_type": "code",
        "colab": {
          "base_uri": "https://localhost:8080/",
          "height": 595
        },
        "outputId": "6a09604a-c23e-41c7-a7aa-4d906d28494b"
      },
      "source": [
        "! ./scripts/anki.sh de,en deu-eng $output_path scripts/anki.py\n",
        "! ./scripts/anki.sh en,fr fra-eng $output_path scripts/anki.py"
      ],
      "execution_count": 10,
      "outputs": [
        {
          "output_type": "stream",
          "text": [
            "===========================\n",
            "--2020-08-30 17:22:38--  http://www.manythings.org/anki/deu-eng.zip\n",
            "Resolving www.manythings.org (www.manythings.org)... 172.67.173.198, 104.24.109.196, 104.24.108.196, ...\n",
            "Connecting to www.manythings.org (www.manythings.org)|172.67.173.198|:80... connected.\n",
            "HTTP request sent, awaiting response... 200 OK\n",
            "Length: 8324970 (7.9M) [application/zip]\n",
            "Saving to: ‘/content/data/para/deu-eng.zip’\n",
            "\n",
            "deu-eng.zip         100%[===================>]   7.94M  6.35MB/s    in 1.2s    \n",
            "\n",
            "2020-08-30 17:22:40 (6.35 MB/s) - ‘/content/data/para/deu-eng.zip’ saved [8324970/8324970]\n",
            "\n",
            "Archive:  /content/data/para/deu-eng.zip\n",
            "  inflating: /content/data/para/deu.txt  \n",
            "  inflating: /content/data/para/_about.txt  \n",
            "download and extract deu-eng data in /content/data/para\n",
            "===========================\n",
            "===========================\n",
            "--2020-08-30 17:22:42--  http://www.manythings.org/anki/fra-eng.zip\n",
            "Resolving www.manythings.org (www.manythings.org)... 104.24.108.196, 104.24.109.196, 172.67.173.198, ...\n",
            "Connecting to www.manythings.org (www.manythings.org)|104.24.108.196|:80... connected.\n",
            "HTTP request sent, awaiting response... 200 OK\n",
            "Length: 6073837 (5.8M) [application/zip]\n",
            "Saving to: ‘/content/data/para/fra-eng.zip’\n",
            "\n",
            "fra-eng.zip         100%[===================>]   5.79M  6.05MB/s    in 1.0s    \n",
            "\n",
            "2020-08-30 17:22:44 (6.05 MB/s) - ‘/content/data/para/fra-eng.zip’ saved [6073837/6073837]\n",
            "\n",
            "Archive:  /content/data/para/fra-eng.zip\n",
            "  inflating: /content/data/para/_about.txt  \n",
            "  inflating: /content/data/para/fra.txt  \n",
            "download and extract fra-eng data in /content/data/para\n",
            "===========================\n"
          ],
          "name": "stdout"
        }
      ]
    },
    {
      "cell_type": "markdown",
      "metadata": {
        "id": "KRoAN-fIrTPR",
        "colab_type": "text"
      },
      "source": [
        "![1.png](data:image/png;base64,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)"
      ]
    },
    {
      "cell_type": "markdown",
      "metadata": {
        "id": "ZMoTVvmy0X6e",
        "colab_type": "text"
      },
      "source": [
        "## **1.3) Put everything in the same folder**"
      ]
    },
    {
      "cell_type": "code",
      "metadata": {
        "id": "O90kqzOBrWhd",
        "colab_type": "code",
        "colab": {}
      },
      "source": [
        "! cp /content/data/para/de-fr/de-fr.de.txt /content/data/para\n",
        "! cp /content/data/para/de-fr/de-fr.fr.txt /content/data/para"
      ],
      "execution_count": 11,
      "outputs": []
    },
    {
      "cell_type": "markdown",
      "metadata": {
        "id": "pitJi1jC0-0Q",
        "colab_type": "text"
      },
      "source": [
        "![3.png](data:image/png;base64,iVBORw0KGgoAAAANSUhEUgAAAWsAAAFVCAYAAAApNs6lAAAAAXNSR0IArs4c6QAAAARnQU1BAACxjwv8YQUAAAAJcEhZcwAADsMAAA7DAcdvqGQAAD/dSURBVHhe7Z0JeFT11f8PElYNIRBQ9sWyFiiCgAQKisLrigVkkbKoQSpFWh7/pNQHBZTXRwsvfRWoAYpg3yqCLEVZgorBVoKCASyLSEBEQEOJECJoFhL5z/dwb7xJZrmTzEzmZr6f57lP7jZ37oTw/Z05v3PPt8ott9xyRQghhPjFf/7zH7n++uuNreBzjfGTEEJIGEOxJoQQB0CxJoQQB0CxJoQQB0CxJoQQBxDx1SD/9V//pUtJjh07Ji+//LKxRQghxQl1NUhEi/XPfvYzWbJkibFVmnfeeUfmzp1rbBFCyE9UqFgv6v6psSby+J6uxlrl5Re/+IX8+c9/Nrb859///rc88cQTxhYhJJJgnXUYgH8EO0DssRBCSLChWJfg3XffldGjR+tPQggJFyjWFiDQf/rTn3QdPynYhJBwgWJtYBVqEwo2ISRcoFi7QJne1q1btTrECraxH8cJIaQioVi7gCijKuS3v/2tsecq2Mb+kiJulzp16sjw4cOlZ8+eut2oUSPNh7dt21a3CSHELhTrINKwYUPp3bu3dO/eXbdbtWol8fHx0rlzZ90mhBC7UKyDCNInqMNOSkrS7Z07d8rjjz8u69at021CCLELxdrCjTfeqGkPc8E2IYSEAxEt1t9//72xdpXrrruu6EEXLNj2RclrEEJIMIjox80Bmjj16dPHljBbuXTpkvYOSU1NNfYQQiIJ9gYhhBAHELa9QepXz5c20ZdKLbWqFhpnEEIICRa2ImsI9TOdPzO2inP6h1ryUvrPJKewqrGHEEIqP2GZBrm78Rm5u9EZY6s05/Kry/m86sZWcU7n1JJ1p5oYW4QQUjkI6xapX7uE9+jF60otnoS6dlSh3NYwU7rUzTb2EEIIKQt+RdZId0Cc7YKc9u/bHpMtGTfIlm9uMPYSQojzCevImhBCSMVAsSaEEAdAsSaEEAdAsQ4xI0aMUMf0xo0bG3sIIcQ3ES/WeNzc2rzJXEr2tq4I7rjjDlm0aJH+JIRENhEt1jAV+MMf/lCseZO5DBs2TI8RQkg44Ffp3tpTTbTW2i5NauXIA82+DtvSPYgyouiy8u9//1v7VXujS5cuMnbsWImNjdUOfWfOnNH1F198Ub755hs1Jxg6dKju+/HHHyU9PV2WLl0q48ePl65df/o3+PTTT2XhwoUez//uu++MMwkhoSDUpXtVmzZtOttYV1E2gcCa4KGX267PlI4xF+WW+udtLzgfvHaieVg+jn7DDTdoGqSs4PUQbPyjuSMuLk4mTJggubm5akAAMwLTNebjjz/Wf+iHHnpITp06pea8+Nm3b1+1A/vrX/8qP/zwg0b/a9eulVWrVum6p/P379+v1yWEhAYEX/526ywPttIgeJx81oGO+lCMvwteh9dHIoiMIaQpKSly9OhR2bVrl+zdu9c4KnL27FmNilesWKGRMY6fP39eWrZsaZxRHH/PJ4RUHmznrCG4JR8zt7MESqibNGkiM2fO9LrgnHCiXr16UlhYqKkPE2ybQHARfT/99NOybNkyeeWVV6R58+ZyzTXu/1n8PZ8QUnlwzP/yr7/+WpYvX65WW/379y+2YB+O4Rwngcgb7uenT5+W6dOnS0JCgpw8edI4Whp/zyeEVB4cFZJBpGbMmKE/TdztCxeQoqhatarmtk2wbYIoGZOE27Ztk3PnzmmEXKVKFeNoafw9nxBSeXDc92erOIezUANUcCB1MWDAAGnTpo3Ex8fLzTffbBwVnUCsVq2aThK2atVKHnnkkWIPyyBHfeXKFU2nYDLS1/mEkMqLrWqQcAMCmJaWphN35RHq8laDAPgweqoGgbh+++23KtB4sKVt27YqwLVq1dJqkM8++0xq166t5Xi33XabRsrZ2dkSFRUln3zyiWRlZanI9+rVSytBXn/9da/n5+fnG+9MCAk2oa4GiWgPxvLWWQPUWaN8jxASWbBFKiGEkFJEtFjja0x5CcQ1CCHEFxGdBgHIWffp08fv3NOlS5c0X52ammrsIYREEqFOg0S8WBNCSFlgzpoQQkgpKNaEEOIAKNaEEOIAiuWsCSGE2IM5a0IIIaWgWBNCiAOgWBNCiAOgWBNCiAOgWBNCiANgNUiAwePr7tquwiz35ZdfNrYIIU6nQh83J+UDPaeXLFlibJUGvUTmzp1rbBFCnAzF2sGUtz82+mKjP7Ynfv7zn8uECRPUdxGmBNWrV5fMzEz5+9//rkYG4L777lNnmujoaLl8+bLs27dPzXVhBzZlyhRp1KiRnofjixcvVvf1oUOHSmxsrJ6Tnp6uDuoweCCEeIZ11hEMxB6LN2DrFRMTIwsXLlSxhUvMyJEjtWsgbMMGDRqkAj158mR5++23pUuXLsXSMg0aNJBTp07payHOpgEvBgm4pTdr1kzuv/9+42xCSLhAsXYYiJZ37twphw8fVmsz2IPVr19fOnToIEeOHJG//OUvsnr1asnLy9NIHdZirVu3Nl4tcubMGY3EDx06pG7wiKJXrFihkfSuXbvU5Ldly5bG2YSQcCFixbpJkyYyc+ZMrwvOCUcQEZscPXpUBRzRNjwb27VrJy+88IKmPubMmaNCDq9Gk4KCAu3FDSDQcEx/+umn9XxE1s2bNy92PiEkPIjY/5WIKpcvXy433nij9O/fv9iCfTiGc8KdGjVqFIkrctVIeSANgrQGRPjcuXN6zB1du3YtSoNMnz5dEhISNB9OCAk/IjqEgkjNmDGjmEO6u33hTMOGDaVKlSrqcl6vXj2Nmrdt26ZRM0QcxzyBqBpROs6HqPs6nxBScUT8912rODtBqDHB2LdvXy0TbN++vfTr108rQpDDzs3N1YlGHEc6BFEzqjw8gXy2eb1WrVrJI488Io0bNzaOEkLCCSYnXZgi7YSIGvnpnJwcTXNMmzZNt9etW6cR9aZNm+TTTz+V22+/XY/VqlVLvv32W02VuAMTlR988IFWoOCzI1+N1A8qTPz1pCSEBBfWWQeQ8tZZA4gwqjjcYdZZb968WVMXhJCKg3XWhBBCSkGxDiDff/+9sVZ2AnENQkjlg2mQAIPSuT59+vid80XOGb1DUlNTjT2EkHCGvUEIIcQBMGdNCCGkFBRrQghxABRrQghxABRrQghxABRrQghxABRrQghxABRrQghxABRrQghxABRrUowRI0aoA3tZW6U+8MAD8vLLL6vL+x133GHsJYSUFz7BGObg8XWr4a3JsWPHVBQDDcT65ptvlhdffFG++eYbY6892rZtK5MmTZITJ07I66+/rv2ysRBSGeETjKQIGAz84Q9/KHI9ty7Dhg3TY+EEjAwAzHjRR5tCTUjgYGQdBGC0Gwj/Rohyefpjoy82+mN7o0uXLjJ27Fh1lEHHP7ifY92MrFu0aCFjxowpcjxPT09XN3SIsRWkPOBMA+MCAJswmCEMGTJEfxdt2rSRgwcPysKFC/U4IU6HkXUlAMazTZs2NbYqDjMK9wQ8GEeOHKki/ac//UlWrlypPo4mderUkfHjx0vVqlXV7R15aPxxPvjgg8YZPwEzhAULFqj34xtvvKFRPwQb0fYNN9wgq1atUkcbQkjZoFgHieeeey4sBNsbcDeHIKekpMjRo0dl165dsnfvXuOoSM+ePaV+/fqSnJwsGRkZkpaWJgcOHNDPZTeiKCwslO3bt+vibw6cEPITFOsgAUELd8FGFA0xRerDBNsmOI6+3I899pi88sorusCgFw7o48aNK9q3aNEitRxzB9zT8/LyjC1CSFmhWAcRJwi2Ly5evKgpEqR2zAUpjnnz5hVtP/744zqpSAgJHhTrCOb8+fOaj0ZO2QTbJhDq6tWry4033mjsEXVKv+Ya/tkQEmr4vy6InD59WmbMmKE/w5FPP/1UJwQHDBig1Rrx8fFaY23yySefSFZWlh7HRGWjRo00ik5MTJTatWsbZxFCQgHFOkiEu1ADlN+tXr1arr32Wpk+fbpWhlhL8rCOnDSqRSDSc+bMkZiYGNm4cSNrqAkJMayzDgIoc1u+fHm5hbq8ddYAddaotyaEBBbWWVcCEI2Gc0RNCHEeFOsgEIinFwHSD+UlENcghFQ8TIOEOWji1KdPH6139odLly7JO++8I6mpqcYeQkggCXUahGJNiE1+kZurP/9ds6b+JJENc9aEhCHt8vJkVmamLrcytUQqAIo1ITYorFLFWBP53fnzxhohoYNiTYgNjlWvLmm1ahlbIrfk5BhrhIQGijUhNjlUo4axJnKzkb8mJFRQrAmxyT7LxOKAS5ekUUGBsUVI8KFYE2KTk9WqyYeWnij9+Mg9CSEUa0L8YPu11xprIveiK+EVVr6S0MA6a4cA81w0XPIE+3+EjhfOnpW2hqHCX2Jj5X0/H1gilQM+FENKgacYfTmZ42nFuXPnGltlZ8SIEdom1TTMDRfC6b6Qr348K0vXP61ZU55t0EDXSWTBh2JIKfC4uScQUb/77ru2BD1SmTVrli52gEs7bMrw0xMfW/LWXXNzpcXly8YWIcGDYu0AfPUFge0WBTt0/HDNNfKuJSXVizXXJAQwDeIA0NMava3dgcgaPasBDAQGDRrkV0qkS5cuMnbsWImNjdUOfTDPxbqZbmjRooWMGTNGWrZsqeenp6fLihUripkUmMDu6+GHH5bu3burHRhcZlatWiV79uyRKVOmSMOGDdWZpm3btmqki/3Lli3T9ZIE4r5g4jtp0iSpZTzMkuMS1XXr1sndd98t586d098RBsJp06apnRlszjp27KjnAjjpLFy40NgqDiLqmZmZup4RFSWTGzXSdRI5hDoNUrVp06azjXUSpiBitvokWsEfDMQZoMMerLdwfnR0tNpyeSMuLk4mTJgguS7hSUpKkmPHjqnQgo8//lhdzOFsDhGeP3++CqJrcJdmzZrJ7t279Twrv/71r6Vr164q0OvXr5fWrVtLr1691EwXIggvR7zH4sWLpWbNmtKtWzfJzs6WkydPGle4SqDuK9Mlplu2bJGbbrpJ3weD2YkTJ9RHEteD63r79u2lU6dOsnnzZlm5cqU64GAyd+3atfo5PHHGJdAo3Yt2DTRYTlerJqdcC4kcEET42w2zPDAN4nAwso8bN65oycjI0PaoVpNbT0BY69SpIykpKXL06FHZtWuX7N271zgq0rNnT6lfv74kJyfrddPS0uTAgQPq1l4yomjcuLFGw4hGd+7cqef/85//1Ai7Xbt2eg6iYwggBhgMJIio3Q1Cgbwvd0DAT506JbfffrvOBxw5ckQ++OAD46h93rH8Rx3k+p0TEkwo1g4HYjd+/Phii93Rvl69elJYWKgiaoJtExzHtRDFwv0GS79+/TSyxcBg7sOEHAQWJro4bu7H65CCMB3TCwoKdCAxwXXcOaWX576s7uyewCCxdetWLYXE+cj3u0vF+GKb6/W5rvcEnV1Rek/mrkkQoVgTr1y8eFEnMBMSEooWTGLOmzevaBtmul999ZUK3qZNm4qd+5vf/Ea2bdtmXC1weLovu2V9SIVAqDFYIPovC5hofCs62tgSGfbdd8YaIYGHYh3BYEINgmVNRVgjUwgihMyaUoHIuYuGETHn5+cXTfgBnIfz/SWQ9+UOpFiQ18dkJHLUmHC0+9qSbHSJdbZxb21cn/8upkNIkKBYRzDIL6M6Y8CAAdKmTRuJj4/XB09MkFdGRQeOoxoFk5eIohMTEzXlYQWRNSb6UOkxbNgwPT506FB59tlntSrDF3iPwYMHq2iW976s1wIXLlzQdAwmDiHUyFWjMuX999/XXDVy3QMHDtRzz549K1euXNFUi538N6LrN1zXNEF0zf9UJBiwGsQBeKsG8YS1SsQTiCoRXUII8RAIhBZiBWFD1QWugeoJVHLgOETw8uXLWunhLt1w8OBBvU+I63333aciCjHcsWOHVoXguph0BBDLHj16qMijWgRPKEKYMVGIKo7y3Jf1WpixR+UJRP2Xv/ylRui4P0wwvvnmm3L8+HHp3LmzXguTmXg9Xov7hbj/61//0vv1xheuKL9Hbq7EFhZKLZfQn3W9x5dlTK0Q5xDqahDWWTsAb3XWnrDWX5PgM8j1H/cxw0Em3SXUfwxh/S2pGBA0hLLOmt/YCAkAKddeW5S7bpufLzezMoQEGIo1IQEANgSbLV+JaftFAg3FupJirWcmoWF3rZ88Gtu5omtCAgnF2gH4mih0R1leQ8oHnGRQHQKaXL4ssWV40IYQT3CC0SH4Mh+wgllq9NMgoWdGZqZ0z71qpos+1+h3TSonoZ5gpFgTEkBGZ2fLA8aTjH+rW7fYE46kcsFqEEIcjNkrBFShPyMJIBRrQgJIwwLUhVwlMyrKWCOk/FCsCQkg11u6A35r6WdCSHmhWBMSQFAFYsLImgQSijUhAeLOS5ckzoisD9eoIecZWZMAwmoQh+CrdA+9QEjFUe/HH2VBRobUNmqr/1q3riSzEqRSw9I9Ugo7ruX+mOR6Ax3r0O3ONKYl9njkwgW59+JFXf/MFVU/1bChrpPKC0v3SCngE+gJRNSwpbIj6JEIvCExiMFd3Q4YrGBTZqcHtwkMB0yhBmst/a0JCRQUawfgq2cu7K0o2BXDgO+/l0ezsowtkcX16vGpRRIUmAZxAN76WVv7Vk+fPl0GDRrkV0oEjuRjx46V2NhYfUwdJrVYN9MgLVq0kDFjxhTZdcENZsWKFWoOUBI4szz88MPSvXt3td2CmwvczPfs2aORLQwH4AADMwH4NWL/smXL3JrVentfu9eCMcHw4cMlyqjKOHfunBoOjBw5UtfxO8JAOG3aNDUlwGsRiZvg94jzPRGfkyPTLL+H1Nq1ZX79+sYWqeyEOg1CpxgH4M0pBn8wZtOm1NRUdWfB+dHR0Wp/5Y24uDiZMGGC5ObmSlJSkvYTgdACOLLALRwO4hDh+fPnq2C6Bndp1qyZ7N69W8+z8utf/1pdziHQcG1p3bq1Oq7ACQZOLPBMxHssXrxY3Vu6desm2dnZcvLkSeMKV4H1lrf3xTXtXAsuMHv37tWBDtd47rnndACCXyM+Z15enrRv3146deokmzdvluXLl+u1mjRpIgsXLlSXG090c/3O/mgR6n2u1/2PS6h/tDzBSCo3oXaKYRrE4WBkHzduXNGSkZGh7VGtZrKegLBCGFNSUtTSateuXSpuJj179pT6LgFKTk7W66alpalVFjwLS0YUiEgRpcM/cefOnXo+LLwQYbdr107PQdQOIccAg4EEkay7QcjO+9q9lju2bNmitl7wYsR8wJEjR7wKc0m6uoT6qcxMY8sV9bvEf0G9elJAoSZBhGLtcCBQ48ePL7bYHe1hCltYWKjCZ4JtExzHtRDlvvLKK7r069dPI24MDOY+TMhB+GFWi+PmfrwOvommM3lBQUGxPtu4jmlqa8Xb+/p7LXdA2Ldu3aqlkLge8v3W9Ik3INQzLUKNtqj/67pf0yWGkGBBsSZeuXjxok5gJiQkFC2YxJw3b17RNpzFYXwLwdu0aVOxc3/zm9/Itm3bjKvZx9P7BqqcEKkQCDUEHtG/HX5RUqijomSu6xvAf/ikIgkBFOsI5vz58ypY1vSBGbkCCCaEzJpSgci5i2AR5ebn5xdNCAKch/P9xZ/3LQtI/SCvj8lKOLzffffdPq/dyBXJP20R6q9dEfW8uDj5xvWTkFBAsY5gkF9GRcWAAQOkTZs2Eh8frw/EmCAXjIoOHMckHSYvEUUnJiZqysMKImtM4qE6Y9iwYXp86NCh8uyzz9qqWcZ7DB48WEXTn/d1h/VaSPFAkCHQyKtD9JGrRjXJ+++/r7lq5MIHDhyor71w4YJcuXJF3xPnmIx17Tf/s3xjRNQQbEJCBcU6gkFkuXr1as3douwPJW3WkjysI1+MWW+I5Zw5cyQmJkY2btyoAliSv/3tbzoAoGQO1RS//OUvZceOHVoN4osePXpI7969pUGDBn6/b0ms10JqBuWNEOQnn3xS+vbtq8uXX36p9/bee+/J6dOnVeBRLnjw4EH9xjFq1Cgt+zP5wBgkjroi/rmu656iUJMQwzprB+CtztoT1vprQkjg4ePmhBBCSkGxJoQQB0CxrqRYa5AJIc6HYu0AzMfJ/aEsryGEhC+cYHQIvswHrKCKAn0zCCHBI9QTjBRrQggpA6wGIYQQUgqKNSEl6Jybqwsh4QTFmhALHfLy5JnMTF0e+O47Yy8hFQ/FmhALVvOA0dnZMoglkCRMoFgTYuFI9eryrqUf+GNZWXJLTo6xRUjFwWoQh+CrdA+9QEjg+OO5c9LT0jTqqYYN5bMytHsllReW7pFS2HEt98ck1xsjRozQNqmmYa6/PPDAA9rBDn2x16xZ45fxAFqYTp06VW28vBnVhoLoH3+UGZmZ0jY/X7fPuz7P7AYN5DS77REDlu6RUsAn0BOIqGFLZUfQgw16WZuehjNmzFAvxlCBtqywF8NPO2BQwvmeem1fvOYaWVSvnoo0qFdYKI+fP68iTkhFQLF2AL48FWF/FQ6CXc2IOtG/2nRhcTKIov9cv76x5RqMXFH25KwsY4uQ0MI0iAPw1s/a2rcaBgKDBg3yKyUCR/KxY8dKbGysPqYOZxWsm2kQNOQfM2ZMkV0X3GBWrFhRzKQAIKJFs/4ow4/w3Llz6sc4ZMgQ+frrr9WJBo39YUpgAieXCRMmSPfu3XUdjuN169aVjz/+uCgNAreZW2+9VfP1aE61efNmHZisTJkyRQ17TUyHdZgH4z2XLl2qOf9JkyZJZmamusU0b97cOPtqCslb2gUTjH+wfN75LgFPteFYQyo3oU6DVG3atOlsY52EKYiYrT6JVvAHYzZtSk1NVTsqnB8dHa32WN6Ii4tTsczNzZWkpCTtJwLhBBBMOIbDYRxCOn/+fBVq1+AuzZo1k927d+t5JsePH1f3FaQV1q9fL0uWLNFvBL169ZKaNWvKP/7xD/nwww/VX9HkV7/6lVqJwV7r1VdflSZNmkjr1q31WojO8Tmw4PPBOQbOLzgfA4rVkR33gigegrx27VpZtWqVZGRkqC0XBjmcC3cY/MeCKGPBPeH9MHjA2ssbiLDzXL+LX+Tl6XaDwkLZ5uPbDqn8ILjx9a03kDAN4nAgQOPGjStaIFKIQK1ms55ANApvwpSUFDl69Kjs2rVL9u7daxwV6dmzp9R3RZHJycl6XUz8HThwQC2y7EYUhS5h2759uy7WCUsMAJ07d9aoG+KOQQfvAw9E8ziEHt6OiKbhyQgLLlwPomwHvA6/C0T3GERw//v37zeO+sdW1+CX5bon0CY/Xwa4/qMSEkoo1g4HETe+7lsXu6N9vXr1VPysUSq2TXAc10J0jcgWS79+/TTixsBg7vM2UQcPxDwjIrWC+8a1kZbAOQA/YVYLzOMdOnQoep+nnnpK0yQQcjsgVYNBAteCaG/dutU44j+5rs+8PibG2BL5BR9HJyGGYk28grQFJjATEhKKFkxizps3r2gbprZ2THHLAtIx1vfG4i2/XBKkOwBKCatXr67rZSXZNXh8bwwUv/zhB4mxDGyEBBuKdQQDF2+ImDUfjm0TCDUEzppSweSc3cjWG4jmEe0iD21eDz8RtYPvvvtOcnJyNOVi/aZg91sDwORo//79NQeO+7733nuNI2UD8f8XljrrJgUFxhohwYdiHcGgagKiOGDAAK3WwOQdHogxwQQlcsU4jok6TF4iik5MTJTaZaiGQH4cFSPIhSPlgfw3JvlQ8YEc+P33369pDgAhx/1hIBk5cqS+H+5j9uzZmoqxXgucPXtWUyhI3Zj5dExOojrlrbfekj179miqxpxARW4c5+MzYSLSLqcsYn3D5cvGGiHBh2IdwSCnu3r1ai2LQ9kfRNFakod15Iox6w2RnjNnjsTExMjGjRvLVEMNUezdu3eRYEJEUXo4cOBA+e///m+dzLRWi+A4KkVuuukmrdrA05EQ8B07dpS6FqJnTEaidHHixIk6OYmyRJz/+eefa74aA8Bdd92lQo+SPnyzGDVqlIq+Xb5hZE0qCNZZOwBvddaesNZfk8DR1zVwPeESebD5uuvkldhYXSeRBx83JySMqWrk1EGhZZ2QYEOxJsQPqlp6g7AWhIQSinUlBflZEniiGFmTCoJi7QDMx8n9oSyvIb6pajy0AyjWJJRwgtEh+DIfsILqDfT5IIHnHtc3lgSj897KmBhZW6eOrpPII9QTjBRrQvxg8MWL8pDRv+T/XGK9gWIdsbAahJAw5hpLGsRqrktIsKFYE+IHdS3VILkBeOyeELvwr40QP2hiecT8jGG0QEgooFgT4getLGL9DcWahBCKNSE2QUtUGOcCtEr91tKhkJBgw2oQh+CrdA+9QEhwuevSJXnUKNtLcf1bwP2cRC4s3SOlQKtPX67leAjGrkmuN0aMGKFtUk3DXH9BZzy0MkVf7DVr1si2bduMI+7BuWiNij7V+Az+GAuEmr9kZEgjo9Pegvr15QOa5kY0LN0jpejTp4+xVhpE1HD7tiPowaZt27Z6r0eOHJEZM2aow7g30BIVruhwQkefaju2W7NmzdLFDrg2LMfws7zAc9EU6q+rVaNQk5BDsXYAvtxRYLsVDoJdzej1DIsv9ML21fMa7i0wB0C/6VOnTqkRQjhyvUukH8jONrZENvnhVkNIoGAaxAF462dt7VsNAwE03/cnJYIG/WPHjpXY2Fh9TB12W1g30yCwxhozZoy0bNlSz09PT5cVK1YUMykAiF7RxB/iCxAtb9q0SZ3F4WAOJxo0/IeJAIBry6RJk6RWrVq6DQuvpKQkTYvAvQVER0fL4sWLVfzdnb9kyRK57bbbpFWrVroO0YdhMIwH4BzTrFkzPRfAhMB8b3/Ap3k6M1M6Gwa5aa73nxsXJ7QdIKFOg1Rt2rTpbGOdhCmImK0+iVbwB2M2bUpNTVWhw/kQOthyeSPOJToTJkyQXJcQQSjRT8R0XoFRLfwQ4WwOb8T58+erULsGdxXB3bt363kmcGr58ssvVVTXr1+v4olvBBBOmNb+4x//kA8//LDICQau5hBQDELYDwNe7MP5rVu31lTKunXr9J7guI5jW7ZsUdeYbFeUi4EJgoxBATl2pFQQmcNnEa/F9RDZY2J27dq1smrVKn1ff/ltVpbcYvmGsMQ1kLG+mgAEN/54gpYXpkEcDkb2cePGFS0ZGRnaHtVqcuuJrl27qsVVSkqKHD16VHbt2iV79+41jor6G0IEk5OT9bppaWnqmwgTW7sRBYR2+/btutidsER0//e//10j6ry8PGOveyDmsPlCvhyTowUFBRrRB4JRrkFhgKXV7Euu38UBwy2dkFBDsXY4iLjx1d+62B3tYS4LMYU4mmDbBMdxLUTX8GLEArNaRNwYGMx9mMRDRO0OGOP6EtySQHD96cf93nvvFaU9MKkJL8byMsj1/iMsOXQ0bfonJxVJBUKxJl5B2gITmAkJCUULJjGRZjC3YaaLKLiiQJrGnNysXr26/iwPPXJy5DGjnhrAa5Hd9UhFQ7GOYODujXpoaz4c2yYQaoifNaWCCg6IYzgxePBgTecglYOcevv27Y0j/tPs8mX5f+fOGVsiu13RNE1xSThAsY5gMMGHSTlUYKBaIz4+XifrTDBBmeWKMHEcE4GYvEQUnZiYKLXLkBKAoKJiBLlwu+C9IcbmAHHhwgWtCMHEIa4HYcak6GeffSarV6/WFAoqYnA+UiNXrlzRdI7dHPuD2dlS3WiDesI1UCXVravrhFQ0FOsIBuV3EDg8xo7qipEjRxYrycM6ctKY9YZIz5kzR2JiYmTjxo0+a6jd0bBhQ+ndu3dRxYkdevTooa9p0KCBbmOAwUAxbdo0HVjuuecezYtjkhS5auSs27Vrp6WEqFDBPoj3xIkT9fXeuMv1TeKWnBxjSyTJFVFns/8HCRNYZ+0AvNVZe8Jaf0180ykvT551ReImf3NF1G9FRxtbhJSGj5sTEmJuKCiQ350/b2yJ7KtZk0JNwg6KNYl4HncJdZxLsMG3UVHyV04okjCEYl1J8adOOZLBhGJHSx34gnr1+IQiCUso1g7AfJzcH8rymkgEvT5AbpUq8sT118vBGjV0m5BwgxOMDsGX+YAVVG/gMWxCSPCg+QAhhDgAVoMQQggpBcWaEEIcAMWaEEIcAMWaEEIcAMWaEEIcAKtBHIKv0j30AiGEhA6W7pFS2HEt98ck1xuwxkI3O9Mwt7LRrVs3/Q+G3xe69RFSVli6R0rRp08fY600iKjfffddW4JORA15Bw4cqKa8hDgJirUD8OWpCNstCrY94OKO1rF8wpM4DaZBHIC3ftbWvtUwEECjfX9SIl26dJGxY8dKbGysPqYO81ysm2mQFi1ayJgxY6Rly5Z6fnp6uqxYsUKNCWbNmqXWYAsXLtRjaPj/q1/9SjZs2CDbtm3TfVZ8XSsnJ0fz8k2aNJH8/Hw1FFi7dq2eW/I+cW9wWV+8eHEx/8fGjRvL1KlT1ZXdyrlz5/QzDRs2TI11sY5rTZgwQU6ePKlOObAwy8zMVGd1OM8Q4g2mQUiZsUbYkydPNvZ6Ji4uTt1hIH547cqVK9UCywS2WXBLhy/jzJkzZcmSJfrH+eCDDxpn2MfOtVq1aiUHDhyQGTNmqJ9i3759pW3btkX3CQFfsGCB3if2wWW9JBBxfLswzXxff/11yc3NVYcZdzl4GO3C/QYDDoQ/KipK38uuQzwhoYJi7XAgeOPGjStaMjIytD2q1eTWE127dlURRQQLcdy1a5fs3bvXOCrqlYgINTk5Wa+blpamYoqI1t+Iws61vvjiC42kEbHgGIQdUTbuE4K6fft22b9/v94n/CF9gSgb3zTwfps2bTL2Fufy5ctqBXb48GG9p48//ljvs0OHDsYZhIQHFGuHA2dyRKzWxW5UiCi6sLBQUx8m2DbBcVzrscceUy9GLP369dOI1uqCXhIIK9Iw5muQ4rBzrTxLX2lgHjOjfYiuPwwZMkTNdbds2aLGwJ6wVoVg0IKA4zMQEk5QrIlXLl68qCkSM62ABWkGb2V92dnZxVIRzzzzjO4vy7XKCiLqjh07lvq24IsaNWoUOakTEk7wrzKCweQgIldE5ybWiBniikk3a0qlpJjZFTY71/IEJv0Q/ZacNPQEJjJvv/12HQTefvttY6894MCOiB4DDiHhBMU6gsGkG9IDAwYM0GqI+Ph4fSDGBHnhrKwsPY5qlEaNGsnjjz8uiYmJUrt2bRV7VHagdhk5XkwIYsLOHb6u5Q3kryH2eC2iZbxfjx49jKNXJy+HDx+ueXGI/3333acDwcaNG33am+F+cd94QrR9+/aamsHggBw2IeEExTqCQcnc6tWrtVwOZX+ogsA+E6wjt4xqEQjrnDlzNJcLEfzhhx80aoXYP/roo/K73/1Orly5ovled/i6ljes94kyxdGjR+tAYYJouHfv3tK9e3f9ltC8eXOJjo6W3//+9/qeWBYtWiQ///nPjVf8BO4XJYO47rRp03R73bp19LAkYQfrrB2AtzprT1jrrysDiJQhpOZkICZSIb7leSwer0ed9ebNm93WhRPiDdZZE1IC/Id4+umn5ZFHHtGUB9I16PFx6tSpoExOEhKOUKxJ2IMIBtFvu3bt9FvGQw89pEL9xhtvGGcQUvlhGsQBlCUNkpqaqk8KEkKCA9MgpBTo9eEvZXkNISR8YWTtEHyZD1hBxQW7yhESXEIdWVOsCSGkDDANQgghpBQUa0IIcQAUa0IIcQAUa0IIcQAUa0IIcQCsBnEIvkr30AuEEBI6WLpHSmHHtdwfk1xvjBgxQtuklqdBEiGRAEv3SCn69OljrJUGEbVpkutL0CsS+CFiMJkyZYqxxzsYNDy1NSUkEqFYOwBfnopWV/NwFmxCSNmp2rRp09nGOglTIMJW6y0r+CqGFAgaN8F9xTwX23bo0qWLNt2H8QCssGC9BZNZuHzDnQUWWTALgHP64MGD1U0lPT1dDQNghIvX7969W691xx13aA/t/Px8OX78uO4D2P/b3/5WBx3cG5xZwNSpU6VZs2ayZ88ezcnPmDFDW5/iPmAkABcXmArUrFlTDh06pK8hJFxAWwe75tSBgJF1JcIaYU+ePNnY65m4uDgVafzR4bUrV64schIH6B2NJv/wZUQHvyVLlmiO7sEHHzTOsAca+8M099y5c2olhuj/vffeU5FGmqNr165q2YX3gRM5zsUABAcXdBx88803jSsRErlQrB0OxBNRr7lkZGSoJZXVmNYTEEkIckpKihw9erSUEzg8DWFSm5ycrNdNS0tTP0TXt7GATKygRzXudciQISrauP7+/fuNo4QQKxRrh4O0AqJf62L3qxmi6MLCQjlz5oyxR3TbBMdxrccee6zIyxCGsnD/trqglxV4K27fvl0/A0R769atxhFCSEko1sQryFsjRZKQkFC0II0RqLI+5KMBxB/5ckKIeyjWEQwcwiGS1slLa8QMoYaAWlMqMK695pqf/mys6/6Cycv+/fvrZCSue++99xpHCCEloVhHMJjs++6773Ryr02bNmpEiwdiTD755BPJysrS47AVQ7UJKkMSExOldu3aKvYtW7aUXr16SYcOHbTKAxUcALnw4cOHa94bINWCChLsR801xBkToVFRUfLWW28VTTaiCgRcuHBBrly5ou/ZsGFD3UdIJMPSPQfgrXTPE2ZJnzcgnsgbQ6BRXte2bVs5e/ZsUekernHixAnp2LGjHodoX758WdavX69pEBzHsVtvvVV69OiheWekNT7//HM9b+jQoSrKmDiE8MbGxspNN92kD/lApFGWhwnN999/X68HoYb4YxCBWEO8MYAgd46Bg5BwItSle3zc3AGUxTAXTzai5pkQEhz4uDkhhJBSUKwJIcQBUKwrKcgfk7LTKS9PF0LCBYq1A/A1UeiOsryGXOVn+fny7NmzurRyrRMSDnCC0SH4Mh+wglnqY8eOGVvEXwa5vpU8lpWl629HR8urdevqOiFWQj3BSLEmpAQ/z8uTOa6oGhyoWVNmNWig64RYYTUIIRXMoRo1jDWRzrm5UvMK4xlS8VCsCXGDVbDbc6KRhAEUa0LccMAi1h0o1iQMoFgT4obDFrHukptrrBFScVCsCXHD4Zo1pcBYb5efL3EF5hYhFQOrQRyCr9I99AIhgWXat99KfE6Orv9v/fryYe3auk4IYOkeKQW67vlyLcdDMHPnzjW2Kga0P504caK0a9dOW6u++OKLATMpqAjuunRJHjXqrd+57jpZEhur64QAlu6RUqClqCcQUZsmub4EPdjAlbx169ayYcMGdZex2oUFmxEjRsiiRYu0raov0E8bA9uUKVOMPe45bHGuuYl5a1LBUKwdgK+euVZX84oUbBgPoCfJvn371Mn8xx9/NI44kxMusT4bFaXrDQsK+Og5qVCYBnEA3vpZW/tWT58+XQYNGuRXSgTWWmPGjNGm/yA9PV1WrFihpgSIPOHSAjcZGBNAfOHosmzZslJCjHPhlm4CA4HDhw/LPffcoxE2cu7vvfeevPnmm8YZV4FBAcwLkI+H0MPxHAMPzA7wWlwD14W92OnTp/XevvrqK+PVV5k1a5Y0b97c2BJ9Pb6etmrVSpYsWaJmCDAShqMNfl/dunVT8wOAQcVbumZiVpbcaTTFWhYbK1tC2GyehDehToPQKcYBeHOKwR+M2bQpNTVVbbBwfnR0tE93FeSY4VwOH8X58+erULsGb2nWrJns3r1bxQ3+i+gzsnjxYnWBgdBlZ2fLyZMnjatcBefjONxgnn/+eXV/QUoEQpvvikjXrFmjjjE5xoQdwH1iwf3DOb1BgwbqDANxh20YXgsn9aVLl6pPIxxt8C0D7jJW/vnPf+p7N2nSRBYuXKiO6RBhnF+/fn0dbODveOTIEUlKStLXY/DD533uuefUa9ITta5ckd7GPee77iWVk4zEINROMUyDOByM7OPGjStaMjIyNEK1mtx6Av6IELPk5GR9HcT0wIED4hrAiyIGCOeqVat0UID4I6L2x2IsNzdXNm7cKB999JEKqAkGCAwGiJIRTWNCEpF3YWGhRuEAr8Wxo0ePyr/+9S+N9u2+NwaYHTt26DcC5LMLCgpk06ZNxlH7WOutb3aJ9tV4nJDQQ7F2OBAvfMW3LnZHe3gb4lxE14hssfTr10+jWdPlHCJn7Y2NYxBapD3M13ib2IO4w+uxJLhvvDeMds3rPPXUU1K3bt0ix3R3rzWP2QHiD09JfFPYuXNnqfSJHc65fg9HDMGGUHfiRCOpICjWEQ5SAJigTEhIKFowSemr5A7pBvN8OJ4fOnTIOOIfMOa1vjeWknntsgJhN93WkfMuK/ss0XVvNwMPIaGAYh3BQKghYtaUCdzI/YleywryyMhfI+Vi/SYQyBzg4MGDNS+PNApy8e3btzeO+MfHljz1wO+/l+gSk6uEhAKKdQSDHDRyxQMGDNAJN0xOIkpOTEzUCb5Ag+uPHj1a88hIraBiBOmQkSNH6vvhPmbPnq2pGF8g3z58+HAVY3DhwgW5cuWKvgcqWCDM3bt3l88++0xWr16t6RxUymAgQh4e6RW8FjXXGKC8cdIVne+rWdPYckXXlklSQkIFxTqCwYQdcsWY1YZIz5kzR2JiYnRC0F2eubyglA7VHp07d9btt956S6tGbrrpJk2rPPDAAyrgmBj0Ba7Rt29fFVtw8OBBOX/+vIwaNUonFFH2h5x3SkqK5qqRs8aTlSgJxH6U8CGqf/LJJ7VqxRfWKpA+rt8XIaGGddYOwFudtSes9dek/MCA4P9Ony6qBkm8/nr5ohx5cOJ8+Lg5IWFIbpUq8q4ln34LUyEkxFCsCbHJR5ZUCN1jSKihWFdSrLXRJDB8aZQBApjq8gEZEkoo1g7AfJzcH8ryGuKdH665Ro5Z8tRs7ERCCScYHYIv8wErqO7A49Yk8KC/Nfpcg7/Exsr7AawLJ84i1BOMFGtC/GCQayB87Px5Xd/sEupXaEgQsbAahJAw5itL3roN0yAkhFCsCfGDLyxi3dYl1qi/JiQUUKwJ8YOCKlWKtU2txT4hJERQrAnxk/NG+1jQ7PJlY42Q4EKxJsRPLruiaxM+cE5CBatBHIKv0j30AiGhYXJWltxulO+9EBcnu2vV0nUSWbB0j5TCjmu5Pya5wQItRydOnKjd7dB61ZsRrQnaot5///3axxqfIVDGA8HEaqL7P/Xry84gtJMl4Q9L90gp+vTpY6yVBhE13LztCHqwuf3227Xd6IYNG9R9Bn2jvQH/R7QshTcj+lhv3brVOOIZOJljsQOuDcsx/AwkmGQ0+Sl7TUhwoVg7AF/uKRDGcBBsWGihJ8m+fftUgNE32hto+h8VFSWff/65nDp1St1jnIBVrKuxdI+ECKZBHIC3ftbWvtXTp09XNxR/UiItWrSQMWPGSMuWLXU7PT1dVqxYocYEMMWF6wpEFO4uEN89e/bIsmXLSgkxzu3atauxJWoicPjwYTUBQISNnDsMbM00Bwx2J02aJLWMfC8svpKSktSAAA7nMPOFu4uZSnF3/rp16+Tuu+/WgQGfF4PatGnT1OwXRgQdO3bUcwHuBwYHgWB0drY8YAwsi133+a7NNgCkchHqNEjVpk2bzjbWSZiCiBn2V+7AH4zZtCk1NVVtrXB+dHS02nZ5AzlmOJvD6mr+/Pkq1K7BW93Ad+/eLb169VJ/RvQZWbx4sdSsWVO6desm2S6xOnnypHGVq+B8HI+NjZXnn39eHWCQEoGA5+fny5o1ayQtLU1FFmRmZqqAYhD68MMPZd68ebrv1ltvVfcXXO/tt9/WiBt2XTi2ZcsWdZXB+2NgOnHihEbnsO/Ky8tTK69OnTrJ5s2bZeXKlep2g0Fi7dq1smrVKn3fQICOe1gA7L6szZ1I5IAePIH0DPUF0yAOByP7uHHjipaMjAxNRVhNcD0BH0PkjZOTk/V1ENMDBw6o3ZUZMSAqhtBhUID4I6L2NHC4Izc3V23CPvroI42A7fDFF1/Ia6+9pka3vlIpEHAIOvLlyO0fOXJEPvjgA+NocLjJ9ZlMvo5io1QSGijWDgfCOX78+GKL3dEeqQaci+gaXoxYYFZbpUoVTSUApCKsvbFxDJE40h7mazCJhzSFOyC2/vo5Ikq2C66PiUmUNeKekbv3JfDloZHr92H2BIF7zEGLkS4hwYRiHeFcvHhRJygTEhKKFkxS+iq5Q/7XPB9mu4cOHTKOhB6kQiDUGESqBzklYaY/wK5atYQPm5NQQbGOYCDUEDdrygTCB9FzCsi7I0ePCVFE8JhwDOb9d7GI9QFG1SSEUKwjGOSg8fAKHkzBRB8mJxElJyYmSu0gPOiB648ePVorS+yCexs8eHCRAF+4cEErQjBxCKFGrhoVK5jQRK4a+faBAwfquWfPntXJSaR7AjFrj+z0LZaUziFLQydCgg3FOoJBNIqcM2a1IdJz5syRmJgYnRD0N89sh1atWkl8fLx07tzZ2OObHj16SO/evaVBgwa6jQoSDCQo0bvzzjulb9++8uWXX8qOHTu0NPD06dMq8ChJPH78uHz11VdazognK8vLaNdAEWXUVae7hPo/nFwkIYR11g7AW521J6z116T8WGurwUxXNH+QkXVEw8fNCQkzRpYQ6vV16lCoScihWBPihaEXL8pIi1C/HR0tr8XEGFuEhA6KdSXFWhtN/KdHTo4kfvutjLlwwdgjsuW66+TVunWNLUJCC8XaAZiPk/tDWV4T6bTMz5d7XZH0i2fOyJMuoe5tPBoP3rv2WllGJ3NSgXCC0SH4Mh+wguoO9PMg9oHx7crTp42t4myKjpbljKhJCUI9wUixJsRFXGGhLLU8tXk2Kkreue462VGrlmSyRI+4gWJNSAXRMydHml++rJUen7Pag/iApXuEVBDwUlxbpw6FmoQlFGtCCHEAFGtCCHEAFGtCCHEAnGB0CL5K99ALhBASOlgNQkphx7XcH5NcK2gzio507dq103appkGt04FXJP4j4fcSTOcYErmwGoSUAt6CnkBEDSsrO4LuDvSDhrHthg0b1DEGnouVAZj9oq81PhshlQGKtQPw5akIkS2rYFerVk37iOzbt08NbStLFJqUlKQtYvkkJ6ksMA3iALz1s7b2rZ4+fbo22rebEoHpbdeuXY2tq439Dx8+LPfcc49G2MiTo6H/hx9+qM7psP+CYwtE/fXXX5f9+/cbryxOly5dZOTIkfoVsbCwUPbu3SuvvvqqGuHOmjVLcnJyNP/epEkTyc/Pl5SUFFm7dm3Ra8eOHSuxsbH62DxSMnB/Wbx4cTGfx8aNG8vUqVPVnd0K7g2pnGHDhkmzZs10vWPHjvqZYEwAlxr4NcKUYNmyZerqTkhZYBqElBlrhD158mRjr2dgegthh8A9/fTTug3gxAIxXb58udplQahhjYVB449//KNG4hBDdxE/HFrGjBmjllqwB1uzZo06nw8dOtQ446pjzIEDB2TGjBly9OhRdXuBiMbFxanIQ8AXLFggK1eu1H1wVC8JRBzfIkzTXgweubm5OuC4y7nDCgy88MILel1YgY0aNUr3EeIEKNYOByM7xNRcEClCTK0muP4C0YO110cffaSTjuvXr5eXXnpJPv/8c7UCO3LkiIo3IteSuL6paeT69ttv62u3bdsmJ0+e1Cjd5IsvvtBIGpEJRBvnI8pGlA9bse3bt2vUvmvXLvWJ9AWibHyjwGfftGmTsbc4iObxLQEWYIjkDx48qBE7Bg5CnADF2uHccMMNMn78+GKLrxy3L5C3Nj0YsQ7xxkCwdOlS9WxE5I5oF76ISLdgHxakOBCx1q1bV5566qmi/R06dCjmOI50iBVcC4KNAQD4m5oYMmSIRs5btmyR7yxGASVBSsYEoo17CoYxMCGBBsbPFGviFQj/Qw89pDlkpCaQcjB7ZSN9Yk1FPPPMM7ofEbN1v/VYoEFEjZw0onDkxu2CiVXrAEJIuAGBNhfAv1biFdRhR0dHy549ezR1ABAFe+LChQv6Gmt6oUaNGraEMTMzUyP5kpOGnkB+HKWHyFEj7eIPyIUXFBQExcWdkPJgFWgrFGviFaQsMOHXqVMnXVC7jLy0J5Bjvnz5stx7772a00au+sknn5RHH33UOMMzyF9fvHhRBgwYoNEyaqV79OhhHBVp1KiRjB49WicjIf733XefDgTIr/uyMUOa5M4779RrxMfH60MzJ06c0HQIIeGAJ5E2oVgTryDV8eabb6rYoVQOIgyRQwTsLt+LScjXXntNz0cOG+WEyHnbiXwxebl69WqtREE5IoT5/PnzxtGrVSQQ2s6dO2uuvnnz5hr1//73vy/Kjy9atEirT0qCQQepj9mzZ8sjjzyipYlmuSAhFY03kTZFnHXWDsBbnbUnrPXXTgKRMiJz8+EcTJhCfMvzGPwdd9yhddaoq7bWahNSHgJZZ+1OrM3/AyaMrEnYgD981Hsj8kXe20xXnDp1qsxCTUi4U1KosY1SVqQRrQvFmoQNiFQ2b96sTaXwbQJVKBDqN954wziDkMoNhLpkRG3CNIgDKEsaJDU1VWbOnGlsEUICTSDSICWjajwLgH2odCoJI2sHYNY1+0NZXkMIqTjMiLqkgJswsnYIvswHrKABErvNERJcAh1Zm1E1frpr7UuxJoSQMlBesfaUAsHDWu56+zANQgghFYwp3CUF3ArFmhBCwghP1SAUa0IIqWC8RdQmFGtCCHEAFGtCCHEArAZxCL5K99ALhBASOgJZDYI8NbbxE71x2rRpYxz5CYq1A7DjWm7XJLck6MExceJEfcQbNlzlaZhESCQRarFmGsQB9OnTx1grDSJq0yTXl6C7A837UYC/YcMGNdxF69DygA53aFOKn3YYMWKEx7amhEQa3iYaKdYOwJenotXV3F/BRo9nNO7ft2+f9q72VDZECKlYqjZt2nS2sU7CFIgwmu27A1/FkAJB4ya4oJjnYtsXU6ZMkb59+6qJANxZ0DwGaRHsh9M4ut7BRAAGAJMnT9be0vfff79G+mfPntX3toLXwUkGAwAMAnA9PJUFpxi0eIQ1GHLvM2bM0NaniOq7d++u5/fu3Vtq1qzJftPEMaCtQ3nNqU3MiNpMhbiztqNYOwA7Yg2sgg0HFVhseWP37t0qkDDDff755+X999/XlAiEGlZea9askbS0NHn44YfVeTwpKUkdX9ABEBZfOIbzTHA9eBpCkOHCsmrVKnUqh+M5XoMUCwYH5PngPoMF74/evQsXLpQPPvjAuBIh4U+oxZppEIcD4Rs3blzRAnFEWsNdbwG7wIYLvoYfffSRTjquX79eXnrpJbXsgvXWkSNHVLwRLdsBPapxT0OGDNHcNER+//79xlFCiB0o1g4HETfSE9alvKM9RnbT9RvrEG8MBEuXLlWfQ0TuVapUseVYDiDw27dv13uFaG/dutU4QgixC8WaeAXCj9w1UiULFiyQhISEMvXKRroDVK1aVapXr67rhBD7UKyJVzDhiPw3JgcPHjyo+yC4/oCJxv79+8vx48fVEBcO6YQQ/6BYE6/k5eXpJCImFLGg2uOWW24xjl4V8+HDh0vPnj11G1UimCRBTtt8YABpk6ioKHnrrbdU9JG3RhUIuHDhgp6PiVFMRBJC3EOxJl5B7TWqNlDCN3XqVI2KT5w4oblslPxBYFF2Z4ovouevvvpKBg0apE9G9urVS7p06SKffvqpTlAiX4289V133aVCj2gdpYGjRo1S0SeEuIePmzuAshjm4snGJ554wtgihASaYDxujucS4BTDx80JIcShUKwJIcQBUKwrKcgLE0IqDxRrB1CWuuayvIYQEr5wgtEh+DIfsIKeBceOHTO2CCHBINQTjBRrQggpA6wGIYQQUgqKNSGEOACKNSGEOACKNSGEOACKNSGEOACKNSGEhD0i/x94RWPzmPJuBwAAAABJRU5ErkJggg==)"
      ]
    },
    {
      "cell_type": "markdown",
      "metadata": {
        "id": "fmy7vrxT1buz",
        "colab_type": "text"
      },
      "source": [
        "# **2. Preprocessing**"
      ]
    },
    {
      "cell_type": "markdown",
      "metadata": {
        "id": "ixvpq55j40g6",
        "colab_type": "text"
      },
      "source": [
        "## **2.1) Move to the XLM folder in advance.**"
      ]
    },
    {
      "cell_type": "code",
      "metadata": {
        "id": "sDnF7g7s4zA_",
        "colab_type": "code",
        "colab": {
          "base_uri": "https://localhost:8080/",
          "height": 34
        },
        "outputId": "46a2a166-e63a-4807-e160-e4d037101879"
      },
      "source": [
        "% cd XLM"
      ],
      "execution_count": 12,
      "outputs": [
        {
          "output_type": "stream",
          "text": [
            "/content/meta_XLM/XLM\n"
          ],
          "name": "stdout"
        }
      ]
    },
    {
      "cell_type": "markdown",
      "metadata": {
        "id": "su66qefV5Odn",
        "colab_type": "text"
      },
      "source": [
        "## **2.2) Install the following dependencies (fastBPE and Moses)**"
      ]
    },
    {
      "cell_type": "code",
      "metadata": {
        "id": "2tIKvbc15GFp",
        "colab_type": "code",
        "colab": {
          "base_uri": "https://localhost:8080/",
          "height": 238
        },
        "outputId": "0ad89736-2718-4f4d-d65f-574ec5162d9e"
      },
      "source": [
        "! git clone https://github.com/moses-smt/mosesdecoder tools/mosesdecoder\n",
        "! git clone https://github.com/glample/fastBPE tools/fastBPE && cd tools/fastBPE && g++ -std=c++11 -pthread -O3 fastBPE/main.cc -IfastBPE -o fast"
      ],
      "execution_count": 13,
      "outputs": [
        {
          "output_type": "stream",
          "text": [
            "Cloning into 'tools/mosesdecoder'...\n",
            "remote: Enumerating objects: 58, done.\u001b[K\n",
            "remote: Counting objects: 100% (58/58), done.\u001b[K\n",
            "remote: Compressing objects: 100% (48/48), done.\u001b[K\n",
            "remote: Total 147572 (delta 29), reused 21 (delta 9), pack-reused 147514\u001b[K\n",
            "Receiving objects: 100% (147572/147572), 129.76 MiB | 21.69 MiB/s, done.\n",
            "Resolving deltas: 100% (114015/114015), done.\n",
            "Cloning into 'tools/fastBPE'...\n",
            "remote: Enumerating objects: 5, done.\u001b[K\n",
            "remote: Counting objects: 100% (5/5), done.\u001b[K\n",
            "remote: Compressing objects: 100% (5/5), done.\u001b[K\n",
            "remote: Total 59 (delta 0), reused 1 (delta 0), pack-reused 54\u001b[K\n",
            "Unpacking objects: 100% (59/59), done.\n"
          ],
          "name": "stdout"
        }
      ]
    },
    {
      "cell_type": "markdown",
      "metadata": {
        "id": "Sjy2xCBg5eE8",
        "colab_type": "text"
      },
      "source": [
        "## **2.3)**"
      ]
    },
    {
      "cell_type": "markdown",
      "metadata": {
        "id": "luobrddk2mCY",
        "colab_type": "text"
      },
      "source": [
        "**In my case I have set :**  \n",
        "```\n",
        "OUTPATH=$OUTPATH\n",
        "PARA=$PARA\n",
        "MONO=$MONO\n",
        "PARA_PATH=$PARA_PATH\n",
        "MONO_PATH=$MONO_PATH\n",
        "add_para_data_to_mono_data=$add_para_data_to_mono_data\n",
        "nCodes=$nCodes\n",
        "n_samples=$n_samples\n",
        "...\n",
        "...\n",
        "...\n",
        "### option 2 : data in a same folder ###\n",
        "chmod +x ../scripts/build_meta_data_monoxlm.sh\n",
        ". ../scripts/build_meta_data_monoxlm.sh $sub_tasks $n_samples $add_para_data_to_mono_data\n",
        "```  \n",
        "**in  ```data.sh``` to be able to modify these parameters from the outside.**"
      ]
    },
    {
      "cell_type": "code",
      "metadata": {
        "id": "EhxNoGfz1ioS",
        "colab_type": "code",
        "colab": {
          "base_uri": "https://localhost:8080/",
          "height": 153
        },
        "outputId": "f31652b3-3570-48f2-eed5-d7b0533fb4fb"
      },
      "source": [
        "%env OUTPATH=/content/processed\n",
        "# I need monolingual data for TLM\n",
        "%env PARA=True\n",
        "# I need monolingual data for MLM\n",
        "%env MONO=True\n",
        "%env PARA_PATH=/content/data/para\n",
        "\n",
        "# You can put any path to a folder that does not exist (otherwise there will be an error). \n",
        "# Since there are no files containing monolingual data, they will be created from the parallel data.\n",
        "%env MONO_PATH=/content/blablablablabla\n",
        "\n",
        "%env add_para_data_to_mono_data=False\n",
        "\n",
        "# To be adapted to your data (If I had to use the whole dataset I would have set 30000-40000)\n",
        "%env nCodes=20\n",
        "# This notebook is for illustrative purposes only, so we are working with 100 peer examples.\n",
        "%env n_samples=100"
      ],
      "execution_count": 14,
      "outputs": [
        {
          "output_type": "stream",
          "text": [
            "env: OUTPATH=/content/processed\n",
            "env: PARA=True\n",
            "env: MONO=True\n",
            "env: PARA_PATH=/content/data/para\n",
            "env: MONO_PATH=/content/blablablablabla\n",
            "env: add_para_data_to_mono_data=False\n",
            "env: nCodes=20\n",
            "env: n_samples=100\n"
          ],
          "name": "stdout"
        }
      ]
    },
    {
      "cell_type": "code",
      "metadata": {
        "id": "tYULFCbl33gX",
        "colab_type": "code",
        "colab": {
          "base_uri": "https://localhost:8080/",
          "height": 34
        },
        "outputId": "4868a5d8-bbdd-477a-8850-ace14543880b"
      },
      "source": [
        "%env languages=de,en,fr\n",
        "! chmod +x ../data.sh "
      ],
      "execution_count": 15,
      "outputs": [
        {
          "output_type": "stream",
          "text": [
            "env: languages=de,en,fr\n"
          ],
          "name": "stdout"
        }
      ]
    },
    {
      "cell_type": "code",
      "metadata": {
        "id": "RA1gQOKC-uc4",
        "colab_type": "code",
        "colab": {}
      },
      "source": [
        "# In case of problems: you can do this before starting again\n",
        "#! rm /content/data/para/*.all && rm /content/data/para/*.train && rm /content/data/para/*.test && rm /content/data/para/*.valid\n",
        "#! rm /content/processed/bpe.train /content/processed/codes"
      ],
      "execution_count": null,
      "outputs": []
    },
    {
      "cell_type": "code",
      "metadata": {
        "id": "DPzpjcE_3xY3",
        "colab_type": "code",
        "colab": {
          "base_uri": "https://localhost:8080/",
          "height": 1000
        },
        "outputId": "bdf3a40c-8596-4365-d1e8-b2e2bd25188a"
      },
      "source": [
        "! ../data.sh $languages"
      ],
      "execution_count": 16,
      "outputs": [
        {
          "output_type": "stream",
          "text": [
            "de-en:-1,de-fr:-1,en-fr:-1\n",
            "=======================\n",
            "Processed\n",
            "=======================\n",
            "params ok !\n",
            "*** Cleaning and tokenizing de-en data ... ***\n",
            "Tokenizer Version 1.1\n",
            "Language: de\n",
            "Number of threads: 16\n",
            "*** Tokenized (+ lowercase + accent-removal) de-en.de data to /content/data/para/? ***\n",
            "Tokenizer Version 1.1\n",
            "Language: en\n",
            "Number of threads: 16\n",
            "*** Tokenized (+ lowercase + accent-removal) de-en.en data to /content/data/para/? ***\n",
            "*** Cleaning and tokenizing de-fr data ... ***\n",
            "Tokenizer Version 1.1\n",
            "Language: de\n",
            "Number of threads: 16\n",
            "*** Tokenized (+ lowercase + accent-removal) de-fr.de data to /content/data/para/? ***\n",
            "Tokenizer Version 1.1\n",
            "Language: fr\n",
            "Number of threads: 16\n",
            "*** Tokenized (+ lowercase + accent-removal) de-fr.fr data to /content/data/para/? ***\n",
            "*** Cleaning and tokenizing en-fr data ... ***\n",
            "Tokenizer Version 1.1\n",
            "Language: en\n",
            "Number of threads: 16\n",
            "*** Tokenized (+ lowercase + accent-removal) en-fr.en data to /content/data/para/? ***\n",
            "Tokenizer Version 1.1\n",
            "Language: fr\n",
            "Number of threads: 16\n",
            "*** Tokenized (+ lowercase + accent-removal) en-fr.fr data to /content/data/para/? ***\n",
            "\n",
            "\n",
            "*** split into train / valid / test ***\n",
            "\n",
            "\n",
            "\n",
            "***build the training set for BPE tokenization (20 codes)***\n",
            "\n",
            "\n",
            "***shuf ... Generating 10000 random permutations of training data and store result in /content/processed/en-fr/bpe.train***\n",
            "\n",
            "\n",
            "***Learn the BPE vocabulary on the training set : /content/processed/bpe.train ...***\n",
            "Loading vocabulary from /content/processed/bpe.train ...\n",
            "Read 1176901 words (2879 unique) from text file.\n",
            "tcmalloc: large alloc 12000002048 bytes == 0x557fa3a4c000 @  0x7f1f98823887 0x557fa16bc8f3 0x557fa16b178f 0x7f1f97c5eb97 0x557fa16b1a1a\n",
            "***Learn 20 BPE code on the bpe.train file***\n",
            "\n",
            "\n",
            "***Get the post-BPE vocab***\n",
            "Loading codes from /content/processed/codes ...\n",
            "Read 20 codes from the codes file.\n",
            "Loading vocabulary from /content/processed/bpe.train ...\n",
            "Read 1176901 words (2879 unique) from text file.\n",
            "Applying BPE to /content/processed/bpe.train ...\n",
            "Modified 1176901 words from text file.\n",
            "Read 4574450 words (111 unique) from text file.\n",
            "\n",
            "\n",
            "***Apply BPE tokenization on the corpora.***\n",
            "Loading codes from /content/processed/codes ...\n",
            "Read 20 codes from the codes file.\n",
            "Loading vocabulary from /content/data/para/de-en.de.train ...\n",
            "Read 1448 words (612 unique) from text file.\n",
            "Applying BPE to /content/data/para/de-en.de.train ...\n",
            "Modified 1448 words from text file.\n",
            "Loading codes from /content/processed/codes ...\n",
            "Read 20 codes from the codes file.\n",
            "Loading vocabulary from /content/data/para/de-en.de.valid ...\n",
            "Read 145 words (106 unique) from text file.\n",
            "Applying BPE to /content/data/para/de-en.de.valid ...\n",
            "Modified 145 words from text file.\n",
            "Loading codes from /content/processed/codes ...\n",
            "Read 20 codes from the codes file.\n",
            "Loading vocabulary from /content/data/para/de-en.de.test ...\n",
            "Read 161 words (97 unique) from text file.\n",
            "Applying BPE to /content/data/para/de-en.de.test ...\n",
            "Modified 161 words from text file.\n",
            "Loading codes from /content/processed/codes ...\n",
            "Read 20 codes from the codes file.\n",
            "Loading vocabulary from /content/data/para/de-en.en.train ...\n",
            "Read 1478 words (548 unique) from text file.\n",
            "Applying BPE to /content/data/para/de-en.en.train ...\n",
            "Modified 1478 words from text file.\n",
            "Loading codes from /content/processed/codes ...\n",
            "Read 20 codes from the codes file.\n",
            "Loading vocabulary from /content/data/para/de-en.en.valid ...\n",
            "Read 147 words (99 unique) from text file.\n",
            "Applying BPE to /content/data/para/de-en.en.valid ...\n",
            "Modified 147 words from text file.\n",
            "Loading codes from /content/processed/codes ...\n",
            "Read 20 codes from the codes file.\n",
            "Loading vocabulary from /content/data/para/de-en.en.test ...\n",
            "Read 166 words (93 unique) from text file.\n",
            "Applying BPE to /content/data/para/de-en.en.test ...\n",
            "Modified 166 words from text file.\n",
            "Loading codes from /content/processed/codes ...\n",
            "Read 20 codes from the codes file.\n",
            "Loading vocabulary from /content/data/para/de-fr.de.train ...\n",
            "Read 1722 words (643 unique) from text file.\n",
            "Applying BPE to /content/data/para/de-fr.de.train ...\n",
            "Modified 1722 words from text file.\n",
            "Loading codes from /content/processed/codes ...\n",
            "Read 20 codes from the codes file.\n",
            "Loading vocabulary from /content/data/para/de-fr.de.valid ...\n",
            "Read 190 words (118 unique) from text file.\n",
            "Applying BPE to /content/data/para/de-fr.de.valid ...\n",
            "Modified 190 words from text file.\n",
            "Loading codes from /content/processed/codes ...\n",
            "Read 20 codes from the codes file.\n",
            "Loading vocabulary from /content/data/para/de-fr.de.test ...\n",
            "Read 159 words (111 unique) from text file.\n",
            "Applying BPE to /content/data/para/de-fr.de.test ...\n",
            "Modified 159 words from text file.\n",
            "Loading codes from /content/processed/codes ...\n",
            "Read 20 codes from the codes file.\n",
            "Loading vocabulary from /content/data/para/de-fr.fr.train ...\n",
            "Read 1906 words (616 unique) from text file.\n",
            "Applying BPE to /content/data/para/de-fr.fr.train ...\n",
            "Modified 1906 words from text file.\n",
            "Loading codes from /content/processed/codes ...\n",
            "Read 20 codes from the codes file.\n",
            "Loading vocabulary from /content/data/para/de-fr.fr.valid ...\n",
            "Read 207 words (128 unique) from text file.\n",
            "Applying BPE to /content/data/para/de-fr.fr.valid ...\n",
            "Modified 207 words from text file.\n",
            "Loading codes from /content/processed/codes ...\n",
            "Read 20 codes from the codes file.\n",
            "Loading vocabulary from /content/data/para/de-fr.fr.test ...\n",
            "Read 168 words (111 unique) from text file.\n",
            "Applying BPE to /content/data/para/de-fr.fr.test ...\n",
            "Modified 168 words from text file.\n",
            "Loading codes from /content/processed/codes ...\n",
            "Read 20 codes from the codes file.\n",
            "Loading vocabulary from /content/data/para/en-fr.en.train ...\n",
            "Read 1357 words (523 unique) from text file.\n",
            "Applying BPE to /content/data/para/en-fr.en.train ...\n",
            "Modified 1357 words from text file.\n",
            "Loading codes from /content/processed/codes ...\n",
            "Read 20 codes from the codes file.\n",
            "Loading vocabulary from /content/data/para/en-fr.en.valid ...\n",
            "Read 143 words (94 unique) from text file.\n",
            "Applying BPE to /content/data/para/en-fr.en.valid ...\n",
            "Modified 143 words from text file.\n",
            "Loading codes from /content/processed/codes ...\n",
            "Read 20 codes from the codes file.\n",
            "Loading vocabulary from /content/data/para/en-fr.en.test ...\n",
            "Read 161 words (94 unique) from text file.\n",
            "Applying BPE to /content/data/para/en-fr.en.test ...\n",
            "Modified 161 words from text file.\n",
            "Loading codes from /content/processed/codes ...\n",
            "Read 20 codes from the codes file.\n",
            "Loading vocabulary from /content/data/para/en-fr.fr.train ...\n",
            "Read 1528 words (589 unique) from text file.\n",
            "Applying BPE to /content/data/para/en-fr.fr.train ...\n",
            "Modified 1528 words from text file.\n",
            "Loading codes from /content/processed/codes ...\n",
            "Read 20 codes from the codes file.\n",
            "Loading vocabulary from /content/data/para/en-fr.fr.valid ...\n",
            "Read 164 words (102 unique) from text file.\n",
            "Applying BPE to /content/data/para/en-fr.fr.valid ...\n",
            "Modified 164 words from text file.\n",
            "Loading codes from /content/processed/codes ...\n",
            "Read 20 codes from the codes file.\n",
            "Loading vocabulary from /content/data/para/en-fr.fr.test ...\n",
            "Read 167 words (107 unique) from text file.\n",
            "Applying BPE to /content/data/para/en-fr.fr.test ...\n",
            "Modified 167 words from text file.\n",
            "\n",
            "\n",
            "***Build fine_tune data***\n",
            "\n",
            "\n",
            "***Binarize everything using preprocess.py.***\n",
            "INFO - 08/30/20 17:25:22 - 0:00:00 - Read 125 words from the vocabulary file.\n",
            "\n",
            "Saving the data to /content/processed/de-en.de.train.pth ...\n",
            "INFO - 08/30/20 17:25:22 - 0:00:00 - 5875 words (125 unique) in 81 sentences.\n",
            "INFO - 08/30/20 17:25:24 - 0:00:00 - Read 125 words from the vocabulary file.\n",
            "\n",
            "Saving the data to /content/processed/de-en.de.valid.pth ...\n",
            "INFO - 08/30/20 17:25:24 - 0:00:00 - 588 words (125 unique) in 10 sentences.\n",
            "INFO - 08/30/20 17:25:25 - 0:00:00 - Read 125 words from the vocabulary file.\n",
            "\n",
            "Saving the data to /content/processed/de-en.de.test.pth ...\n",
            "INFO - 08/30/20 17:25:25 - 0:00:00 - 627 words (125 unique) in 10 sentences.\n",
            "INFO - 08/30/20 17:25:25 - 0:00:00 - Read 125 words from the vocabulary file.\n",
            "\n",
            "Saving the data to /content/processed/de-en.en.train.pth ...\n",
            "INFO - 08/30/20 17:25:25 - 0:00:00 - 5265 words (125 unique) in 81 sentences.\n",
            "INFO - 08/30/20 17:25:26 - 0:00:00 - Read 125 words from the vocabulary file.\n",
            "\n",
            "Saving the data to /content/processed/de-en.en.valid.pth ...\n",
            "INFO - 08/30/20 17:25:26 - 0:00:00 - 511 words (125 unique) in 10 sentences.\n",
            "INFO - 08/30/20 17:25:27 - 0:00:00 - Read 125 words from the vocabulary file.\n",
            "\n",
            "Saving the data to /content/processed/de-en.en.test.pth ...\n",
            "INFO - 08/30/20 17:25:27 - 0:00:00 - 547 words (125 unique) in 10 sentences.\n",
            "INFO - 08/30/20 17:25:28 - 0:00:00 - Read 125 words from the vocabulary file.\n",
            "\n",
            "Saving the data to /content/processed/de-fr.de.train.pth ...\n",
            "INFO - 08/30/20 17:25:28 - 0:00:00 - 7828 words (125 unique) in 81 sentences.\n",
            "INFO - 08/30/20 17:25:29 - 0:00:00 - Read 125 words from the vocabulary file.\n",
            "\n",
            "Saving the data to /content/processed/de-fr.de.valid.pth ...\n",
            "INFO - 08/30/20 17:25:29 - 0:00:00 - 871 words (125 unique) in 10 sentences.\n",
            "INFO - 08/30/20 17:25:30 - 0:00:00 - Read 125 words from the vocabulary file.\n",
            "\n",
            "Saving the data to /content/processed/de-fr.de.test.pth ...\n",
            "INFO - 08/30/20 17:25:30 - 0:00:00 - 760 words (125 unique) in 10 sentences.\n",
            "INFO - 08/30/20 17:25:31 - 0:00:00 - Read 125 words from the vocabulary file.\n",
            "\n",
            "Saving the data to /content/processed/de-fr.fr.train.pth ...\n",
            "INFO - 08/30/20 17:25:31 - 0:00:00 - 7467 words (125 unique) in 81 sentences.\n",
            "INFO - 08/30/20 17:25:32 - 0:00:00 - Read 125 words from the vocabulary file.\n",
            "\n",
            "Saving the data to /content/processed/de-fr.fr.valid.pth ...\n",
            "INFO - 08/30/20 17:25:32 - 0:00:00 - 823 words (125 unique) in 10 sentences.\n",
            "INFO - 08/30/20 17:25:32 - 0:00:00 - Read 125 words from the vocabulary file.\n",
            "\n",
            "Saving the data to /content/processed/de-fr.fr.test.pth ...\n",
            "INFO - 08/30/20 17:25:32 - 0:00:00 - 682 words (125 unique) in 10 sentences.\n",
            "INFO - 08/30/20 17:25:33 - 0:00:00 - Read 125 words from the vocabulary file.\n",
            "\n",
            "Saving the data to /content/processed/en-fr.en.train.pth ...\n",
            "INFO - 08/30/20 17:25:33 - 0:00:00 - 4715 words (125 unique) in 81 sentences.\n",
            "INFO - 08/30/20 17:25:34 - 0:00:00 - Read 125 words from the vocabulary file.\n",
            "\n",
            "Saving the data to /content/processed/en-fr.en.valid.pth ...\n",
            "INFO - 08/30/20 17:25:34 - 0:00:00 - 455 words (125 unique) in 10 sentences.\n",
            "INFO - 08/30/20 17:25:35 - 0:00:00 - Read 125 words from the vocabulary file.\n",
            "\n",
            "Saving the data to /content/processed/en-fr.en.test.pth ...\n",
            "INFO - 08/30/20 17:25:35 - 0:00:00 - 523 words (125 unique) in 10 sentences.\n",
            "INFO - 08/30/20 17:25:36 - 0:00:00 - Read 125 words from the vocabulary file.\n",
            "\n",
            "Saving the data to /content/processed/en-fr.fr.train.pth ...\n",
            "INFO - 08/30/20 17:25:36 - 0:00:00 - 5536 words (125 unique) in 81 sentences.\n",
            "INFO - 08/30/20 17:25:37 - 0:00:00 - Read 125 words from the vocabulary file.\n",
            "\n",
            "Saving the data to /content/processed/en-fr.fr.valid.pth ...\n",
            "INFO - 08/30/20 17:25:37 - 0:00:00 - 575 words (125 unique) in 10 sentences.\n",
            "INFO - 08/30/20 17:25:38 - 0:00:00 - Read 125 words from the vocabulary file.\n",
            "\n",
            "Saving the data to /content/processed/en-fr.fr.test.pth ...\n",
            "INFO - 08/30/20 17:25:38 - 0:00:00 - 625 words (125 unique) in 10 sentences.\n",
            "\n",
            "\n",
            "***Using parallel data to construct monolingual data***\n",
            "file /content/processed/train.de.pth already exists\n",
            "file /content/processed/valid.de.pth already exists\n",
            "file /content/processed/test.de.pth already exists\n",
            "file /content/processed/train.en.pth already exists\n",
            "file /content/processed/valid.en.pth already exists\n",
            "file /content/processed/test.en.pth already exists\n",
            "file /content/processed/train.fr.pth already exists\n",
            "file /content/processed/valid.fr.pth already exists\n",
            "file /content/processed/test.fr.pth already exists\n",
            "\n",
            "\n",
            "***Creat the file to train the XLM model with MLM+TLM objective***\n",
            "\n",
            "\n",
            "*** build data with succes : dir /content/processed ***\n",
            "=======================\n",
            "End\n",
            "=======================\n"
          ],
          "name": "stdout"
        }
      ]
    },
    {
      "cell_type": "code",
      "metadata": {
        "id": "KHls6IifAZnk",
        "colab_type": "code",
        "colab": {}
      },
      "source": [
        "# In case of problems: you can do this before starting again\n",
        "#! rm -r /content/processed"
      ],
      "execution_count": 61,
      "outputs": []
    },
    {
      "cell_type": "markdown",
      "metadata": {
        "id": "cR98Ibq_DEUX",
        "colab_type": "text"
      },
      "source": [
        "![4.png](data:image/png;base64,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)"
      ]
    },
    {
      "cell_type": "markdown",
      "metadata": {
        "id": "eLgGjwPUDQsE",
        "colab_type": "text"
      },
      "source": [
        "# **3) MLM+TLM**"
      ]
    },
    {
      "cell_type": "markdown",
      "metadata": {
        "id": "qjtkOM3NMXjU",
        "colab_type": "text"
      },
      "source": [
        "I have set ```\"epoch_size\":\"100\",\"max_epoch\":\"1\"``` just as an illustration. In a real case I would have put ```epoch_size=number of example in my training set``` and ```max_epoch=100``` for example."
      ]
    },
    {
      "cell_type": "code",
      "metadata": {
        "id": "v83x79fcELd-",
        "colab_type": "code",
        "colab": {
          "base_uri": "https://localhost:8080/",
          "height": 34
        },
        "outputId": "fa6b6207-dac8-4b10-dfcd-3969cc877a56"
      },
      "source": [
        "%env config_file=../configs/lm_template.json"
      ],
      "execution_count": 17,
      "outputs": [
        {
          "output_type": "stream",
          "text": [
            "env: config_file=../configs/lm_template.json\n"
          ],
          "name": "stdout"
        }
      ]
    },
    {
      "cell_type": "code",
      "metadata": {
        "id": "UHh_3eDxDXu9",
        "colab_type": "code",
        "colab": {
          "base_uri": "https://localhost:8080/",
          "height": 1000
        },
        "outputId": "cc213c6e-a138-4c10-cc4f-e09b1ac5bc7a"
      },
      "source": [
        "! python train.py --config_file $config_file"
      ],
      "execution_count": 18,
      "outputs": [
        {
          "output_type": "stream",
          "text": [
            "FAISS library was not found.\n",
            "FAISS not available. Switching to standard nearest neighbors search implementation.\n",
            "SLURM job: False\n",
            "0 - Number of nodes: 1\n",
            "0 - Node ID        : 0\n",
            "0 - Local rank     : 0\n",
            "0 - Global rank    : 0\n",
            "0 - World size     : 1\n",
            "0 - GPUs per node  : 1\n",
            "0 - Master         : True\n",
            "0 - Multi-node     : False\n",
            "0 - Multi-GPU      : False\n",
            "0 - Hostname       : 1f36582deaaf\n",
            "INFO - 08/30/20 17:26:20 - 0:00:00 - ============ Initialized logger ============\n",
            "INFO - 08/30/20 17:26:20 - 0:00:00 - accumulate_gradients: 1\n",
            "                                     ae_steps: []\n",
            "                                     amp: -1\n",
            "                                     asm: False\n",
            "                                     asm_cutoffs: 8000,20000\n",
            "                                     asm_div_value: 4.0\n",
            "                                     attention_dropout: 0.1\n",
            "                                     batch_size: 32\n",
            "                                     beam_size: 1\n",
            "                                     bptt: 256\n",
            "                                     bt_src_langs: []\n",
            "                                     bt_steps: []\n",
            "                                     clip_grad_norm: 5.0\n",
            "                                     clm_steps: []\n",
            "                                     command: python train.py --config_file '../configs/lm_template.json' --exp_id \"demo\"\n",
            "                                     config_file: ../configs/lm_template.json\n",
            "                                     context_size: 0\n",
            "                                     data_path: /content/processed\n",
            "                                     debug: False\n",
            "                                     debug_slurm: False\n",
            "                                     debug_train: False\n",
            "                                     dropout: 0.1\n",
            "                                     dump_path: /content/dump_path/mlm_enfrde/demo\n",
            "                                     early_stopping: False\n",
            "                                     emb_dim: 1024\n",
            "                                     encoder_only: True\n",
            "                                     epoch_size: 100\n",
            "                                     eval_bleu: False\n",
            "                                     eval_only: False\n",
            "                                     exp_id: demo\n",
            "                                     exp_name: mlm_enfrde\n",
            "                                     fp16: False\n",
            "                                     gelu_activation: True\n",
            "                                     global_rank: 0\n",
            "                                     group_by_size: True\n",
            "                                     id2lang: {0: 'de', 1: 'en', 2: 'fr'}\n",
            "                                     is_master: True\n",
            "                                     is_slurm_job: False\n",
            "                                     lambda_ae: 1\n",
            "                                     lambda_bt: 1\n",
            "                                     lambda_clm: 1\n",
            "                                     lambda_mlm: 1\n",
            "                                     lambda_mt: 1\n",
            "                                     lambda_pc: 1\n",
            "                                     lang2id: {'de': 0, 'en': 1, 'fr': 2}\n",
            "                                     langs: ['de', 'en', 'fr']\n",
            "                                     length_penalty: 1.0\n",
            "                                     lg_sampling_factor: -1.0\n",
            "                                     lgs: ['de-en-fr']\n",
            "                                     local_rank: 0\n",
            "                                     log_file_prefix: \n",
            "                                     master_port: -1\n",
            "                                     max_batch_size: 0\n",
            "                                     max_epoch: 1\n",
            "                                     max_len: 100\n",
            "                                     max_vocab: -1\n",
            "                                     mem_dec_positions: \n",
            "                                     mem_enc_positions: \n",
            "                                     meta_learning: False\n",
            "                                     meta_params: ...\n",
            "                                     min_count: 0\n",
            "                                     mlm_steps: [('de', None), ('en', None), ('fr', None), ('de', 'en'), ('de', 'fr'), ('en', 'fr')]\n",
            "                                     mono_dataset: {'de': {'train': '/content/processed/train.de.pth', 'valid': '/content/processed/valid.de.pth', 'test': '/content/processed/test.de.pth'}, 'en': {'train': '/content/processed/train.en.pth', 'valid': '/content/processed/valid.en.pth', 'test': '/content/processed/test.en.pth'}, 'fr': {'train': '/content/processed/train.fr.pth', 'valid': '/content/processed/valid.fr.pth', 'test': '/content/processed/test.fr.pth'}}\n",
            "                                     mt_steps: []\n",
            "                                     multi_gpu: False\n",
            "                                     multi_node: False\n",
            "                                     n_gpu_per_node: 1\n",
            "                                     n_heads: 8\n",
            "                                     n_langs: 3\n",
            "                                     n_layers: 6\n",
            "                                     n_nodes: 1\n",
            "                                     n_samples: {'train': -1, 'valid': -1, 'test': -1}\n",
            "                                     n_task: 1\n",
            "                                     node_id: 0\n",
            "                                     optimizer: adam,lr=0.0001\n",
            "                                     para_dataset: {('de', 'en'): {'train': ('/content/processed/train.de-en.de.pth', '/content/processed/train.de-en.en.pth'), 'valid': ('/content/processed/valid.de-en.de.pth', '/content/processed/valid.de-en.en.pth'), 'test': ('/content/processed/test.de-en.de.pth', '/content/processed/test.de-en.en.pth')}, ('de', 'fr'): {'train': ('/content/processed/train.de-fr.de.pth', '/content/processed/train.de-fr.fr.pth'), 'valid': ('/content/processed/valid.de-fr.de.pth', '/content/processed/valid.de-fr.fr.pth'), 'test': ('/content/processed/test.de-fr.de.pth', '/content/processed/test.de-fr.fr.pth')}, ('en', 'fr'): {'train': ('/content/processed/train.en-fr.en.pth', '/content/processed/train.en-fr.fr.pth'), 'valid': ('/content/processed/valid.en-fr.en.pth', '/content/processed/valid.en-fr.fr.pth'), 'test': ('/content/processed/test.en-fr.en.pth', '/content/processed/test.en-fr.fr.pth')}}\n",
            "                                     pc_steps: []\n",
            "                                     reload_checkpoint: \n",
            "                                     reload_emb: \n",
            "                                     reload_model: \n",
            "                                     remove_long_sentences: {'train': True, 'valid': False, 'test': False}\n",
            "                                     remove_long_sentences_test: False\n",
            "                                     remove_long_sentences_train: True\n",
            "                                     remove_long_sentences_valid: False\n",
            "                                     same_data_path: True\n",
            "                                     sample_alpha: 0\n",
            "                                     save_periodic: 0\n",
            "                                     share_inout_emb: True\n",
            "                                     sinusoidal_embeddings: False\n",
            "                                     split_data: False\n",
            "                                     stopping_criterion: _valid_mlm_ppl,10\n",
            "                                     test_n_samples: -1\n",
            "                                     tokens_per_batch: -1\n",
            "                                     train_n_samples: -1\n",
            "                                     use_lang_emb: True\n",
            "                                     use_memory: False\n",
            "                                     valid_n_samples: -1\n",
            "                                     validation_metrics: _valid_mlm_ppl\n",
            "                                     word_blank: 0.0\n",
            "                                     word_dropout: 0.0\n",
            "                                     word_keep: 0.1\n",
            "                                     word_mask: 0.8\n",
            "                                     word_mask_keep_rand: 0.8,0.1,0.1\n",
            "                                     word_pred: 0.15\n",
            "                                     word_rand: 0.1\n",
            "                                     word_shuffle: 0.0\n",
            "                                     world_size: 1\n",
            "INFO - 08/30/20 17:26:20 - 0:00:00 - The experiment will be stored in /content/dump_path/mlm_enfrde/demo\n",
            "                                     \n",
            "INFO - 08/30/20 17:26:20 - 0:00:00 - Running command: python train.py --config_file '../configs/lm_template.json'\n",
            "\n",
            "WARNING - 08/30/20 17:26:20 - 0:00:00 - Signal handler installed.\n",
            "INFO - 08/30/20 17:26:20 - 0:00:00 - ============ langs: de, en, fr\n",
            "INFO - 08/30/20 17:26:20 - 0:00:00 - ============ Monolingual data (de)\n",
            "INFO - 08/30/20 17:26:20 - 0:00:00 - Loading data from /content/processed/train.de.pth ...\n",
            "INFO - 08/30/20 17:26:20 - 0:00:00 - 5875 words (125 unique) in 81 sentences. 0 unknown words (0 unique) covering 0.00% of the data.\n",
            "INFO - 08/30/20 17:26:20 - 0:00:00 - ========================== debug : 1\n",
            "\n",
            "INFO - 08/30/20 17:26:20 - 0:00:00 - Loading data from /content/processed/valid.de.pth ...\n",
            "INFO - 08/30/20 17:26:20 - 0:00:00 - 588 words (125 unique) in 10 sentences. 0 unknown words (0 unique) covering 0.00% of the data.\n",
            "INFO - 08/30/20 17:26:20 - 0:00:00 - ========================== debug : 2\n",
            "\n",
            "INFO - 08/30/20 17:26:20 - 0:00:00 - Loading data from /content/processed/test.de.pth ...\n",
            "INFO - 08/30/20 17:26:20 - 0:00:00 - 627 words (125 unique) in 10 sentences. 0 unknown words (0 unique) covering 0.00% of the data.\n",
            "INFO - 08/30/20 17:26:20 - 0:00:00 - ========================== debug : 3\n",
            "\n",
            "INFO - 08/30/20 17:26:20 - 0:00:00 - ============ Monolingual data (en)\n",
            "INFO - 08/30/20 17:26:20 - 0:00:00 - Loading data from /content/processed/train.en.pth ...\n",
            "INFO - 08/30/20 17:26:20 - 0:00:00 - 5265 words (125 unique) in 81 sentences. 0 unknown words (0 unique) covering 0.00% of the data.\n",
            "INFO - 08/30/20 17:26:20 - 0:00:00 - ========================== debug : 4\n",
            "\n",
            "INFO - 08/30/20 17:26:20 - 0:00:00 - Loading data from /content/processed/valid.en.pth ...\n",
            "INFO - 08/30/20 17:26:20 - 0:00:00 - 511 words (125 unique) in 10 sentences. 0 unknown words (0 unique) covering 0.00% of the data.\n",
            "INFO - 08/30/20 17:26:20 - 0:00:00 - ========================== debug : 5\n",
            "\n",
            "INFO - 08/30/20 17:26:20 - 0:00:00 - Loading data from /content/processed/test.en.pth ...\n",
            "INFO - 08/30/20 17:26:20 - 0:00:00 - 547 words (125 unique) in 10 sentences. 0 unknown words (0 unique) covering 0.00% of the data.\n",
            "INFO - 08/30/20 17:26:20 - 0:00:00 - ========================== debug : 6\n",
            "\n",
            "INFO - 08/30/20 17:26:20 - 0:00:00 - ============ Monolingual data (fr)\n",
            "INFO - 08/30/20 17:26:20 - 0:00:00 - Loading data from /content/processed/train.fr.pth ...\n",
            "INFO - 08/30/20 17:26:20 - 0:00:00 - 7467 words (125 unique) in 81 sentences. 0 unknown words (0 unique) covering 0.00% of the data.\n",
            "INFO - 08/30/20 17:26:20 - 0:00:00 - ========================== debug : 7\n",
            "\n",
            "INFO - 08/30/20 17:26:20 - 0:00:00 - Loading data from /content/processed/valid.fr.pth ...\n",
            "INFO - 08/30/20 17:26:20 - 0:00:00 - 823 words (125 unique) in 10 sentences. 0 unknown words (0 unique) covering 0.00% of the data.\n",
            "INFO - 08/30/20 17:26:20 - 0:00:00 - ========================== debug : 8\n",
            "\n",
            "INFO - 08/30/20 17:26:20 - 0:00:00 - Loading data from /content/processed/test.fr.pth ...\n",
            "INFO - 08/30/20 17:26:20 - 0:00:00 - 682 words (125 unique) in 10 sentences. 0 unknown words (0 unique) covering 0.00% of the data.\n",
            "INFO - 08/30/20 17:26:20 - 0:00:00 - ========================== debug : 9\n",
            "\n",
            "\n",
            "INFO - 08/30/20 17:26:20 - 0:00:00 - ============ Parallel data (de-en)\n",
            "INFO - 08/30/20 17:26:20 - 0:00:00 - Loading data from /content/processed/train.de-en.de.pth ...\n",
            "INFO - 08/30/20 17:26:20 - 0:00:00 - 5875 words (125 unique) in 81 sentences. 0 unknown words (0 unique) covering 0.00% of the data.\n",
            "INFO - 08/30/20 17:26:20 - 0:00:00 - Loading data from /content/processed/train.de-en.en.pth ...\n",
            "INFO - 08/30/20 17:26:20 - 0:00:00 - 5265 words (125 unique) in 81 sentences. 0 unknown words (0 unique) covering 0.00% of the data.\n",
            "INFO - 08/30/20 17:26:20 - 0:00:00 - ========================== debug : 10\n",
            "INFO - 08/30/20 17:26:20 - 0:00:00 - Removed 0 empty sentences.\n",
            "INFO - 08/30/20 17:26:20 - 0:00:00 - Removed 0 empty sentences.\n",
            "INFO - 08/30/20 17:26:20 - 0:00:00 - Removed 38 too long sentences.\n",
            "\n",
            "INFO - 08/30/20 17:26:20 - 0:00:00 - Loading data from /content/processed/valid.de-en.de.pth ...\n",
            "INFO - 08/30/20 17:26:20 - 0:00:00 - 588 words (125 unique) in 10 sentences. 0 unknown words (0 unique) covering 0.00% of the data.\n",
            "INFO - 08/30/20 17:26:20 - 0:00:00 - Loading data from /content/processed/valid.de-en.en.pth ...\n",
            "INFO - 08/30/20 17:26:20 - 0:00:00 - 511 words (125 unique) in 10 sentences. 0 unknown words (0 unique) covering 0.00% of the data.\n",
            "INFO - 08/30/20 17:26:20 - 0:00:00 - ========================== debug : 11\n",
            "INFO - 08/30/20 17:26:20 - 0:00:00 - Removed 0 empty sentences.\n",
            "\n",
            "INFO - 08/30/20 17:26:20 - 0:00:00 - Loading data from /content/processed/test.de-en.de.pth ...\n",
            "INFO - 08/30/20 17:26:20 - 0:00:00 - 627 words (125 unique) in 10 sentences. 0 unknown words (0 unique) covering 0.00% of the data.\n",
            "INFO - 08/30/20 17:26:20 - 0:00:00 - Loading data from /content/processed/test.de-en.en.pth ...\n",
            "INFO - 08/30/20 17:26:20 - 0:00:00 - 547 words (125 unique) in 10 sentences. 0 unknown words (0 unique) covering 0.00% of the data.\n",
            "INFO - 08/30/20 17:26:20 - 0:00:00 - ========================== debug : 12\n",
            "INFO - 08/30/20 17:26:20 - 0:00:00 - Removed 0 empty sentences.\n",
            "\n",
            "INFO - 08/30/20 17:26:20 - 0:00:00 - ============ Parallel data (de-fr)\n",
            "INFO - 08/30/20 17:26:20 - 0:00:00 - Loading data from /content/processed/train.de-fr.de.pth ...\n",
            "INFO - 08/30/20 17:26:20 - 0:00:00 - 7828 words (125 unique) in 81 sentences. 0 unknown words (0 unique) covering 0.00% of the data.\n",
            "INFO - 08/30/20 17:26:20 - 0:00:00 - Loading data from /content/processed/train.de-fr.fr.pth ...\n",
            "INFO - 08/30/20 17:26:20 - 0:00:00 - 7467 words (125 unique) in 81 sentences. 0 unknown words (0 unique) covering 0.00% of the data.\n",
            "INFO - 08/30/20 17:26:20 - 0:00:00 - ========================== debug : 13\n",
            "INFO - 08/30/20 17:26:20 - 0:00:00 - Removed 0 empty sentences.\n",
            "INFO - 08/30/20 17:26:20 - 0:00:00 - Removed 0 empty sentences.\n",
            "INFO - 08/30/20 17:26:20 - 0:00:00 - Removed 26 too long sentences.\n",
            "\n",
            "INFO - 08/30/20 17:26:20 - 0:00:00 - Loading data from /content/processed/valid.de-fr.de.pth ...\n",
            "INFO - 08/30/20 17:26:20 - 0:00:00 - 871 words (125 unique) in 10 sentences. 0 unknown words (0 unique) covering 0.00% of the data.\n",
            "INFO - 08/30/20 17:26:20 - 0:00:00 - Loading data from /content/processed/valid.de-fr.fr.pth ...\n",
            "INFO - 08/30/20 17:26:20 - 0:00:00 - 823 words (125 unique) in 10 sentences. 0 unknown words (0 unique) covering 0.00% of the data.\n",
            "INFO - 08/30/20 17:26:20 - 0:00:00 - ========================== debug : 14\n",
            "INFO - 08/30/20 17:26:20 - 0:00:00 - Removed 0 empty sentences.\n",
            "\n",
            "INFO - 08/30/20 17:26:20 - 0:00:00 - Loading data from /content/processed/test.de-fr.de.pth ...\n",
            "INFO - 08/30/20 17:26:20 - 0:00:00 - 760 words (125 unique) in 10 sentences. 0 unknown words (0 unique) covering 0.00% of the data.\n",
            "INFO - 08/30/20 17:26:20 - 0:00:00 - Loading data from /content/processed/test.de-fr.fr.pth ...\n",
            "INFO - 08/30/20 17:26:20 - 0:00:00 - 682 words (125 unique) in 10 sentences. 0 unknown words (0 unique) covering 0.00% of the data.\n",
            "INFO - 08/30/20 17:26:20 - 0:00:00 - ========================== debug : 15\n",
            "INFO - 08/30/20 17:26:20 - 0:00:00 - Removed 0 empty sentences.\n",
            "\n",
            "INFO - 08/30/20 17:26:20 - 0:00:00 - ============ Parallel data (en-fr)\n",
            "INFO - 08/30/20 17:26:20 - 0:00:00 - Loading data from /content/processed/train.en-fr.en.pth ...\n",
            "INFO - 08/30/20 17:26:20 - 0:00:00 - 4715 words (125 unique) in 81 sentences. 0 unknown words (0 unique) covering 0.00% of the data.\n",
            "INFO - 08/30/20 17:26:20 - 0:00:00 - Loading data from /content/processed/train.en-fr.fr.pth ...\n",
            "INFO - 08/30/20 17:26:20 - 0:00:00 - 5536 words (125 unique) in 81 sentences. 0 unknown words (0 unique) covering 0.00% of the data.\n",
            "INFO - 08/30/20 17:26:20 - 0:00:00 - ========================== debug : 16\n",
            "INFO - 08/30/20 17:26:20 - 0:00:00 - Removed 0 empty sentences.\n",
            "INFO - 08/30/20 17:26:20 - 0:00:00 - Removed 0 empty sentences.\n",
            "INFO - 08/30/20 17:26:20 - 0:00:00 - Removed 40 too long sentences.\n",
            "\n",
            "INFO - 08/30/20 17:26:20 - 0:00:00 - Loading data from /content/processed/valid.en-fr.en.pth ...\n",
            "INFO - 08/30/20 17:26:20 - 0:00:00 - 455 words (125 unique) in 10 sentences. 0 unknown words (0 unique) covering 0.00% of the data.\n",
            "INFO - 08/30/20 17:26:20 - 0:00:00 - Loading data from /content/processed/valid.en-fr.fr.pth ...\n",
            "INFO - 08/30/20 17:26:21 - 0:00:00 - 575 words (125 unique) in 10 sentences. 0 unknown words (0 unique) covering 0.00% of the data.\n",
            "INFO - 08/30/20 17:26:21 - 0:00:00 - ========================== debug : 17\n",
            "INFO - 08/30/20 17:26:21 - 0:00:00 - Removed 0 empty sentences.\n",
            "\n",
            "INFO - 08/30/20 17:26:21 - 0:00:00 - Loading data from /content/processed/test.en-fr.en.pth ...\n",
            "INFO - 08/30/20 17:26:21 - 0:00:00 - 523 words (125 unique) in 10 sentences. 0 unknown words (0 unique) covering 0.00% of the data.\n",
            "INFO - 08/30/20 17:26:21 - 0:00:00 - Loading data from /content/processed/test.en-fr.fr.pth ...\n",
            "INFO - 08/30/20 17:26:21 - 0:00:00 - 625 words (125 unique) in 10 sentences. 0 unknown words (0 unique) covering 0.00% of the data.\n",
            "INFO - 08/30/20 17:26:21 - 0:00:00 - ========================== debug : 18\n",
            "INFO - 08/30/20 17:26:21 - 0:00:00 - Removed 0 empty sentences.\n",
            "\n",
            "\n",
            "INFO - 08/30/20 17:26:21 - 0:00:00 - ============ Data summary\n",
            "INFO - 08/30/20 17:26:21 - 0:00:00 - Monolingual data   - train -           de:        81\n",
            "INFO - 08/30/20 17:26:21 - 0:00:00 - Monolingual data   - valid -           de:        10\n",
            "INFO - 08/30/20 17:26:21 - 0:00:00 - Monolingual data   -  test -           de:        10\n",
            "INFO - 08/30/20 17:26:21 - 0:00:00 - Monolingual data   - train -           en:        81\n",
            "INFO - 08/30/20 17:26:21 - 0:00:00 - Monolingual data   - valid -           en:        10\n",
            "INFO - 08/30/20 17:26:21 - 0:00:00 - Monolingual data   -  test -           en:        10\n",
            "INFO - 08/30/20 17:26:21 - 0:00:00 - Monolingual data   - train -           fr:        81\n",
            "INFO - 08/30/20 17:26:21 - 0:00:00 - Monolingual data   - valid -           fr:        10\n",
            "INFO - 08/30/20 17:26:21 - 0:00:00 - Monolingual data   -  test -           fr:        10\n",
            "INFO - 08/30/20 17:26:21 - 0:00:00 - Parallel data      - train -        de-en:        43\n",
            "INFO - 08/30/20 17:26:21 - 0:00:00 - Parallel data      - valid -        de-en:        10\n",
            "INFO - 08/30/20 17:26:21 - 0:00:00 - Parallel data      -  test -        de-en:        10\n",
            "INFO - 08/30/20 17:26:21 - 0:00:00 - Parallel data      - train -        de-fr:        55\n",
            "INFO - 08/30/20 17:26:21 - 0:00:00 - Parallel data      - valid -        de-fr:        10\n",
            "INFO - 08/30/20 17:26:21 - 0:00:00 - Parallel data      -  test -        de-fr:        10\n",
            "INFO - 08/30/20 17:26:21 - 0:00:00 - Parallel data      - train -        en-fr:        41\n",
            "INFO - 08/30/20 17:26:21 - 0:00:00 - Parallel data      - valid -        en-fr:        10\n",
            "INFO - 08/30/20 17:26:21 - 0:00:00 - Parallel data      -  test -        en-fr:        10\n",
            "\n",
            "INFO - 08/30/20 17:26:21 - 0:00:01 - Model: TransformerModel(\n",
            "                                       (position_embeddings): Embedding(512, 1024)\n",
            "                                       (lang_embeddings): Embedding(3, 1024)\n",
            "                                       (embeddings): Embedding(125, 1024, padding_idx=2)\n",
            "                                       (layer_norm_emb): LayerNorm((1024,), eps=1e-12, elementwise_affine=True)\n",
            "                                       (attentions): ModuleList(\n",
            "                                         (0): MultiHeadAttention(\n",
            "                                           (q_lin): Linear(in_features=1024, out_features=1024, bias=True)\n",
            "                                           (k_lin): Linear(in_features=1024, out_features=1024, bias=True)\n",
            "                                           (v_lin): Linear(in_features=1024, out_features=1024, bias=True)\n",
            "                                           (out_lin): Linear(in_features=1024, out_features=1024, bias=True)\n",
            "                                         )\n",
            "                                         (1): MultiHeadAttention(\n",
            "                                           (q_lin): Linear(in_features=1024, out_features=1024, bias=True)\n",
            "                                           (k_lin): Linear(in_features=1024, out_features=1024, bias=True)\n",
            "                                           (v_lin): Linear(in_features=1024, out_features=1024, bias=True)\n",
            "                                           (out_lin): Linear(in_features=1024, out_features=1024, bias=True)\n",
            "                                         )\n",
            "                                         (2): MultiHeadAttention(\n",
            "                                           (q_lin): Linear(in_features=1024, out_features=1024, bias=True)\n",
            "                                           (k_lin): Linear(in_features=1024, out_features=1024, bias=True)\n",
            "                                           (v_lin): Linear(in_features=1024, out_features=1024, bias=True)\n",
            "                                           (out_lin): Linear(in_features=1024, out_features=1024, bias=True)\n",
            "                                         )\n",
            "                                         (3): MultiHeadAttention(\n",
            "                                           (q_lin): Linear(in_features=1024, out_features=1024, bias=True)\n",
            "                                           (k_lin): Linear(in_features=1024, out_features=1024, bias=True)\n",
            "                                           (v_lin): Linear(in_features=1024, out_features=1024, bias=True)\n",
            "                                           (out_lin): Linear(in_features=1024, out_features=1024, bias=True)\n",
            "                                         )\n",
            "                                         (4): MultiHeadAttention(\n",
            "                                           (q_lin): Linear(in_features=1024, out_features=1024, bias=True)\n",
            "                                           (k_lin): Linear(in_features=1024, out_features=1024, bias=True)\n",
            "                                           (v_lin): Linear(in_features=1024, out_features=1024, bias=True)\n",
            "                                           (out_lin): Linear(in_features=1024, out_features=1024, bias=True)\n",
            "                                         )\n",
            "                                         (5): MultiHeadAttention(\n",
            "                                           (q_lin): Linear(in_features=1024, out_features=1024, bias=True)\n",
            "                                           (k_lin): Linear(in_features=1024, out_features=1024, bias=True)\n",
            "                                           (v_lin): Linear(in_features=1024, out_features=1024, bias=True)\n",
            "                                           (out_lin): Linear(in_features=1024, out_features=1024, bias=True)\n",
            "                                         )\n",
            "                                       )\n",
            "                                       (layer_norm1): ModuleList(\n",
            "                                         (0): LayerNorm((1024,), eps=1e-12, elementwise_affine=True)\n",
            "                                         (1): LayerNorm((1024,), eps=1e-12, elementwise_affine=True)\n",
            "                                         (2): LayerNorm((1024,), eps=1e-12, elementwise_affine=True)\n",
            "                                         (3): LayerNorm((1024,), eps=1e-12, elementwise_affine=True)\n",
            "                                         (4): LayerNorm((1024,), eps=1e-12, elementwise_affine=True)\n",
            "                                         (5): LayerNorm((1024,), eps=1e-12, elementwise_affine=True)\n",
            "                                       )\n",
            "                                       (ffns): ModuleList(\n",
            "                                         (0): TransformerFFN(\n",
            "                                           (lin1): Linear(in_features=1024, out_features=4096, bias=True)\n",
            "                                           (lin2): Linear(in_features=4096, out_features=1024, bias=True)\n",
            "                                         )\n",
            "                                         (1): TransformerFFN(\n",
            "                                           (lin1): Linear(in_features=1024, out_features=4096, bias=True)\n",
            "                                           (lin2): Linear(in_features=4096, out_features=1024, bias=True)\n",
            "                                         )\n",
            "                                         (2): TransformerFFN(\n",
            "                                           (lin1): Linear(in_features=1024, out_features=4096, bias=True)\n",
            "                                           (lin2): Linear(in_features=4096, out_features=1024, bias=True)\n",
            "                                         )\n",
            "                                         (3): TransformerFFN(\n",
            "                                           (lin1): Linear(in_features=1024, out_features=4096, bias=True)\n",
            "                                           (lin2): Linear(in_features=4096, out_features=1024, bias=True)\n",
            "                                         )\n",
            "                                         (4): TransformerFFN(\n",
            "                                           (lin1): Linear(in_features=1024, out_features=4096, bias=True)\n",
            "                                           (lin2): Linear(in_features=4096, out_features=1024, bias=True)\n",
            "                                         )\n",
            "                                         (5): TransformerFFN(\n",
            "                                           (lin1): Linear(in_features=1024, out_features=4096, bias=True)\n",
            "                                           (lin2): Linear(in_features=4096, out_features=1024, bias=True)\n",
            "                                         )\n",
            "                                       )\n",
            "                                       (layer_norm2): ModuleList(\n",
            "                                         (0): LayerNorm((1024,), eps=1e-12, elementwise_affine=True)\n",
            "                                         (1): LayerNorm((1024,), eps=1e-12, elementwise_affine=True)\n",
            "                                         (2): LayerNorm((1024,), eps=1e-12, elementwise_affine=True)\n",
            "                                         (3): LayerNorm((1024,), eps=1e-12, elementwise_affine=True)\n",
            "                                         (4): LayerNorm((1024,), eps=1e-12, elementwise_affine=True)\n",
            "                                         (5): LayerNorm((1024,), eps=1e-12, elementwise_affine=True)\n",
            "                                       )\n",
            "                                       (memories): ModuleDict()\n",
            "                                       (pred_layer): PredLayer(\n",
            "                                         (proj): Linear(in_features=1024, out_features=125, bias=True)\n",
            "                                       )\n",
            "                                     )\n",
            "INFO - 08/30/20 17:26:21 - 0:00:01 - Number of parameters (model): 76234877\n",
            "INFO - 08/30/20 17:26:31 - 0:00:11 - Found 0 memories.\n",
            "INFO - 08/30/20 17:26:31 - 0:00:11 - Found 6 FFN.\n",
            "INFO - 08/30/20 17:26:31 - 0:00:11 - Found 102 parameters in model.\n",
            "INFO - 08/30/20 17:26:31 - 0:00:11 - Optimizers: model\n",
            "INFO - 08/30/20 17:26:32 - 0:00:12 - ============ Starting epoch 0 ... ============\n",
            "INFO - 08/30/20 17:26:32 - 0:00:12 - Creating new training data iterator (pred,de) ...\n",
            "/content/meta_XLM/XLM/src/optim.py:72: UserWarning: This overload of add_ is deprecated:\n",
            "\tadd_(Number alpha, Tensor other)\n",
            "Consider using one of the following signatures instead:\n",
            "\tadd_(Tensor other, *, Number alpha) (Triggered internally at  /pytorch/torch/csrc/utils/python_arg_parser.cpp:766.)\n",
            "  exp_avg.mul_(beta1).add_(1 - beta1, grad)\n",
            "INFO - 08/30/20 17:26:34 - 0:00:13 - Creating new training data iterator (pred,en) ...\n",
            "INFO - 08/30/20 17:26:35 - 0:00:14 - Creating new training data iterator (pred,fr) ...\n",
            "INFO - 08/30/20 17:26:36 - 0:00:15 - Creating new training data iterator (pred,en,fr) ...\n",
            "INFO - 08/30/20 17:26:36 - 0:00:15 - Creating new training data iterator (pred,de,en) ...\n",
            "INFO - 08/30/20 17:26:37 - 0:00:17 - ============ End of epoch 0 ============\n",
            "INFO - 08/30/20 17:26:38 - 0:00:18 - epoch -> 0.000000\n",
            "INFO - 08/30/20 17:26:38 - 0:00:18 - valid_de_mlm_ppl -> 178.354498\n",
            "INFO - 08/30/20 17:26:38 - 0:00:18 - valid_de_mlm_acc -> 3.252033\n",
            "INFO - 08/30/20 17:26:38 - 0:00:18 - valid_en_mlm_ppl -> 109.446672\n",
            "INFO - 08/30/20 17:26:38 - 0:00:18 - valid_en_mlm_acc -> 3.252033\n",
            "INFO - 08/30/20 17:26:38 - 0:00:18 - valid_fr_mlm_ppl -> 489.207474\n",
            "INFO - 08/30/20 17:26:38 - 0:00:18 - valid_fr_mlm_acc -> 4.430380\n",
            "INFO - 08/30/20 17:26:38 - 0:00:18 - valid_de_en_mlm_ppl -> 100.479228\n",
            "INFO - 08/30/20 17:26:38 - 0:00:18 - valid_de_en_mlm_acc -> 4.242424\n",
            "INFO - 08/30/20 17:26:38 - 0:00:18 - valid_de_fr_mlm_ppl -> 100.509369\n",
            "INFO - 08/30/20 17:26:38 - 0:00:18 - valid_de_fr_mlm_acc -> 4.400000\n",
            "INFO - 08/30/20 17:26:38 - 0:00:18 - valid_en_fr_mlm_ppl -> 93.258180\n",
            "INFO - 08/30/20 17:26:38 - 0:00:18 - valid_en_fr_mlm_acc -> 5.660377\n",
            "INFO - 08/30/20 17:26:38 - 0:00:18 - valid_mlm_ppl -> 259.002882\n",
            "INFO - 08/30/20 17:26:38 - 0:00:18 - valid_mlm_acc -> 3.644815\n",
            "INFO - 08/30/20 17:26:38 - 0:00:18 - test_de_mlm_ppl -> 134.841655\n",
            "INFO - 08/30/20 17:26:38 - 0:00:18 - test_de_mlm_acc -> 1.626016\n",
            "INFO - 08/30/20 17:26:38 - 0:00:18 - test_en_mlm_ppl -> 126.112738\n",
            "INFO - 08/30/20 17:26:38 - 0:00:18 - test_en_mlm_acc -> 2.439024\n",
            "INFO - 08/30/20 17:26:38 - 0:00:18 - test_fr_mlm_ppl -> 306.229981\n",
            "INFO - 08/30/20 17:26:38 - 0:00:18 - test_fr_mlm_acc -> 1.626016\n",
            "INFO - 08/30/20 17:26:38 - 0:00:18 - test_de_en_mlm_ppl -> 97.329266\n",
            "INFO - 08/30/20 17:26:38 - 0:00:18 - test_de_en_mlm_acc -> 4.046243\n",
            "INFO - 08/30/20 17:26:38 - 0:00:18 - test_de_fr_mlm_ppl -> 93.239817\n",
            "INFO - 08/30/20 17:26:38 - 0:00:18 - test_de_fr_mlm_acc -> 3.301887\n",
            "INFO - 08/30/20 17:26:38 - 0:00:18 - test_en_fr_mlm_ppl -> 72.636575\n",
            "INFO - 08/30/20 17:26:38 - 0:00:18 - test_en_fr_mlm_acc -> 4.000000\n",
            "INFO - 08/30/20 17:26:38 - 0:00:18 - test_mlm_ppl -> 189.061458\n",
            "INFO - 08/30/20 17:26:38 - 0:00:18 - test_mlm_acc -> 1.897019\n",
            "INFO - 08/30/20 17:26:38 - 0:00:18 - __log__:{\"epoch\": 0, \"valid_de_mlm_ppl\": 178.35449840185248, \"valid_de_mlm_acc\": 3.252032520325203, \"valid_en_mlm_ppl\": 109.44667230393765, \"valid_en_mlm_acc\": 3.252032520325203, \"valid_fr_mlm_ppl\": 489.2074739021366, \"valid_fr_mlm_acc\": 4.430379746835443, \"valid_de_en_mlm_ppl\": 100.47922797164027, \"valid_de_en_mlm_acc\": 4.242424242424242, \"valid_de_fr_mlm_ppl\": 100.50936928393571, \"valid_de_fr_mlm_acc\": 4.4, \"valid_en_fr_mlm_ppl\": 93.25818042332088, \"valid_en_fr_mlm_acc\": 5.660377358490566, \"valid_mlm_ppl\": 259.0028815359756, \"valid_mlm_acc\": 3.6448149291619494, \"test_de_mlm_ppl\": 134.84165477420282, \"test_de_mlm_acc\": 1.6260162601626016, \"test_en_mlm_ppl\": 126.11273802766432, \"test_en_mlm_acc\": 2.4390243902439024, \"test_fr_mlm_ppl\": 306.22998099477445, \"test_fr_mlm_acc\": 1.6260162601626016, \"test_de_en_mlm_ppl\": 97.3292662506039, \"test_de_en_mlm_acc\": 4.046242774566474, \"test_de_fr_mlm_ppl\": 93.23981654876611, \"test_de_fr_mlm_acc\": 3.30188679245283, \"test_en_fr_mlm_ppl\": 72.63657467223425, \"test_en_fr_mlm_acc\": 4.0, \"test_mlm_ppl\": 189.06145793221387, \"test_mlm_acc\": 1.8970189701897018}\n",
            "INFO - 08/30/20 17:26:38 - 0:00:18 - New best score for valid_mlm_ppl: 259.002882\n",
            "INFO - 08/30/20 17:26:38 - 0:00:18 - Saving best-valid_mlm_ppl to /content/dump_path/mlm_enfrde/demo/best-valid_mlm_ppl.pth ...\n",
            "WARNING - 08/30/20 17:26:38 - 0:00:18 - Saving model parameters ...\n",
            "INFO - 08/30/20 17:26:39 - 0:00:19 - New best validation score: 259.002882\n",
            "INFO - 08/30/20 17:26:39 - 0:00:19 - Saving checkpoint to /content/dump_path/mlm_enfrde/demo/checkpoint.pth ...\n",
            "WARNING - 08/30/20 17:26:39 - 0:00:19 - Saving model parameters ...\n",
            "WARNING - 08/30/20 17:26:39 - 0:00:19 - Saving model optimizer ...\n",
            "INFO - 08/30/20 17:26:43 - 0:00:22 - ============ garbage collector collecting 167 ...\n"
          ],
          "name": "stdout"
        }
      ]
    },
    {
      "cell_type": "markdown",
      "metadata": {
        "id": "LG6TojTBNpNL",
        "colab_type": "text"
      },
      "source": [
        "![5.png](data:image/png;base64,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)"
      ]
    },
    {
      "cell_type": "markdown",
      "metadata": {
        "id": "KdtYucpADUj1",
        "colab_type": "text"
      },
      "source": [
        "# **4) MT**  \n",
        "\n",
        "**In my case the blue score must be negative or null because of all the limitations made (n_samples, epoch_size, max_epoch...)**"
      ]
    },
    {
      "cell_type": "markdown",
      "metadata": {
        "id": "tKemgq_rO5kn",
        "colab_type": "text"
      },
      "source": [
        "**My case**  \n",
        "Because ```\"ae_steps\":\"\"```, I set :\n",
        "```\n",
        "\"word_shuffle\":\"0\", \n",
        "\"word_dropout\":\"0\", \n",
        "\"word_blank\":\"0\",\n",
        "```\n",
        "I also set ```\"remove_long_sentences_train\":\"True\"``` to avoid this [error](https://discuss.pytorch.org/t/runtimeerror-cuda-error-device-side-assert-triggered/34213/3)"
      ]
    },
    {
      "cell_type": "code",
      "metadata": {
        "id": "smGMWnDsERz3",
        "colab_type": "code",
        "colab": {
          "base_uri": "https://localhost:8080/",
          "height": 34
        },
        "outputId": "365d8e61-46c9-4ff0-b3d2-b3473996026f"
      },
      "source": [
        "%env config_file=../configs/mt_template.json"
      ],
      "execution_count": 23,
      "outputs": [
        {
          "output_type": "stream",
          "text": [
            "env: config_file=../configs/mt_template.json\n"
          ],
          "name": "stdout"
        }
      ]
    },
    {
      "cell_type": "code",
      "metadata": {
        "id": "i77KIX5_ETJG",
        "colab_type": "code",
        "colab": {
          "base_uri": "https://localhost:8080/",
          "height": 1000
        },
        "outputId": "a987ebeb-b2ca-474a-c461-d673195cf20f"
      },
      "source": [
        "! python train.py --config_file $config_file"
      ],
      "execution_count": 29,
      "outputs": [
        {
          "output_type": "stream",
          "text": [
            "FAISS library was not found.\n",
            "FAISS not available. Switching to standard nearest neighbors search implementation.\n",
            "SLURM job: False\n",
            "0 - Number of nodes: 1\n",
            "0 - Node ID        : 0\n",
            "0 - Local rank     : 0\n",
            "0 - Global rank    : 0\n",
            "0 - World size     : 1\n",
            "0 - GPUs per node  : 1\n",
            "0 - Master         : True\n",
            "0 - Multi-node     : False\n",
            "0 - Multi-GPU      : False\n",
            "0 - Hostname       : 1f36582deaaf\n",
            "INFO - 08/30/20 17:49:44 - 0:00:00 - ============ Initialized logger ============\n",
            "INFO - 08/30/20 17:49:44 - 0:00:00 - accumulate_gradients: 1\n",
            "                                     ae_steps: []\n",
            "                                     amp: -1\n",
            "                                     asm: False\n",
            "                                     asm_cutoffs: 8000,20000\n",
            "                                     asm_div_value: 4.0\n",
            "                                     attention_dropout: 0.1\n",
            "                                     batch_size: 32\n",
            "                                     beam_size: 1\n",
            "                                     bptt: 256\n",
            "                                     bt_src_langs: []\n",
            "                                     bt_steps: []\n",
            "                                     clip_grad_norm: 5.0\n",
            "                                     clm_steps: []\n",
            "                                     command: python train.py --config_file '../configs/mt_template.json' --exp_id \"demo\"\n",
            "                                     config_file: ../configs/mt_template.json\n",
            "                                     context_size: 0\n",
            "                                     data_path: /content/processed\n",
            "                                     debug: False\n",
            "                                     debug_slurm: False\n",
            "                                     debug_train: False\n",
            "                                     dropout: 0.1\n",
            "                                     dump_path: /content/dump_path/mt_enfrde/demo\n",
            "                                     early_stopping: False\n",
            "                                     emb_dim: 1024\n",
            "                                     encoder_only: False\n",
            "                                     epoch_size: 100\n",
            "                                     eval_bleu: True\n",
            "                                     eval_only: False\n",
            "                                     exp_id: demo\n",
            "                                     exp_name: mt_enfrde\n",
            "                                     fp16: False\n",
            "                                     gelu_activation: True\n",
            "                                     global_rank: 0\n",
            "                                     group_by_size: True\n",
            "                                     id2lang: {0: 'de', 1: 'en', 2: 'fr'}\n",
            "                                     is_master: True\n",
            "                                     is_slurm_job: False\n",
            "                                     lambda_ae: 0:1,100000:0.1,300000:0\n",
            "                                     lambda_bt: 1\n",
            "                                     lambda_clm: 1\n",
            "                                     lambda_mlm: 1\n",
            "                                     lambda_mt: 1\n",
            "                                     lambda_pc: 1\n",
            "                                     lang2id: {'de': 0, 'en': 1, 'fr': 2}\n",
            "                                     langs: ['de', 'en', 'fr']\n",
            "                                     length_penalty: 1.0\n",
            "                                     lg_sampling_factor: -1.0\n",
            "                                     lgs: ['de-en-fr']\n",
            "                                     local_rank: 0\n",
            "                                     log_file_prefix: \n",
            "                                     master_port: -1\n",
            "                                     max_batch_size: 0\n",
            "                                     max_epoch: 1\n",
            "                                     max_len: 100\n",
            "                                     max_vocab: -1\n",
            "                                     mem_dec_positions: \n",
            "                                     mem_enc_positions: \n",
            "                                     meta_learning: False\n",
            "                                     meta_params: ...\n",
            "                                     min_count: 0\n",
            "                                     mlm_steps: []\n",
            "                                     mono_dataset: {}\n",
            "                                     mt_steps: [('de', 'en'), ('en', 'de'), ('de', 'fr'), ('fr', 'de'), ('en', 'fr'), ('fr', 'en')]\n",
            "                                     multi_gpu: False\n",
            "                                     multi_node: False\n",
            "                                     n_gpu_per_node: 1\n",
            "                                     n_heads: 8\n",
            "                                     n_langs: 3\n",
            "                                     n_layers: 6\n",
            "                                     n_nodes: 1\n",
            "                                     n_samples: {'train': -1, 'valid': -1, 'test': -1}\n",
            "                                     n_task: 1\n",
            "                                     node_id: 0\n",
            "                                     optimizer: adam_inverse_sqrt,beta1=0.9,beta2=0.98,lr=0.0001\n",
            "                                     para_dataset: {('de', 'en'): {'train': ('/content/processed/train.de-en.de.pth', '/content/processed/train.de-en.en.pth'), 'valid': ('/content/processed/valid.de-en.de.pth', '/content/processed/valid.de-en.en.pth'), 'test': ('/content/processed/test.de-en.de.pth', '/content/processed/test.de-en.en.pth')}, ('de', 'fr'): {'train': ('/content/processed/train.de-fr.de.pth', '/content/processed/train.de-fr.fr.pth'), 'valid': ('/content/processed/valid.de-fr.de.pth', '/content/processed/valid.de-fr.fr.pth'), 'test': ('/content/processed/test.de-fr.de.pth', '/content/processed/test.de-fr.fr.pth')}, ('en', 'fr'): {'train': ('/content/processed/train.en-fr.en.pth', '/content/processed/train.en-fr.fr.pth'), 'valid': ('/content/processed/valid.en-fr.en.pth', '/content/processed/valid.en-fr.fr.pth'), 'test': ('/content/processed/test.en-fr.en.pth', '/content/processed/test.en-fr.fr.pth')}}\n",
            "                                     pc_steps: []\n",
            "                                     reload_checkpoint: \n",
            "                                     reload_emb: \n",
            "                                     reload_model: /content/dump_path/mlm_enfrde/demo/best-valid_mlm_ppl.pth,/content/dump_path/mlm_enfrde/demo/best-valid_mlm_ppl.pth\n",
            "                                     remove_long_sentences: {'train': False, 'valid': False, 'test': False}\n",
            "                                     remove_long_sentences_test: False\n",
            "                                     remove_long_sentences_train: False\n",
            "                                     remove_long_sentences_valid: False\n",
            "                                     same_data_path: True\n",
            "                                     sample_alpha: 0\n",
            "                                     save_periodic: 0\n",
            "                                     share_inout_emb: True\n",
            "                                     sinusoidal_embeddings: False\n",
            "                                     split_data: False\n",
            "                                     stopping_criterion: valid_en-fr_mt_bleu,10\n",
            "                                     test_n_samples: -1\n",
            "                                     tokens_per_batch: 2000\n",
            "                                     train_n_samples: -1\n",
            "                                     use_lang_emb: True\n",
            "                                     use_memory: False\n",
            "                                     valid_n_samples: -1\n",
            "                                     validation_metrics: valid_en-fr_mt_bleu\n",
            "                                     word_blank: 0.0\n",
            "                                     word_dropout: 0.0\n",
            "                                     word_keep: 0.1\n",
            "                                     word_mask: 0.8\n",
            "                                     word_mask_keep_rand: 0.8,0.1,0.1\n",
            "                                     word_pred: 0.15\n",
            "                                     word_rand: 0.1\n",
            "                                     word_shuffle: 0.0\n",
            "                                     world_size: 1\n",
            "INFO - 08/30/20 17:49:44 - 0:00:00 - The experiment will be stored in /content/dump_path/mt_enfrde/demo\n",
            "                                     \n",
            "INFO - 08/30/20 17:49:44 - 0:00:00 - Running command: python train.py --config_file '../configs/mt_template.json'\n",
            "\n",
            "WARNING - 08/30/20 17:49:44 - 0:00:00 - Signal handler installed.\n",
            "INFO - 08/30/20 17:49:44 - 0:00:00 - ============ langs: de, en, fr\n",
            "\n",
            "INFO - 08/30/20 17:49:44 - 0:00:00 - ============ Parallel data (de-en)\n",
            "INFO - 08/30/20 17:49:44 - 0:00:00 - Loading data from /content/processed/train.de-en.de.pth ...\n",
            "INFO - 08/30/20 17:49:44 - 0:00:00 - 5875 words (125 unique) in 81 sentences. 0 unknown words (0 unique) covering 0.00% of the data.\n",
            "INFO - 08/30/20 17:49:44 - 0:00:00 - Loading data from /content/processed/train.de-en.en.pth ...\n",
            "INFO - 08/30/20 17:49:44 - 0:00:00 - 5265 words (125 unique) in 81 sentences. 0 unknown words (0 unique) covering 0.00% of the data.\n",
            "INFO - 08/30/20 17:49:44 - 0:00:00 - ========================== debug : 1\n",
            "INFO - 08/30/20 17:49:44 - 0:00:00 - Removed 0 empty sentences.\n",
            "INFO - 08/30/20 17:49:44 - 0:00:00 - Removed 0 empty sentences.\n",
            "\n",
            "INFO - 08/30/20 17:49:44 - 0:00:00 - Loading data from /content/processed/valid.de-en.de.pth ...\n",
            "INFO - 08/30/20 17:49:44 - 0:00:00 - 588 words (125 unique) in 10 sentences. 0 unknown words (0 unique) covering 0.00% of the data.\n",
            "INFO - 08/30/20 17:49:44 - 0:00:00 - Loading data from /content/processed/valid.de-en.en.pth ...\n",
            "INFO - 08/30/20 17:49:44 - 0:00:00 - 511 words (125 unique) in 10 sentences. 0 unknown words (0 unique) covering 0.00% of the data.\n",
            "INFO - 08/30/20 17:49:44 - 0:00:00 - ========================== debug : 2\n",
            "INFO - 08/30/20 17:49:44 - 0:00:00 - Removed 0 empty sentences.\n",
            "\n",
            "INFO - 08/30/20 17:49:44 - 0:00:00 - Loading data from /content/processed/test.de-en.de.pth ...\n",
            "INFO - 08/30/20 17:49:44 - 0:00:00 - 627 words (125 unique) in 10 sentences. 0 unknown words (0 unique) covering 0.00% of the data.\n",
            "INFO - 08/30/20 17:49:44 - 0:00:00 - Loading data from /content/processed/test.de-en.en.pth ...\n",
            "INFO - 08/30/20 17:49:44 - 0:00:00 - 547 words (125 unique) in 10 sentences. 0 unknown words (0 unique) covering 0.00% of the data.\n",
            "INFO - 08/30/20 17:49:44 - 0:00:00 - ========================== debug : 3\n",
            "INFO - 08/30/20 17:49:44 - 0:00:00 - Removed 0 empty sentences.\n",
            "\n",
            "INFO - 08/30/20 17:49:44 - 0:00:00 - ============ Parallel data (de-fr)\n",
            "INFO - 08/30/20 17:49:44 - 0:00:00 - Loading data from /content/processed/train.de-fr.de.pth ...\n",
            "INFO - 08/30/20 17:49:44 - 0:00:00 - 7828 words (125 unique) in 81 sentences. 0 unknown words (0 unique) covering 0.00% of the data.\n",
            "INFO - 08/30/20 17:49:44 - 0:00:00 - Loading data from /content/processed/train.de-fr.fr.pth ...\n",
            "INFO - 08/30/20 17:49:44 - 0:00:00 - 7467 words (125 unique) in 81 sentences. 0 unknown words (0 unique) covering 0.00% of the data.\n",
            "INFO - 08/30/20 17:49:44 - 0:00:00 - ========================== debug : 4\n",
            "INFO - 08/30/20 17:49:44 - 0:00:00 - Removed 0 empty sentences.\n",
            "INFO - 08/30/20 17:49:44 - 0:00:00 - Removed 0 empty sentences.\n",
            "\n",
            "INFO - 08/30/20 17:49:44 - 0:00:00 - Loading data from /content/processed/valid.de-fr.de.pth ...\n",
            "INFO - 08/30/20 17:49:44 - 0:00:00 - 871 words (125 unique) in 10 sentences. 0 unknown words (0 unique) covering 0.00% of the data.\n",
            "INFO - 08/30/20 17:49:44 - 0:00:00 - Loading data from /content/processed/valid.de-fr.fr.pth ...\n",
            "INFO - 08/30/20 17:49:44 - 0:00:00 - 823 words (125 unique) in 10 sentences. 0 unknown words (0 unique) covering 0.00% of the data.\n",
            "INFO - 08/30/20 17:49:44 - 0:00:00 - ========================== debug : 5\n",
            "INFO - 08/30/20 17:49:44 - 0:00:00 - Removed 0 empty sentences.\n",
            "\n",
            "INFO - 08/30/20 17:49:44 - 0:00:00 - Loading data from /content/processed/test.de-fr.de.pth ...\n",
            "INFO - 08/30/20 17:49:44 - 0:00:00 - 760 words (125 unique) in 10 sentences. 0 unknown words (0 unique) covering 0.00% of the data.\n",
            "INFO - 08/30/20 17:49:44 - 0:00:00 - Loading data from /content/processed/test.de-fr.fr.pth ...\n",
            "INFO - 08/30/20 17:49:44 - 0:00:00 - 682 words (125 unique) in 10 sentences. 0 unknown words (0 unique) covering 0.00% of the data.\n",
            "INFO - 08/30/20 17:49:44 - 0:00:00 - ========================== debug : 6\n",
            "INFO - 08/30/20 17:49:44 - 0:00:00 - Removed 0 empty sentences.\n",
            "\n",
            "INFO - 08/30/20 17:49:44 - 0:00:00 - ============ Parallel data (en-fr)\n",
            "INFO - 08/30/20 17:49:44 - 0:00:00 - Loading data from /content/processed/train.en-fr.en.pth ...\n",
            "INFO - 08/30/20 17:49:44 - 0:00:00 - 4715 words (125 unique) in 81 sentences. 0 unknown words (0 unique) covering 0.00% of the data.\n",
            "INFO - 08/30/20 17:49:44 - 0:00:00 - Loading data from /content/processed/train.en-fr.fr.pth ...\n",
            "INFO - 08/30/20 17:49:44 - 0:00:00 - 5536 words (125 unique) in 81 sentences. 0 unknown words (0 unique) covering 0.00% of the data.\n",
            "INFO - 08/30/20 17:49:44 - 0:00:00 - ========================== debug : 7\n",
            "INFO - 08/30/20 17:49:44 - 0:00:00 - Removed 0 empty sentences.\n",
            "INFO - 08/30/20 17:49:44 - 0:00:00 - Removed 0 empty sentences.\n",
            "\n",
            "INFO - 08/30/20 17:49:44 - 0:00:00 - Loading data from /content/processed/valid.en-fr.en.pth ...\n",
            "INFO - 08/30/20 17:49:44 - 0:00:00 - 455 words (125 unique) in 10 sentences. 0 unknown words (0 unique) covering 0.00% of the data.\n",
            "INFO - 08/30/20 17:49:44 - 0:00:00 - Loading data from /content/processed/valid.en-fr.fr.pth ...\n",
            "INFO - 08/30/20 17:49:44 - 0:00:00 - 575 words (125 unique) in 10 sentences. 0 unknown words (0 unique) covering 0.00% of the data.\n",
            "INFO - 08/30/20 17:49:44 - 0:00:00 - ========================== debug : 8\n",
            "INFO - 08/30/20 17:49:44 - 0:00:00 - Removed 0 empty sentences.\n",
            "\n",
            "INFO - 08/30/20 17:49:44 - 0:00:00 - Loading data from /content/processed/test.en-fr.en.pth ...\n",
            "INFO - 08/30/20 17:49:44 - 0:00:00 - 523 words (125 unique) in 10 sentences. 0 unknown words (0 unique) covering 0.00% of the data.\n",
            "INFO - 08/30/20 17:49:44 - 0:00:00 - Loading data from /content/processed/test.en-fr.fr.pth ...\n",
            "INFO - 08/30/20 17:49:44 - 0:00:00 - 625 words (125 unique) in 10 sentences. 0 unknown words (0 unique) covering 0.00% of the data.\n",
            "INFO - 08/30/20 17:49:44 - 0:00:00 - ========================== debug : 9\n",
            "INFO - 08/30/20 17:49:44 - 0:00:00 - Removed 0 empty sentences.\n",
            "\n",
            "\n",
            "INFO - 08/30/20 17:49:44 - 0:00:00 - ============ Data summary\n",
            "INFO - 08/30/20 17:49:44 - 0:00:00 - Parallel data      - train -        de-en:        81\n",
            "INFO - 08/30/20 17:49:44 - 0:00:00 - Parallel data      - valid -        de-en:        10\n",
            "INFO - 08/30/20 17:49:44 - 0:00:00 - Parallel data      -  test -        de-en:        10\n",
            "INFO - 08/30/20 17:49:44 - 0:00:00 - Parallel data      - train -        de-fr:        81\n",
            "INFO - 08/30/20 17:49:44 - 0:00:00 - Parallel data      - valid -        de-fr:        10\n",
            "INFO - 08/30/20 17:49:44 - 0:00:00 - Parallel data      -  test -        de-fr:        10\n",
            "INFO - 08/30/20 17:49:44 - 0:00:00 - Parallel data      - train -        en-fr:        81\n",
            "INFO - 08/30/20 17:49:44 - 0:00:00 - Parallel data      - valid -        en-fr:        10\n",
            "INFO - 08/30/20 17:49:44 - 0:00:00 - Parallel data      -  test -        en-fr:        10\n",
            "\n",
            "INFO - 08/30/20 17:49:45 - 0:00:01 - Reloading encoder from /content/dump_path/mlm_enfrde/demo/best-valid_mlm_ppl.pth ...\n",
            "INFO - 08/30/20 17:49:49 - 0:00:06 - Reloading decoder from /content/dump_path/mlm_enfrde/demo/best-valid_mlm_ppl.pth ...\n",
            "WARNING - 08/30/20 17:49:49 - 0:00:06 - Parameter layer_norm15.0.weight not found.\n",
            "WARNING - 08/30/20 17:49:49 - 0:00:06 - Parameter layer_norm15.0.bias not found.\n",
            "WARNING - 08/30/20 17:49:49 - 0:00:06 - Parameter encoder_attn.0.q_lin.weight not found.\n",
            "WARNING - 08/30/20 17:49:49 - 0:00:06 - Parameter encoder_attn.0.q_lin.bias not found.\n",
            "WARNING - 08/30/20 17:49:49 - 0:00:06 - Parameter encoder_attn.0.k_lin.weight not found.\n",
            "WARNING - 08/30/20 17:49:49 - 0:00:06 - Parameter encoder_attn.0.k_lin.bias not found.\n",
            "WARNING - 08/30/20 17:49:49 - 0:00:06 - Parameter encoder_attn.0.v_lin.weight not found.\n",
            "WARNING - 08/30/20 17:49:49 - 0:00:06 - Parameter encoder_attn.0.v_lin.bias not found.\n",
            "WARNING - 08/30/20 17:49:49 - 0:00:06 - Parameter encoder_attn.0.out_lin.weight not found.\n",
            "WARNING - 08/30/20 17:49:49 - 0:00:06 - Parameter encoder_attn.0.out_lin.bias not found.\n",
            "WARNING - 08/30/20 17:49:49 - 0:00:06 - Parameter layer_norm15.1.weight not found.\n",
            "WARNING - 08/30/20 17:49:49 - 0:00:06 - Parameter layer_norm15.1.bias not found.\n",
            "WARNING - 08/30/20 17:49:49 - 0:00:06 - Parameter encoder_attn.1.q_lin.weight not found.\n",
            "WARNING - 08/30/20 17:49:49 - 0:00:06 - Parameter encoder_attn.1.q_lin.bias not found.\n",
            "WARNING - 08/30/20 17:49:49 - 0:00:06 - Parameter encoder_attn.1.k_lin.weight not found.\n",
            "WARNING - 08/30/20 17:49:49 - 0:00:06 - Parameter encoder_attn.1.k_lin.bias not found.\n",
            "WARNING - 08/30/20 17:49:49 - 0:00:06 - Parameter encoder_attn.1.v_lin.weight not found.\n",
            "WARNING - 08/30/20 17:49:49 - 0:00:06 - Parameter encoder_attn.1.v_lin.bias not found.\n",
            "WARNING - 08/30/20 17:49:49 - 0:00:06 - Parameter encoder_attn.1.out_lin.weight not found.\n",
            "WARNING - 08/30/20 17:49:49 - 0:00:06 - Parameter encoder_attn.1.out_lin.bias not found.\n",
            "WARNING - 08/30/20 17:49:49 - 0:00:06 - Parameter layer_norm15.2.weight not found.\n",
            "WARNING - 08/30/20 17:49:49 - 0:00:06 - Parameter layer_norm15.2.bias not found.\n",
            "WARNING - 08/30/20 17:49:49 - 0:00:06 - Parameter encoder_attn.2.q_lin.weight not found.\n",
            "WARNING - 08/30/20 17:49:49 - 0:00:06 - Parameter encoder_attn.2.q_lin.bias not found.\n",
            "WARNING - 08/30/20 17:49:49 - 0:00:06 - Parameter encoder_attn.2.k_lin.weight not found.\n",
            "WARNING - 08/30/20 17:49:49 - 0:00:06 - Parameter encoder_attn.2.k_lin.bias not found.\n",
            "WARNING - 08/30/20 17:49:49 - 0:00:06 - Parameter encoder_attn.2.v_lin.weight not found.\n",
            "WARNING - 08/30/20 17:49:49 - 0:00:06 - Parameter encoder_attn.2.v_lin.bias not found.\n",
            "WARNING - 08/30/20 17:49:49 - 0:00:06 - Parameter encoder_attn.2.out_lin.weight not found.\n",
            "WARNING - 08/30/20 17:49:49 - 0:00:06 - Parameter encoder_attn.2.out_lin.bias not found.\n",
            "WARNING - 08/30/20 17:49:49 - 0:00:06 - Parameter layer_norm15.3.weight not found.\n",
            "WARNING - 08/30/20 17:49:49 - 0:00:06 - Parameter layer_norm15.3.bias not found.\n",
            "WARNING - 08/30/20 17:49:49 - 0:00:06 - Parameter encoder_attn.3.q_lin.weight not found.\n",
            "WARNING - 08/30/20 17:49:49 - 0:00:06 - Parameter encoder_attn.3.q_lin.bias not found.\n",
            "WARNING - 08/30/20 17:49:49 - 0:00:06 - Parameter encoder_attn.3.k_lin.weight not found.\n",
            "WARNING - 08/30/20 17:49:49 - 0:00:06 - Parameter encoder_attn.3.k_lin.bias not found.\n",
            "WARNING - 08/30/20 17:49:49 - 0:00:06 - Parameter encoder_attn.3.v_lin.weight not found.\n",
            "WARNING - 08/30/20 17:49:49 - 0:00:06 - Parameter encoder_attn.3.v_lin.bias not found.\n",
            "WARNING - 08/30/20 17:49:49 - 0:00:06 - Parameter encoder_attn.3.out_lin.weight not found.\n",
            "WARNING - 08/30/20 17:49:49 - 0:00:06 - Parameter encoder_attn.3.out_lin.bias not found.\n",
            "WARNING - 08/30/20 17:49:49 - 0:00:06 - Parameter layer_norm15.4.weight not found.\n",
            "WARNING - 08/30/20 17:49:49 - 0:00:06 - Parameter layer_norm15.4.bias not found.\n",
            "WARNING - 08/30/20 17:49:49 - 0:00:06 - Parameter encoder_attn.4.q_lin.weight not found.\n",
            "WARNING - 08/30/20 17:49:49 - 0:00:06 - Parameter encoder_attn.4.q_lin.bias not found.\n",
            "WARNING - 08/30/20 17:49:49 - 0:00:06 - Parameter encoder_attn.4.k_lin.weight not found.\n",
            "WARNING - 08/30/20 17:49:49 - 0:00:06 - Parameter encoder_attn.4.k_lin.bias not found.\n",
            "WARNING - 08/30/20 17:49:49 - 0:00:06 - Parameter encoder_attn.4.v_lin.weight not found.\n",
            "WARNING - 08/30/20 17:49:49 - 0:00:06 - Parameter encoder_attn.4.v_lin.bias not found.\n",
            "WARNING - 08/30/20 17:49:49 - 0:00:06 - Parameter encoder_attn.4.out_lin.weight not found.\n",
            "WARNING - 08/30/20 17:49:49 - 0:00:06 - Parameter encoder_attn.4.out_lin.bias not found.\n",
            "WARNING - 08/30/20 17:49:49 - 0:00:06 - Parameter layer_norm15.5.weight not found.\n",
            "WARNING - 08/30/20 17:49:49 - 0:00:06 - Parameter layer_norm15.5.bias not found.\n",
            "WARNING - 08/30/20 17:49:49 - 0:00:06 - Parameter encoder_attn.5.q_lin.weight not found.\n",
            "WARNING - 08/30/20 17:49:49 - 0:00:06 - Parameter encoder_attn.5.q_lin.bias not found.\n",
            "WARNING - 08/30/20 17:49:49 - 0:00:06 - Parameter encoder_attn.5.k_lin.weight not found.\n",
            "WARNING - 08/30/20 17:49:49 - 0:00:06 - Parameter encoder_attn.5.k_lin.bias not found.\n",
            "WARNING - 08/30/20 17:49:49 - 0:00:06 - Parameter encoder_attn.5.v_lin.weight not found.\n",
            "WARNING - 08/30/20 17:49:49 - 0:00:06 - Parameter encoder_attn.5.v_lin.bias not found.\n",
            "WARNING - 08/30/20 17:49:49 - 0:00:06 - Parameter encoder_attn.5.out_lin.weight not found.\n",
            "WARNING - 08/30/20 17:49:49 - 0:00:06 - Parameter encoder_attn.5.out_lin.bias not found.\n",
            "INFO - 08/30/20 17:49:50 - 0:00:06 - Number of parameters (encoder): 76234877\n",
            "INFO - 08/30/20 17:49:50 - 0:00:06 - Number of parameters (decoder): 101437565\n",
            "INFO - 08/30/20 17:49:50 - 0:00:06 - Found 0 memories.\n",
            "INFO - 08/30/20 17:49:50 - 0:00:06 - Found 12 FFN.\n",
            "INFO - 08/30/20 17:49:50 - 0:00:06 - Found 264 parameters in model.\n",
            "INFO - 08/30/20 17:49:50 - 0:00:06 - Optimizers: model\n",
            "INFO - 08/30/20 17:49:51 - 0:00:07 - ============ Starting epoch 0 ... ============\n",
            "INFO - 08/30/20 17:49:51 - 0:00:07 - Creating new training data iterator (mt,fr,de) ...\n",
            "/content/meta_XLM/XLM/src/optim.py:72: UserWarning: This overload of add_ is deprecated:\n",
            "\tadd_(Number alpha, Tensor other)\n",
            "Consider using one of the following signatures instead:\n",
            "\tadd_(Tensor other, *, Number alpha) (Triggered internally at  /pytorch/torch/csrc/utils/python_arg_parser.cpp:766.)\n",
            "  exp_avg.mul_(beta1).add_(1 - beta1, grad)\n",
            "INFO - 08/30/20 17:49:51 - 0:00:08 - Creating new training data iterator (mt,en,de) ...\n",
            "INFO - 08/30/20 17:49:52 - 0:00:08 - Creating new training data iterator (mt,fr,en) ...\n",
            "INFO - 08/30/20 17:49:52 - 0:00:08 - Creating new training data iterator (mt,en,fr) ...\n",
            "INFO - 08/30/20 17:49:53 - 0:00:09 - Creating new training data iterator (mt,de,en) ...\n",
            "INFO - 08/30/20 17:49:53 - 0:00:09 - ============ End of epoch 0 ============\n",
            "Use of uninitialized value in division (/) at /content/meta_XLM/XLM/src/evaluation/multi-bleu.perl line 139, <STDIN> line 10.\n",
            "INFO - 08/30/20 17:49:56 - 0:00:12 - BLEU /content/dump_path/mt_enfrde/demo/hypotheses/hyp0.fr-en.valid.txt /content/dump_path/mt_enfrde/demo/hypotheses/ref.fr-en.valid.txt : 0.000000\n",
            "Use of uninitialized value in division (/) at /content/meta_XLM/XLM/src/evaluation/multi-bleu.perl line 139, <STDIN> line 10.\n",
            "INFO - 08/30/20 17:49:59 - 0:00:16 - BLEU /content/dump_path/mt_enfrde/demo/hypotheses/hyp0.de-en.valid.txt /content/dump_path/mt_enfrde/demo/hypotheses/ref.de-en.valid.txt : 0.000000\n",
            "Use of uninitialized value in division (/) at /content/meta_XLM/XLM/src/evaluation/multi-bleu.perl line 139, <STDIN> line 10.\n",
            "INFO - 08/30/20 17:50:03 - 0:00:19 - BLEU /content/dump_path/mt_enfrde/demo/hypotheses/hyp0.de-fr.valid.txt /content/dump_path/mt_enfrde/demo/hypotheses/ref.de-fr.valid.txt : 0.000000\n",
            "Use of uninitialized value in division (/) at /content/meta_XLM/XLM/src/evaluation/multi-bleu.perl line 139, <STDIN> line 10.\n",
            "INFO - 08/30/20 17:50:06 - 0:00:22 - BLEU /content/dump_path/mt_enfrde/demo/hypotheses/hyp0.en-fr.valid.txt /content/dump_path/mt_enfrde/demo/hypotheses/ref.en-fr.valid.txt : 0.000000\n",
            "Use of uninitialized value in division (/) at /content/meta_XLM/XLM/src/evaluation/multi-bleu.perl line 139, <STDIN> line 10.\n",
            "INFO - 08/30/20 17:50:09 - 0:00:25 - BLEU /content/dump_path/mt_enfrde/demo/hypotheses/hyp0.en-de.valid.txt /content/dump_path/mt_enfrde/demo/hypotheses/ref.en-de.valid.txt : 0.000000\n",
            "Use of uninitialized value in division (/) at /content/meta_XLM/XLM/src/evaluation/multi-bleu.perl line 139, <STDIN> line 10.\n",
            "INFO - 08/30/20 17:50:12 - 0:00:29 - BLEU /content/dump_path/mt_enfrde/demo/hypotheses/hyp0.fr-de.valid.txt /content/dump_path/mt_enfrde/demo/hypotheses/ref.fr-de.valid.txt : 0.000000\n",
            "Use of uninitialized value in division (/) at /content/meta_XLM/XLM/src/evaluation/multi-bleu.perl line 139, <STDIN> line 10.\n",
            "INFO - 08/30/20 17:50:15 - 0:00:31 - BLEU /content/dump_path/mt_enfrde/demo/hypotheses/hyp0.fr-en.test.txt /content/dump_path/mt_enfrde/demo/hypotheses/ref.fr-en.test.txt : 0.000000\n",
            "Use of uninitialized value in division (/) at /content/meta_XLM/XLM/src/evaluation/multi-bleu.perl line 139, <STDIN> line 10.\n",
            "INFO - 08/30/20 17:50:17 - 0:00:33 - BLEU /content/dump_path/mt_enfrde/demo/hypotheses/hyp0.de-en.test.txt /content/dump_path/mt_enfrde/demo/hypotheses/ref.de-en.test.txt : 0.000000\n",
            "Use of uninitialized value in division (/) at /content/meta_XLM/XLM/src/evaluation/multi-bleu.perl line 139, <STDIN> line 10.\n",
            "INFO - 08/30/20 17:50:20 - 0:00:36 - BLEU /content/dump_path/mt_enfrde/demo/hypotheses/hyp0.de-fr.test.txt /content/dump_path/mt_enfrde/demo/hypotheses/ref.de-fr.test.txt : 0.000000\n",
            "Use of uninitialized value in division (/) at /content/meta_XLM/XLM/src/evaluation/multi-bleu.perl line 139, <STDIN> line 10.\n",
            "INFO - 08/30/20 17:50:22 - 0:00:38 - BLEU /content/dump_path/mt_enfrde/demo/hypotheses/hyp0.en-fr.test.txt /content/dump_path/mt_enfrde/demo/hypotheses/ref.en-fr.test.txt : 0.000000\n",
            "Use of uninitialized value in division (/) at /content/meta_XLM/XLM/src/evaluation/multi-bleu.perl line 139, <STDIN> line 10.\n",
            "INFO - 08/30/20 17:50:24 - 0:00:40 - BLEU /content/dump_path/mt_enfrde/demo/hypotheses/hyp0.en-de.test.txt /content/dump_path/mt_enfrde/demo/hypotheses/ref.en-de.test.txt : 0.000000\n",
            "Use of uninitialized value in division (/) at /content/meta_XLM/XLM/src/evaluation/multi-bleu.perl line 139, <STDIN> line 10.\n",
            "INFO - 08/30/20 17:50:26 - 0:00:43 - BLEU /content/dump_path/mt_enfrde/demo/hypotheses/hyp0.fr-de.test.txt /content/dump_path/mt_enfrde/demo/hypotheses/ref.fr-de.test.txt : 0.000000\n",
            "INFO - 08/30/20 17:50:26 - 0:00:43 - epoch -> 0.000000\n",
            "INFO - 08/30/20 17:50:26 - 0:00:43 - valid_fr-en_mt_ppl -> 118.041825\n",
            "INFO - 08/30/20 17:50:26 - 0:00:43 - valid_fr-en_mt_acc -> 1.505376\n",
            "INFO - 08/30/20 17:50:26 - 0:00:43 - valid_fr-en_mt_bleu -> 0.000000\n",
            "INFO - 08/30/20 17:50:26 - 0:00:43 - valid_de-en_mt_ppl -> 116.528435\n",
            "INFO - 08/30/20 17:50:26 - 0:00:43 - valid_de-en_mt_acc -> 1.919386\n",
            "INFO - 08/30/20 17:50:26 - 0:00:43 - valid_de-en_mt_bleu -> 0.000000\n",
            "INFO - 08/30/20 17:50:26 - 0:00:43 - valid_de-fr_mt_ppl -> 292.313507\n",
            "INFO - 08/30/20 17:50:26 - 0:00:43 - valid_de-fr_mt_acc -> 1.560624\n",
            "INFO - 08/30/20 17:50:26 - 0:00:43 - valid_de-fr_mt_bleu -> 0.000000\n",
            "INFO - 08/30/20 17:50:26 - 0:00:43 - valid_en-fr_mt_ppl -> 289.457593\n",
            "INFO - 08/30/20 17:50:26 - 0:00:43 - valid_en-fr_mt_acc -> 2.393162\n",
            "INFO - 08/30/20 17:50:26 - 0:00:43 - valid_en-fr_mt_bleu -> 0.000000\n",
            "INFO - 08/30/20 17:50:26 - 0:00:43 - valid_en-de_mt_ppl -> 115.366070\n",
            "INFO - 08/30/20 17:50:26 - 0:00:43 - valid_en-de_mt_acc -> 4.013378\n",
            "INFO - 08/30/20 17:50:26 - 0:00:43 - valid_en-de_mt_bleu -> 0.000000\n",
            "INFO - 08/30/20 17:50:26 - 0:00:43 - valid_fr-de_mt_ppl -> 109.573617\n",
            "INFO - 08/30/20 17:50:26 - 0:00:43 - valid_fr-de_mt_acc -> 4.086266\n",
            "INFO - 08/30/20 17:50:26 - 0:00:43 - valid_fr-de_mt_bleu -> 0.000000\n",
            "INFO - 08/30/20 17:50:26 - 0:00:43 - test_fr-en_mt_ppl -> 114.529597\n",
            "INFO - 08/30/20 17:50:26 - 0:00:43 - test_fr-en_mt_acc -> 3.001876\n",
            "INFO - 08/30/20 17:50:26 - 0:00:43 - test_fr-en_mt_bleu -> 0.000000\n",
            "INFO - 08/30/20 17:50:26 - 0:00:43 - test_de-en_mt_ppl -> 119.783394\n",
            "INFO - 08/30/20 17:50:26 - 0:00:43 - test_de-en_mt_acc -> 2.513465\n",
            "INFO - 08/30/20 17:50:26 - 0:00:43 - test_de-en_mt_bleu -> 0.000000\n",
            "INFO - 08/30/20 17:50:26 - 0:00:43 - test_de-fr_mt_ppl -> 274.201171\n",
            "INFO - 08/30/20 17:50:26 - 0:00:43 - test_de-fr_mt_acc -> 2.167630\n",
            "INFO - 08/30/20 17:50:26 - 0:00:43 - test_de-fr_mt_bleu -> 0.000000\n",
            "INFO - 08/30/20 17:50:26 - 0:00:43 - test_en-fr_mt_ppl -> 281.419334\n",
            "INFO - 08/30/20 17:50:26 - 0:00:43 - test_en-fr_mt_acc -> 2.047244\n",
            "INFO - 08/30/20 17:50:26 - 0:00:43 - test_en-fr_mt_bleu -> 0.000000\n",
            "INFO - 08/30/20 17:50:26 - 0:00:43 - test_en-de_mt_ppl -> 100.587328\n",
            "INFO - 08/30/20 17:50:26 - 0:00:43 - test_en-de_mt_acc -> 6.593407\n",
            "INFO - 08/30/20 17:50:26 - 0:00:43 - test_en-de_mt_bleu -> 0.000000\n",
            "INFO - 08/30/20 17:50:26 - 0:00:43 - test_fr-de_mt_ppl -> 114.293535\n",
            "INFO - 08/30/20 17:50:26 - 0:00:43 - test_fr-de_mt_acc -> 4.545455\n",
            "INFO - 08/30/20 17:50:26 - 0:00:43 - test_fr-de_mt_bleu -> 0.000000\n",
            "INFO - 08/30/20 17:50:26 - 0:00:43 - __log__:{\"epoch\": 0, \"valid_fr-en_mt_ppl\": 118.04182479676648, \"valid_fr-en_mt_acc\": 1.5053763440860215, \"valid_fr-en_mt_bleu\": 0.0, \"valid_de-en_mt_ppl\": 116.52843479947043, \"valid_de-en_mt_acc\": 1.9193857965451055, \"valid_de-en_mt_bleu\": 0.0, \"valid_de-fr_mt_ppl\": 292.31350728798157, \"valid_de-fr_mt_acc\": 1.56062424969988, \"valid_de-fr_mt_bleu\": 0.0, \"valid_en-fr_mt_ppl\": 289.4575934719343, \"valid_en-fr_mt_acc\": 2.393162393162393, \"valid_en-fr_mt_bleu\": 0.0, \"valid_en-de_mt_ppl\": 115.36607049582697, \"valid_en-de_mt_acc\": 4.013377926421405, \"valid_en-de_mt_bleu\": 0.0, \"valid_fr-de_mt_ppl\": 109.57361675170054, \"valid_fr-de_mt_acc\": 4.0862656072644725, \"valid_fr-de_mt_bleu\": 0.0, \"test_fr-en_mt_ppl\": 114.52959743475279, \"test_fr-en_mt_acc\": 3.0018761726078798, \"test_fr-en_mt_bleu\": 0.0, \"test_de-en_mt_ppl\": 119.78339408291626, \"test_de-en_mt_acc\": 2.5134649910233393, \"test_de-en_mt_bleu\": 0.0, \"test_de-fr_mt_ppl\": 274.20117098195726, \"test_de-fr_mt_acc\": 2.167630057803468, \"test_de-fr_mt_bleu\": 0.0, \"test_en-fr_mt_ppl\": 281.41933380180393, \"test_en-fr_mt_acc\": 2.047244094488189, \"test_en-fr_mt_bleu\": 0.0, \"test_en-de_mt_ppl\": 100.5873281571263, \"test_en-de_mt_acc\": 6.593406593406593, \"test_en-de_mt_bleu\": 0.0, \"test_fr-de_mt_ppl\": 114.29353506467362, \"test_fr-de_mt_acc\": 4.545454545454546, \"test_fr-de_mt_bleu\": 0.0}\n",
            "INFO - 08/30/20 17:50:26 - 0:00:43 - New best score for valid_en-fr_mt_bleu: 0.000000\n",
            "INFO - 08/30/20 17:50:26 - 0:00:43 - Saving best-valid_en-fr_mt_bleu to /content/dump_path/mt_enfrde/demo/best-valid_en-fr_mt_bleu.pth ...\n",
            "WARNING - 08/30/20 17:50:26 - 0:00:43 - Saving encoder parameters ...\n",
            "WARNING - 08/30/20 17:50:26 - 0:00:43 - Saving decoder parameters ...\n",
            "INFO - 08/30/20 17:50:29 - 0:00:45 - New best validation score: 0.000000\n",
            "INFO - 08/30/20 17:50:29 - 0:00:45 - Saving checkpoint to /content/dump_path/mt_enfrde/demo/checkpoint.pth ...\n",
            "WARNING - 08/30/20 17:50:29 - 0:00:45 - Saving encoder parameters ...\n",
            "WARNING - 08/30/20 17:50:29 - 0:00:45 - Saving decoder parameters ...\n",
            "WARNING - 08/30/20 17:50:29 - 0:00:45 - Saving model optimizer ...\n",
            "INFO - 08/30/20 17:51:06 - 0:01:22 - ============ garbage collector collecting 167 ...\n"
          ],
          "name": "stdout"
        }
      ]
    }
  ]
}